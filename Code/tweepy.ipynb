{
 "cells": [
  {
   "cell_type": "code",
   "execution_count": 1,
   "id": "a1c44597",
   "metadata": {},
   "outputs": [
    {
     "name": "stdout",
     "output_type": "stream",
     "text": [
      "Requirement already satisfied: clean-text in /home/aurelio/anaconda3/lib/python3.8/site-packages (0.6.0)\n",
      "Requirement already satisfied: ftfy<7.0,>=6.0 in /home/aurelio/anaconda3/lib/python3.8/site-packages (from clean-text) (6.1.1)\n",
      "Requirement already satisfied: emoji<2.0.0,>=1.0.0 in /home/aurelio/anaconda3/lib/python3.8/site-packages (from clean-text) (1.7.0)\n",
      "Requirement already satisfied: wcwidth>=0.2.5 in /home/aurelio/anaconda3/lib/python3.8/site-packages (from ftfy<7.0,>=6.0->clean-text) (0.2.5)\n"
     ]
    }
   ],
   "source": [
    "!pip install clean-text"
   ]
  },
  {
   "cell_type": "code",
   "execution_count": 2,
   "id": "936ac842",
   "metadata": {},
   "outputs": [],
   "source": [
    "import tweepy"
   ]
  },
  {
   "cell_type": "code",
   "execution_count": 3,
   "id": "5e89bbe7",
   "metadata": {},
   "outputs": [],
   "source": [
    "import re\n",
    "import unicodedata\n",
    "import string"
   ]
  },
  {
   "cell_type": "code",
   "execution_count": 4,
   "id": "11175331",
   "metadata": {},
   "outputs": [
    {
     "name": "stderr",
     "output_type": "stream",
     "text": [
      "Since the GPL-licensed package `unidecode` is not installed, using Python's `unicodedata` package which yields worse results.\n"
     ]
    }
   ],
   "source": [
    "from cleantext import clean"
   ]
  },
  {
   "cell_type": "code",
   "execution_count": 5,
   "id": "21b8e266",
   "metadata": {},
   "outputs": [],
   "source": [
    "import nltk\n",
    "from nltk.tokenize import word_tokenize\n",
    "from nltk.corpus import stopwords"
   ]
  },
  {
   "cell_type": "code",
   "execution_count": 6,
   "id": "80a06a93",
   "metadata": {},
   "outputs": [],
   "source": [
    "from nltk.classify.scikitlearn import SklearnClassifier\n",
    "from sklearn.svm import LinearSVC"
   ]
  },
  {
   "cell_type": "code",
   "execution_count": 27,
   "id": "10bd9832",
   "metadata": {},
   "outputs": [],
   "source": [
    "import numpy as np\n",
    "import matplotlib.pyplot as plt"
   ]
  },
  {
   "cell_type": "code",
   "execution_count": 7,
   "id": "799378eb",
   "metadata": {},
   "outputs": [],
   "source": [
    "#Create your own keys on Twitter Developer\n",
    "API_KEY = 'hGwC17TsW1W99swjFCXPwi5i9'\n",
    "API_SECRET = 'KmgC8oGcs7uvl9B7HDMi8KUUSAzsTPOPr3vHVt9XJOiks7C5Lw'\n",
    "BEARER_TOKEN = 'AAAAAAAAAAAAAAAAAAAAAFqzcgEAAAAAh%2BilS8IkEYr68z%2BPlwkAGa0CAys%3Du3jZnN5YlQE3OS1hZUEq942I1fQ0kbriuNfuUyla7IqJKqL6CF'\n",
    "ACCESS_TOKEN = '1519454932876808194-D8CTAAIZuvBdrqWuPecRSNX1p0S3cf'\n",
    "ACCESS_TOKEN_SECRET = 'pUZatEZVOuTqBdFaBFAvts9A3hj3y7PvLaLKTpSIxUac9'\n",
    "\n",
    "CLIENT_ID = 'UXJWX3BWbUpqRUdQSjNxeFVzb1c6MTpjaQ'\n",
    "CLIENT_SECRET = 'V6enZ5OHrb8rjZ-75TfsUCOGy6Xse_kuISE7-jbdmEPnjS8vx4'\n",
    "REDIRECT_URI = 'https://data-api.twitter.com/insights/engagement' "
   ]
  },
  {
   "cell_type": "code",
   "execution_count": 8,
   "id": "e779ddd0",
   "metadata": {},
   "outputs": [],
   "source": [
    "client = tweepy.Client(bearer_token=BEARER_TOKEN)"
   ]
  },
  {
   "cell_type": "code",
   "execution_count": 9,
   "id": "364c33b2",
   "metadata": {},
   "outputs": [],
   "source": [
    "query = 'Lula ladrao OR Bolsonaro gado -is:retweet'"
   ]
  },
  {
   "cell_type": "code",
   "execution_count": 10,
   "id": "4df0bc6b",
   "metadata": {},
   "outputs": [],
   "source": [
    "response = client.search_recent_tweets(query=query, max_results=100, tweet_fields=['created_at', 'public_metrics'], expansions=['author_id'])"
   ]
  },
  {
   "cell_type": "code",
   "execution_count": 11,
   "id": "aa625c5c",
   "metadata": {},
   "outputs": [],
   "source": [
    "tweets = [tweet for tweet in response.data] "
   ]
  },
  {
   "cell_type": "code",
   "execution_count": 12,
   "id": "9c8cc5e8",
   "metadata": {},
   "outputs": [],
   "source": [
    "#Here I prepare an .txt that will append the 100 responses\n",
    "save_tweets = open('Tweets.txt', 'a')\n",
    "\n",
    "for tweet in tweets:\n",
    "    first_line = str(tweet['author_id']) + \" \" + tweet['text'] + \"\\n\"     \n",
    "    save_tweets.write(first_line)\n",
    "    second_line = \"retweet_count: \" +  str(tweet.public_metrics['retweet_count']) + \", \" + \"reply_count: \" + str(tweet.public_metrics['reply_count']) + \", \" + \"like_count: \" + str(tweet.public_metrics['like_count']) + \", \" + \"quote_count: \" + str(tweet.public_metrics['quote_count']) + \"\\n\"\n",
    "    save_tweets.write(second_line)\n",
    "save_tweets.close()"
   ]
  },
  {
   "cell_type": "code",
   "execution_count": 13,
   "id": "44d29b25",
   "metadata": {},
   "outputs": [
    {
     "name": "stdout",
     "output_type": "stream",
     "text": [
      "['1530301549041295360 @AtilaGPRGPR @diefoduarte7483 @jairbolsonaro Não fundamentada? Kkkk Coisas que nem o bolsonaro nega mas o gado simVcs são deploráveis', '966422258687315971 RT @LuizCor24841840: 93 mortos, 26 desaparecidos e 6 mil desabrigados e o prefeito de Recife em São Paulo em reuniões da campanha de Lula l…', '1236086201838419968 @DaniloGentili Eu duvido q tenha ladrão maior que Lula e vcs aí nessa ladainha sem fim !!', '1278549436545851392 RT @RCNradiochatnet: O Lula falou! \"A profissão mais honesta é a do POLÍTICO, sabe porque? ...por mais ladrão que ele seja, ele tem que ir…', '4821431243 RT @LuizCor24841840: 93 mortos, 26 desaparecidos e 6 mil desabrigados e o prefeito de Recife em São Paulo em reuniões da campanha de Lula l…', '35562670 RT @LuizCor24841840: 93 mortos, 26 desaparecidos e 6 mil desabrigados e o prefeito de Recife em São Paulo em reuniões da campanha de Lula l…', '1196172031718576130 RT @LuizCor24841840: 93 mortos, 26 desaparecidos e 6 mil desabrigados e o prefeito de Recife em São Paulo em reuniões da campanha de Lula l…', '1477715560632881153 @ungarobolonheis @nyllasuares @GloboNews Mais uma menininha criado pelo papai vota no Lula ladrao 🤣🤣🤣🤣🤣🤣🤣', '1216106663733792768 RT @seu_mrcs: Este mês Saturno, Marte, Vênus e Júpiter estão alinhados no céu, sabe oque isso significa? QUE LULA É LADRÃO.  #LulaNuncaMais', '1519089562970116097 UOL - Urubu de Olho no Lula!!Azar pra cem anos!!É muita carniça pra um ladrão só!! https://t.co/k4zm6aEsL6']\n",
      "900\n"
     ]
    }
   ],
   "source": [
    "#Here I read the .txt file and separate them in the text of the tweet and the public metrics\n",
    "read_tweets = open('Tweets.txt', 'r')\n",
    "user_tweets = []\n",
    "public_metrics = []\n",
    "read = read_tweets.read().split('\\n')\n",
    "\n",
    "word = ''\n",
    "for i in read:\n",
    "    if i.find('retweet_count: ') != -1:\n",
    "        public_metrics.append(i)\n",
    "        user_tweets.append(word)\n",
    "        word = ''\n",
    "        continue        \n",
    "    word += i \n",
    "\n",
    "read_tweets.close()\n",
    "print(user_tweets[:10])\n",
    "print(len(public_metrics))"
   ]
  },
  {
   "cell_type": "code",
   "execution_count": 14,
   "id": "14429f5a",
   "metadata": {},
   "outputs": [
    {
     "name": "stdout",
     "output_type": "stream",
     "text": [
      "667 667\n"
     ]
    }
   ],
   "source": [
    "#Here I remove the duplicated tweets\n",
    "lenght = len(user_tweets)-1\n",
    "i = 0\n",
    "        \n",
    "while i < lenght:    \n",
    "    if user_tweets.count(user_tweets[i]) > 1:\n",
    "        user_tweets.pop(i)\n",
    "        public_metrics.pop(i)\n",
    "        lenght -= 1\n",
    "    i += 1 \n",
    "    \n",
    "print(len(user_tweets), len(public_metrics))"
   ]
  },
  {
   "cell_type": "code",
   "execution_count": 61,
   "id": "2d80e175",
   "metadata": {},
   "outputs": [],
   "source": [
    "def remove_urls(lista_tweets):\n",
    "    novos_tweets = []\n",
    "\n",
    "    for tweet in lista_tweets:\n",
    "        texto = re.sub(r\"http\\S+\", \"\", tweet)\n",
    "        novos_tweets.append(texto)\n",
    "\n",
    "    return novos_tweets\n",
    "\n",
    "def remove_usuario(lista_tweets):\n",
    "    novos_tweets = []\n",
    "\n",
    "    for tweet in lista_tweets:\n",
    "        texto = re.sub(r\"@\\S+\", \"\", tweet)\n",
    "        novos_tweets.append(texto)\n",
    "\n",
    "    return novos_tweets\n",
    "\n",
    "def remove_hashtag(lista_tweets):\n",
    "    novos_tweets = []\n",
    "\n",
    "    for tweet in lista_tweets:\n",
    "        texto = re.sub(r\"#\\S+\", \"\", tweet)\n",
    "        novos_tweets.append(texto)\n",
    "\n",
    "    return novos_tweets\n",
    "\n",
    "# nova_lista = [w for word in words for w in word if w not in stop_words] brincando com python\n",
    "def remove_stopwords(lista_tweets):\n",
    "    words = [word_tokenize(w) for w in lista_tweets]\n",
    "    stop_words = set(stopwords.words(\"portuguese\"))\n",
    "    nova_lista = []\n",
    "    \n",
    "    for word in words:\n",
    "        tweets = []\n",
    "        for w in word:\n",
    "            if w not in stop_words:\n",
    "                tweets.append(w)\n",
    "        nova_lista.append(tweets)                \n",
    "        \n",
    "    return nova_lista\n",
    "\n",
    "#Remove os emojis e acentuações\n",
    "def remove_emojis(lista_tweets):\n",
    "    nova_lista = []\n",
    "    for i in lista_tweets:\n",
    "        tweets = []\n",
    "        tweets.append(clean(str(i), lower=False, no_punct=True, no_emoji=True))\n",
    "        nova_lista.append(tweets)\n",
    "    return nova_lista\n",
    "\n",
    "def remove_empty_spaces(lista_tweets):\n",
    "    nova_lista = [lista_tweets[i][0].split(\" \") for i in range(len(lista_tweets)-1)]\n",
    "            \n",
    "    return nova_lista    "
   ]
  },
  {
   "cell_type": "code",
   "execution_count": 62,
   "id": "62f59f0f",
   "metadata": {},
   "outputs": [
    {
     "name": "stdout",
     "output_type": "stream",
     "text": [
      "666 [['1530301549041295360', 'Nao', 'fundamentada', 'Kkkk', 'Coisas', 'bolsonaro', 'nega', 'gado', 'simVcs', 'deploraveis'], ['966422258687315971', 'RT', '93', 'mortos', '26', 'desaparecidos', '6', 'mil', 'desabrigados', 'prefeito', 'Recife', 'Sao', 'Paulo', 'reunioes', 'campanha', 'Lula', 'l'], ['1236086201838419968', 'Eu', 'duvido', 'q', 'ladrao', 'maior', 'Lula', 'vcs', 'ai', 'nessa', 'ladainha', 'fim'], ['1278549436545851392', 'RT', 'O', 'Lula', 'falou', 'A', 'profissao', 'honesta', 'POLITICO', 'sabe', 'porque', 'ladrao', 'ir'], ['4821431243', 'RT', '93', 'mortos', '26', 'desaparecidos', '6', 'mil', 'desabrigados', 'prefeito', 'Recife', 'Sao', 'Paulo', 'reunioes', 'campanha', 'Lula', 'l'], ['35562670', 'RT', '93', 'mortos', '26', 'desaparecidos', '6', 'mil', 'desabrigados', 'prefeito', 'Recife', 'Sao', 'Paulo', 'reunioes', 'campanha', 'Lula', 'l'], ['1196172031718576130', 'RT', '93', 'mortos', '26', 'desaparecidos', '6', 'mil', 'desabrigados', 'prefeito', 'Recife', 'Sao', 'Paulo', 'reunioes', 'campanha', 'Lula', 'l'], ['1477715560632881153', 'Mais', 'menininha', 'criado', 'papai', 'vota', 'Lula', 'ladrao'], ['1216106663733792768', 'RT', 'Este', 'mes', 'Saturno', 'Marte', 'Venus', 'Jupiter', 'alinhados', 'ceu', 'sabe', 'oque', 'significa', 'QUE', 'LULA', 'E', 'LADRAO'], ['1519089562970116097', 'UOL', 'Urubu', 'Olho', 'Lula', 'Azar', 'pra', 'cem', 'anos', 'E', 'muita', 'carnica', 'pra', 'ladrao']]\n"
     ]
    }
   ],
   "source": [
    "new_tweets = remove_urls(user_tweets)\n",
    "new_tweets = remove_usuario(new_tweets)\n",
    "new_tweets = remove_hashtag(new_tweets)\n",
    "new_tweets = remove_stopwords(new_tweets)\n",
    "new_tweets = remove_emojis(new_tweets)\n",
    "new_tweets = remove_empty_spaces(new_tweets)\n",
    "\n",
    "print(len(new_tweets), new_tweets[:10])"
   ]
  },
  {
   "cell_type": "code",
   "execution_count": 64,
   "id": "4a1fa745",
   "metadata": {},
   "outputs": [],
   "source": [
    "def randomFeatures(tweets):\n",
    "    data = []\n",
    "    for t in tweets:\n",
    "        feature = np.random.randint(2)\n",
    "        if(feature == 1):\n",
    "            data.append((t, 'yes'))\n",
    "        else:\n",
    "            data.append((t, 'no'))        \n",
    "    return data"
   ]
  },
  {
   "cell_type": "code",
   "execution_count": 98,
   "id": "7cab2359",
   "metadata": {},
   "outputs": [
    {
     "name": "stdout",
     "output_type": "stream",
     "text": [
      "1032 (['votaram', 'no', 'pezao', 'agora', 'tomem', 'no', 'czao'], 'yes') Votaram no PEZAO Agora tomem no CZAO\n"
     ]
    }
   ],
   "source": [
    "#Here I'm formating the training data from .txt file\n",
    "training_data = open('treinamento.txt', 'r').read().split(\"\\n\")\n",
    "documents = []\n",
    "words = []\n",
    "\n",
    "#The last element is a empty string\n",
    "for i in training_data[:len(training_data)-2]:\n",
    "    feature = ''\n",
    "    tweet = ''\n",
    "    count_point = 0\n",
    "    index = 0\n",
    "    for j in i:\n",
    "        if j == ';':\n",
    "            count_point += 1\n",
    "            \n",
    "        if count_point < 1:\n",
    "            feature += j\n",
    "        if count_point > 1 and j == \";\":\n",
    "            tweet = i[index+2:len(i)-1].split(\" \")\n",
    "            words.append(i[index+2:len(i)-1])\n",
    "            continue\n",
    "        index += 1\n",
    "    documents.append(([t.lower() for t in tweet], feature))\n",
    "    \n",
    "\n",
    "print(len(documents), documents[0], words[0])"
   ]
  },
  {
   "cell_type": "code",
   "execution_count": 106,
   "id": "4ac29f78",
   "metadata": {},
   "outputs": [
    {
     "name": "stdout",
     "output_type": "stream",
     "text": [
      "['Votaram', 'PEZAO', 'Agora', 'tomem', 'CZAO']\n"
     ]
    }
   ],
   "source": [
    "#Here I build words with no stopwords\n",
    "words_without_stopwords = remove_stopwords(words)  \n",
    "\n",
    "print(words_without_stopwords[0])"
   ]
  },
  {
   "cell_type": "code",
   "execution_count": 107,
   "id": "940541bb",
   "metadata": {},
   "outputs": [
    {
     "name": "stdout",
     "output_type": "stream",
     "text": [
      "[('nao', 295), ('vai', 99), ('so', 91), ('e', 89), ('o', 83), ('pra', 81), ('ja', 68), ('sao', 58), ('a', 56), ('brasil', 55), ('ser', 47), ('ta', 47), ('carne', 39), ('melhor', 39), ('cara', 35)]\n"
     ]
    }
   ],
   "source": [
    "#Here I'm creating the list of Freq for each word - training set\n",
    "all_words = []\n",
    "for i in words_without_stopwords:\n",
    "    for j in i:\n",
    "        all_words.append(j.lower())\n",
    "\n",
    "freq_words = nltk.FreqDist(all_words)\n",
    "print(freq_words.most_common(15))"
   ]
  },
  {
   "cell_type": "code",
   "execution_count": null,
   "id": "4484c720",
   "metadata": {},
   "outputs": [],
   "source": [
    "#Here I'm creating the list of Freq for each word - testing set"
   ]
  },
  {
   "cell_type": "code",
   "execution_count": 21,
   "id": "cf69b2b2",
   "metadata": {},
   "outputs": [
    {
     "name": "stdout",
     "output_type": "stream",
     "text": [
      "{'votaram': True, 'no': True, 'pezao': True, 'agora': True, 'tomem': True, 'czao': True, 'cuidado': True, 'com': True, 'a': True, 'poupanca': True, 'pessoal': True, 'lembram': True, 'o': True, 'que': True, 'aconteceu': True, 'na': True, 'epoca': True, 'do': True, 'collor': True, 'ne': True, 'sabe': True, 'eu': True, 'acho': True, 'engracado': True, 'os': True, 'nossos': True, 'governantes': True, 'nao': True, 'pensam': True, 'em': True, 'cortar': True, 'regalias': True, 'e': True, 'beneficios': True, 'desnecessarios': True, 'favorecem': True, 'porque': True, 'sera': True, 'mais': True, 'claro': True, 'ate': True, 'mesmo': True, 'para': True, 'quem': True, 'quer': True, 'enxergar': True, 'eles': True, 'sao': True, 'estao': True, 'la': True, 'defender': True, 'seus': True, 'proprios': True, 'interesses': True, 'dos': True, 'empresario': True, 'casso': True, 'tambem': True, 'ou': True, 'comecamos': True, 'tomar': True, 'uma': True, 'atitude': True, 'mudar': True, 'de': True, 'vez': True, 'por': True, 'todas': True, 'essa': True, 'roubalheira': True, 'nesse': True, 'pais': True, 'tendencia': True, 'so': True, 'piorar': True, 'povo': True, 'dinheiro': True, 'investimentos': True, 'tem': True, 'aumentos': True, 'salario': True, 'falta': True, 'podiam': True, 'retirar': True, 'lucros': True, 'bancos': True, 'cade': True, 'galvao': True, 'pra': True, 'narrar': True, 'faliiiiuuuuuuu': True, 'faliiiuuuuuuu': True, 'faliiuuuuuuu': True, 'possivel': True, 'deputados': True, 'tenham': True, 'tantos': True, 'cargos': True, 'comissionados': True, 'ao': True, 'seu': True, 'dispor': True, 'esse': True, 'tipo': True, 'coisa': True, 'precisa': True, 'ser': True, 'cortado': True, 'sejam': True, 'honestos': True, 'aprovem': True, 'projeto': True, 'original': True, 'vamos': True, 'acabar': True, 'esta': True, 'farra': True, 'brasil': True, 'pizza': True, 'anunciada': True, 'anistia': True, 'caixa': True, 'sim': True, 'divulgacao': True, 'da': True, 'lista': True, 'odebrecht': True, 'ja': True, 'viu': True, 'bandidos': True, 'fazendo': True, 'leis': True, 'contra': True, 'anticorrupcao': True, 'olha': True, 'caras': True, 'algo': True, 'util': True, 'interesse': True, 'publico': True, 'mas': True, 'ai': True, 'mbl': True, 'mobiliza': True, 'vai': True, 'pras': True, 'ruas': True, 'ironia': True, 'enquanto': True, 'isso': True, 'teori': True, 'segura': True, 'bronca': True, 'stf': True, 'avante': True, 'medidas': True, 'clama': True, 'elas': True, 'cima': True, 'corruptos': True, 'cadeia': True, 'neles': True, 'havia': True, 'previsao': True, 'entrar': True, 'plenario': True, 'comeco': True, 'novembro': True, 'preciso': True, 'aprovar': True, 'lei': True, 'anti': True, 'corrupcao': True, 'dois': True, 'milhoes': True, 'assinaturas': True, 'necessario': True, 'preservar': True, 'conteudo': True, 'baguncado': True, 'jeito': True, 'daqui': True, 'ha': True, 'pouco': True, 'ter': True, 'juiz': True, 'primeira': True, 'instancia': True, 'mandando': True, 'grampear': True, 'ministro': True, 'se': True, 'acontecendo': True, 'depois': True, 'dizer': True, 'prova': True, 'foi': True, 'colhida': True, 'boa': True, 'fe': True, 'magistratura': True, 'resquicio': True, 'monarquia': True, 'revogada': True, 'politicos': True, 'jamais': True, 'aprovam': True, 'prejudicam': True, 'direta': True, 'indiretamente': True, 'pec': True, 'um': True, 'desdobro': True, 'pela': True, 'crise': True, 'devido': True, 'as': True, 'dezenas': True, 'centenas': True, 'bilhoes': True, 'reais': True, 'desviados': True, 'todos': True, 'anos': True, 'pelo': True, 'muito': True, 'meu': True, 'amigo': True, 'faz': True, 'diferenca': True, 'limitar': True, 'politico': True, 'mesma': True, 'nada': True, 'nem': True, 'cocegas': True, 'pois': True, 'ganhassem': True, 'triplo': True, 'ganham': True, 'teriam': True, 'cento': True, 'patrimonio': True, 'luxo': True, 'ostentam': True, 'problema': True, 'salarios': True, 'verbas': True, 'eventuais': True, 'desembargador': True, 'recebendo': True, 'mil': True, 'justica': True, 'cega': True, 'cara': True, 'pedindo': True, 'vista': True, 'ta': True, 'enxergando': True, 'nadaou': True, 'cego': True, 'judiciario': True, 'acreditam': True, 'neste': True, 'indice': True, 'gera': True, 'riqueza': True, 'nacao': True, 'trabalhador': True, 'funcionarios': True, 'publicos': True, 'geram': True, 'utilizam': True, 'dela': True, 'caso': True, 'roubam': True, 'podem': True, 'inventar': True, 'parar': True, 'mudara': True, 'aquela': True, 'novinha': True, 'receber': True, 'alguem': True, 'qual': True, 'aivamos': True, 'mandar': True, 'ela': True, 'renato': True, 'voce': True, 'toda': True, 'razao': True, 'temos': True, 'aquele': True, 'desgoverno': True, 'passado': True, 'populista': True, 'inves': True, 'ensinar': True, 'pescar': True, 'dar': True, 'peixe': True, 'perpetuar': True, 'poder': True, 'qualquer': True, 'custo': True, 'nossa': True, 'relevante': True, 'mulher': True, 'dele': True, 'voluntaria': True, 'diminua': True, 'tbm': True, 'presidente': True, 'coloque': True, 'teto': True, 'estabeleca': True, 'aumento': True, 'acompanhem': True, 'minimo': True, 'esqueca': True, 'tb': True, 'juizes': True, 'desembargadores': True, 'etc': True, 'voces': True, 'idiotas': True, 'fazem': True, 'sabem': True, 'ele': True, 'executivo': True, 'interfira': True, 'nos': True, 'outros': True, 'poderes': True, 'esses': True, 'vinculados': True, 'texto': True, 'constitucional': True, 'informem': True, 'seja': True, 'santo': True, 'passarem': True, 'vergonha': True, 'falar': True, 'falei': True, 'alguma': True, 'mentira': True, 'falou': True, 'tudo': True, 'resumiu': True, 'bem': True, 'opera': True, 'nunca': True, 'vi': True, 'tanta': True, 'hipocrisia': True, 'numa': True, 'pessoa': True, 'tentando': True, 'gastos': True, 'necessidades': True, 'basicas': True, 'populacao': True, 'concedendo': True, 'absurdos': True, 'classes': True, 'apoiaram': True, 'golpe': True, 'sabemos': True, 'carne': True, 'cortando': True, 'ricos': True, 'continuam': True, 'pobres': True, 'retiraram': True, 'dignidade': True, 'delesisso': True, 'alexandre': True, 'acioni': True, 'estudar': True, 'saber': True, 'comunista': True, 'essas': True, 'temer': True, 'pior': True, 'comunismo': True, 'pobre': True, 'metido': True, 'besta': True, 'fica': True, 'repetindo': True, 'mazelas': True, 'igual': True, 'papagaio': True, 'repeticao': True, 'corta': True, 'saude': True, 'educacao': True, 'emprego': True, 'seguranca': True, 'existe': True, 'lamentavel': True, 'sem': True, 'tera': True, 'sair': True, 'algum': True, 'lugar': True, 'novos': True, 'imposto': True, 'existentes': True, 'resolver': True, 'sobrar': True, 'areas': True, 'fim': True, 'isencao': True, 'impostos': True, 'igrejaschega': True, 'desta': True, 'bagunca': True, 'taxar': True, 'doacoes': True, 'coitados': True, 'mendigos': True, 'unico': True, 'corte': True, 'verdadeiramente': True, 'acabando': True, 'excesso': True, 'diminuindo': True, 'ahh': True, 'diminuir': True, 'quantidade': True, 'deles': True, 'vindo': True, 'deveriam': True, 'sou': True, 'te': True, 'responder': True, 'pergunta': True, 'pf': True, 'tiver': True, 'coragem': True, 'propor': True, 'senadores': True, 'mim': True, 'continuara': True, 'fosse': True, 'candidato': True, 'reeleicao': True, 'teria': True, 'voto': True, 'paulo': True, 'bertazzi': True, 'ditadura': True, 'novo': True, 'sr': True, 'lado': True, 'venham': True, 'reformas': True, 'chega': True, 'mimimi': True, 'trabalhar': True, 'sentir': True, 'bons': True, 'tempos': True, 'teve': True, 'entao': True, 'me': True, 'lembra': True, 'lembro': True, 'hahaha': True, 'pagar': True, 'pato': True, 'recheado': True, 'gordo': True, 'iria': True, 'fazer': True, 'kkk': True, 'receberem': True, 'martin': True, 'sales': True, 'deixa': True, 'idiot': True, 'ninguem': True, 'pode': True, 'discordar': True, 'mortadela': True, 'defende': True, 'direita': True, 'viva': True, 'lava': True, 'jato': True, 'venha': True, 'delacoes': True, 'cana': True, 'bernardo': True, 'cabas': True, 'federais': True, 'movimentando': True, 'anistiarem': True, 'dias': True, 'hoje': True, 'querem': True, 'condenacoes': True, 'diante': True, 'quebrando': True, 'espinha': True, 'dorsal': True, 'delacao': True, 'premiada': True, 'repatriacao': True, 'parentes': True, 'laranjas': True, 'propria': True, 'estou': True, 'vendo': True, 'ze': True, 'povinho': True, 'ferrar': True, 'inchaco': True, 'maquina': True, 'publica': True, 'ganho': True, 'recebe': True, 'aposentado': True, 'sus': True, 'menos': True, 'unica': True, 'quando': True, 'serao': True, 'atingindos': True, 'reforma': True, 'tributaria': True, 'mercado': True, 'divida': True, 'cortarao': True, 'juros': True, 'levam': True, 'cerca': True, 'quarenta': True, 'tres': True, 'orcamento': True, 'primarios': True, 'chegam': True, 'perfeito': True, 'marcio': True, 'lembrando': True, 'muitos': True, 'donossocios': True, 'empresas': True, 'plano': True, 'escolasfaculdadesuniversidades': True, 'particulares': True, 'desenhar': True, 'precisamos': True, 'adotar': True, 'cortes': True, 'edeputados': True, 'tao': True, 'simples': True, 'entender': True, 'verdade': True, 'compreensivos': True, 'rodrigo': True, 'realmente': True, 'facil': True, 'compreender': True, 'compreendi': True, 'mestre': True, 'ah': True, 'rico': True, 'atraves': True, 'seculos': True, 'acaba': True, 'arrochar': True, 'ainda': True, 'enganem': True, 'partido': True, 'rouba': True, 'reduzir': True, 'gabinetes': True, 'aa': True, 'consequente': True, 'reducao': True, 'mordomias': True, 'este': True, 'fala': True, 'comeca': True, 'q': True, 'sancionou': True, 'ministros': True, 'assim': True, 'ver': True, 'melhor': True, 'desempenho': True, 'prefere': True, 'tirar': True, 'gente': True, 'mesmos': True, 'velho': True, 'asqueroso': True, 'manipulada': True, 'entendem': True, 'lados': True, 'devemos': True, 'nenhum': True, 'lutar': True, 'locupletam': True, 'nosso': True, 'for': True, 'governo': True, 'sobrando': True, 'todo': True, 'mundo': True, 'disso': True, 'vermes': True, 'fora': True, 'caro': True, 'favor': True, 'comece': True, 'pelas': True, 'srs': True, 'inclusive': True, 'aposentadoria': True, 'previdencia': True, 'diferenciada': True, 'primeiro': True, 'item': True, 'observado': True, 'empacotador': True, 'esquina': True, 'zombe': True, 'minha': True, 'inteligencia': True, 'gentileza': True, 'confianca': True, 'indicados': True, 'alto': True, 'escalao': True, 'concurso': True, 'capacitacao': True, 'tecnica': True, 'adequada': True, 'fmi': True, 'afirmou': True, 'entre': True, 'paises': True, 'incluindo': True, 'potencias': True, 'economicas': True, 'adotadas': True, 'duras': True, 'inflexiveis': True, 'leu': True, 'assunto': True, 'serio': True, 'mexer': True, 'vida': True, 'manda': True, 'nas': True, 'economia': True, 'mundiais': True, 'vao': True, 'mer': True, 'rda': True, 'especialistas': True, 'afirmam': True, 'principal': True, 'ataca': True, 'real': True, 'rombo': True, 'pagamento': True, 'auditada': True, 'foge': True, 'logica': True, 'arrecadacao': True, 'maior': True, 'cresce': True, 'especialista': True, 'mentir': True, 'quase': True, 'principalmente': True, 'sistema': True, 'mexe': True, 'contraria': True, 'poderosos': True, 'emprestam': True, 'alguns': True, 'ligados': True, 'culpa': True, 'programas': True, 'sociais': True, 'representam': True, 'fatia': True, 'implantar': True, 'sobre': True, 'grandes': True, 'fortunas': True, 'audita': True, 'forma': True, 'ilogica': True, 'aumenta': True, 'apesar': True, 'apenas': True, 'aquilo': True, 'funciona': True, 'aumentar': True, 'exigir': True, 'sociedade': True, 'cobrir': True, 'incompetente': True, 'simplesmente': True, 'querer': True, 'gastar': True, 'estimular': True, 'consegue': True, 'oliveira': True, 'devia': True, 'privilegios': True, 'congresso': True, 'camara': True, 'cnj': True, 'geral': True, 'autos': True, 'seria': True, 'medida': True, 'tira': True, 'das': True, 'costas': True, 'imoralidade': True, 'henrique': True, 'esquerda': True, 'trata': True, 'ideologia': True, 'partidaria': True, 'pessoas': True, 'precisam': True, 'procurar': True, 'fontes': True, 'seguras': True, 'antagonicas': True, 'antes': True, 'usar': True, 'olhar': True, 'macro': True, 'alem': True, 'traira': True, 'hilariona': True, 'kkkkkkkkkkkk': True, 'oferecida': True, 'jantaresfile': True, 'mignon': True, 'abaixo': True, 'redeglobodecorrupcao': True, 'congelar': True, 'nefastos': True, 'quero': True, 'batedores': True, 'panela': True, 'piscadores': True, 'luz': True, 'varanda': True, 'irao': True, 'estiverem': True, 'inferno': True, 'pagando': True, 'houve': True, 'gastasse': True, 'tanto': True, 'comecar': True, 'proprias': True, 'contas': True, 'deviam': True, 'perguntar': True, 'cartoes': True, 'corporativos': True, 'meses': True, 'gastaram': True, 'outro': True, 'zeras': True, 'estes': True, 'intactas': True, 'aumentam': True, 'desvios': True, 'detectar': True, 'farinha': True, 'saco': True, 'onde': True, 'eleicoes': True, 'procuram': True, 'vender': True, 'ficar': True, 'optativo': True, 'prejudicaria': True, 'tange': True, 'elegerem': True, 'comprando': True, 'votos': True, 'manipulando': True, 'sempre': True, 'burro': True, 'direito': True, 'bate': True, 'panelasseus': True, 'burrosbem': True, 'feito': True, 'gasto': True, 'investimento': True, 'foro': True, 'privilegiado': True, 'punicao': True, 'grave': True, 'crime': True, 'corrupcaopior': True, 'bom': True, 'petralhas': True, 'estariam': True, 'criando': True, 'bolsas': True, 'virarmos': True, 'venezuela': True, 'financiamento': True, 'partidos': True, 'cortarsea': True, 'pegar': True, 'volta': True, 'sanguessugas': True, 'brasilia': True, 'sacrificio': True, 'cortou': True, 'acem': True, 'file': True, 'continua': True, 'nadando': True, 'bracada': True, 'conversa': True, 'mole': True, 'desde': True, 'golpeou': True, 'povao': True, 'enganado': True, 'es': True, 'goto': True, 'televisao': True, 'impopular': True, 'tu': True, 'mordomo': True, 'tua': True, 'to': True, 'ligado': True, 'utilizacao': True, 'avioes': True, 'fab': True, 'subiram': True, 'picanha': True, 'churrasco': True, 'domingo': True, 'deve': True, 'faltado': True, 'churrasqueiro': True, 'reduz': True, 'milionarios': True, 'classe': True, 'politica': True, 'cria': True, 'arquem': True, 'suas': True, 'despesas': True, 'parlamentares': True, 'mecanismos': True, 'colocar': True, 'devolvam': True, 'roubaram': True, 'estava': True, 'concordando': True, 'reportagem': True, 'g': True, 'aviao': True, 'fiquei': True, 'revoltadoesse': True, 'conserto': True, 'paga': True, 'conta': True, 'viajassem': True, 'carreira': True, 'acreditava': True, 'ahhh': True, 'vou': True, 'medo': True, 'assumiu': True, 'falafalamas': True, 'resolucao': True, 'nenhuma': True, 'amiguinhos': True, 'ferro': True, 'privilegiosreducao': True, 'numero': True, 'senadoresreduzir': True, 'instancias': True, 'recursais': True, 'deixar': True, 'crie': True, 'exonere': True, 'partariados': True, 'comissao': True, 'secretarios': True, 'republica': True, 'magistrados': True, 'acreditar': True, 'filmes': True, 'novelas': True, 'explique': True, 'cortados': True, 'ahahahahaha': True, 'devera': True, 'dobro': True, 'senado': True, 'pagara': True, 'r': True, 'gabinete': True, 'romero': True, 'juca': True, 'pmdbrr': True, 'lembrado': True, 'marcos': True, 'alves': True, 'importante': True, 'sonhada': True, 'participei': True, 'mao': True, 'precisar': True, 'suprir': True, 'sua': True, 'casa': True, 'empresa': True, 'estado': True, 'municipio': True, 'aonde': True, 'economizar': True, 'negocio': True, 'afunda': True, 'restante': True, 'julgadores': True, 'discordo': True, 'partes': True, 'sendo': True, 'cobrado': True, 'aplicam': True, 'quanto': True, 'resolveria': True, 'agravaria': True, 'cada': True, 'desnecessario': True, 'valido': True, 'via': True, 'deservicos': True, 'burlado': True, 'regra': True, 'voos': True, 'amanha': True, 'disse': True, 'porem': True, 'falando': True, 'aqui': True, 'recuperacao': True, 'longo': True, 'prazo': True, 'estiver': True, 'afundado': True, 'vezvai': True, 'gaste': True, 'tantocomece': True, 'pq': True, 'entram': True, 'limite': True, 'maldadefora': True, 'meter': True, 'tempo': True, 'ajudar': True, 'privada': True, 'oi': True, 'esperar': True, 'meteoro': True, 'reset': True, 'novamente': True, 'planalto': True, 'chamaram': True, 'cortam': True, 'mamata': True, 'certeza': True, 'hahahahahahahahaa': True, 'hahahahahaha': True, 'piada': True, 'urgente': True, 'proxima': True, 'fichinha': True, 'perto': True, 'aumentando': True, 'propaganda': True, 'huahuahuahuahuahua': True, 'gastando': True, 'hipocrita': True, 'gerar': True, 'impopularidade': True, 'eleitores': True, 'quera': True, 'erros': True, 'mandam': True, 'embora': True, 'monte': True, 'auxiliares': True, 'servira': True, 'sugar': True, 'acabem': True, 'avanca': True, 'sairam': True, 'dessa': True, 'economica': True, 'tecnologia': True, 'receita': True, 'contrario': True, 'resultado': True, 'banana': True, 'media': True, 'voltando': True, 'pobreza': True, 'semiescravidao': True, 'praticamente': True, 'ficha': True, 'limpa': True, 'maiores': True, 'ladroes': True, 'acabou': True, 'mordomia': True, 'comunistas': True, 'caminho': True, 'crescimento': True, 'votacao': True, 'verdinho': True, 'vermelho': True, 'cinquenta': True, 'itens': True, 'tivessemos': True, 'diferente': True, 'enriquecimento': True, 'proprio': True, 'peocupemos': True, 'sujoos': True, 'outrosproblema': True, 'delesignorantes': True, 'carapalida': True, 'varias': True, 'aposentadorias': True, 'finalmente': True, 'chegou': True, 'hora': True, 'coisas': True, 'sentindo': True, 'trouxa': True, 'comprar': True, 'minhas': True, 'preparemse': True, 'concursos': True, 'poderao': True, 'apadrinhados': True, 'altos': True, 'aguardem': True, 'assaltos': True, 'bastaria': True, 'gestores': True, 'categorias': True, 'servidores': True, 'servis': True, 'dao': True, 'suporte': True, 'impactos': True, 'incrivel': True, 'pareca': True, 'alienado': True, 'grande': True, 'parcela': True, 'apoia': True, 'loucura': True, 'tonto': True, 'acredita': True, 'nessa': True, 'palhacada': True, 'necessitada': True, 'aprovado': True, 'terceirizacao': True, 'mes': True, 'poderem': True, 'realizadas': True, 'punirem': True, 'imundos': True, 'dilmae': True, 'bonito': True, 'nocaosem': True, 'argumento': True, 'adestradojoga': True, 'antonio': True, 'gasolina': True, 'vale': True, 'centavos': True, 'dolar': True, 'potencia': True, 'reconheco': True, 'ilegitimo': True, 'golpista': True, 'companhia': True, 'importa': True, 'vc': True, 'mae': True, 'palestras': True, 'analfabeto': True, 'quantas': True, 'foram': True, 'proferidas': True, 'apos': True, 'direitos': True, 'previdenciarios': True, 'manter': True, 'podemos': True, 'aceitar': True, 'protestar': True, 'lulo': True, 'lulala': True, 'vejo': True, 'resto': True, 'enfim': True, 'iniciativa': True, 'vistas': True, 'futuro': True, 'eleicao': True, 'heranca': True, 'anterior': True, 'haja': True, 'brincalhao': True, 'parabens': True, 'pres': True, 'mediadas': True, 'pte': True, 'lascar': True, 'miquinho': True, 'amestrado': True, 'idiota': True, 'pro': True, 'tanque': True, 'sras': True, 'sonia': True, 'cartao': True, 'corporativo': True, 'bateu': True, 'ouviu': True, 'dia': True, 'antenas': True, 'aquelas': True, 'alcance': True, 'rsrs': True, 'perfeita': True, 'explicacao': True, 'fisica': True, 'souza': True, 'oc': True, 'ot': True, 'transmite': True, 'famoso': True, 'transglobe': True, 'philcoso': True, 'servir': True, 'ouvir': True, 'radio': True, 'paraguai': True, 'fm': True, 'local': True, 'loge': True, 'interior': True, 'despovoado': True, 'meta': True, 'leio': True, 'noticia': True, 'tristeza': True, 'transmissao': True, 'am': True, 'possibilidade': True, 'lugares': True, 'longinquos': True, 'deste': True, 'brasilsao': True, 'demais': True, 'limitada': True, 'baixo': True, 'frequencias': True, 'duas': True, 'modalidades': True, 'autorizadas': True, 'legais': True, 'trabalho': True, 'deveria': True, 'locais': True, 'populacoes': True, 'necessitam': True, 'acesso': True, 'transmissoes': True, 'inclusao': True, 'social': True, 'nacional': True, 'pena': True, 'radios': True, 'controladas': True, 'precisavam': True, 'certo': True, 'ganhar': True, 'presente': True, 'muita': True, 'xiar': True, 'entende': True, 'aindaem': True, 'cidades': True, 'pequenas': True, 'afastados': True, 'capitais': True, 'chiadosa': True, 'ruim': True, 'cheganos': True, 'cantoes': True, 'brasilzao': True, 'palha': True, 'aco': True, 'anteninhasagora': True, 'entretenimentopois': True, 'tv': True, 'analogica': True, 'digital': True, 'utopiaagora': True, 'amserao': True, 'isolados': True, 'informacoestudo': True, 'queriam': True, 'mora': True, 'acorda': True, 'km': True, 'propagacao': True, 'passa': True, 'esquece': True, 'dificil': True, 'tentar': True, 'basico': True, 'bjs': True, 'tata': True, 'infelizmentehoje': True, 'arruaceiro': True, 'agitador': True, 'honesto': True, 'contem': True, 'trabalhadores': True, 'sustentar': True, 'parasitas': True, 'boi': True, 'logo': True, 'anistiasabe': True, 'rir': True, 'familias': True, 'soldados': True, 'civis': True, 'mortos': True, 'bombas': True, 'terroristas': True, 'recebem': True, 'xingamentos': True, 'premios': True, 'bota': True, 'preco': True, 'ideal': True, 'idealistae': True, 'mercenario': True, 'militar': True, 'deixou': True, 'interessa': True, 'globo': True, 'torra': True, 'absurdo': True, 'militares': True, 'velhinho': True, 'pega': True, 'tirarem': True, 'servidor': True, 'civilmilitar': True, 'instituicoes': True, 'inuteis': True, 'votando': True, 'naobando': True, 'ladravazes': True, 'erario': True, 'ir': True, 'mostrar': True, 'aceitaremos': True, 'mal': True, 'semana': True, 'usando': True, 'calculo': True, 'diferencial': True, 'integral': True, 'contribuicao': True, 'comecou': True, 'aos': True, 'cair': True, 'pedagio': True, 'faltam': True, 'talvez': True, 'trabalhe': True, 'uns': True, 'anosse': True, 'tivesse': True, 'cairia': True, 'completa': True, 'preparem': True, 'nova': True, 'etiopia': True, 'grana': True, 'salvar': True, 'setor': True, 'eletrico': True, 'investigar': True, 'demente': True, 'total': True, 'rotulos': True, 'vemos': True, 'clareza': True, 'defendem': True, 'elite': True, 'outra': True, 'pmdb': True, 'psdb': True, 'quadrilhas': True, 'organizadas': True, 'condicoes': True, 'linderberg': True, 'gleisi': True, 'fatima': True, 'bezzeratotalmente': True, 'insanos': True, 'joao': True, 'pereira': True, 'anencefalo': True, 'comentarios': True, 'enojam': True, 'nisso': True, 'tenho': True, 'concordar': True, 'sm': True, 'estudante': True, 'presidiario': True, 'podreque': True, 'nojo': True, 'entendi': True, 'colocacao': True, 'podre': True, 'edsonda': True, 'explicar': True, 'duvida': True, 'bertin': True, 'lexotankkkvixemas': True, 'filho': True, 'patria': True, 'educadora': True, 'educando': True, 'disputar': True, 'perdera': True, 'votaremos': True, 'quisermos': True, 'livre': True, 'gosta': True, 'frase': True, 'nascendo': True, 'colonizando': True, 'sergio': True, 'moro': True, 'corajosos': True, 'p': True, 'apurar': True, 'crimes': True, 'desisto': True, 'modelo': True, 'enem': True, 'enganar': True, 'pensa': True, 'entra': True, 'faculdadeentra': True, 'poucos': True, 'fraude': True, 'reclamam': True, 'luiz': True, 'bastante': True, 'nota': True, 'mimi': True, 'entrei': True, 'estudando': True, 'conspiracao': True, 'kk': True, 'ocupacao': True, 'escola': True, 'sai': True, 'esperto': True, 'certamente': True, 'fraudam': True, 'sabera': True, 'alias': True, 'historicamente': True, 'acontece': True, 'vontade': True, 'aipim': True, 'rbbbbbbb': True, 'podia': True, 'sobremesa': True, 'fraudes': True, 'nonpoder': True, 'diga': True, 'acao': True, 'desconfianca': True, 'fico': True, 'querendo': True, 'forro': True, 'traz': True, 'esquema': True, 'eleger': True, 'edmond': True, 'julgar': True, 'tal': True, 'tratava': True, 'barrado': True, 'oposicao': True, 'acaso': True, 'destino': True, 'era': True, 'esperarnao': True, 'adianta': True, 'perguntareles': True, 'srra': True, 'cite': True, 'esquerdopata': True, 'linha': True, 'defendo': True, 'imperio': True, 'note': True, 'grifo': True, 'paguem': True, 'pelos': True, 'feitos': True, 'tolero': True, 'mentiras': True, 'descabidas': True, 'incluo': True, 'entendo': True, 'intolerante': True, 'lha': True, 'defendendo': True, 'estimacao': True, 'atacando': True, 'causas': True, 'sei': True, 'maligna': True, 'draconiana': True, 'serei': True, 'entendam': True, 'causa': True, 'reflexos': True, 'negativos': True, 'obra': True, 'populismo': True, 'desgovernanca': True, 'tinha': True, 'somente': True, 'derrotada': True, 'urnas': True, 'gostaria': True, 'ahahahh': True, 'ganharam': True, 'perderam': True, 'votonulo': True, 'derrotados': True, 'varridos': True, 'hehehehe': True, 'exercicio': True, 'elementar': True, 'ganhou': True, 'maioria': True, 'vencedor': True, 'supostamenteb': True, 'perdeu': True, 'nulos': True, 'imagina': True, 'vermelhos': True, 'kkkkkk': True, 'sp': True, 'entaoprimeiro': True, 'turno': True, 'passeio': True, 'rindo': True, 'desconto': True, 'troco': True, 'apoiar': True, 'ahahahah': True, 'ladrao': True, 'dizendo': True, 'fez': True, 'boca': True, 'urnaeles': True, 'apagando': True, 'mensagens': True, 'nilsa': True, 'amaral': True, 'morte': True, 'prolongada': True, 'mauro': True, 'dementekkkkkkquem': True, 'lutando': True, 'apoiando': True, 'felizmente': True, 'extirpamos': True, 'defoder': True, 'cleptorrupto': True, 'ameacadores': True, 'verdadeiras': True, 'corsas': True, 'veadinhos': True, 'mansinhos': True, 'bastou': True, 'afundarem': True, 'qualificou': True, 'investiu': True, 'pesado': True, 'acham': True, 'culpadosp': True, 'policial': True, 'civil': True, 'pm': True, 'paulista': True, 'kkkkkkkkkkkkk': True, 'facilmente': True, 'desemprego': True, 'queda': True, 'john': True, 'maynad': True, 'keynes': True, 'responsabilidade': True, 'torcem': True, 'estavam': True, 'fizeram': True, 'distribuir': True, 'disfarcado': True, 'bolsa': True, 'familia': True, 'outras': True, 'sentido': True, 'otima': True, 'brancos': True, 'recado': True, 'dado': True, 'viram': True, 'coxinhada': True, 'aceita': True, 'boquinha': True, 'doi': True, 'ketchup': True, 'peco': True, 'informe': True, 'kkkkk': True, 'alvaro': True, 'arma': True, 'instrucao': True, 'estudou': True, 'historia': True, 'bandidagem': True, 'sistemica': True, 'ficarmos': True, 'discutindo': True, 'pardidarismo': True, 'comporativismo': True, 'combate': True, 'velado': True, 'nivel': True, 'afronta': True, 'etica': True, 'moral': True, 'assinou': True, 'russia': True, 'montar': True, 'base': True, 'passar': True, 'conseguiu': True, 'resposta': True, 'achou': True, 'eficiente': True, 'mane': True, 'guerra': True, 'fria': True, 'ensina': True, 'precaver': True, 'vitimas': True, 'impor': True, 'genocida': True, 'quatro': True, 'horas': True, 'conseguiram': True, 'encontrar': True, 'exemplo': True, 'sequer': True, 'desenvolvidos': True, 'muda': True, 'situacao': True, 'saira': True, 'desse': True, 'mar': True, 'lama': True, 'reerguer': True, 'posso': True, 'citar': True, 'criacao': True, 'fgtsembrafilme': True, 'embraer': True, 'bnh': True, 'hidreletricas': True, 'diretas': True, 'governador': True, 'china': True, 'possui': True, 'economias': True, 'isto': True, 'desenvolvido': True, 'enfia': True, 'kit': True, 'teu': True, 'cut': True, 'urna': True, 'nessas': True, 'votara': True, 'jogar': True, 'grupo': True, 'nigeria': True, 'dl': True, 'venezeruela': True, 'teucuquente': True, 'dando': True, 'adoidado': True, 'conseguindo': True, 'atrair': True, 'si': True, 'proximos': True, 'odio': True, 'murilo': True, 'terminar': True, 'faxina': True, 'limpar': True, 'agitadores': True, 'roubar': True, 'concordo': True, 'plenamente': True, 'tentaram': True, 'governar': True, 'deu': True, 'governa': True, 'aelite': True, 'achava': True, 'ferramenta': True, 'transformacao': True, 'quato': True, 'engano': True, 'chamado': True, 't': True, 'sol': True, 'doenca': True, 'enfermo': True, 'gentinha': True, 'fedendo': True, 'tomam': True, 'banho': True, 'acabara': True, 'dai': True, 'livrar': True, 'segue': True, 'passos': True, 'largos': True, 'rumo': True, 'extincao': True, 'continuem': True, 'pesquise': True, 'participe': True, 'consulta': True, 'estamos': True, 'pertinhos': True, 'milhao': True, 'participantes': True, 'espalhando': True, 'mesmas': True, 'voltaram': True, 'senpre': True, 'fizerem': True, 'defensores': True, 'quebraram': True, 'tentam': True, 'boicotar': True, 'boicotaram': True, 'eleito': True, 'golpistas': True, 'fazme': True, 'esperem': True, 'proximas': True, 'chegar': True, 'bagunce': True, 'ideias': True, 'conquistados': True, 'tantas': True, 'lutas': True, 'animadinho': True, 'rapaz': True, 'descontada': True, 'vovo': True, 'corrupta': True, 'terrorista': True, 'apresenta': True, 'ameaca': True, 'uruguaio': True, 'destruiu': True, 'petrobras': True, 'enriqueceu': True, 'nossas': True, 'custas': True, 'uruguaia': True, 'roubou': True, 'mojica': True, 'fusca': True, 'asilo': True, 'breve': True, 'recebera': True, 'ordem': True, 'prisao': True, 'pensado': True, 'hipotese': True, 'plausivel': True, 'estar': True, 'verificando': True, 'lu': True, 'excompanheiro': True, 'palanque': True, 'tupamaro': True, 'tirado': True, 'aki': True, 'anta': True, 'incompetenta': True, 'solta': True, 'invadimos': True, 'fortaleza': True, 'novelina': True, 'ar': True, 'bebeu': True, 'cachaca': True, 'caramba': True, 'trouxinha': True, 'fafa': True, 'daqueles': True, 'alunos': True, 'eram': True, 'zuados': True, 'revoltadinho': True, 'internet': True, 'pentateuto': True, 'nome': True, 'estranho': True, 'acredite': True, 'capacidade': True, 'discernir': True, 'resgatada': True, 'devo': True, 'pulado': True, 'obrigado': True, 'esqueco': True, 'vezes': True, 'rs': True, 'foto': True, 'baseado': True, 'desrespeitar': True, 'fidel': True, 'fumando': True, 'charuto': True, 'uruguai': True, 'uruguaios': True, 'falir': True, 'oreo': True, 'tabare': True, 'num': True, 'milenar': True, 'ritual': True, 'esquerdista': True, 'oferecendo': True, 'vento': True, 'existam': True, 'espalhados': True, 'dedo': True, 'socado': True, 'ceu': True, 'zona': True, 'recessao': True, 'tendo': True, 'peso': True, 'pesar': True, 'senao': True, 'recrutariam': True, 'verme': True, 'bandido': True, 'fui': True, 'cro': True, 'desses': True, 'qsf': True, 'defenestrada': True, 'insulto': True, 'garanto': True, 'inacio': True, 'messias': True, 'silva': True, 'volte': True, 'damos': True, 'pros': True, 'quebrado': True, 'emprestando': True, 'doar': True, 'u': True, 'vizinhanca': True, 'colher': True, 'dividendos': True, 'perdidinhos': True, 'anotaram': True, 'placa': True, 'caminhao': True, 'atropelou': True, 'petebada': True, 'outubro': True, 'recebida': True, 'capim': True, 'agua': True, 'fresca': True, 'aproveita': True, 'capivara': True, 'fique': True, 'ira': True, 'escoria': True, 'aqu': True, 'pescoco': True, 'parrilla': True, 'ato': True, 'democracia': True, 'vermelha': True, 'veia': True, 'segurando': True, 'cigarrinho': True, 'maconha': True, 'canabis': True, 'elegante': True, 'caite': True, 'batata': True, 'assando': True, 'fuga': True, 'exportando': True, 'graca': True, 'forca': True, 'senso': True, 'ridiculo': True, 'terceira': True, 'comento': True, 'meus': True, 'censurados': True, 'robozinho': True, 'buscando': True, 'censurar': True, 'elimina': True, 'visita': True, 'vasquez': True, 'ganha': True, 'sindico': True, 'predio': True, 'janete': True, 'traste': True, 'inutil': True, 'vaca': True, 'vazquez': True, 'escolher': True, 'amizades': True, 'levantar': True, 'suspeita': True, 'pedir': True, 'exilio': True, 'dono': True, 'triplex': True, 'lindo': True, 'jaca': True, 'madura': True, 'reuniao': True, 'ex': True, 'guerrilheiros': True, 'sexta': True, 'cuidar': True, 'bandida': True, 'venda': True, 'infirmacoes': True, 'sensiveis': True, 'motivos': True, 'fugir': True, 'aqueles': True, 'aparecem': True, 'constantemente': True, 'listas': True, 'baitola': True, 'vem': True, 'murro': True, 'certeiro': True, 'feia': True, 'porrrra': True, 'louca': True, 'davi': True, 'afim': True, 'dali': True, 'panama': True, 'esconder': True, 'butim': True, 'atos': True, 'presenca': True, 'monaco': True, 'arrumando': True, 'esconderijo': True, 'ajudou': True, 'afundar': True, 'acha': True, 'normal': True, 'tabareus': True, 'erro': True, 'entregue': True, 'ponta': True, 'terra': True, 'extremo': True, 'sul': True, 'cruz': True, 'credo': True, 'bosta': True, 'tabarez': True, 'digame': True, 'andas': True, 'direi': True, 'engana': True, 'gosto': True, 'morre': True, 'desgraca': True, 'formacao': True, 'quadrilha': True, 'defesa': True, 'risos': True, 'cama': True, 'moluscovai': True, 'muie': True, 'drome': True, 'cuie': True, 'brinca': True, 'fiuvicocuidado': True, 'passear': True, 'ficou': True, 'padrao': True, 'presa': True, 'roubado': True, 'atrasado': True, 'morra': True, 'demonio': True, 'falamos': True, 'publicam': True, 'falam': True, 'liberdade': True, 'expressao': True, 'vacilo': True, 'pow': True, 'putskkkkkde': True, 'relevancia': True, 'importanciakkkkkkk': True, 'provavelmente': True, 'planejando': True, 'rota': True, 'vizinho': True, 'desgracada': True, 'discursou': True, 'dizem': True, 'espanhol': True, 'sotaque': True, 'tipico': True, 'bolivariano': True, 'light': True, 'saida': True, 'tangente': True, 'sabia': True, 'gostava': True, 'porcaria': True, 'junto': True, 'gracas': True, 'levandowhisky': True, 'queria': True, 'indo': True, 'calote': True, 'vagabunda': True, 'dentadura': True, 'pao': True, 'bruno': True, 'kou': True, 'assimva': True, 'gu': True, 'programa': True, 'vira': True, 'apontar': True, 'pensem': True, 'maconheira': True, 'chata': True, 'assistida': True, 'esmola': True, 'retardo': True, 'burrice': True, 'maria': True, 'benta': True, 'provou': True, 'peba': True, 'pimenta': True, 'malaquias': True, 'lavar': True, 'toma': True, 'boiola': True, 'maconheiro': True, 'infectado': True, 'chupar': True, 'piroca': True, 'quanta': True, 'raivosa': True, 'horror': True, 'va': True, 'aproveite': True, 'case': True, 'homem': True, 'nordestino': True, 'votar': True, 'observo': True, 'comparecendo': True, 'descontentes': True, 'entrou': True, 'saiu': True, 'afirmacao': True, 'vinicius': True, 'moraes': True, 'chamar': True, 'naldo': True, 'eh': True, 'adequado': True, 'irmao': True, 'dislike': True, 'coment': True, 'assimpalhaco': True, 'quena': True, 'tirso': True, 'mertadela': True, 'tadinho': True, 'atrasta': True, 'apaixonado': True, 'come': True, 'tras': True, 'carambaachei': True, 'morrido': True, 'petebas': True, 'arrumar': True, 'oriundo': True, 'leveza': True, 'paralelepipedo': True, 'honestidade': True, 'nove': True, 'dedos': True, 'mav': True, 'ler': True, 'condicao': True, 'opiniao': True, 'valer': True, 'rosanabandida': True, 'fedorenta': True, 'osvaldo': True, 'miranda': True, 'respeito': True, 'comentario': True, 'rosana': True, 'revolta': True, 'ofensa': True, 'curiosidade': True, 'estudo': True, 'animais': True, 'reileita': True, 'chama': True, 'escarnio': True, 'acreditando': True, 'nele': True, 'beleza': True, 'elegancia': True, 'usa': True, 'pseudonimo': True, 'surreal': True, 'bidu': True, 'aha': True, 'mentirinha': True, 'acredito': True, 'digno': True, 'sapatos': True, 'diva': True, 'coitadinha': True, 'pobrezinha': True, 'vitima': True, 'leva': True, 'alvo': True, 'municipalaonde': True, 'dobrarao': True, 'desfilara': True, 'belezapelas': True, 'avenidas': True, 'brasilnao': True, 'preocupem': True, 'meio': True, 'pernas': True, 'votou': True, 'votei': True, 'aecio': True, 'colocou': True, 'presidento': True, 'claudio': True, 'lamento': True, 'publicada': True, 'posto': True, 'vcs': True, 'nela': True, 'estrategia': True, 'vermelga': True, 'acefala': True, 'terceirizar': True, 'xingar': True, 'denegrirkkkk': True, 'tchau': True, 'queridos': True, 'hospitais': True, 'super': True, 'lotados': True, 'equipamentos': True, 'coitada': True, 'definila': True, 'chamaria': True, 'tiro': True, 'destinar': True, 'presidio': True, 'hospital': True, 'area': True, 'juridica': True, 'alcada': True, 'ministerio': True, 'presidios': True, 'otimos': True, 'escolas': True, 'hospedar': True, 'rubens': True, 'anderson': True, 'mortadelas': True, 'nadakkk': True, 'roberto': True, 'inteligente': True, 'mafioso': True, 'skaf': True, 'negativa': True, 'presidiarios': True, 'lucasestao': True, 'equipados': True, 'dentro': True, 'peidar': True, 'muzenga': True, 'resolvam': True, 'superlotacao': True, 'carandiru': True, 'galera': True, 'psol': True, 'apertem': True, 'policia': True, 'rj': True, 'kaggar': True, 'preocupada': True, 'carmen': True, 'lucia': True, 'leve': True, 'meia': True, 'duzia': True, 'dessas': True, 'faca': True, 'coquete': True, 'libere': True, 'anel': True, 'couro': True, 'refresco': True, 'groselha': True, 'mostre': True, 'coracao': True, 'preste': True, 'censor': True, 'grobo': True, 'cochilou': True, 'papo': True, 'conforto': True, 'sofrimento': True, 'destruiram': True, 'ficam': True, 'impune': True, 'interessante': True, 'visitar': True, 'concluiu': True, 'concordouai': True, 'estupro': True, 'kkkkkkkkkkkkkkkk': True, 'sujeito': True, 'pecados': True, 'resort': True, 'ferias': True, 'mataram': True, 'poderia': True, 'algumas': True, 'criancas': True, 'estudam': True, 'pes': True, 'goteiras': True, 'muitas': True, 'merenda': True, 'estragada': True, 'andar': True, 'quilometros': True, 'pe': True, 'caminhoes': True, 'ligada': True, 'humanos': True, 'decencia': True, 'gostam': True, 'descalcos': True, 'porca': True, 'df': True, 'haver': True, 'obrigando': True, 'publicose': True, 'proibidos': True, 'atendelos': True, 'olhava': True, 'vacalhacao': True, 'acelerar': True, 'julgamentos': True, 'beneficiam': True, 'preocupar': True, 'criminosos': True, 'santa': True, 'batman': True, 'superlotados': True, 'dra': True, 'sra': True, 'marginais': True, 'igualar': True, 'cela': True, 'superlotada': True, 'roube': True, 'honestamente': True, 'conhecimento': True, 'leiatodos': True, 'iguais': True, 'julgados': True, 'condenados': True, 'exceto': True, 'ministra': True, 'motivo': True, 'instalar': True, 'visitando': True, 'novas': True, 'instalacoes': True, 'conde': True, 'dracula': True, 'vampiros': True, 'supremo': True, 'tribunal': True, 'federal': True, 'procurando': True, 'vagas': True, 'bandidooooooooooooooos': True, 'kkkkkkkkkkkkkkkkkkkkkkkkkkkkkkkkkkkkkkkkkkkkkkkk': True, 'trabalha': True, 'hran': True, 'pretende': True, 'admirei': True, 'bela': True, 'precisavamos': True, 'presidentes': True, 'ajuda': True, 'universitarios': True, 'ajudem': True, 'interpretar': True, 'zozoi': True, 'quis': True, 'levar': True, 'renan': True, 'calheiros': True, 'ficaria': True, 'excelentissima': True, 'ignorante': True, 'mudanca': True, 'preso': True, 'reuniu': True, 'estaria': True, 'vazio': True, 'delano': True, 'diz': True, 'escuta': True, 'ceminterio': True, 'lotado': True, 'cheio': True, 'inocentes': True, 'maos': True, 'virou': True, 'idosos': True, 'linhas': True, 'finas': True, 'maes': True, 'tiveram': True, 'filhos': True, 'assassinados': True, 'assaltantes': True, 'ave': True, 'prestes': True, 'morrer': True, 'lhe': True, 'saudam': True, 'preocupados': True, 'cidadao': True, 'onesto': True, 'renegado': True, 'frente': True, 'havendo': True, 'furtos': True, 'roubos': True, 'implanta': True, 'lixos': True, 'bndido': True, 'mrto': True, 'familiares': True, 'vitimados': True, 'louvavel': True, 'comporta': True, 'tumulos': True, 'superfaturamento': True, 'senador': True, 'deputado': True, 'coloca': True, 'bolso': True, 'duvido': True, 'peca': True, 'severas': True, 'vazios': True, 'auxilios': True, 'mande': True, 'trabalharem': True, 'sustentarem': True, 'superlotado': True, 'f': True, 'd': True, 'fila': True, 'creche': True, 'busca': True, 'safados': True, 'protegem': True, 'indulto': True, 'acoes': True, 'envolvendo': True, 'jose': True, 'serra': True, 'veja': True, 'aparecer': True, 'ciumeira': True, 'eta': True, 'carmem': True, 'senhora': True, 'saindo': True, 'marqueteira': True, 'depender': True, 'soltar': True, 'mundoe': True, 'aplicada': True, 'aristoteles': True, 'prisional': True, 'justa': True, 'paradoxo': True, 'recebeu': True, 'premio': True, 'agrado': True, 'achando': True, 'matar': True, 'esvazie': True, 'celas': True, 'vire': True, 'heroina': True, 'gilmar': True, 'mendespsdb': True, 'ciumesela': True, 'compre': True, 'ena': True, 'bando': True, 'hipocritas': True, 'corja': True, 'merda': True, 'excelente': True, 'velha': True, 'agir': True, 'saulo': True, 'presos': True, 'perigosos': True, 'neimar': True, 'gabriel': True, 'jesus': True, 'marinho': True, 'ataque': True, 'kkkkkkk': True, 'jogou': True, 'ontem': True, 'merece': True, 'selecao': True, 'paulinhafernandinha': True, 'campo': True, 'messi': True, 'deitar': True, 'hotel': True, 'ana': True, 'hickimann': True, 'vencer': True, 'jogo': True, 'x': True, 'minino': True, 'mano': True, 'bauza': True, 'vim': True, 'retranca': True, 'gasta': True, 'decoracao': True, 'tite': True, 'tocar': True, 'paulinhobrasil': True, 'sacanagem': True, 'neymar': True, 'gol': True, 'agradar': True, 'messy': True, 'rlx': True, 'treinado': True, 'barca': True, 'vesti': True, 'uniiforme': True, 'palmeiras': True, 'campeao': True, 'mundial': True, 'carlinhos': True, 'brown': True, 'aivai': True, 'cantar': True, 'babaquices': True, 'faria': True, 'ausencia': True, 'parece': True, 'perguntas': True, 'ridiculas': True, 'felipe': True, 'massa': True, 'aposentar': True, 'retranqueiro': True, 'botar': True, 'cacar': True, 'print': True, 'jogador': True, 'desequilibra': True, 'tomara': True, 'argentina': True, 'goleie': True, 'frescos': True, 'rebaixado': True, 'atleticana': True, 'lotar': True, 'mineirao': True, 'lucas': True, 'pratto': True, 'rolar': True, 'falida': True, 'pipoca': True, 'aperta': True, 'zagueiro': True, 'voltar': True, 'atras': True, 'corinthians': True, 'aluno': True, 'enemlibertadores': True, 'enempaulista': True, 'enembrasileirao': True, 'enemcopa': True, 'goleiro': True, 'nasceu': True, 'junior': True, 'baiano': True, 'jogando': True, 'chance': True, 'thiago': True, 'marquinhos': True, 'melhores': True, 'psg': True, 'decrescimo': True, 'coma': True, 'camisa': True, 'chelsea': True, 'compensacao': True, 'iniciando': True, 'lobby': True, 'retorno': True, 'david': True, 'recorde': True, 'vazado': True, 'gols': True, 'cahill': True, 'pesadelos': True, 'emerson': True, 'sheik': True, 'paolo': True, 'guerrero': True, 'record': True, 'sete': True, 'jogos': True, 'joga': True, 'fans': True, 'torcedores': True, 'cr': True, 'madrid': True, 'raca': True, 'nojenta': True, 'apelando': True, 'compara': True, 'aceitem': True, 'fato': True, 'ronaldetes': True, 'modinha': True, 'rivalidade': True, 'excelentes': True, 'jogadores': True, 'pronto': True, 'daniel': True, 'lima': True, 'verdademessi': True, 'acima': True, 'futebol': True, 'atual': True, 'kkkkkkkkkkkkkkkkkkkkkkkkkk': True, 'pepe': True, 'man': True, 'louco': True, 'time': True, 'seguindo': True, 'criterio': True, 'pele': True, 'george': True, 'best': True, 'maldini': True, 'iniesta': True, 'garrincha': True, 'bostas': True, 'citados': True, 'times': True, 'algunsmaldini': True, 'chegaram': True, 'clubes': True, 'santos': True, 'boaangelim': True, 'video': True, 'game': True, 'considerado': True, 'cosmos': True, 'final': True, 'provar': True, 'clube': True, 'segundo': True, 'isaque': True, 'chore': True, 'lionete': True, 'como': True, 'ronaldete': True, 'argumentos': True, 'mesmomanona': True, 'boana': True, 'manomanooooooooo': True, 'copa': True, 'america': True, 'julio': True, 'baptista': True, 'zuar': True, 'kkkk': True, 'madri': True, 'barcelona': True, 'estrangeiros': True, 'seriam': True, 'afinal': True, 'nacionais': True, 'corrigindo': True, 'europa': True, 'rio': True, 'minas': True, 'gerais': True, 'tulio': True, 'golzinho': True, 'asfalto': True, 'artilheiro': True, 'genio': True, 'romario': True, 'videogame': True, 'fas': True, 'alienados': True, 'kkkkkkkkkkkkkk': True, 'foda': True, 'discurso': True, 'cristiano': True, 'declarou': True, 'secar': True, 'neto': True, 'oculos': True, 'apartamento': True, 'contrata': True, 'marcelo': True, 'cirino': True, 'damiao': True, 'ano': True, 'oficiais': True, 'fifa': True, 'temporada': True, 'mocinhas': True, 'brigando': True, 'virem': True, 'homens': True, 'dicas': True, 'pder': True, 'romariogtronaldogtzidanegtmessigtronaldinhogtcr': True, 'renovar': True, 'contrato': True, 'ramos': True, 'dormir': True, 'tontos': True, 'hj': True, 'diaimagina': True, 'alecgol': True, 'lindinho': True, 'moco': True, 'teremos': True, 'cinco': True, 'clear': True, 'men': True, 'armario': True, 'velocidade': True, 'baixa': True, 'qualidade': True, 'loucos': True, 'maximo': True, 'doido': True, 'empurrar': True, 'bola': True, 'trave': True, 'temporadas': True, 'rala': True, 'titulos': True, 'kkkkkkkkkk': True, 'trofeus': True, 'joan': True, 'gamper': True, 'amistoso': True, 'galeria': True, 'ivo': True, 'holanda': True, 'valdeny': True, 'funcionam': True, 'mundinho': True, 'penaltizinho': True, 'penaldo': True, 'bater': True, 'poxa': True, 'juizao': True, 'hattrick': True, 'solange': True, 'faltou': True, 'penaltis': True, 'robinho': True, 'fred': True, 'campeoes': True, 'daria': True, 'reserva': True, 'fernandinho': True, 'fla': True, 'somar': True, 'assistencias': True, 'ganhaos': True, 'titulo': True, 'momento': True, 'engracada': True, 'pensou': True, 'teste': True, 'zorra': True, 'jogara': True, 'oq': True, 'marcelinho': True, 'carioca': True, 'poderoso': True, 'timao': True, 'chorem': True, 'antis': True, 'pia': True, 'fogao': True, 'choremmmmmmmmmmmmmmmmmmmmmmmmmmmm': True, 'chutar': True, 'crforever': True, 'geraldo': True, 'gallo': True, 'invadir': True, 'ct': True, 'quebrar': True, 'marias': True, 'tremem': True, 'galo': True, 'borram': True, 'argentinos': True, 'pare': True, 'vexame': True, 'saudade': True, 'otamendi': True, 'dupla': True, 'zaga': True, 'sensacional': True, 'dor': True, 'cotovelo': True, 'azuis': True, 'borradeirasadoram': True, 'pagina': True, 'pontos': True, 'corridos': True, 'apagao': True, 'refletor': True, 'esfriar': True, 'adversario': True, 'rajkazblanks': True, 'escorregando': True, 'escancarado': True, 'gritinhos': True, 'colam': True, 'disputa': True, 'penalty': True, 'riascos': True, 'errar': True, 'anelkocando': True, 'argentino': True, 'argentinota': True, 'marcado': True, 'momentos': True, 'marcanteskkkkk': True, 'cio': True, 'presas': True, 'prediletas': True, 'esbanjar': True, 'devoralas': True, 'peruca': True, 'cazares': True, 'amor': True, 'sombra': True, 'vizeu': True, 'acomoda': True, 'jorge': True, 'cueva': True, 'junta': True, 'pontas': True, 'flamengo': True, 'motivacao': True, 'mete': True, 'queremos': True, 'tabela': True, 'ue': True, 'cheirinho': True, 'convocado': True, 'frenquentemente': True, 'sub': True, 'ia': True, 'centroavante': True, 'chorao': True, 'corre': True, 'solto': True, 'envolvida': True, 'acomodou': True, 'revesar': True, 'rodney': True, 'garotos': True, 'rogerio': True, 'tecnico': True, 'complicado': True, 'atacante': True, 'cariacicaes': True, 'coxa': True, 'correto': True, 'adriano': True, 'adryan': True, 'lanca': True, 'menguinho': True, 'mexendo': True, 'chiquinho': True, 'peidods': True, 'elenco': True, 'porrda': True, 'pouquissima': True, 'abel': True, 'braga': True, 'libertadores': True, 'cia': True, 'juntos': True, 'garoro': True, 'n': True, 'moleques': True, 'experiencia': True, 'ricardo': True, 'entregar': True, 'demorou': True, 'digo': True, 'empata': True, 'perde': True, 'medalhao': True, 'continuar': True, 'comando': True, 'nadaem': True, 'decisivas': True, 'erra': True, 'avaliar': True, 'profissionais': True, 'dira': True, 'escala': True, 'substitui': True, 'culpado': True, 'perda': True, 'briga': True, 'volante': True, 'deus': True, 'araujopela': True, 'nw': True, 'ronaldo': True, 'lateral': True, 'brincadeira': True, 'fanfarrao': True, 'gigante': True, 'anosta': True, 'falarem': True, 'olfato': True, 'assumir': True, 'demora': True, 'maracana': True, 'cai': True, 'vascainos': True, 'segunda': True, 'kkkkkkkkk': True, 'bandeirinhas': True, 'garantiram': True, 'roubo': True, 'acertados': True, 'imperador': True, 'wagner': True, 'love': True, 'ronaldinho': True, 'fabio': True, 'luciano': True, 'condicionamento': True, 'fisico': True, 'brasileirao': True, 'contratava': True, 'cuellar': True, 'erradamente': True, 'dava': True, 'comprado': True, 'kkkkkkkkkkkkkkkkkkkkkkkkkkkkkkkkk': True, 'torcidinha': True, 'cabe': True, 'kombi': True, 'gaba': True, 'cheirao': True, 'z': True, 's': True, 'padaria': True, 'vendendo': True, 'sonho': True, 'resta': True, 'stjdacorda': True, 'rubro': True, 'negraseu': True, 'viceado': True, 'digam': True, 'quiser': True, 'copinha': True, 'opg': True, 'arbitragem': True, 'promessas': True, 'sv': True, 'garotada': True, 'negra': True, 'mandou': True, 'lembranca': True, 'kkkkkkkkkkk': True, 'vitor': True, 'nastari': True, 'cabeca': True, 'cheia': True, 'imagine': True, 'kkkkkkkkkkkkkkkkkkkkkkkkkkkkk': True, 'cheiro': True, 'bucelta': True, 'iniciar': True, 'levando': True, 'porrada': True, 'molecada': True, 'corpo': True, 'pipocar': True, 'timinho': True, 'torcida': True, 'terceirizada': True, 'nordestinos': True, 'fedidos': True, 'gema': True, 'identificacao': True, 'nordeste': True, 'paraibas': True, 'framengo': True, 'camelo': True, 'vasco': True, 'botafogo': True, 'janeiro': True, 'saudacoes': True, 'corinthianas': True, 'ofender': True, 'envolver': True, 'apoio': True, 'zagueiros': True, 'resolve': True, 'parte': True, 'problemas': True, 'cruzeiro': True, 'espero': True, 'recupere': True, 'soberba': True, 'relaxa': True, 'veremos': True, 'rodadas': True, 'bishona': True, 'leicester': True, 'champions': True, 'ucu': True, 'negro': True, 'pai': True, 'jovem': True, 'galinha': True, 'classificacao': True, 'glorioso': True, 'frustracoes': True, 'eliminados': True, 'participaram': True, 'fu': True, 'fanatismo': True, 'espiritual': True, 'ignoranca': True, 'pesquisar': True, 'campeonato': True, 'rebaixamento': True, 'existiam': True, 'ligas': True, 'suja': True, 'inelegivel': True, 'kkkkkkkkkkkkkkkkkkkkkkk': True, 'inveja': True, 'matahhhhhhh': True, 'muiuta': True, 'sorte': True, 'mulambos': True, 'setem': True, 'hepicanuncukkkkkkkkkk': True, 'inter': True, 'obrigacao': True, 'timetemos': True, 'bocatodos': True, 'qualificacaobarcaja': True, 'atencao': True, 'diretoria': True, 'competitivo': True, 'aguarde': True, 'mundias': True, 'pancadaria': True, 'confusao': True, 'escondendo': True, 'feliz': True}\n"
     ]
    }
   ],
   "source": [
    "word_feature = list(freq_words.keys())[:3000]\n",
    "\n",
    "def find_features(document):\n",
    "    words = set(document)\n",
    "    features = {}\n",
    "    for w in word_feature:\n",
    "        #the key is the word in the 3000 most popular words\n",
    "        #is gonna be the boolean value for w in words\n",
    "        features[w] = (w in words)\n",
    "        \n",
    "    return features\n",
    "\n",
    "def find_features_test(document):\n",
    "    words = set(document)\n",
    "    features = {}\n",
    "\n",
    "print(find_features(all_words))"
   ]
  },
  {
   "cell_type": "code",
   "execution_count": 108,
   "id": "bad058b1",
   "metadata": {},
   "outputs": [
    {
     "name": "stdout",
     "output_type": "stream",
     "text": [
      "(['votaram', 'no', 'pezao', 'agora', 'tomem', 'no', 'czao'], 'yes')\n"
     ]
    }
   ],
   "source": [
    "print(documents[0])"
   ]
  },
  {
   "cell_type": "code",
   "execution_count": 23,
   "id": "28a8ecc5",
   "metadata": {},
   "outputs": [],
   "source": [
    "feature_sets = [(find_features(rev), category) for (rev, category) in documents]"
   ]
  },
  {
   "cell_type": "markdown",
   "id": "0b4dcca3",
   "metadata": {},
   "source": [
    "#### transformar isso em código\n",
    "feature_sets_test = [(find_features(rev), category) for (rev, category) in randomFeatures(new_tweets)]"
   ]
  },
  {
   "cell_type": "code",
   "execution_count": 24,
   "id": "24f299f3",
   "metadata": {},
   "outputs": [],
   "source": [
    "training_set = feature_sets[:516]\n",
    "test_set = feature_sets[516:]"
   ]
  },
  {
   "cell_type": "code",
   "execution_count": 25,
   "id": "2afe4b8e",
   "metadata": {},
   "outputs": [
    {
     "name": "stdout",
     "output_type": "stream",
     "text": [
      "Linear_classifier accuracy percent: 69.96124031007753\n"
     ]
    }
   ],
   "source": [
    "Linear_classifier = SklearnClassifier(LinearSVC())\n",
    "Linear_classifier.train(training_set)\n",
    "print(\"Linear_classifier accuracy percent:\", (nltk.classify.accuracy(Linear_classifier, test_set))*100)"
   ]
  },
  {
   "cell_type": "code",
   "execution_count": 26,
   "id": "f969512c",
   "metadata": {},
   "outputs": [],
   "source": [
    "retweet_count = []\n",
    "reply_count = []\n",
    "like_count = []\n",
    "quote_count = []\n",
    "\n",
    "numbers = ['0', '1', '2', '3', '4', '5', '6', '7', '8', '9']\n",
    "count = 0\n",
    "\n",
    "for i in public_metrics:\n",
    "    number = ''\n",
    "    for j in i:\n",
    "        if j in numbers:\n",
    "            number += j\n",
    "        if j == ',':\n",
    "            if count == 0:\n",
    "                retweet_count.append(int(number))\n",
    "                number = ''\n",
    "                count += 1\n",
    "            elif count == 1:\n",
    "                reply_count.append(int(number))\n",
    "                number = ''\n",
    "                count += 1\n",
    "            elif count == 2:\n",
    "                like_count.append(int(number))\n",
    "                number = ''\n",
    "                count += 1\n",
    "    if i.endswith(number):\n",
    "        quote_count.append(int(number))\n",
    "        number = ''\n",
    "        count = 0 "
   ]
  },
  {
   "cell_type": "code",
   "execution_count": 28,
   "id": "f0cdd4df",
   "metadata": {},
   "outputs": [],
   "source": [
    "total_retweets = sum(retweet_count)\n",
    "total_reply = sum(reply_count)\n",
    "total_like = sum(like_count)\n",
    "total_quote = sum(quote_count)"
   ]
  },
  {
   "cell_type": "code",
   "execution_count": 29,
   "id": "658852af",
   "metadata": {},
   "outputs": [
    {
     "data": {
      "text/plain": [
       "Text(0.5, 0.98, 'Engagement')"
      ]
     },
     "execution_count": 29,
     "metadata": {},
     "output_type": "execute_result"
    },
    {
     "data": {
      "image/png": "[encoded data removed]",
      "text/plain": [
       "<Figure size 648x216 with 1 Axes>"
      ]
     },
     "metadata": {
      "needs_background": "light"
     },
     "output_type": "display_data"
    }
   ],
   "source": [
    "x_plot = [\"retweet\", \"reply\", \"like\", \"quote\"]\n",
    "y_plot = [total_retweets, total_reply, total_like, total_quote]\n",
    "\n",
    "fig, axs = plt.subplots(figsize=(9, 3), sharey=True)\n",
    "axs.bar(x_plot, y_plot)\n",
    "fig.suptitle('Engagement')"
   ]
  },
  {
   "cell_type": "code",
   "execution_count": 30,
   "id": "f6eb3fa8",
   "metadata": {},
   "outputs": [
    {
     "name": "stdout",
     "output_type": "stream",
     "text": [
      "117164 68 345 6\n"
     ]
    }
   ],
   "source": [
    "print(total_retweets, total_reply, total_like, total_quote)"
   ]
  },
  {
   "cell_type": "code",
   "execution_count": 31,
   "id": "46100821",
   "metadata": {},
   "outputs": [],
   "source": [
    "def getFollwersOfMostRetweetUser(user_tweets, retweet_count):\n",
    "    index_max = retweet_count.index(max(retweet_count))\n",
    "    user_with_most_retweets = user_tweets[index_max].split(\" \")\n",
    "    id_user_with_most_retweets = user_with_most_retweets[0]    \n",
    "    \n",
    "    followers = client.get_users_followers(int(id_user_with_most_retweets), max_results=1000)[0]\n",
    "    \n",
    "    return (max(retweet_count), len(followers), user_with_most_retweets)\n",
    "\n",
    "max_retweets, followers_count, user_most_retweets = getFollwersOfMostRetweetUser(user_tweets, retweet_count)"
   ]
  },
  {
   "cell_type": "code",
   "execution_count": 32,
   "id": "ac668620",
   "metadata": {},
   "outputs": [
    {
     "name": "stdout",
     "output_type": "stream",
     "text": [
      "2302 1000\n"
     ]
    }
   ],
   "source": [
    "print(max_retweets, followers_count)"
   ]
  },
  {
   "cell_type": "code",
   "execution_count": 33,
   "id": "44f7c8fc",
   "metadata": {},
   "outputs": [
    {
     "data": {
      "text/plain": [
       "<BarContainer object of 2 artists>"
      ]
     },
     "execution_count": 33,
     "metadata": {},
     "output_type": "execute_result"
    },
    {
     "data": {
      "image/png": "[encoded data removed]",
      "text/plain": [
       "<Figure size 648x216 with 1 Axes>"
      ]
     },
     "metadata": {
      "needs_background": "light"
     },
     "output_type": "display_data"
    }
   ],
   "source": [
    "x_user_most_retweets = ['Retweets', 'Followers']\n",
    "y_user_most_retweets = [max_retweets, followers_count]\n",
    "\n",
    "fig, axs = plt.subplots(figsize=(9, 3), sharey=True)\n",
    "axs.bar(x_user_most_retweets, y_user_most_retweets)"
   ]
  },
  {
   "cell_type": "code",
   "execution_count": 34,
   "id": "c94b022c",
   "metadata": {},
   "outputs": [
    {
     "name": "stdout",
     "output_type": "stream",
     "text": [
      "['RT', '@FlavioBolsonaro:', 'O', 'ladrão', 'do', 'Lula', 'não', 'faz', 'isso', 'nem', 'na', 'cidade', 'em', 'que', 'ele', 'nasceu…SERÁ', 'VAIADO!Esse', 'é', 'o', 'reconhecimento', 'que', 'o', 'povo', 'brasile…']\n"
     ]
    }
   ],
   "source": [
    "print(user_most_retweets[1:])"
   ]
  },
  {
   "cell_type": "code",
   "execution_count": 35,
   "id": "3ec14128",
   "metadata": {},
   "outputs": [
    {
     "name": "stdout",
     "output_type": "stream",
     "text": [
      "https://twitter.com/i/oauth2/authorize?response_type=code&client_id=UXJWX3BWbUpqRUdQSjNxeFVzb1c6MTpjaQ&redirect_uri=https%3A%2F%2Fdata-api.twitter.com%2Finsights%2Fengagement&scope=tweet.read+users.read+offline.access&state=iB9MRMMKpHkQfOG8f3JCMDrlQd5Mui&code_challenge=oD8AEOTMPSMRQNk1NqNwFDi91zN10wIq5jHr4h8c-iM&code_challenge_method=S256\n"
     ]
    }
   ],
   "source": [
    "oauth2_user_handler = tweepy.OAuth2UserHandler(client_id=CLIENT_ID, redirect_uri=REDIRECT_URI, scope=['tweet.read', 'users.read', 'offline.access'])\n",
    "\n",
    "print(oauth2_user_handler.get_authorization_url())"
   ]
  },
  {
   "cell_type": "code",
   "execution_count": 36,
   "id": "fa4db9ed",
   "metadata": {},
   "outputs": [],
   "source": [
    "# full_url = input(\"Paste in the full URL after you authorized your App: \")\n",
    "# access_token_auth = oauth2_user_handler.fetch_token(full_url)\n",
    "# access_auth = access_token_auth['access_token']"
   ]
  },
  {
   "cell_type": "code",
   "execution_count": 37,
   "id": "a9630fcf",
   "metadata": {},
   "outputs": [],
   "source": [
    "oauth1_user_handler = tweepy.OAuth1UserHandler(\n",
    "    API_KEY, API_SECRET,\n",
    "    callback=REDIRECT_URI\n",
    ")"
   ]
  },
  {
   "cell_type": "code",
   "execution_count": 38,
   "id": "6bd36fef",
   "metadata": {},
   "outputs": [
    {
     "name": "stdout",
     "output_type": "stream",
     "text": [
      "https://api.twitter.com/oauth/authenticate?oauth_token=yzgz3AAAAAABcrNaAAABgdD_wRE\n"
     ]
    }
   ],
   "source": [
    "print(oauth1_user_handler.get_authorization_url(signin_with_twitter=True))"
   ]
  },
  {
   "cell_type": "code",
   "execution_count": null,
   "id": "67324416",
   "metadata": {},
   "outputs": [],
   "source": []
  }
 ],
 "metadata": {
  "kernelspec": {
   "display_name": "Python 3",
   "language": "python",
   "name": "python3"
  },
  "language_info": {
   "codemirror_mode": {
    "name": "ipython",
    "version": 3
   },
   "file_extension": ".py",
   "mimetype": "text/x-python",
   "name": "python",
   "nbconvert_exporter": "python",
   "pygments_lexer": "ipython3",
   "version": "3.8.8"
  }
 },
 "nbformat": 4,
 "nbformat_minor": 5
}
