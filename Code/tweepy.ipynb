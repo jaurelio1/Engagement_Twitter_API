{
 "cells": [
  {
   "cell_type": "code",
   "execution_count": 1,
   "id": "936ac842",
   "metadata": {},
   "outputs": [],
   "source": [
    "import tweepy"
   ]
  },
  {
   "cell_type": "code",
   "execution_count": 2,
   "id": "799378eb",
   "metadata": {},
   "outputs": [],
   "source": [
    "API_KEY = 'hGwC17TsW1W99swjFCXPwi5i9'\n",
    "API_SECRET = 'KmgC8oGcs7uvl9B7HDMi8KUUSAzsTPOPr3vHVt9XJOiks7C5Lw'\n",
    "BEARER_TOKEN = 'AAAAAAAAAAAAAAAAAAAAAFqzcgEAAAAAh%2BilS8IkEYr68z%2BPlwkAGa0CAys%3Du3jZnN5YlQE3OS1hZUEq942I1fQ0kbriuNfuUyla7IqJKqL6CF'\n",
    "ACCESS_TOKEN = '1519454932876808194-D8CTAAIZuvBdrqWuPecRSNX1p0S3cf'\n",
    "ACCESS_TOKEN_SECRET = 'pUZatEZVOuTqBdFaBFAvts9A3hj3y7PvLaLKTpSIxUac9'"
   ]
  },
  {
   "cell_type": "code",
   "execution_count": 3,
   "id": "e779ddd0",
   "metadata": {},
   "outputs": [],
   "source": [
    "client = tweepy.Client(bearer_token=BEARER_TOKEN)"
   ]
  },
  {
   "cell_type": "code",
   "execution_count": 4,
   "id": "4df0bc6b",
   "metadata": {},
   "outputs": [],
   "source": [
    "query = 'Lula ladrao OR Bolsonaro gado -is:retweet'\n",
    "\n",
    "response = client.search_recent_tweets(query=query, max_results=100, tweet_fields=['created_at', 'public_metrics'], expansions=['author_id'])"
   ]
  },
  {
   "cell_type": "code",
   "execution_count": 5,
   "id": "aa625c5c",
   "metadata": {},
   "outputs": [
    {
     "name": "stdout",
     "output_type": "stream",
     "text": [
      "1530301549041295360\n"
     ]
    }
   ],
   "source": [
    "tweets = [tweet for tweet in response.data]\n",
    "first = tweets[0]\n",
    "print(first['author_id'])"
   ]
  },
  {
   "cell_type": "code",
   "execution_count": 6,
   "id": "9c8cc5e8",
   "metadata": {},
   "outputs": [],
   "source": [
    "save_tweets = open('Tweets.txt', 'a')\n",
    "\n",
    "for tweet in tweets:\n",
    "    first_line = str(tweet['author_id']) + \" \" + tweet['text'] + \"\\n\"     \n",
    "    save_tweets.write(first_line)\n",
    "    second_line = \"retweet_count: \" +  str(tweet.public_metrics['retweet_count']) + \", \" + \"reply_count: \" + str(tweet.public_metrics['reply_count']) + \", \" + \"like_count: \" + str(tweet.public_metrics['like_count']) + \", \" + \"quote_count: \" + str(tweet.public_metrics['quote_count']) + \"\\n\"\n",
    "    save_tweets.write(second_line)\n",
    "save_tweets.close()"
   ]
  },
  {
   "cell_type": "code",
   "execution_count": 7,
   "id": "44d29b25",
   "metadata": {},
   "outputs": [],
   "source": [
    "read_tweets = open('Tweets.txt', 'r')\n",
    "user_tweets = []\n",
    "public_metrics = []\n",
    "read = read_tweets.read().split('\\n')\n",
    "\n",
    "word = ''\n",
    "for i in read:\n",
    "    if i.find('retweet_count: ') != -1:\n",
    "        public_metrics.append(i)\n",
    "        user_tweets.append(word)\n",
    "        word = ''\n",
    "        continue        \n",
    "    word += i \n",
    "\n",
    "read_tweets.close()"
   ]
  },
  {
   "cell_type": "code",
   "execution_count": 8,
   "id": "f969512c",
   "metadata": {},
   "outputs": [],
   "source": [
    "retweet_count = []\n",
    "reply_count = []\n",
    "like_count = []\n",
    "quote_count = []\n",
    "\n",
    "numbers = ['0', '1', '2', '3', '4', '5', '6', '7', '8', '9']\n",
    "count = 0\n",
    "\n",
    "for i in public_metrics:\n",
    "    number = ''\n",
    "    for j in i:\n",
    "        if j in numbers:\n",
    "            number += j\n",
    "        if j == ',':\n",
    "            if count == 0:\n",
    "                retweet_count.append(int(number))\n",
    "                number = ''\n",
    "                count += 1\n",
    "            elif count == 1:\n",
    "                reply_count.append(int(number))\n",
    "                number = ''\n",
    "                count += 1\n",
    "            elif count == 2:\n",
    "                like_count.append(int(number))\n",
    "                number = ''\n",
    "                count += 1\n",
    "    if i.endswith(number):\n",
    "        quote_count.append(int(number))\n",
    "        number = ''\n",
    "        count = 0 "
   ]
  },
  {
   "cell_type": "code",
   "execution_count": 9,
   "id": "10bd9832",
   "metadata": {},
   "outputs": [],
   "source": [
    "import numpy as np\n",
    "import matplotlib.pyplot as plt"
   ]
  },
  {
   "cell_type": "code",
   "execution_count": 10,
   "id": "f0cdd4df",
   "metadata": {},
   "outputs": [],
   "source": [
    "total_retweets = sum(retweet_count)\n",
    "total_reply = sum(reply_count)\n",
    "total_like = sum(like_count)\n",
    "total_quote = sum(quote_count)"
   ]
  },
  {
   "cell_type": "code",
   "execution_count": 11,
   "id": "658852af",
   "metadata": {},
   "outputs": [
    {
     "data": {
      "text/plain": [
       "Text(0.5, 0.98, 'Engagement')"
      ]
     },
     "execution_count": 11,
     "metadata": {},
     "output_type": "execute_result"
    },
    {
     "data": {
      "image/png": "[encoded data removed]",
      "text/plain": [
       "<Figure size 648x216 with 1 Axes>"
      ]
     },
     "metadata": {
      "needs_background": "light"
     },
     "output_type": "display_data"
    }
   ],
   "source": [
    "y_plot = [\"retweet\", \"reply\", \"like\", \"quote\"]\n",
    "x_plot = [total_retweets, total_reply, total_like, total_quote]\n",
    "\n",
    "fig, axs = plt.subplots(figsize=(9, 3), sharey=True)\n",
    "axs.bar(y_plot, x_plot)\n",
    "fig.suptitle('Engagement')"
   ]
  },
  {
   "cell_type": "code",
   "execution_count": 12,
   "id": "46100821",
   "metadata": {},
   "outputs": [
    {
     "name": "stdout",
     "output_type": "stream",
     "text": [
      "Response(data=[<User id=1504478017598345238 name=Lima Walmir username=LimaWalmir1>, <User id=1517626290198786049 name=ARQUEIRO CANTO DO GAVIÃO 🇧🇷🇧🇷🇧🇷🇧🇷🇧🇷 username=arqga0>, <User id=4920626086 name=DomCorleone36k🇧🇷 username=DomCorleoneBRJ>, <User id=1131302601780322305 name=Deise Peres. oficial 🇧🇷 username=DeisePeres4>, <User id=1529589441005867008 name=João Rossi username=JooRoss66107975>, <User id=1445112383987400721 name=andre luiz quirino de paiva luiz username=andreluizquiri9>, <User id=1521582993185378309 name=Neytan Santana Silva -2️⃣2️⃣❤🇧🇷 username=neytan_santana>, <User id=1245492836742713347 name=Ezedequias Vitorino username=EzedequiasVito1>, <User id=1935935772 name=Eu Lia, tu Lias 🇧🇷🇲🇽 username=eu_liane>, <User id=1518103732738826240 name=Arthur Jose username=arthur221342>, <User id=232257529 name=Alexandre V Freitas username=thunder_270380>, <User id=1519668501329362948 name=Edi Bolsonaro username=BolsonaroEdi>, <User id=1529181117349249026 name=Tom Castilian username=TomCastilian>, <User id=3161419877 name=André Gonçalves🇧🇷22 username=Andre_Costa_AG>, <User id=1352145830 name=Geraldo Brito username=jgbrito57>, <User id=1479493181616148482 name=HAMILTON FELIX username=HAMILTONFELIX8>, <User id=1147750408426835971 name=Alexandre lopes username=alexand80807045>, <User id=1485720854143062026 name=OLAMExpresso username=OLAMExpresso>, <User id=405907688 name=renata🇧🇷Lemelle username=Renatalemosleme>, <User id=1435211602740064260 name=Clóvis Hotta username=ClovisHotta>, <User id=181831189 name=ADÊ RODRIGUES 🇧🇷💪 username=ADERODRIGUES1>, <User id=1519361128241016835 name=Pastor Carlão username=PastorCarlao22>, <User id=568275009 name=Altemar Brauner🇧🇷🇧🇷 username=AltemarBrauner>, <User id=1049408970845298690 name=🇧🇷🇧🇷🇧🇷🇧🇷Evillazioz🇧🇷🇧🇷🇧🇷🇧🇷 username=evillaziozgmai3>, <User id=1475545959014846467 name=Leandro Campinas #3 2️⃣2️⃣🇧🇷 username=Leandro57923661>, <User id=1427972807040831489 name=Helena Alves 22 username=AlvesHelena22>, <User id=1520325386810408960 name=Luiz Sérgio username=LuizSergio2180>, <User id=1518891354406928384 name=José Nunes de Oliveira Oliveira username=JosNunesdeOli10>, <User id=1505962521773150215 name=Orlando Frozza username=OfrozzaFrozza>, <User id=2778619248 name=AP&H username=aph63230729>, <User id=1355174488724398082 name=Leodias25 username=LeontinoCunha>, <User id=1413898768722841608 name=Ruy Santos username=RuySant62954945>, <User id=1462027614869143554 name=Gilson Jannuzzi username=JannuzziGilson>, <User id=1518696693532921856 name=Luiz Sérgio username=luizsergiomelo>, <User id=1453763856237535232 name=Sofia Hasadi username=HasadiSofia>, <User id=1251581098301296640 name=Ana Maria Varela🇧🇷🇧🇷🇧🇷 username=AnaMari38993036>, <User id=1376187170160009216 name=Dedireita username=Dedireita11>, <User id=48505598 name=Francisco Marques username=chicoindaiatuba>, <User id=2542093570 name=🇧🇷NandaBatt Tia do Zap a Serviço do Mito🫡🗣📣 username=nandabatt>, <User id=1328192935842750466 name=José B. de Andrade Filho. username=JosBarbosadeAn3>, <User id=1519043292947755008 name=Jarbas Simões( UM IMBECIL ) Conserv, Direi, patri. username=Js030453Simoes>, <User id=61521847 name=➡️ Joaquim Branco Neto - BRASILIA - DF 💎 username=ceajur_jobneto>, <User id=1296577003227840512 name=🇧🇷WAGNER OLIVEIRA MAIA 🇧🇷 username=WAGNEROMAIA3>, <User id=1429618980772265989 name=Gilmara Rodrigues username=Gilmara16857847>, <User id=106195653 name=Eduarda Martins username=du_psyheart>, <User id=701176090723803136 name=Eliana Lima 🇧🇷🙏🏼✝️ username=ElianaMoura_>, <User id=1419012296999903247 name=𝔅𝔢𝔩𝔞 𝔅𝔬𝔫𝔬𝔯𝔬 🇧🇷22🇧🇷 username=BelaBonoro>, <User id=1515645589878362119 name=DamadeAco 🇧🇷2️⃣2️⃣🇧🇷 username=damade_aco>, <User id=1520194366802907136 name=Derick Augusto 🇧🇷Bolsonaro🇧🇷😎🙏👉🇧🇷🇧🇷🇧🇷 username=DerickAugusto15>, <User id=1178063254112874496 name=VIEGAS BOLSONARO username=ViegasPontes>, <User id=1114297484333993984 name=Tales Senco username=SencoTales>, <User id=1525269164704911366 name=🇧🇷🇧🇷🇧🇷O PATRIOTA🇧🇷🇧🇷🇧🇷 username=0PATRI0TA>, <User id=328489519 name=(っ◔◡◔)っ🇧🇷 SDV 100% username=DirSegueDir>, <User id=1067429438239911936 name=Wagner Gouvêa não sou robô username=WagnerLuizGouv1>, <User id=66977155 name=Ｎａｔｈａｌ&Ｃａｎｄｌｅｓｔｉｃｋｓ 😎🇧🇷🇧🇷 username=nathal2002>, <User id=1428528188771143680 name=Comendador username=JoseAntonio_SP1>, <User id=1518978965997719552 name=Jack Bosobot🇧🇷🇺🇲 username=jacksonbp66>, <User id=1332348425409622018 name=@garcilazio65🇧🇷🇧🇷🇧🇷 username=DeGarcilazio>, <User id=1445180959 name=🅰lex Mainart username=AlexNenet>, <User id=169331858 name=Balseiro 🇧🇷🇧🇷🇧🇷🇧🇷 username=balseiro79>, <User id=3090431087 name=*𝑵𝒆𝒘𝒔F⁵⁰ 🕸 username=Fabio_f50___>, <User id=42236012 name=Valcenir Ribeiro username=Valcenir2000>, <User id=1474133142743232518 name=Chicomau username=Chicomau63>, <User id=1432848170275516417 name=patriota,JB /22=26.. username=valcastro2022>, <User id=1519283604949553152 name=José Tadeu S. Vieira 🇧🇷 username=JTadeuVieira>, <User id=1519380457569329154 name=Cristina Buchele 🇧🇷💚💛2️⃣2️⃣ username=mcrisbuchele>, <User id=1513494785490919431 name=AKEENO 🇧🇷 username=akeeno_m>, <User id=1367104911490564096 name=Neucimar Fraga Dep. Federal username=FragaDep>, <User id=1520754815890083840 name=Augusto Cesar 100 % pernambucano username=Augusto150584>, <User id=1387197818058813440 name=Quim Queiroz Ж - 👉B22🇧🇷🇺🇸🇺🇦🇮🇱 username=QuimQueiroz3>, <User id=1433203623987646471 name=Nerivaldo 🇧🇷🇺🇲🇮🇱 Avinte username=NerivaldoAvint1>, <User id=1019924878861000705 name=Valtair Goltara username=goltara_valtair>, <User id=1095745900205522950 name=Flavio R Feres ∴ 🇧🇷🇧🇷🇧🇷 username=FlavioRFeres>, <User id=1454594920296112134 name=Marcelo Nicolao🇧🇷 username=MarceloNicolao>, <User id=1518752985706381312 name=🇧🇷🇧🇷 Rose Costa 2️⃣2️⃣ username=Rose_Costa0907>, <User id=1404555247729745920 name=Jorge Prado 🇧🇷🇧🇷🇧🇷🇧🇷🇧🇷🇧🇷 username=JorgePrado1000>, <User id=1099006949109190656 name=Anne Dias 🦋🇧🇷 username=Annedias_cr>, <User id=1257326620752457728 name=jose andrade username=joseand37249331>, <User id=1141273710449561600 name=Wagner Bernardes 🇧🇷🇧🇷🇧🇷 2️⃣2️⃣ username=WagnerLuizdeOl3>, <User id=1520332609011826688 name=joaquim brasileiro 🇧🇷22 🇧🇷22🇧🇷🇧🇷🇧🇷🇧🇷 username=joaquimbrasile8>, <User id=1525871905122701313 name=Doriane Bachelet username=BacheletDoriane>, <User id=1519439774662148096 name=Joaquin Teixeira username=Joaquinteixeiro>, <User id=801797729689174016 name=Vaisernoprimeiroturno username=joseanisiogava>, <User id=785584084290461698 name=Adalberto Ribeiro de oliveira username=adalberto2121>, <User id=1492289320090312710 name=CONECTADUS7 username=conectadus75>, <User id=1201511988 name=🇧🇷🇧🇷🇧🇷 Nelson2️⃣2️⃣ 🇧🇷🇧🇷🇧🇷 username=noakeshott>, <User id=1524750997536460800 name=Luciano username=bitwizardry86>, <User id=2812192201 name=william fernando username=william3_s>, <User id=174761573 name=marcio cesar de lima username=samonarcio>, <User id=288177858 name=Carlos Augusto🇧🇷🇧🇷🇧🇷 username=kaarlosaugusto>, <User id=1060591816045707265 name=Lu 🇧🇷💛💚🇧🇷2️⃣2️⃣ username=lucruzmoscon>, <User id=2814181549 name=Deise Asgardiana ❁ username=AsgardianaB22>, <User id=1519543555957698560 name=Sandra Edna ramos cruz username=SandraEdnaramo1>, <User id=98959883 name=Gê username=angnog>, <User id=1441236197880172558 name=aline bolsonaro username=alinesi96994282>, <User id=51909417 name=Regis Padron username=regispadron>, <User id=1518967666828099585 name=Prof Valter de Menezes Eugenio 🇧🇷🇧🇷22🇧🇷🇧🇷 username=ProfVMenezes>, <User id=1498908795493302274 name=𝕭𝖊𝖑𝖑𝖆 𝕭𝖔𝖓𝖓𝖔𝖗𝖔🇧🇷22🇧🇷 username=BellaBonnoro>, <User id=1520059489235488769 name=Renée Nilta 22 username=NiltaRenee>, <User id=3829323677 name=F€rn∆nd°B∅£@ username=bolavithar>], includes={}, errors=[], meta={'result_count': 100, 'next_token': '0QSJ9RI1A85HGZZZ'})\n"
     ]
    }
   ],
   "source": [
    "def getFollwersOfMostRetweetUser(user_tweets, retweet_count):\n",
    "    index_max = retweet_count.index(max(retweet_count))\n",
    "    user_with_most_retweets = user_tweets[index_max].split(\" \")\n",
    "    id_user = user_with_most_retweets[0]    \n",
    "    \n",
    "    followers = client.get_users_followers(int(id_user))\n",
    "    \n",
    "    return followers\n",
    "\n",
    "print(getFollwersOfMostRetweetUser(user_tweets, retweet_count))"
   ]
  },
  {
   "cell_type": "code",
   "execution_count": 13,
   "id": "e89fddc9",
   "metadata": {},
   "outputs": [
    {
     "ename": "Forbidden",
     "evalue": "403 Forbidden\n453 - You currently have Essential access which includes access to Twitter API v2 endpoints only. If you need access to this endpoint, you’ll need to apply for Elevated access via the Developer Portal. You can learn more here: https://developer.twitter.com/en/docs/twitter-api/getting-started/about-twitter-api#v2-access-leve",
     "output_type": "error",
     "traceback": [
      "\u001b[0;31m---------------------------------------------------------------------------\u001b[0m",
      "\u001b[0;31mForbidden\u001b[0m                                 Traceback (most recent call last)",
      "\u001b[0;32m<ipython-input-13-18972baab942>\u001b[0m in \u001b[0;36m<module>\u001b[0;34m\u001b[0m\n\u001b[1;32m     11\u001b[0m \u001b[0;34m\u001b[0m\u001b[0m\n\u001b[1;32m     12\u001b[0m \u001b[0;31m# fetching the user\u001b[0m\u001b[0;34m\u001b[0m\u001b[0;34m\u001b[0m\u001b[0;34m\u001b[0m\u001b[0m\n\u001b[0;32m---> 13\u001b[0;31m \u001b[0muser\u001b[0m \u001b[0;34m=\u001b[0m \u001b[0mapi\u001b[0m\u001b[0;34m.\u001b[0m\u001b[0mget_user\u001b[0m\u001b[0;34m(\u001b[0m\u001b[0mscreen_name\u001b[0m\u001b[0;34m=\u001b[0m\u001b[0;34m\"DaniloGentili\"\u001b[0m\u001b[0;34m)\u001b[0m \u001b[0;31m#17.2M Followers\u001b[0m\u001b[0;34m\u001b[0m\u001b[0;34m\u001b[0m\u001b[0m\n\u001b[0m\u001b[1;32m     14\u001b[0m \u001b[0;34m\u001b[0m\u001b[0m\n\u001b[1;32m     15\u001b[0m \u001b[0;31m# fetching the ID\u001b[0m\u001b[0;34m\u001b[0m\u001b[0;34m\u001b[0m\u001b[0;34m\u001b[0m\u001b[0m\n",
      "\u001b[0;32m~/anaconda3/lib/python3.8/site-packages/tweepy/api.py\u001b[0m in \u001b[0;36mwrapper\u001b[0;34m(*args, **kwargs)\u001b[0m\n\u001b[1;32m     44\u001b[0m             \u001b[0mkwargs\u001b[0m\u001b[0;34m[\u001b[0m\u001b[0;34m'payload_list'\u001b[0m\u001b[0;34m]\u001b[0m \u001b[0;34m=\u001b[0m \u001b[0mpayload_list\u001b[0m\u001b[0;34m\u001b[0m\u001b[0;34m\u001b[0m\u001b[0m\n\u001b[1;32m     45\u001b[0m             \u001b[0mkwargs\u001b[0m\u001b[0;34m[\u001b[0m\u001b[0;34m'payload_type'\u001b[0m\u001b[0;34m]\u001b[0m \u001b[0;34m=\u001b[0m \u001b[0mpayload_type\u001b[0m\u001b[0;34m\u001b[0m\u001b[0;34m\u001b[0m\u001b[0m\n\u001b[0;32m---> 46\u001b[0;31m             \u001b[0;32mreturn\u001b[0m \u001b[0mmethod\u001b[0m\u001b[0;34m(\u001b[0m\u001b[0;34m*\u001b[0m\u001b[0margs\u001b[0m\u001b[0;34m,\u001b[0m \u001b[0;34m**\u001b[0m\u001b[0mkwargs\u001b[0m\u001b[0;34m)\u001b[0m\u001b[0;34m\u001b[0m\u001b[0;34m\u001b[0m\u001b[0m\n\u001b[0m\u001b[1;32m     47\u001b[0m         \u001b[0mwrapper\u001b[0m\u001b[0;34m.\u001b[0m\u001b[0mpayload_list\u001b[0m \u001b[0;34m=\u001b[0m \u001b[0mpayload_list\u001b[0m\u001b[0;34m\u001b[0m\u001b[0;34m\u001b[0m\u001b[0m\n\u001b[1;32m     48\u001b[0m         \u001b[0mwrapper\u001b[0m\u001b[0;34m.\u001b[0m\u001b[0mpayload_type\u001b[0m \u001b[0;34m=\u001b[0m \u001b[0mpayload_type\u001b[0m\u001b[0;34m\u001b[0m\u001b[0;34m\u001b[0m\u001b[0m\n",
      "\u001b[0;32m~/anaconda3/lib/python3.8/site-packages/tweepy/api.py\u001b[0m in \u001b[0;36mget_user\u001b[0;34m(self, **kwargs)\u001b[0m\n\u001b[1;32m   2500\u001b[0m         \u001b[0mhttps\u001b[0m\u001b[0;34m:\u001b[0m\u001b[0;34m//\u001b[0m\u001b[0mdeveloper\u001b[0m\u001b[0;34m.\u001b[0m\u001b[0mtwitter\u001b[0m\u001b[0;34m.\u001b[0m\u001b[0mcom\u001b[0m\u001b[0;34m/\u001b[0m\u001b[0men\u001b[0m\u001b[0;34m/\u001b[0m\u001b[0mdocs\u001b[0m\u001b[0;34m/\u001b[0m\u001b[0mtwitter\u001b[0m\u001b[0;34m-\u001b[0m\u001b[0mapi\u001b[0m\u001b[0;34m/\u001b[0m\u001b[0mv1\u001b[0m\u001b[0;34m/\u001b[0m\u001b[0maccounts\u001b[0m\u001b[0;34m-\u001b[0m\u001b[0;32mand\u001b[0m\u001b[0;34m-\u001b[0m\u001b[0musers\u001b[0m\u001b[0;34m/\u001b[0m\u001b[0mfollow\u001b[0m\u001b[0;34m-\u001b[0m\u001b[0msearch\u001b[0m\u001b[0;34m-\u001b[0m\u001b[0mget\u001b[0m\u001b[0;34m-\u001b[0m\u001b[0musers\u001b[0m\u001b[0;34m/\u001b[0m\u001b[0mapi\u001b[0m\u001b[0;34m-\u001b[0m\u001b[0mreference\u001b[0m\u001b[0;34m/\u001b[0m\u001b[0mget\u001b[0m\u001b[0;34m-\u001b[0m\u001b[0musers\u001b[0m\u001b[0;34m-\u001b[0m\u001b[0mshow\u001b[0m\u001b[0;34m\u001b[0m\u001b[0;34m\u001b[0m\u001b[0m\n\u001b[1;32m   2501\u001b[0m         \"\"\"\n\u001b[0;32m-> 2502\u001b[0;31m         return self.request(\n\u001b[0m\u001b[1;32m   2503\u001b[0m             'GET', 'users/show', endpoint_parameters=(\n\u001b[1;32m   2504\u001b[0m                 \u001b[0;34m'user_id'\u001b[0m\u001b[0;34m,\u001b[0m \u001b[0;34m'screen_name'\u001b[0m\u001b[0;34m,\u001b[0m \u001b[0;34m'include_entities'\u001b[0m\u001b[0;34m\u001b[0m\u001b[0;34m\u001b[0m\u001b[0m\n",
      "\u001b[0;32m~/anaconda3/lib/python3.8/site-packages/tweepy/api.py\u001b[0m in \u001b[0;36mrequest\u001b[0;34m(self, method, endpoint, endpoint_parameters, params, headers, json_payload, parser, payload_list, payload_type, post_data, files, require_auth, return_cursors, upload_api, use_cache, **kwargs)\u001b[0m\n\u001b[1;32m    257\u001b[0m                 \u001b[0;32mraise\u001b[0m \u001b[0mUnauthorized\u001b[0m\u001b[0;34m(\u001b[0m\u001b[0mresp\u001b[0m\u001b[0;34m)\u001b[0m\u001b[0;34m\u001b[0m\u001b[0;34m\u001b[0m\u001b[0m\n\u001b[1;32m    258\u001b[0m             \u001b[0;32mif\u001b[0m \u001b[0mresp\u001b[0m\u001b[0;34m.\u001b[0m\u001b[0mstatus_code\u001b[0m \u001b[0;34m==\u001b[0m \u001b[0;36m403\u001b[0m\u001b[0;34m:\u001b[0m\u001b[0;34m\u001b[0m\u001b[0;34m\u001b[0m\u001b[0m\n\u001b[0;32m--> 259\u001b[0;31m                 \u001b[0;32mraise\u001b[0m \u001b[0mForbidden\u001b[0m\u001b[0;34m(\u001b[0m\u001b[0mresp\u001b[0m\u001b[0;34m)\u001b[0m\u001b[0;34m\u001b[0m\u001b[0;34m\u001b[0m\u001b[0m\n\u001b[0m\u001b[1;32m    260\u001b[0m             \u001b[0;32mif\u001b[0m \u001b[0mresp\u001b[0m\u001b[0;34m.\u001b[0m\u001b[0mstatus_code\u001b[0m \u001b[0;34m==\u001b[0m \u001b[0;36m404\u001b[0m\u001b[0;34m:\u001b[0m\u001b[0;34m\u001b[0m\u001b[0;34m\u001b[0m\u001b[0m\n\u001b[1;32m    261\u001b[0m                 \u001b[0;32mraise\u001b[0m \u001b[0mNotFound\u001b[0m\u001b[0;34m(\u001b[0m\u001b[0mresp\u001b[0m\u001b[0;34m)\u001b[0m\u001b[0;34m\u001b[0m\u001b[0;34m\u001b[0m\u001b[0m\n",
      "\u001b[0;31mForbidden\u001b[0m: 403 Forbidden\n453 - You currently have Essential access which includes access to Twitter API v2 endpoints only. If you need access to this endpoint, you’ll need to apply for Elevated access via the Developer Portal. You can learn more here: https://developer.twitter.com/en/docs/twitter-api/getting-started/about-twitter-api#v2-access-leve"
     ]
    }
   ],
   "source": [
    "#famous tweets - waiting elevated access\n",
    "\n",
    "# authorization of consumer key and consumer secret\n",
    "auth = tweepy.OAuthHandler(API_KEY, API_SECRET)\n",
    "  \n",
    "# set access to user's access key and access secret \n",
    "auth.set_access_token(ACCESS_TOKEN, ACCESS_TOKEN_SECRET)\n",
    "  \n",
    "# calling the api \n",
    "api = tweepy.API(auth)\n",
    "\n",
    "# fetching the user\n",
    "user = api.get_user(screen_name=\"DaniloGentili\") #17.2M Followers\n",
    "  \n",
    "# fetching the ID\n",
    "ID = user.id_str\n",
    "  \n",
    "print(\"The ID of the user is : \" + ID)"
   ]
  }
 ],
 "metadata": {
  "kernelspec": {
   "display_name": "Python 3",
   "language": "python",
   "name": "python3"
  },
  "language_info": {
   "codemirror_mode": {
    "name": "ipython",
    "version": 3
   },
   "file_extension": ".py",
   "mimetype": "text/x-python",
   "name": "python",
   "nbconvert_exporter": "python",
   "pygments_lexer": "ipython3",
   "version": "3.8.8"
  }
 },
 "nbformat": 4,
 "nbformat_minor": 5
}
