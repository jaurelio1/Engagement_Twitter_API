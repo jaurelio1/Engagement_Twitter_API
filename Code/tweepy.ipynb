{
 "cells": [
  {
   "cell_type": "code",
   "execution_count": 1,
   "id": "936ac842",
   "metadata": {},
   "outputs": [],
   "source": [
    "import tweepy"
   ]
  },
  {
   "cell_type": "code",
   "execution_count": 30,
   "id": "799378eb",
   "metadata": {},
   "outputs": [],
   "source": [
    "API_KEY = 'hGwC17TsW1W99swjFCXPwi5i9'\n",
    "API_SECRET = 'KmgC8oGcs7uvl9B7HDMi8KUUSAzsTPOPr3vHVt9XJOiks7C5Lw'\n",
    "BEARER_TOKEN = 'AAAAAAAAAAAAAAAAAAAAAFqzcgEAAAAAh%2BilS8IkEYr68z%2BPlwkAGa0CAys%3Du3jZnN5YlQE3OS1hZUEq942I1fQ0kbriuNfuUyla7IqJKqL6CF'\n",
    "ACCESS_TOKEN = '1519454932876808194-D8CTAAIZuvBdrqWuPecRSNX1p0S3cf'\n",
    "ACCESS_TOKEN_SECRET = 'pUZatEZVOuTqBdFaBFAvts9A3hj3y7PvLaLKTpSIxUac9'"
   ]
  },
  {
   "cell_type": "code",
   "execution_count": 31,
   "id": "e779ddd0",
   "metadata": {},
   "outputs": [],
   "source": [
    "client = tweepy.Client(bearer_token=BEARER_TOKEN)"
   ]
  },
  {
   "cell_type": "code",
   "execution_count": 32,
   "id": "4df0bc6b",
   "metadata": {},
   "outputs": [],
   "source": [
    "query = 'Lula ladrao OR Bolsonaro gado -is:retweet'\n",
    "\n",
    "response = client.search_recent_tweets(query=query, max_results=100, tweet_fields=['created_at', 'public_metrics'], expansions=['author_id'])"
   ]
  },
  {
   "cell_type": "code",
   "execution_count": 33,
   "id": "aa625c5c",
   "metadata": {},
   "outputs": [],
   "source": [
    "tweets = [tweet for tweet in response.data]"
   ]
  },
  {
   "cell_type": "code",
   "execution_count": 34,
   "id": "9c8cc5e8",
   "metadata": {},
   "outputs": [],
   "source": [
    "save_tweets = open('Tweets.txt', 'a')\n",
    "\n",
    "for tweet in tweets:\n",
    "    first_line = str(tweet['author_id']) + \" \" + tweet['text'] + \"\\n\"     \n",
    "    save_tweets.write(first_line)\n",
    "    second_line = \"retweet_count: \" +  str(tweet.public_metrics['retweet_count']) + \", \" + \"reply_count: \" + str(tweet.public_metrics['reply_count']) + \", \" + \"like_count: \" + str(tweet.public_metrics['like_count']) + \", \" + \"quote_count: \" + str(tweet.public_metrics['quote_count']) + \"\\n\"\n",
    "    save_tweets.write(second_line)\n",
    "save_tweets.close()"
   ]
  },
  {
   "cell_type": "code",
   "execution_count": 35,
   "id": "44d29b25",
   "metadata": {},
   "outputs": [],
   "source": [
    "read_tweets = open('Tweets.txt', 'r')\n",
    "user_tweets = []\n",
    "public_metrics = []\n",
    "read = read_tweets.read().split('\\n')\n",
    "\n",
    "word = ''\n",
    "for i in read:\n",
    "    if i.find('retweet_count: ') != -1:\n",
    "        public_metrics.append(i)\n",
    "        user_tweets.append(word)\n",
    "        word = ''\n",
    "        continue        \n",
    "    word += i \n",
    "\n",
    "read_tweets.close()"
   ]
  },
  {
   "cell_type": "code",
   "execution_count": 36,
   "id": "f969512c",
   "metadata": {},
   "outputs": [],
   "source": [
    "retweet_count = []\n",
    "reply_count = []\n",
    "like_count = []\n",
    "quote_count = []\n",
    "\n",
    "numbers = ['0', '1', '2', '3', '4', '5', '6', '7', '8', '9']\n",
    "count = 0\n",
    "\n",
    "for i in public_metrics:\n",
    "    number = ''\n",
    "    for j in i:\n",
    "        if j in numbers:\n",
    "            number += j\n",
    "        if j == ',':\n",
    "            if count == 0:\n",
    "                retweet_count.append(int(number))\n",
    "                number = ''\n",
    "                count += 1\n",
    "            elif count == 1:\n",
    "                reply_count.append(int(number))\n",
    "                number = ''\n",
    "                count += 1\n",
    "            elif count == 2:\n",
    "                like_count.append(int(number))\n",
    "                number = ''\n",
    "                count += 1\n",
    "    if i.endswith(number):\n",
    "        quote_count.append(int(number))\n",
    "        number = ''\n",
    "        count = 0 "
   ]
  },
  {
   "cell_type": "code",
   "execution_count": 37,
   "id": "10bd9832",
   "metadata": {},
   "outputs": [],
   "source": [
    "import numpy as np\n",
    "import matplotlib.pyplot as plt"
   ]
  },
  {
   "cell_type": "code",
   "execution_count": 38,
   "id": "f0cdd4df",
   "metadata": {},
   "outputs": [],
   "source": [
    "total_retweets = sum(retweet_count)\n",
    "total_reply = sum(reply_count)\n",
    "total_like = sum(like_count)\n",
    "total_quote = sum(quote_count)"
   ]
  },
  {
   "cell_type": "code",
   "execution_count": 39,
   "id": "658852af",
   "metadata": {},
   "outputs": [
    {
     "data": {
      "text/plain": [
       "Text(0.5, 0.98, 'Engagement')"
      ]
     },
     "execution_count": 39,
     "metadata": {},
     "output_type": "execute_result"
    },
    {
     "data": {
      "image/png": "[encoded data removed]",
      "text/plain": [
       "<Figure size 648x216 with 1 Axes>"
      ]
     },
     "metadata": {
      "needs_background": "light"
     },
     "output_type": "display_data"
    }
   ],
   "source": [
    "x_plot = [\"retweet\", \"reply\", \"like\", \"quote\"]\n",
    "y_plot = [total_retweets, total_reply, total_like, total_quote]\n",
    "\n",
    "fig, axs = plt.subplots(figsize=(9, 3), sharey=True)\n",
    "axs.bar(x_plot, y_plot)\n",
    "fig.suptitle('Engagement')"
   ]
  },
  {
   "cell_type": "code",
   "execution_count": 40,
   "id": "46100821",
   "metadata": {},
   "outputs": [],
   "source": [
    "def getFollwersOfMostRetweetUser(user_tweets, retweet_count):\n",
    "    index_max = retweet_count.index(max(retweet_count))\n",
    "    user_with_most_retweets = user_tweets[index_max].split(\" \")\n",
    "    id_user_with_most_retweets = user_with_most_retweets[0]    \n",
    "    \n",
    "    followers = client.get_users_followers(int(id_user_with_most_retweets), max_results=1000)[0]\n",
    "    \n",
    "    return (max(retweet_count), len(followers), user_with_most_retweets)\n",
    "\n",
    "max_retweets, followers_count, user_most_retweets = getFollwersOfMostRetweetUser(user_tweets, retweet_count)"
   ]
  },
  {
   "cell_type": "code",
   "execution_count": 41,
   "id": "ac668620",
   "metadata": {},
   "outputs": [
    {
     "name": "stdout",
     "output_type": "stream",
     "text": [
      "1476 446\n"
     ]
    }
   ],
   "source": [
    "print(max_retweets, followers_count)"
   ]
  },
  {
   "cell_type": "code",
   "execution_count": 42,
   "id": "44f7c8fc",
   "metadata": {},
   "outputs": [
    {
     "name": "stdout",
     "output_type": "stream",
     "text": [
      "['RT', '@LuizCor24841840:', '93', 'mortos,', '26', 'desaparecidos', 'e', '6', 'mil', 'desabrigados', 'e', 'o', 'prefeito', 'de', 'Recife', 'em', 'São', 'Paulo', 'em', 'reuniões', 'da', 'campanha', 'de', 'Lula', 'l…']\n"
     ]
    },
    {
     "data": {
      "image/png": "[encoded data removed]",
      "text/plain": [
       "<Figure size 648x216 with 1 Axes>"
      ]
     },
     "metadata": {
      "needs_background": "light"
     },
     "output_type": "display_data"
    }
   ],
   "source": [
    "x_user_most_retweets = ['Retweets', 'Followers']\n",
    "y_user_most_retweets = [max_retweets, followers_count]\n",
    "\n",
    "fig, axs = plt.subplots(figsize=(9, 3), sharey=True)\n",
    "axs.bar(x_user_most_retweets, y_user_most_retweets)\n",
    "print(user_most_retweets[1:])"
   ]
  },
  {
   "cell_type": "code",
   "execution_count": 43,
   "id": "e89fddc9",
   "metadata": {},
   "outputs": [],
   "source": [
    "# #famous tweets - waiting elevated access\n",
    "\n",
    "# # authorization of consumer key and consumer secret\n",
    "# auth = tweepy.OAuthHandler(API_KEY, API_SECRET)\n",
    "  \n",
    "# # set access to user's access key and access secret \n",
    "# auth.set_access_token(ACCESS_TOKEN, ACCESS_TOKEN_SECRET)\n",
    "  \n",
    "# # calling the api \n",
    "# api = tweepy.API(auth)\n",
    "\n",
    "# # fetching the user\n",
    "# user = api.get_user(screen_name=\"DaniloGentili\") #17.2M Followers\n",
    "  \n",
    "# # fetching the ID\n",
    "# ID = user.id_str\n",
    "  \n",
    "# print(\"The ID of the user is : \" + ID)"
   ]
  }
 ],
 "metadata": {
  "kernelspec": {
   "display_name": "Python 3",
   "language": "python",
   "name": "python3"
  },
  "language_info": {
   "codemirror_mode": {
    "name": "ipython",
    "version": 3
   },
   "file_extension": ".py",
   "mimetype": "text/x-python",
   "name": "python",
   "nbconvert_exporter": "python",
   "pygments_lexer": "ipython3",
   "version": "3.8.8"
  }
 },
 "nbformat": 4,
 "nbformat_minor": 5
}
