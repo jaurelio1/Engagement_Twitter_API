{
 "cells": [
  {
   "cell_type": "code",
   "execution_count": 1,
   "id": "a1c44597",
   "metadata": {},
   "outputs": [
    {
     "name": "stdout",
     "output_type": "stream",
     "text": [
      "Requirement already satisfied: clean-text in /home/aurelio/anaconda3/lib/python3.8/site-packages (0.6.0)\n",
      "Requirement already satisfied: ftfy<7.0,>=6.0 in /home/aurelio/anaconda3/lib/python3.8/site-packages (from clean-text) (6.1.1)\n",
      "Requirement already satisfied: emoji<2.0.0,>=1.0.0 in /home/aurelio/anaconda3/lib/python3.8/site-packages (from clean-text) (1.7.0)\n",
      "Requirement already satisfied: wcwidth>=0.2.5 in /home/aurelio/anaconda3/lib/python3.8/site-packages (from ftfy<7.0,>=6.0->clean-text) (0.2.5)\n"
     ]
    }
   ],
   "source": [
    "!pip install clean-text"
   ]
  },
  {
   "cell_type": "code",
   "execution_count": 2,
   "id": "936ac842",
   "metadata": {},
   "outputs": [],
   "source": [
    "import tweepy"
   ]
  },
  {
   "cell_type": "code",
   "execution_count": 3,
   "id": "5e89bbe7",
   "metadata": {},
   "outputs": [],
   "source": [
    "import re\n",
    "import unicodedata\n",
    "import string"
   ]
  },
  {
   "cell_type": "code",
   "execution_count": 4,
   "id": "11175331",
   "metadata": {},
   "outputs": [
    {
     "name": "stderr",
     "output_type": "stream",
     "text": [
      "Since the GPL-licensed package `unidecode` is not installed, using Python's `unicodedata` package which yields worse results.\n"
     ]
    }
   ],
   "source": [
    "from cleantext import clean"
   ]
  },
  {
   "cell_type": "code",
   "execution_count": 5,
   "id": "21b8e266",
   "metadata": {},
   "outputs": [],
   "source": [
    "import nltk\n",
    "from nltk.tokenize import word_tokenize\n",
    "from nltk.corpus import stopwords"
   ]
  },
  {
   "cell_type": "code",
   "execution_count": 6,
   "id": "80a06a93",
   "metadata": {},
   "outputs": [],
   "source": [
    "from nltk.classify.scikitlearn import SklearnClassifier\n",
    "from sklearn.svm import SVC, LinearSVC, NuSVC"
   ]
  },
  {
   "cell_type": "code",
   "execution_count": 7,
   "id": "10bd9832",
   "metadata": {},
   "outputs": [],
   "source": [
    "import numpy as np\n",
    "import matplotlib.pyplot as plt"
   ]
  },
  {
   "cell_type": "code",
   "execution_count": 8,
   "id": "799378eb",
   "metadata": {},
   "outputs": [],
   "source": [
    "#Create your own keys on Twitter Developer\n",
    "API_KEY = 'hGwC17TsW1W99swjFCXPwi5i9'\n",
    "API_SECRET = 'KmgC8oGcs7uvl9B7HDMi8KUUSAzsTPOPr3vHVt9XJOiks7C5Lw'\n",
    "BEARER_TOKEN = 'AAAAAAAAAAAAAAAAAAAAAFqzcgEAAAAAh%2BilS8IkEYr68z%2BPlwkAGa0CAys%3Du3jZnN5YlQE3OS1hZUEq942I1fQ0kbriuNfuUyla7IqJKqL6CF'\n",
    "ACCESS_TOKEN = '1519454932876808194-D8CTAAIZuvBdrqWuPecRSNX1p0S3cf'\n",
    "ACCESS_TOKEN_SECRET = 'pUZatEZVOuTqBdFaBFAvts9A3hj3y7PvLaLKTpSIxUac9'\n",
    "\n",
    "CLIENT_ID = 'UXJWX3BWbUpqRUdQSjNxeFVzb1c6MTpjaQ'\n",
    "CLIENT_SECRET = 'V6enZ5OHrb8rjZ-75TfsUCOGy6Xse_kuISE7-jbdmEPnjS8vx4'\n",
    "REDIRECT_URI = 'https://data-api.twitter.com/insights/engagement' "
   ]
  },
  {
   "cell_type": "code",
   "execution_count": 9,
   "id": "e779ddd0",
   "metadata": {},
   "outputs": [],
   "source": [
    "client = tweepy.Client(bearer_token=BEARER_TOKEN)"
   ]
  },
  {
   "cell_type": "code",
   "execution_count": 10,
   "id": "364c33b2",
   "metadata": {},
   "outputs": [],
   "source": [
    "query = 'Lula ladrao OR Bolsonaro gado -is:retweet'"
   ]
  },
  {
   "cell_type": "code",
   "execution_count": 11,
   "id": "4df0bc6b",
   "metadata": {},
   "outputs": [],
   "source": [
    "response = client.search_recent_tweets(query=query, max_results=100, tweet_fields=['created_at', 'public_metrics'], expansions=['author_id'])"
   ]
  },
  {
   "cell_type": "code",
   "execution_count": 12,
   "id": "aa625c5c",
   "metadata": {},
   "outputs": [],
   "source": [
    "tweets = [tweet for tweet in response.data] "
   ]
  },
  {
   "cell_type": "code",
   "execution_count": 13,
   "id": "9c8cc5e8",
   "metadata": {},
   "outputs": [],
   "source": [
    "#Here I prepare an .txt that will append the 100 responses\n",
    "save_tweets = open('Tweets.txt', 'a')\n",
    "\n",
    "for tweet in tweets:\n",
    "    first_line = str(tweet['author_id']) + \" \" + tweet['text'] + \"\\n\"     \n",
    "    save_tweets.write(first_line)\n",
    "    second_line = \"retweet_count: \" +  str(tweet.public_metrics['retweet_count']) + \", \" + \"reply_count: \" + str(tweet.public_metrics['reply_count']) + \", \" + \"like_count: \" + str(tweet.public_metrics['like_count']) + \", \" + \"quote_count: \" + str(tweet.public_metrics['quote_count']) + \"\\n\"\n",
    "    save_tweets.write(second_line)\n",
    "save_tweets.close()"
   ]
  },
  {
   "cell_type": "code",
   "execution_count": 14,
   "id": "44d29b25",
   "metadata": {},
   "outputs": [
    {
     "name": "stdout",
     "output_type": "stream",
     "text": [
      "['1530301549041295360 @AtilaGPRGPR @diefoduarte7483 @jairbolsonaro Não fundamentada? Kkkk Coisas que nem o bolsonaro nega mas o gado simVcs são deploráveis', '966422258687315971 RT @LuizCor24841840: 93 mortos, 26 desaparecidos e 6 mil desabrigados e o prefeito de Recife em São Paulo em reuniões da campanha de Lula l…', '1236086201838419968 @DaniloGentili Eu duvido q tenha ladrão maior que Lula e vcs aí nessa ladainha sem fim !!', '1278549436545851392 RT @RCNradiochatnet: O Lula falou! \"A profissão mais honesta é a do POLÍTICO, sabe porque? ...por mais ladrão que ele seja, ele tem que ir…', '4821431243 RT @LuizCor24841840: 93 mortos, 26 desaparecidos e 6 mil desabrigados e o prefeito de Recife em São Paulo em reuniões da campanha de Lula l…', '35562670 RT @LuizCor24841840: 93 mortos, 26 desaparecidos e 6 mil desabrigados e o prefeito de Recife em São Paulo em reuniões da campanha de Lula l…', '1196172031718576130 RT @LuizCor24841840: 93 mortos, 26 desaparecidos e 6 mil desabrigados e o prefeito de Recife em São Paulo em reuniões da campanha de Lula l…', '1477715560632881153 @ungarobolonheis @nyllasuares @GloboNews Mais uma menininha criado pelo papai vota no Lula ladrao 🤣🤣🤣🤣🤣🤣🤣', '1216106663733792768 RT @seu_mrcs: Este mês Saturno, Marte, Vênus e Júpiter estão alinhados no céu, sabe oque isso significa? QUE LULA É LADRÃO.  #LulaNuncaMais', '1519089562970116097 UOL - Urubu de Olho no Lula!!Azar pra cem anos!!É muita carniça pra um ladrão só!! https://t.co/k4zm6aEsL6']\n",
      "1000\n"
     ]
    }
   ],
   "source": [
    "#Here I read the .txt file and separate them in the text of the tweet and the public metrics\n",
    "read_tweets = open('Tweets.txt', 'r')\n",
    "user_tweets = []\n",
    "public_metrics = []\n",
    "read = read_tweets.read().split('\\n')\n",
    "\n",
    "word = ''\n",
    "for i in read:\n",
    "    if i.find('retweet_count: ') != -1:\n",
    "        public_metrics.append(i)\n",
    "        user_tweets.append(word)\n",
    "        word = ''\n",
    "        continue        \n",
    "    word += i \n",
    "\n",
    "read_tweets.close()\n",
    "print(user_tweets[:10])\n",
    "print(len(public_metrics))"
   ]
  },
  {
   "cell_type": "code",
   "execution_count": 15,
   "id": "14429f5a",
   "metadata": {},
   "outputs": [
    {
     "name": "stdout",
     "output_type": "stream",
     "text": [
      "767 767\n"
     ]
    }
   ],
   "source": [
    "#Here I remove the duplicated tweets\n",
    "lenght = len(user_tweets)-1\n",
    "i = 0\n",
    "        \n",
    "while i < lenght:    \n",
    "    if user_tweets.count(user_tweets[i]) > 1:\n",
    "        user_tweets.pop(i)\n",
    "        public_metrics.pop(i)\n",
    "        lenght -= 1\n",
    "    i += 1 \n",
    "    \n",
    "print(len(user_tweets), len(public_metrics))"
   ]
  },
  {
   "cell_type": "code",
   "execution_count": 16,
   "id": "2d80e175",
   "metadata": {},
   "outputs": [],
   "source": [
    "def remove_urls(lista_tweets):\n",
    "    novos_tweets = []\n",
    "\n",
    "    for tweet in lista_tweets:\n",
    "        texto = re.sub(r\"http\\S+\", \"\", tweet)\n",
    "        novos_tweets.append(texto)\n",
    "\n",
    "    return novos_tweets\n",
    "\n",
    "def remove_usuario(lista_tweets):\n",
    "    novos_tweets = []\n",
    "\n",
    "    for tweet in lista_tweets:\n",
    "        texto = re.sub(r\"@\\S+\", \"\", tweet)\n",
    "        novos_tweets.append(texto)\n",
    "\n",
    "    return novos_tweets\n",
    "\n",
    "def remove_hashtag(lista_tweets):\n",
    "    novos_tweets = []\n",
    "\n",
    "    for tweet in lista_tweets:\n",
    "        texto = re.sub(r\"#\\S+\", \"\", tweet)\n",
    "        novos_tweets.append(texto)\n",
    "\n",
    "    return novos_tweets\n",
    "\n",
    "# nova_lista = [w for word in words for w in word if w not in stop_words] brincando com python\n",
    "def remove_stopwords(lista_tweets):\n",
    "    words = [word_tokenize(w) for w in lista_tweets]\n",
    "    stop_words = set(stopwords.words(\"portuguese\"))\n",
    "    nova_lista = []\n",
    "    \n",
    "    for word in words:\n",
    "        tweets = []\n",
    "        for w in word:\n",
    "            if w not in stop_words:\n",
    "                tweets.append(w)\n",
    "        nova_lista.append(tweets)                \n",
    "        \n",
    "    return nova_lista\n",
    "\n",
    "#Remove os emojis e acentuações\n",
    "def remove_emojis(lista_tweets):\n",
    "    nova_lista = []\n",
    "    for i in lista_tweets:\n",
    "        tweets = []\n",
    "        tweets.append(clean(str(i), lower=False, no_punct=True, no_emoji=True))\n",
    "        nova_lista.append(tweets)\n",
    "    return nova_lista\n",
    "\n",
    "def remove_empty_spaces(lista_tweets):\n",
    "    nova_lista = [lista_tweets[i][0].split(\" \") for i in range(len(lista_tweets)-1)]\n",
    "            \n",
    "    return nova_lista    "
   ]
  },
  {
   "cell_type": "code",
   "execution_count": 17,
   "id": "62f59f0f",
   "metadata": {},
   "outputs": [
    {
     "name": "stdout",
     "output_type": "stream",
     "text": [
      "766 [['1530301549041295360', 'Nao', 'fundamentada', 'Kkkk', 'Coisas', 'bolsonaro', 'nega', 'gado', 'simVcs', 'deploraveis'], ['966422258687315971', 'RT', '93', 'mortos', '26', 'desaparecidos', '6', 'mil', 'desabrigados', 'prefeito', 'Recife', 'Sao', 'Paulo', 'reunioes', 'campanha', 'Lula', 'l'], ['1236086201838419968', 'Eu', 'duvido', 'q', 'ladrao', 'maior', 'Lula', 'vcs', 'ai', 'nessa', 'ladainha', 'fim'], ['1278549436545851392', 'RT', 'O', 'Lula', 'falou', 'A', 'profissao', 'honesta', 'POLITICO', 'sabe', 'porque', 'ladrao', 'ir'], ['4821431243', 'RT', '93', 'mortos', '26', 'desaparecidos', '6', 'mil', 'desabrigados', 'prefeito', 'Recife', 'Sao', 'Paulo', 'reunioes', 'campanha', 'Lula', 'l'], ['35562670', 'RT', '93', 'mortos', '26', 'desaparecidos', '6', 'mil', 'desabrigados', 'prefeito', 'Recife', 'Sao', 'Paulo', 'reunioes', 'campanha', 'Lula', 'l'], ['1196172031718576130', 'RT', '93', 'mortos', '26', 'desaparecidos', '6', 'mil', 'desabrigados', 'prefeito', 'Recife', 'Sao', 'Paulo', 'reunioes', 'campanha', 'Lula', 'l'], ['1477715560632881153', 'Mais', 'menininha', 'criado', 'papai', 'vota', 'Lula', 'ladrao'], ['1216106663733792768', 'RT', 'Este', 'mes', 'Saturno', 'Marte', 'Venus', 'Jupiter', 'alinhados', 'ceu', 'sabe', 'oque', 'significa', 'QUE', 'LULA', 'E', 'LADRAO'], ['1519089562970116097', 'UOL', 'Urubu', 'Olho', 'Lula', 'Azar', 'pra', 'cem', 'anos', 'E', 'muita', 'carnica', 'pra', 'ladrao']]\n"
     ]
    }
   ],
   "source": [
    "new_tweets = remove_urls(user_tweets)\n",
    "new_tweets = remove_usuario(new_tweets)\n",
    "new_tweets = remove_hashtag(new_tweets)\n",
    "new_tweets = remove_stopwords(new_tweets)\n",
    "new_tweets = remove_emojis(new_tweets)\n",
    "new_tweets = remove_empty_spaces(new_tweets)\n",
    "\n",
    "print(len(new_tweets), new_tweets[:10])"
   ]
  },
  {
   "cell_type": "code",
   "execution_count": 18,
   "id": "4a1fa745",
   "metadata": {},
   "outputs": [
    {
     "name": "stdout",
     "output_type": "stream",
     "text": [
      "[(['1530301549041295360', 'Nao', 'fundamentada', 'Kkkk', 'Coisas', 'bolsonaro', 'nega', 'gado', 'simVcs', 'deploraveis'], 'yes'), (['966422258687315971', 'RT', '93', 'mortos', '26', 'desaparecidos', '6', 'mil', 'desabrigados', 'prefeito', 'Recife', 'Sao', 'Paulo', 'reunioes', 'campanha', 'Lula', 'l'], 'yes'), (['1236086201838419968', 'Eu', 'duvido', 'q', 'ladrao', 'maior', 'Lula', 'vcs', 'ai', 'nessa', 'ladainha', 'fim'], 'no'), (['1278549436545851392', 'RT', 'O', 'Lula', 'falou', 'A', 'profissao', 'honesta', 'POLITICO', 'sabe', 'porque', 'ladrao', 'ir'], 'yes'), (['4821431243', 'RT', '93', 'mortos', '26', 'desaparecidos', '6', 'mil', 'desabrigados', 'prefeito', 'Recife', 'Sao', 'Paulo', 'reunioes', 'campanha', 'Lula', 'l'], 'no'), (['35562670', 'RT', '93', 'mortos', '26', 'desaparecidos', '6', 'mil', 'desabrigados', 'prefeito', 'Recife', 'Sao', 'Paulo', 'reunioes', 'campanha', 'Lula', 'l'], 'yes'), (['1196172031718576130', 'RT', '93', 'mortos', '26', 'desaparecidos', '6', 'mil', 'desabrigados', 'prefeito', 'Recife', 'Sao', 'Paulo', 'reunioes', 'campanha', 'Lula', 'l'], 'yes'), (['1477715560632881153', 'Mais', 'menininha', 'criado', 'papai', 'vota', 'Lula', 'ladrao'], 'yes'), (['1216106663733792768', 'RT', 'Este', 'mes', 'Saturno', 'Marte', 'Venus', 'Jupiter', 'alinhados', 'ceu', 'sabe', 'oque', 'significa', 'QUE', 'LULA', 'E', 'LADRAO'], 'yes'), (['1519089562970116097', 'UOL', 'Urubu', 'Olho', 'Lula', 'Azar', 'pra', 'cem', 'anos', 'E', 'muita', 'carnica', 'pra', 'ladrao'], 'yes')]\n"
     ]
    }
   ],
   "source": [
    "def randomFeatures(tweets):\n",
    "    data = []\n",
    "    for t in tweets:\n",
    "        feature = np.random.randint(2)\n",
    "        if(feature == 1):\n",
    "            data.append((t, 'yes'))\n",
    "        else:\n",
    "            data.append((t, 'no'))        \n",
    "    return data\n",
    "document_test = randomFeatures(new_tweets)\n",
    "print(document_test[:10])"
   ]
  },
  {
   "cell_type": "code",
   "execution_count": 19,
   "id": "7cab2359",
   "metadata": {},
   "outputs": [
    {
     "name": "stdout",
     "output_type": "stream",
     "text": [
      "1032 (['votaram', 'no', 'pezao', 'agora', 'tomem', 'no', 'czao'], 'yes') Votaram no PEZAO Agora tomem no CZAO\n"
     ]
    }
   ],
   "source": [
    "#Here I'm formating the training data from .txt file\n",
    "training_data = open('treinamento.txt', 'r').read().split(\"\\n\")\n",
    "documents = []\n",
    "words = []\n",
    "\n",
    "#The last element is a empty string\n",
    "for i in training_data[:len(training_data)-2]:\n",
    "    feature = ''\n",
    "    tweet = ''\n",
    "    count_point = 0\n",
    "    index = 0\n",
    "    for j in i:\n",
    "        if j == ';':\n",
    "            count_point += 1\n",
    "            \n",
    "        if count_point < 1:\n",
    "            feature += j\n",
    "        if count_point > 1 and j == \";\":\n",
    "            tweet = i[index+2:len(i)-1].split(\" \")\n",
    "            words.append(i[index+2:len(i)-1])\n",
    "            continue\n",
    "        index += 1\n",
    "    documents.append(([t.lower() for t in tweet], feature))\n",
    "    \n",
    "\n",
    "print(len(documents), documents[0], words[0])"
   ]
  },
  {
   "cell_type": "code",
   "execution_count": 20,
   "id": "4ac29f78",
   "metadata": {},
   "outputs": [
    {
     "name": "stdout",
     "output_type": "stream",
     "text": [
      "['Votaram', 'PEZAO', 'Agora', 'tomem', 'CZAO']\n"
     ]
    }
   ],
   "source": [
    "#Here I build words with no stopwords\n",
    "words_without_stopwords = remove_stopwords(words)  \n",
    "\n",
    "print(words_without_stopwords[0])"
   ]
  },
  {
   "cell_type": "code",
   "execution_count": 21,
   "id": "940541bb",
   "metadata": {},
   "outputs": [
    {
     "name": "stdout",
     "output_type": "stream",
     "text": [
      "[('nao', 295), ('vai', 99), ('so', 91), ('e', 89), ('o', 83), ('pra', 81), ('ja', 68), ('sao', 58), ('a', 56), ('brasil', 55), ('ser', 47), ('ta', 47), ('carne', 39), ('melhor', 39), ('cara', 35)]\n"
     ]
    }
   ],
   "source": [
    "#Here I'm creating the list of Freq for each word - training set\n",
    "all_words = []\n",
    "for i in words_without_stopwords:\n",
    "    for j in i:\n",
    "        all_words.append(j.lower())\n",
    "\n",
    "freq_words = nltk.FreqDist(all_words)\n",
    "print(freq_words.most_common(15))"
   ]
  },
  {
   "cell_type": "code",
   "execution_count": 22,
   "id": "4484c720",
   "metadata": {},
   "outputs": [
    {
     "name": "stdout",
     "output_type": "stream",
     "text": [
      "[('ladrao', 653), ('lula', 635), ('rt', 291), ('o', 182), ('bolsonaro', 170), ('e', 117), ('gado', 83), ('pra', 83), ('a', 70), ('vai', 70), ('q', 57), ('nao', 55), ('um', 55), ('maior', 51), ('vc', 51)]\n"
     ]
    }
   ],
   "source": [
    "#Here I'm creating the list of Freq for each word - testing set\n",
    "all_words_test = []\n",
    "for i in new_tweets:\n",
    "    for j in i:\n",
    "        all_words_test.append(j.lower())\n",
    "\n",
    "freq_words_test = nltk.FreqDist(all_words_test)\n",
    "print(freq_words_test.most_common(15))"
   ]
  },
  {
   "cell_type": "code",
   "execution_count": 23,
   "id": "cf69b2b2",
   "metadata": {},
   "outputs": [
    {
     "name": "stdout",
     "output_type": "stream",
     "text": [
      "{'1530301549041295360': True, 'nao': True, 'fundamentada': True, 'kkkk': True, 'coisas': True, 'bolsonaro': True, 'nega': True, 'gado': True, 'simvcs': True, 'deploraveis': True, '966422258687315971': True, 'rt': True, '93': True, 'mortos': True, '26': True, 'desaparecidos': True, '6': True, 'mil': True, 'desabrigados': True, 'prefeito': True, 'recife': True, 'sao': True, 'paulo': True, 'reunioes': True, 'campanha': True, 'lula': True, 'l': True, '1236086201838419968': True, 'eu': True, 'duvido': True, 'q': True, 'ladrao': True, 'maior': True, 'vcs': True, 'ai': True, 'nessa': True, 'ladainha': True, 'fim': True, '1278549436545851392': True, 'o': True, 'falou': True, 'a': True, 'profissao': True, 'honesta': True, 'politico': True, 'sabe': True, 'porque': True, 'ir': True, '4821431243': True, '35562670': True, '1196172031718576130': True, '1477715560632881153': True, 'mais': True, 'menininha': True, 'criado': True, 'papai': True, 'vota': True, '1216106663733792768': True, 'este': True, 'mes': True, 'saturno': True, 'marte': True, 'venus': True, 'jupiter': True, 'alinhados': True, 'ceu': True, 'oque': True, 'significa': True, 'que': True, 'e': True, '1519089562970116097': True, 'uol': True, 'urubu': True, 'olho': True, 'azar': True, 'pra': True, 'cem': True, 'anos': True, 'muita': True, 'carnica': True, '2941097375': True, '1447695447120912387': True, 'cagao': True, 'kkk': True, 'certo': True, 'fez': True, 'pq': True, 'avisado': True, 'bem': True, 'vindo': True, 'sul': True, 'mas': True, 'tenta': True, 'vir': True, 'ver': True, 'popularidade': True, '542848240': True, 'esse': True, 'alexandre': True, 'kalil': True, 'cara': True, 'mal': True, 'agora': True, 'roubalheira': True, 'igual': True, 'comparsa': True, '1057686515831267328': True, '1419107599685926912': True, 'livre': True, 'nome': True, 'vergonha': True, 'lambedor': True, 'hahaha': True, '1443727472533647366': True, '1527069848672604161': True, 'solta': True, 'faco': True, 'faria': True, 'amizade': True, 'gosto': True, 'confesso': True, 'shippo': True, 'vc': True, 'fedido': True, 'feio': True, 'golpe': True, '893955247244288000': True, '171531262': True, '890370974503374848': True, 'brasileiro': True, 'auto': True, 'boicota': True, 'prova': True, 'disso': True, 'lixo': True, 'asqueroso': True, '17': True, '1119256312062402560': True, '1267851025173667841': True, 'faz': True, 'trabalhou': True, 'conseguir': True, 'mora': True, 'mansao': True, 'toma': True, 'vinho': True, '5': True, 'reais': True, 'pobre': True, 'qu': True, '1420946851788959745': True, 'provou': True, 'arte': True, 'roubar': True, 'defender': True, 'companheiros': True, 'bandidos': True, 'seu': True, 'lugar': True, 'na': True, 'prisao': True, '1361448685314469890': True, 'tt': True, 'nunca': True, 'coloque': True, 'gente': True, 'apoia': True, 'timeline': True, 'dnv': True, 'aguento': True, 'discussao': True, 'desses': True, 'gados': True, 'fdps': True, 'nada': True, 'oq': True, 'fazer': True, 'vida': True, 'ficam': True, 'mamando': True, 'pau': True, '1530296150456254464': True, 'deixou': True, 'claro': True, 'vai': True, 'debates': True, 'por': True, 'pr': True, '148725689': True, '132956811': True, 'chamado': True, 'chamamos': True, '356630823': True, 'onde': True, 'recebido': True, 'presidencia': True, 'vaiadoa': True, 'ser': True, 'dentro': True, 'alguns': True, 'templos': True, 'evanjeguesagora': True, 'poste': True, 'provas': True, 'aqui': True, '1507608867101945858': True, 'dizem': True, 'comecar': True, 'andar': True, 'brasil': True, 'escolheu': True, 'santa': True, 'catarina': True, 'primeiros': True, 'estados': True, 'visitar': True, '1289635405575356416': True, '1528192551609679873': True, 'se': True, 'ganhasse': True, 'eleicao': True, 'globo': True, 'ia': True, 'ficar': True, 'dinheiro': True, 'regulada': True, 'peloladrao': True, '1142535586823254017': True, '=': True, 'mentiroso': True, '60295046': True, '3659317703': True, 'em': True, 'esqueceu': True, 'pares': True, 'contraesqueceu': True, 'deu': True, 'ordem': True, 'aprovarem': True, 'atrasar': True, 'ainda': True, 'brasillula': True, 'merece': True, 'viver': True, '258368215': True, 'entrei': True, 'camiseta': True, 'lanchonete': True, 'comprar': True, 'pastel': True, 'dono': True, 'perguntou': True, 'votar': True, 'respondi': True, '2903957548': True, '141049004': True, '1528058534943924225': True, '2744600748': True, 'falar': True, 'verdade': True, 'sabem': True, 'pt': True, 'blindando': True, 'semianalfabetonao': True, 'mi': True, '1483185648748146688': True, 'sim': True, 'grobo': True, 'midia': True, 'lulista': True, 'ta': True, 'fazendo': True, 'assassinato': True, 'reputacao': True, 'gustavo': True, 'lima': True, 'causa': True, 'hipocresia': True, 'anitta': True, 'defende': True, 'preocupada': True, 'pobrezinho': True, 'ne': True, '1381924044388380673': True, 'ninguem': True, 'casamento': True, 'tinha': True, 'negro': True, 'nem': True, 'elite': True, 'num': True, 'rico': True, 'sai': True, 'fora': True, '2197854923': True, 'chefe': True, 'quadrilha': True, '878830381474226176': True, '1182717556907499520': True, '1514616212939964437': True, 'safado': True, '1260769518': True, '68137903': True, '181944810': True, 'mano': True, 'tenho': True, 'declarar': True, 'para': True, 'acha': True, 'achar': True, 'gusttavo': True, 'pode': True, 'pura': True, 'hipocrisia': True, '1269866602297769984': True, 'os': True, 'sonsos': True, 'perguntando': True, 'fakenews': True, 'grande': True, 'carrasco': True, 'direita': True, 'amamos': True, 'referindo': True, 'segue': True, 'lista': True, 'ladraoas': True, 'urnas': True, 'fraudaveiso': True, 'ste': True, 'sala': True, 'secreta': True, 'apuracaoos': True, 'ministros': True, 'stf': True, 'deuseso': True, 'virar': True, 'comunismo': True, 'roubaram': True, 'conta': True, 'jamais': True, 'favor': True, 'iniciar': True, 'terminar': True, 'obra': True, 'infraestrutura': True, 'foram': True, '16': True, 'governo': True, 'muitos': True, 'roubos': True, 'gracas': True, 'deus': True, 'povo': True, 'ocrim': True, '1166075310678392834': True, '1255667568729358338': True, '1100824195502624768': True, 'era': True, 'roubava': True, 'dava': True, 'bolsa': True, 'miseria': True, 'enganar': True, 'levar': True, 'outros': True, 'paises': True, 'h': True, '213506059': True, '1465418063235489799': True, 'pais': True, 'roubado': True, 'comanda': True, 'quando': True, 'alguem': True, 'disser': True, 'inocente': True, 'paro': True, 'te': True, '403649651': True, 'piores': True, 'prefiro': True, 'lado': True, '60107587': True, '1317573873890635784': True, '1292534014469984263': True, '499407226': True, 'orgulho': True, 'turma': True, 'do': True, '809738192966610949': True, '83869858': True, 'decidir': True, 'fake': True, 'cabeca': True, 'ovo': True, 'sera': True, 'dizer': True, 'soltou': True, 'condenado': True, '3': True, 'instancias': True, 'vdd': True, '1521942824580755458': True, 'contaram': True, 'quem': True, 'pacto': True, 'diabo': True, '2211431121': True, 'quer': True, 'saber': True, 'velho': True, 'precisa': True, 'unica': True, 'coisa': True, 'precisamos': True, 'cela': True, '2532173512': True, '1530240376216461313': True, 'kkkkkkkkkkkkkkk': True, 'mimimi': True, 'derrotado': True, 'voto': True, '1516437591989620743': True, 'padrao': True, 'conservador': True, 'capitalista': True, 'senhora': True, 'sei': True, 'prenderam': True, 'grandioso': True, 'roubo': True, 'restante': True, 'organizaram': True, 'executaramse': True, 'atualiza': True, 'ao': True, 'finge': True, 'inteligente': True, 'fale': True, 'fraude': True, '2018': True, '1705912776': True, 'kkkkkkkkkkka': True, 'falta': True, 'estudo': True, 'gerar': True, '500226802': True, '2806307057': True, '1127250376045006849': True, 'corrupto': True, 'bandido': True, 'fato': True, '1015444191986544640': True, '1294102896376676352': True, 'salvo': True, 'engano': True, 'tu': True, 'ajudava': True, 'crimes': True, '1170045493856145409': True, 'pronto': True, '936769356': True, 'pai': True, 'de': True, 'familia': True, 'grita': True, 'no': True, 'portao': True, 'sua': True, 'casa': True, 'da': True, 'manchete': True, 'jornal': True, 'pela': True, 'logica': True, '240502853': True, '2528859056': True, '847869575677050881': True, 'filho': True, 'cachaceiro': True, 'achou': True, 'realmente': True, 'preferencia': True, 'ariscar': True, 'acabou': True, 'sendo': True, 'expulso': True, '710309633601216512': True, 'vivemos': True, 'ze': True, 'neto': True, 'viloes': True, 'roubou': True, 'milhoes': True, 'bonzinho': True, '1235796846': True, '1253751810235543557': True, 'quadrilheiro': True, 'gangster': True, '1518960202984435718': True, 'com': True, 'certeza': True, 'vagabundo': True, 'etc': True, '2745846569': True, 'pilantra': True, 'corno': True, 'luis': True, 'inacio': True, 'silva': True, 'querem': True, 'volta': True, 'burros': True, 'sindrome': True, 'manso': True, 'perdoa': True, '210226720': True, '2854048623': True, 'voce': True, 'virando': True, 'piada': True, 'perde': True, 'ter': True, 'admirado': True, '170786558': True, '1414288396248395781': True, 'ja': True, 'mixou': True, 'video': True, 'falando': True, '1411528557961035777': True, 'parte': True, 'mensalao': True, 'petrolao': True, 'oderbrecht': True, 'bnds': True, 'amigo': True, 'd': True, '492096053': True, 'olha': True, 'mandato': True, 'foi': True, 'educacao': True, 'jovens': True, '1274104655350566914': True, '1071359759729737728': True, '159849923': True, 'socio': True, 'frigorifico': True, 'goias': True, 'vendia': True, 'tal': True, 'picanha': True, 'wagyu': True, 'preco': True, 'estratosferico': True, '1529571802627833865': True, '925147721530597377': True, 'criminoso': True, 'corrpto': True, 'lavador': True, '1404555470149390337': True, 'falastrao': True, '1258480377599049728': True, 'um': True, 'recado': True, 'direto': True, 'vice': True, 'epoca': True, 'tudo': True, 'verdadeiro': True, 'kkkkk': True, '1340508199699574785': True, 'tomar': True, 'cu': True, '1516773388165033987': True, '1512088884284297220': True, 'chora': True, 'michel': True, 'temer': True, '132022': True, 'jair': True, 'odeio': True, 'es': True, 'pessimo': True, 'peesidente': True, 'imunda': True, 'centrao': True, 'imundo': True, 'comunicacao': True, 'social': True, '1313131313131313': True, 'presidente': True, '1105304856837931008': True, 'parece': True, 'covld': True, 'rolou': True, 'lulaah': True, 'jaques': True, 'wagner': True, 'humberto': True, 'costa': True, 'ladra': True, '1520032271058808833': True, 'fedeu': True, '1482932234923515906': True, 'livros': True, '1208719992436461568': True, '1515753970958053387': True, 'continua': True, 'hoje': True, 'permanece': True, 'enganado': True, 'jumentos': True, '1387968661705662468': True, 'bom': True, 'internet': True, 'podemos': True, 'mostrar': True, 'verdades': True, 'passados': True, 'segundo': True, 'pobreza': True, 'mentir': True, 'melhor': True, '1196182481482985479': True, 'to': True, 'saco': True, 'cheio': True, 'juiz': True, 'militante': True, 'como': True, 'candidato': True, 'democracia': True, 'isso': True, 'uma': True, 'afronta': True, '1871776740': True, 'caralho': True, 'puta': True, 'nennhum': True, 'viu': True, 'episodio': True, 'inteiro': True, 'viram': True, 'cortes': True, 'patotinha': True, 'existe': True, 'decider': True, 'suficiente': True, 'pros': True, 'militantespor': True, 'ganhar': True, 'porra': True, 'merda': True, 'adversario': True, 'interpretacao': True, 'galera': True, 'quase': True, '0': True, '722508631657345024': True, 'sitio': True, 'atibaia': True, '3772560556': True, 'bolsonarista': True, 'pois': True, 'digo': True, 'ti': True, 'atrazado': True, 'mentais': True, 'bolsonaristas': True, 'acefalicos': True, 'nocao': True, 'realidade': True, 'antivacinas': True, 'negacionistadesresoeitador': True, 'sus': True, 'dimheiro': True, 'mac': True, '1490499530': True, 'so': True, 'aumentar': True, 'genocida': True, '1059450220910657536': True, 'toda': True, 'nacao': True, '12004': True, '1526066643037741056': True, 'palavra': True, 'magica': True, 'ppi': True, 'pedir': True, 'pro': True, 'congresso': True, 'reverter': True, 'bando': True, 'vendido': True, 'entreguista': True, 'subordinados': True, 'mor': True, 'republica': True, 'quiser': True, 'assume': True, '2023': True, 'bolsonarismo': True, 'voltarao': True, 'esgoto': True, 'deveriam': True, 'saido': True, '1252377663844618240': True, '1520774410545864704': True, 'vencer': True, 'desesperado': True, '1472629281700429828': True, 'cuidado': True, 'me': True, 'seguia': True, 'passava': True, 'esquerda': True, 'descobrir': True, 'perfil': True, '54412027': True, 'hora': True, 'agulhada': True, 'momento': True, 'alto': True, 'vacinei': True, 'shopping': True, 'boulevard': True, 'pensei': True, 'chiandomas': True, 'aplaudiu': True, 'disse': True, 'viva': True, 'egua': True, '1184804295285366784': True, 'lavajato': True, 'trapaceou': True, 'sistema': True, 'juridico': True, 'nacional': True, 'dar': True, 'dominar': True, 'saquear': True, 'correto': True, 'galaxias': True, 'apareco': True, 'foto': True, 'posso': True, 'tirar': True, 'bozo': True, 'chega': True, '2': True, 'contradicoes': True, '1504926850119868419': True, '58914106': True, 'datafolha': True, 'ipespe': True, 'xp': True, 'pesquisa': True, 'confiavel': True, 'numeros': True, 'facilmente': True, 'comprovaveis': True, 'aponta': True, 'cenario': True, 'devastador': True, '1428342085158068229': True, 'chamada': True, 'vi': True, 'vez': True, 'filha': True, 'li': True, 'outra': True, 'subconsciente': True, '1375361669279453185': True, 'isolamento': True, 'tempo': True, 'poder': True, 'sair': True, 'ruas': True, '1113922677981548547': True, '1246641530116415494': True, 'kkkkkkkkkkkkkkkkkkkkkkkkkkkkkkkkkkkkkkkkkkkkkkkkdescondenado': True, 'pelo': True, 'cancer': True, 'stflula': True, '1013569595934957568': True, 'pessoal': True, 'fazem': True, 'comenta': True, 'autocritica': True, 'assistem': True, 'programa': True, 'produziram': True, 'idiota': True, 'cerveja': True, 'enjoo': True, 'meu': True, 'inacreditavele': True, '1518763429988814848': True, 'abutre': True, 'vale': True, 'ciro': True, 'responsabilidade': True, 'escandalo': True, 'corrupcao': True, 'historia': True, 'mundo': True, 'sensacao': True, 'justica': True, 'galinha': True, '1505003642297978880': True, 'mandou': True, 'gritar': True, 'grito': True, 'desgracado': True, '2616041629': True, '1514273082210459654': True, 'bah': True, 'podem': True, 'parecem': True, 'descobriram': True, 'eo': True, 'dilma': True, '1392952444037046272': True, 'bolsonaro2022': True, 'fica': True, 'cima': True, 'muro': True, 'covarde': True, 'contra': True, 'brasileiros': True, '467648818': True, 'recordar': True, 'kkkkkk': True, '337525216': True, 'problema': True, 'longe': True, 'unico': True, '1541104160': True, 'vigarista': True, 'codinome': True, 'odebrecht': True, 'coxa': True, 'amante': True, '1228779152691601414': True, '2308203164': True, 'sou': True, 'tambem': True, 'entao': True, 'diferenca': True, 'economica': True, 'carater': True, '1447610077': True, 'apaga': True, 'menos': True, 'apoiar': True, 'vergonhoso': True, '1002737807331381248': True, '1341102247485300736': True, 'todos': True, 'hahahhaha': True, '1258392916642402304': True, 'colocar': True, 'planalto': True, 'legalmente': True, 'brasileira': True, 'avisa': True, '302653369': True, '822067581481877504': True, 'coracao': True, '1529817330355580929': True, 'corone': True, 'papudinho': True, 'capacho': True, 'queres': True, 'olofote': True, 'colunista': True, 'folha': True, '1519340799544250368': True, '1073999574757466113': True, 'portanto': True, 'medo': True, '2702507592': True, 'antes': True, 'flavio': True, 'senador': True, 'deputado': True, 'empresario': True, 'advogado': True, 'filhos': True, 'comunist': True, '1052545961560592387': True, 'eleicoes': True, 'tipo': True, 'cuba': True, 'assim': True, 'gosta': True, 'uhm': True, 'chamando': True, 'nazista': True, 'sujo': True, '1530550917631811584': True, 'morte': True, 'virus': True, 'responsavel': True, 'publico': True, 'assaltou': True, 'falido': True, 'cadeia': True, 'pouco': True, 'deveria': True, 'existir': True, 'pena': True, '1131205053849788416': True, '1276269146': True, 'pediu': True, '167486210': True, 'facista': True, '504761642': True, '1436323305515016234': True, '1487243951694299144': True, '1506906881964625931': True, 'ex': True, 'presidiario': True, '1445135243858558977': True, 'falei': True, 'obrigado': True, 'apoio': True, '912249764019830786': True, 'isolado': True, 'kkkkkkk': True, 'lulaladrao': True, '1108564993711190016': True, '963398821': True, 'justificar': True, 'rua': True, '1070474241366245376': True, 'canalha': True, 'come': True, 'lava': True, 'boca': True, 'soda': True, 'caustica': True, 'nojento': True, '42472648': True, 'narrativa': True, 'sabemos': True, 'cidadao': True, 'le': True, 'materia': True, 'liga': True, 'pontos': True, 'facil': True, 'esforcare': True, 'comeca': True, 'baixo': True, 'aceita': True, 'fome': True, 'olhem': True, 'resgatei': True, 'ele': True, 'tirou': True, 'podre': True, 'sempre': True, 'mentindo': True, '1100559423691542529': True, '68683678': True, '3913041743': True, 'humano': True, 'chegar': True, 'nivel': True, 'retardo': True, 'amor': True, 'tem': True, 'avancado': True, 'dissonancia': True, 'cognitiva': True, 'vulgo': True, 'burrice': True, 'declaracao': True, 'imprensa': True, 'nojo': True, '1168660891883233281': True, '1453059377104031756': True, 'deles': True, '1296574717881651201': True, '62851712': True, 'respeito': True, 'opiniao': True, 'discordo': True, 'nos': True, 'professores': True, 'audiencia': True, 'educar': True, 'temos': True, 'ensino': True, 'medio': True, 'acham': True, 'entendem': True, 'falcatruas': True, 'desse': True, 'alem': True, 'falas': True, 'racistas': True, 'monark': True, '+': True, '1114147037635862528': True, 'gritei': True, 'la': True, '1081703062241243136': True, '1191811218215964672': True, 'arrombada': True, 'escreve': True, 'apesar': True, 'dos': True, 'umas': True, 'piadas': True, 'tens': True, 'razao': True, 'economia': True, 'teu': True, '12': True, 'cresceu': True, 'alias': True, 'roubando': True, 'mesmo': True, 'kkkkkkkkkk': True, '1255602889667629060': True, 'prendam': True, 'fraudes': True, 'comecou': True, 'acabar': True, '1092170832': True, '1416069003584417792': True, '3388719557': True, '1058474795942191109': True, '58494535': True, 'presta': True, 'ponto': True, 'final': True, 'consumindo': True, 'droga': True, 'estragada': True, 'duas': True, 'descondenado': True, 'setefe': True, '1348411108009406466': True, 'caloteiro': True, 'iguais': True, 'juntam': True, 'tramar': True, 'calotes': True, 'pessoas': True, 'cidade': True, 'perdeu': True, 's': True, '1034142126936862721': True, 'manipuladas': True, 'confirmava': True, 'hadad': True, 'imaginem': True, '2022': True, 'vejam': True, 'va': True, '379335583': True, 'defendendo': True, '1518673375996133381': True, 'quero': True, 'exame': True, 'mostra': True, '127387877': True, '1509308540837675016': True, 'resgatar': True, 'passado': True, 'nenhum': True, 'torco': True, 'selecao': True, 'derrubar': True, 'acorda': True, '1058182287051948033': True, 'pira': True, 'manobra': True, 'politica': True, 'ano': True, 'eleitoral': True, 'capacidade': True, 'perguntar': True, 'motivo': True, 'feito': True, 'quatro': True, 'pensam': True, 'imposto': True, 'transferido': True, 'outro': True, 'produto': True, 'setor': True, '1525972650841055232': True, 'minima': True, 'condicao': True, '1356377738442117121': True, 'escolhe': True, '1457734518186684429': True, 'insistir': True, 'miliciano': True, 'assassino': True, 'sociopata': True, 'doenca': True, 'mental': True, 'traidor': True, 'golpista': True, 'satanas': True, 'hipocrita': True, '2016': True, 'inicio': True, 'destruicao': True, 'sra': True, '132018': True, 'fabricado': True, 'falsas': True, 'sr': True, '13': True, 'injusta': True, 'peeseguicao': True, 'portou': True, '1314007912294109186': True, 'acredito': True, 'pressa': True, 'dia': True, 'percebido': True, 'primeiro': True, 'tweet': True, 'critiquei': True, 'ambos': True, 'jogados': True, 'lata': True, 'historiao': True, '1377964897397530627': True, 'kakakaka': True, 'brochando': True, 'dando': True, 'viagra': True, 'boquinha': True, 'kakakakaak': True, '929873960627515393': True, '2890740941': True, 'confira': True, '1510071814579531777': True, 'luciano': True, 'responder': True, 'pago': True, 'hot': True, 'dog': True, 'havan': True, 'moro': True, 'estudei': True, 'avanco': True, '2746246601': True, '1522211456065802240': True, 'imagino': True, 'debate': True, 'reproduzindo': True, 'videos': True, 'obras': True, 'realizadas': True, '04': True, 'contrario': True, '20': True, 'voces': True, 'decidem': True, 'ou': True, 'patria': True, '1529431617890095104': True, 'votara': True, 'soou': True, 'ameaca': True, 'ah': True, 'veio': True, 'engana': True, '1416863084296167430': True, '1483921496309383172': True, '12003': True, '1505859041024745474': True, 'queria': True, 've': True, 'mesma': True, 'situacao': True, 'senhor': True, 'viveu': True, 'volte': True, 'governar': True, 'reeleito': True, '1379165573398073345': True, 'ficou': True, 'meio': True, 'gasolina': True, 'faltando': True, '4': True, 'meses': True, 'abaixar': True, 'dezembro': True, 'aumenta': True, 'novoacha': True, 'eleitor': True, 'otarioque': True, 'todo': True, '1362769904005509121': True, 'inconsequente': True, 'cada': True, 'abre': True, 'chama': True, 'messias': True, '201276254': True, 'kkkkkkkkkkkk': True, 'kkkkkkkkkkkktriplicando': True, '1341808679625089026': True, '1408637628484816898': True, 'bolsonaro1': True, 'fingir': True, 'estora': True, 'teto': True, 'gastos': True, 'estourar': True, 'vontade': True, 'aplausos': True, 'gado2': True, 'beneficiar': True, 'empresarios': True, 'detrimento': True, 'povo3': True, 'publico4': True, 'impostos': True, 'pobres5': True, 'dolar': True, 'quanto': True, '1410654660151726086': True, 'junto': True, '1082971627774754816': True, '1431083314639687682': True, '1291209257480867841': True, '532560080': True, '1192076675376439296': True, '944714135270576128': True, '2355336907': True, 'uque': True, 'fase': True, '2751327857': True, 'ok': True, 'planeta': True, '735124213632278537': True, 'diga': True, 'besteiras': True, 'caso': True, 'julgado': True, '10': True, 'juizes': True, 'todas': True, 'instanciaso': True, 'entrou': True, '400': True, 'recursos': True, 'pagando': True, 'advogados': True, 'explicou': True, 'reformas': True, 'recibos': True, 'apnao': True, 'venha': True, '23015875': True, 'augusto': True, 'nunes': True, 'detona': True, 'fachin': True, 'farsante': True, 'fingiu': True, 'jato': True, 'soltar': True, '37572341': True, 'ainnn': True, 'capitao': True, 'mito': True, '1515470685967208455': True, 'conluio': True, 'orcrim': True, 'vermelha': True, 'bebado': True, 'dilapi': True, '310550036': True, 'estado': True, 'mandar': True, 'anulando': True, 'as': True, 'condenacoes': True, 'isentolandia': True, 'onda': True, '1280986158877597696': True, 'coloca': True, 'pingos': True, 'is': True, 'sobre': True, '355208368': True, '1060522280189595648': True, 'posta': True, '5000o': True, 'relogio': True, 'luladrao': True, '80000': True, 'jaula': True, 'poderia': True, 'noite': True, 'babaca': True, 'caducou': True, 'velhoagora': True, 'fala': True, 'verdadeira': True, '1497252805375049739': True, 'dezenas': True, 'consideraram': True, 'maaaaas': True, '1513639984472932353': True, '53900405': True, '1276172044871360515': True, '1043985453798633472': True, '1356072497825918976': True, 'chip': True, 'implantar': True, 'cerebro': True, 'fa': True, '992580033179942912': True, 'assiduo': True, 'mae': True, 'irmao': True, 'faculdade': True, 'humanas': True, 'professor': True, 'defendo': True, 'amo': True, 'chamam': True, 'bolsominion': True, '1416159904885313537': True, 'legado': True, 'falir': True, 'petrobras': True, 'assaltar': True, 'fundos': True, 'pensao': True, '1395398875624714243': True, 'e~': True, '1367590833894133762': True, 'meteu': True, 'votao': True, '153222672': True, '1518693545695141895': True, 'chicago': True, 'presidio': True, 'segura': True, '1359819600788140036': True, '1503794066856853516': True, 'simplesmente': True, 'colega': True, 'enxergar': True, 'desservico': True, 'sociedade': True, 'ctz': True, 'deve': True, 'combatido': True, 'flerta': True, 'tanto': True, 'possivel': True, '1533932731289174016': True, 'esqueceram': True, 'avisar': True, 'solto': True, 'pinguco': True, 'mudar': True, '1423455149004050432': True, '1115356600263430144': True, 'juridica': True, 'tentar': True, '1254602361890365440': True, 'pesquisas': True, 'fraudulentas': True, 'novamente': True, 'divulgadas': True, 'dizendo': True, 'perderia': True, 'estrutura': True, 'condic': True, '1408953014128422914': True, '999134410535555072': True, '1053375237352501248': True, '1473760520025124876': True, '1127298371528605697': True, '2692525199': True, 'ce': True, 'duplamente': True, 'investigado': True, 'suspeita': True, 'reu': True, 'cometendo': True, 'apresentou': True, 'crime': True, 'expresidente': True, 'calunia': True, 'difamacao': True, '1027055951457738752': True, 'prefere': True, 'empresta': True, 'comunistas': True, 'charutos': True, 'garantia': True, 'investe': True, 'proprio': True, '1403061888238379010': True, '1257889967386345472': True, 'curioso': True, 'defendia': True, 'dizia': True, 'perseguicao': True, 'refugiar': True, 'embaixada': True, 'francesa': True, 'depois': True, 'corruptor': True, 'cumplice': True, 'reflita': True, 'sigamos': True, '837719549810212867': True, 'reza': True, 'brava': True, 'pnd': True, '1351515412010311682': True, '1518975940197560321': True, '56205782': True, 'vao': True, 'correr': True, 'agradar': True, 'clientes': True, 'valor': True, 'pobres': True, 'maioria': True, 'comentar': True, 'chorar': True, '849365543677308930': True, 'poetica': True, 'sido': True, 'curitiba': True, 'candidat': True, '74802341': True, 'eleger': True, 'senadora': True, 'criminosos': True, 'honesto': True, 'enve': True, '1456765532162637824': True, '156374454': True, 'serio': True, 'primeira': True, 'dama': True, 'cumpriu': True, 'merdas': True, '1519803145395875842': True, '1428525134957195266': True, '753765027174318080': True, '1273552073590747137': True, 'confundidos': True, 'considerou': True, 'incompetente': True, 'anulou': True, 'processo': True, 'enviando': True, 'df': True, 'porem': True, 'passou': True, '+75': True, 'caducoucaso': True, 'novo': True, '1189383047604514817': True, 'ansiosos': True, 'preso': True, 'afinal': True, '1467712933555757061': True, 'iria': True, 'frente': True, 'quartel': True, 'exercito': True, 'gritaria': True, 'governado': True, '908775444': True, '1490769166172921856': True, 'boa': True, 'vou': True, 'vaquinha': True, 'deposita': True, '100': True, 'compro': True, 'convite': True, 'filmar': True, 'pagar': True, 'pix': True, '11955716433': True, 'manda': True, 'comprovante': True, '1106383879215243264': True, 'dep': True, '1220127537717743617': True, '1518983265964724224': True, 'agente': True, 'muie': True, 'esquisita': True, '180772364': True, 'juntos': True, '2861237669': True, '954014569856413697': True, '1499440243434524675': True, '1519131253143920640': True, 'caos': True, 'bilhoes': True, 'roubaste': True, 'prato': True, 'leis': True, 'funcionam': True, 'enforcado': True, 'praca': True, 'publica': True, '1500852262989701121': True, '211169185': True, '1519167232307249153': True, 'parabens': True, '503341812': True, '1494727661448486917': True, '915038647199690753': True, 'ostentacao': True, 'militantes': True, 'mst': True, 'invadido': True, 'festa': True, 'palhacos': True, 'baderneiros': True, '1360062204': True, '770611517033250816': True, 'sinceramente': True, 'xingo': True, 'kkkkkkkkk': True, '858153694805864448': True, '1394489970979651586': True, 'dilapidou': True, 'baixem': True, 'aplicativo': True, 'invistam': True, 'empresa': True, 'comunista': True, '1053022856488075266': True, 'consegue': True, 'antagonista': True, 'mentirosos': True, '1426874593957105667': True, '1451233522660913163': True, '3226245933': True, '206292802': True, 'masmorra': True, 'sequer': True, 'sindico': True, 'bordele': True, 'politicos': True, '1041732488408825857': True, '1514001776504156164': True, 'aonde': True, 'fonte': True, 'secou': True, '1142108166261542912': True, 'libera': True, 'fumar': True, 'alucinacoes': True, 'nesse': True, '1168457623697612800': True, '1245680617074962434': True, '1476607258016505861': True, '1486163867575242756': True, 'comparar': True, 'unicas': True, 'emissoras': True, 'competitivas': True, 'atualmente': True, 'tv': True, 'aberta': True, 'burro': True, '1411760061261701121': True, '797121519394635776': True, 'caramba': True, 'gdecider': True, 'perfis': True, 'supostamente': True, 'comecaram': True, 'subir': True, 'tags': True, 'logo': True, 'proximidade': True, 'infiltrado': True, '1508438970878902278': True, '1364414795089387521': True, '1520203368760807424': True, '59125953': True, 'lu': True, '1476156420747845639': True, '3288850108': True, 'uai': True, 'anti': True, 'democratico': True, 'gorpi': True, '1524554806064562176': True, 'ama': True, 'regulacao': True, 'diz': True, 'ira': True, 'afeta': True, 'petista': True, 'paga': True, 'dissessem': True, 'alvo': True, 'redes': True, 'sociais': True, '99577640': True, '1179163951025852417': True, '1519513889913856001': True, 'fdp': True, 'partido': True, 'deixaram': True, 'quebrado': True, 'fizeram': True, '4053342382': True, '1496803002618945540': True, '1111335980269793281': True, '1329442309025509382': True, 'queremos': True, '280': True, '1521609318579286017': True, 'desejo': True, 'concordam': True, 'comigo': True, 'patriotas': True, '1433226760447987714': True, 'organizado': True, 'fugitivo': True, 'julgada': True, 'supostos': True, 'integrantes': True, 'organizacao': True, 'criminosa': True, 'pcc': True, 'morais': True, 'tres': True, 'poderes': True, 'ameacar': True, 'familiares': True, '1376537050007109644': True, 'voltara': True, 'vamos': True, 'admitir': True, 'ocorra': True, 'tse': True, 'estarem': True, 'convencidos': True, 'vitoria': True, 'teatro': True, 'montado': True, 'elenco': True, '40952687': True, 'alberto': True, 'ditador': True, '1523317681130250242': True, 'anulacao': True, 'formal': True, 'traduzindo': True, 'demos': True, 'jeito': True, 'deixal': True, '1427403570509459460': True, 'caratismo': True, 'padre': True, 'demonio': True, 'combina': True, 'queimar': True, 'inferno': True, 'patrao': True, '1480443606171332608': True, 'comemorar': True, 'idolatrar': True, 'algo': True, 'totalmente': True, 'diferente': True, '1503805024983560193': True, '1429966704772268032': True, 'fatos': True, 'democrata': True, 'repito': True, 'exalta': True, 'patrocina': True, 'ditaduras': True, 'sanguinarias': True, 'socialistas': True, 'farc': True, 'aliados': True, 'fundou': True, 'foro': True, '1519388120826920967': True, '81729995': True, '1520582470869131272': True, '1185169708796076034': True, '1524462807223349254': True, 'supremo': True, 'trabalhando': True, '1380328733912014858': True, 'parecia': True, 'bot': True, 'antibolsonaro': True, 'gostei': True, 'abordagem': True, 'derrubou': True, 'stalin': True, '1517924132360445953': True, 'qual': True, 'marcar': True, 'gostaria': True, 'associar': True, '1532505484430913536': True, 'formando': True, 'libertar': True, 'eleitores': True, '92722208': True, '1110280567088705536': True, 'desabafo': True, 'apresentador': True, 'representa': True, 'apenas': True, 'psicopata': True, 'celular': True, '1083276349069017088': True, '1129577424256196608': True, 'responde': True, '1149727470230413313': True, '1350473723573317632': True, 'usam': True, '2228478605': True, 'conseguiu': True, 'almocar': True, 'mercado': True, 'florianopolis': True, 'parou': True, 'repetidamente': True, 'confirmado': True, 'mentiras': True, '2945081301': True, 'coragem': True, 'falsa': True, 'intencao': True, '1507768102855098374': True, 'refrescar': True, 'memoria': True, 'otarios': True, 'cena': True, '1310544008377229318': True, 'sabia': True, 'aconselha': True, 'vacina': True, 'sigilo': True, 'propria': True, 'carteira': True, 'vacinacao': True, '85074318': True, 'futuro': True, 'milionario': True, 'trabalhado': True, '1527668820898467841': True, 'daqui': True, 'ouvir': True, 'coro': True, '1425219278735876097': True, 'tempos': True, '1115452200971591681': True, 'logico': True, 'mentira': True, '1339055644805111808': True, 'tentarem': True, 'interior': True, 'alagoas': True, 'uns': True, '40': True, 'olhe': True, 'antigamente': True, 'doente': True, 'caiu': True, '106425301': True, '1531834696920973312': True, 'assusta': True, '1518749832864751618': True, '1129907679386849283': True, '37990633': True, 'culpa': True, '51086729': True, 'objetos': True, 'levou': True, 'indevidamente': True, 'palacio': True, 'blog': True, 'chico': True, 'pereira': True, '1119476855600570368': True, '946004368926617600': True, 'miseravel': True, 'escuta': True, 'povolula': True, 'kkkkkkkkkkkkkkkl': True, '1522591935625629699': True, '810865266821361664': True, '70': True, '2469438942': True, 'discurso': True, 'vive': True, 'seja': True, 'coerente': True, 'praticasua': True, 'candidatura': True, 'serve': True, 'sobrevida': True, 'inquilino': True, '1177386850945773568': True, 'sugere': True, '1083459920496873472': True, '1519280702063366146': True, 'puxadinho': True, 'canja': True, 'almocarlula': True, '55856349': True, 'assustadora': True, 'quantidade': True, 'mega': True, 'solucao': True, 'problemas': True, 'gerados': True, 'pesadelo': True, '1475798897092083718': True, '327716883': True, 'mim': True, 'fodam': True, 'fico': True, '1260784158546309121': True, 'ministro': True, 'barroso': True, 'demonstra': True, 'parcial': True, 'judiciario': True, 'sentenca': True, 'facadas': True, 'matar': True, '1536077752830672896': True, 'vivia': True, 'space': True, 'vazou': True, 'golpes': True, '756957170466492416': True, 'protegendo': True, 'entendeu': True, 'msm': True, 'amar': True, 'demais': True, '1534213685333348354': True, '1371557137751666691': True, '1520820395930267648': True, 'proximo': True, '53939815': True, 'exatamente': True, 'bozone': True, 'certa': True, 'gadolina': True, '720765420232384513': True, '1132798158675877888': True, '201335793': True, 'esquerdistas': True, 'nojentos': True, 'vivem': True, 'sairia': True, 'acredita': True, 'trouxas': True, '123010631': True, '1141971807756595200': True, '1354084072339992579': True, 'passa': True, 'miseraveis': True, 'das': True, 'parafitas': True, 'pina': True, 'brasilia': True, 'recifepe': True, 'continuam': True, 'vivendo': True, 'alagadicios': True, 'sobrehumanas': True, 'dracula': True, 'compram': True, 'vinhos': True, 'garrafa': True, 'ameo': True, 'deixeo': True, 'marinhas': True, 'brasileiras': True, '926468199490744321': True, '1446164945159270401': True, '1466614671105048578': True, '1511666419322306562': True, '616280194': True, '1506106034020093954': True, 'tendo': True, 'benesses': True, 'amigos': True, 'forjam': True, 'votos': True, 'curso': True, 'proclamerem': True, 'eleito': True, 'minimo': True, 'vantagem': True, 'retorica': True, 'analfa': True, 'pontuado': True, '1234107877339598852': True, '1103818235265339392': True, 'sonho': True, 'objetivo': True, 'eliminar': True, 'dois': True, 'amiga': True, '1487471482301079553': True, 'desmascarando': True, 'mau': True, 'ignorante': True, 'trambiqueiro': True, 'expresidiario': True, 'via': True, '186415360': True, '157797536': True, '1187609969778200577': True, 'pera': True, 'viajar': True, 'fontes': True, 'respeitar': True, 'jogo': True, 'provavelmente': True, 'tb': True, 'relacao': True, 'sacanagem': True, '1147916450507739140': True, 'faquim': True, 'feia': True, 'espernear': True, 'confianca': True, 'larapio': True, '1216866339215826949': True, '1150413859397783553': True, '722192186893328385': True, 'provar': True, 'acusar': True, 'esses': True, 'vagabundos': True, 'formados': True, 'comemora': True, 'segurando': True, 'imagem': True, 'idolo': True, '1526031690300260357': True, 'dedos': True, 'pre': True, '1265985008847802372': True, 'americano': True, 'ajudar': True, '1260365980473196544': True, '1447652906241601544': True, 'acefalo': True, '22': True, '86854186': True, 'acho': True, 'leu': True, 'artigo': True, 'lei': True, 'vermelho': True, 'ampla': True, 'defesa': True, 'varios': True, 'condenacao': True, 'devido': True, 'legal': True, 'impossivel': True, 'foda': True, 'igualzinho': True, '1117855074695417858': True, '1147975411139252225': True, '1352726039743655936': True, 'hahahahaha': True, 'questionar': True, 'inflacao': True, 'ignorar': True, 'estrago': True, 'caracter': True, '1516131575422984199': True, 'envolvido': True, 'suja': True, 'participacao': True, 'direta': True, 'certos': True, 'novidade': True, 'saida': True, 'jogar': True, 'super': True, 'trunfo': True, 'celso': True, 'daniel': True, 'ganha': True, '1295542842849361920': True, 'dai': True, 'figura': True, 'aih': True, 'aparecer': True, 'pernas': True, 'oferece': True, 'rabo': True, 'afff': True, '35662700': True, 'patriota': True, 'hj': True, 'mamata': True, 'federal': True, 'jetski': True, 'moto': True, 'pagam': True, 'sozinhasbora': True, 'trabalhar': True, 'estimacaogado': True, '1529089425296310272': True, 'aproveite': True, 'tente': True, 'missionaria': True, 'dorothy': True, 'lembrando': True, '1518896394928541698': True, 'molusco': True, '9': True, 'urubus': True, 'petralhada': True, 'sangue': True, 'suga': True, 'cofres': True, 'publicos': True, '1497190039167590401': True, '1280338483802972160': True, 'voltar': True, 'arrumo': True, 'tranca': True, 'dupla': True, 'porta': True, 'quarto': True, 'mineiros': True, 'merecemos': True, '1374871986279575553': True, 'desmascarado': True, 'vaza': True, 'ajato': True, 'lideranca': True, 'popular': True, 'neste': True, 'enquanto': True, 'coco': True, 'cavalo': True, '1468251947216084997': True, 'bizarro': True, 'doentio': True, 'pessoa': True, '1040000186846785541': True, 'preocupou': True, 'beneficios': True, 'desespero': True, 'pior': True, 'cego': True, 'governou': True, 'ricos': True, 'canalhas': True, '1263063516': True, 'fator': True, 'determinante': True, 'calado': True, '1234572413179957249': True, 'amigao': True, 'togados': True, 'mandachuva': True, '1199014057': True, 'rapinadores': True, 'travestida': True, '171194438': True, 'leticia': True, 'mostrando': True, 'sbt': True, '1482011508838400001': True, 'eles': True, 'falaram': True, 'exgestores': True, 'fundo': True, 'caixa': True, 'capa': True, 'intuitiva': True, 'deixar': True, 'leitores': True, 'duvidas': True, 'esclarecer': True, '1536878227188334592': True, 'fizer': True, 'vitima': True, '1426590091779219457': True, 'resto': True, 'aceitavel': True, 'gostar': True, 'administracao': True, 'inumeros': True, 'inacreditavel': True, '1520422408485810177': True, 'hino': True, 'bolsonarogado': True, 'maluco': True, '1067058128527785985': True, 'cabe': True, 'ditado': True, 'rouba': True, 'perdao': True, 'rs': True, 'mesmos': True, 'mandam': True, '1356852000198164480': True, 'esta': True, 'armado': True, '1453035778221748225': True, 'desonesta': True, 'querendo': True, 'aproximacao': True, 'entender': True, 'regen': True, '1535084916458889217': True, 'parcelado': True, '362': True, 'vezes': True, 'informe': True, 'parcelava': True, 'ganhava': True, 'mao': True, 'beijada': True, 'oas': True, 'odebrechet': True, '1513365156436361220': True, 'aprendi': True, 'apoiadores': True, 'expondo': True, 'dependentes': True, 'pronunciar': True, 'encontro': True, 'materias': True, 'fotos': True, 'amigaveis': True, '1524448191617421312': True, 'partidarios': True, 'blindar': True, 'cumpanheiros': True, 'imparciais': True, 'parciais': True, '1967191002': True, 'iludam': True, 'voz': True, 'multidao': True, '1525642386667454470': True, 'rever': True, 'ciclo': True, 'diferentes': True, 'conhecem': True, 'dificil': True, 'grupo': True, 'votae': True, '1421283415039619074': True, 'governa': True, 'receber': True, '2421545247': True, '1536703400926224387': True, 'separa': True, 'r': True, '$': True, '130': True, 'utilizar': True, 'gastando': True, '893525938545332225': True, 'vejo': True, 'querer': True, 'envolvidos': True, 'obvia': True, '3339842231': True, 'nasceusera': True, 'vaiado': True, 'reconhecimento': True, 'brasile': True, 'esperem': True, '94': True, 'dias': True, 'apertar': True, '190': True, '891685108792643584': True, '1193654006041784320': True, '1292955165339811840': True, 'rei': True, 'processos': True, 'tenha': True, 'peca': True, 'vais': True, '416814215': True, 'noia': True, 'trabalha': True, 'analfabeto': True, 'funcional': True, 'comer': True, 'capim': True, 'c': True, '1358549053571805186': True, '1489579347816112133': True, '1493627141988175875': True, '9s': True, 'cai': True, 'golpeacabei': True, 'modalmaisfutura': True, 'empate': True, 'tecnico': True, 'clique': True, '1259977954584670208': True, 'contrariar': True, '1154391667153281024': True, '1442843748891860994': True, 'proibir': True, 'feriados': True, 'proibe': True, 'lindo': True, 'tesudo': True, '458010634': True, 'delirio': True, 'supremocontinua': True, '1507510606454308868': True, 'leve': True, 'impressao': True, 'nova': True, 'presida': True, 'tocar': True, 'terror': True, 'filhotes': True, '1440324740317466643': True, 'ganhou': True, 'passar': True, 'litro': True, 'peroba': True, 'chamar': True, '1486629336627265536': True, 'maconheira': True, 'audio': True, 'manipulado': True, '1477530580472500229': True, 'ultimos': True, 'olhos': True, 'fechados': True, 'acusacoes': True, 'verdadeiras': True, 'anuladas': True, 'rlx': True, '137545998': True, 'processado': True, 'decidiu': True, 'tramitacao': True, 'maos': True, 'unidos': True, '65189763': True, 'releva': True, 'remove': True, 'critica': True, 'insinua': True, 'raciocinio': True, 'al': True, 'capone': True, 'traficante': True, '1082048881721069568': True, 'eminha': True, 'adolescencia': True, 'ouvindo': True, 'explicamos': True, 'manipulacao': True, 'importancia': True, 'ler': True, 'serias': True, 'ela': True, 'tik': True, 'tok': True, 'infestado': True, 'bolsominions': True, 'grave': True, '1073029986607656960': True, 'perder': True, 'fracassou': True, 'perdendo': True, 'decepcao': True, '1519007240358879235': True, 'bora': True, 'compra': True, 'arma': True, 'registrada': True, 'sem': True, 'registro': True, 'kk': True, '715370913823330304': True, '1409682524696100864': True, 'ate': True, 'silvio': True, 'santos': True, '1266382088908963842': True, 'acostumar': True, '160243625': True, '825078472599076864': True, 'tristeza': True, 'lembrar': True, 'centro': True, 'estar': True, 'amanha': True, 'pleno': True, '1520346542015660032': True, 'concorrer': True, 'juntamente': True, '102841963': True, 'decisao': True, 'qdo': True, '229903460': True, '1541414507704209409': True, 'bob': True, 'esponja': True, '1248281483904798720': True, 'delacao': True, 'provalula': True, 'injustamente': True, 'anulada': True, 'estimacao': True, '1479148741336653824': True, '1402323426933628939': True, 'engracado': True, 'essa': True, 'feliz': True, 'encomendada': True, '75565149': True, 'ih': True, 'argumento': True, 'tio': True, 'kkkkkfilho': True, 'passando': True, 'pano': True, 'normal': True, 'xingar': True, 'independente': True, 'ridiculo': True, 'analogia': True, 'gritou': True, 'apuracao': True, 'governador': True, 'manaus': True, 'aliado': True, 'crise': True, 'oxigenio': True, 'pacientes': True, 'covid': True, 'explica': True, 'aumento': True, 'insumo': True, 'essencial': True, '376819182': True, 'voto9': True, '1100841856483631104': True, 'contribuinte': True, 'usado': True, 'bancar': True, 'corrptolula': True, '379717974': True, '1326673967894175746': True, 'acusou': True, 'geraldo': True, 'alckmin': True, 'vereador': True, '1124474763756417025': True, 'feitos': True, '1496290505595961348': True, '1545782521': True, 'bilionario': True, 'assunto': True, '84977098': True, 'cansei': True, 'vco': True, 'chamou': True, 'especifico': True, '21918184': True, 'tao': True, 'regulamentacao': True, 'pensando': True, 'gordo': True, 'entrar': True, 'local': True, '1045065296699170818': True, 'moral': True, 'corruptos': True, '1381615659650588676': True, 'crimes2003': True, 'ong': True, 'rede': True, 'extinta': True, 'apos': True, '75': True, 'milhoes200': True, '1351295624478683136': True, 'estadista': True, 'entregou': True, 'pegar': True, 'entendesse': True, 'prejuizos': True, 'estatais': True, 'desastre': True, 'alta': True, 'recessao': True, 'anao': True, 'diplomatico': True, '1087001982567624710': True, 'pastor': True, 'comprando': True, 'explicar': True, 'vem': True, 'acordo': True, 'madeireira': True, 'honestos': True, 'idolatra': True, '736005770328805376': True, 'acontecer': True, 'nosso': True, 'transforme': True, 'argentina': True, 'chile': True, 'bolivia': True, 'estao': True, 'arrasados': True, '4226629475': True, 'eh': True, '1250463008117198848': True, '1344353142939525120': True, 'observar': True, 'reacao': True, 'qnto': True, 'tirado': True, 'pancadasbolsonaro': True, 'desprezo': True, 'direciona': True, 'diariamente': True, 'rebanho': True, 'cercadinho': True, '2772043560': True, 'jose': True, 'serra': True, 'votou': True, 'psdb': True, 'bolsonaristapt': True, 'alimentam': True, 'acordos': True, 'bastidores': True, 'cameras': True, 'encenacao': True, '1533405116228898816': True, 'palhaco': True, '1034247446438834176': True, '1258862237122519041': True, '219431277': True, 'querida': True, '64434051': True, 'playboy': True, 'cria': True, 'cortina': True, 'fumaca': True, 'encobrindo': True, 'quadrilhamas': True, 'condenadoainda': True, 'companhiade': True, 'cabecas': True, 'metade': True, 'ara': True, '391126476': True, 'putz': True, 'pensou': True, 'usar': True, 'motos': True, 'participar': True, 'motosseatas': True, 'usalas': True, '1254354331521949699': True, '1166139069547651073': True, '1267928033207468039': True, 'junho': True, '1': True, 'turno': True, '1181383896107229184': True, '858056172540239874': True, '1085677959929909248': True, 'cpi': True, 'mec': True, 'favorecer': True, 'politicagem': True, 'investigar': True, '2203996050': True, 'jornalismo': True, 'cagar': True, 'autoritario': True, 'aguardar': True, 'sofreu': True, 'nulidade': True, 'pesos': True, 'medidas': True, 'preguica': True, '1382423217286037505': True, 'news': True, 'horas': True, 'extras': True, 'ptpcc': True, '343516353': True, 'centavo': True, '342170875': True, 'carla': True, 'zambelli': True, '1244289266013949953': True, '389589325': True, 'pelos': True, 'padrinhos': True, 'corru': True, '1044930085491548161': True, 'safadeza': True, 'dei': True, 'enfase': True, 'facebook': True, 'selo': True, 'afim': True, 'obrigar': True, 'interacao': True, 'meliante': True, 'claramente': True, '1446422406067888128': True, 'autoridade': True, 'convidada': True, 'formalmente': True, 'legitimo': True, 'prevalecer': True, 'senso': True, 'entrando': True, 'janela': True, 'descaradamente': True, '1405572199977820163': True, 'vargabundo': True, 'deste': True, '1519016313275961346': True, 'doleiro': True, 'petralhas': True, 'camara': True, 'envolvimento': True, '1543043015203295233': True, 'inventar': True, 'narrativas': True, 'idiotas': True, '276788287': True, '107413952': True, 'bozonaro': True, '1317769502': True, 'apertando': True, '51000000': True, 'malas': True, 'ap': True, 'dito': True, 'caixas': True, 'naoserve': True, 'corte': True, '2347616688': True, 'homem': True, 'digno': True, 'temente': True, 'deusentao': True, 'fiquem': True, '1404889070900236292': True, 'dobra': True, '1333526069035593734': True, 'bolsopetista': True, 'bolsonarocentrao': True, 'detectado': True, 'sucesso': True, '1239707736419512325': True, 'renato': True, 'jones': True, 'manoel': True, 'comunismoem': True, 'arcoverde': True, 'jovem': True, 'pan': True, 'anjomds': True, 'm4ta': True, '1415101902824644609': True, '1303903914073436161': True, 'mande': True, 'carina': True, 'pergunta': True, '1002526555451600897': True, '1383755514241163286': True, 'quiserem': True, 'colocamos': True, '1219804418482360321': True, '1254571806356357120': True, 'aeronave': True, '500': True, 'kg': True, 'cocaina': True, 'fab': True, 'interceptou': True, 'domingo': True, 'pilotava': True, 'intimo': True, '3254733483': True, '2812687251': True, 'reunido': True, 'banqueiros': True, 'reunem': True, 'constantemente': True, '1525995674332020736': True, '965974658708275200': True, 'in': True, 'jaile': True, 'cinico': True, '1532782959635353600': True, 'criticar': True, '1413090649793040395': True, '1398103547389091841': True, 'admiro': True, 'conversa': True, 'bebum': True, '120506750': True, 'exatamentequeremos': True, 'ligacao': True, 'irma': True, '2896728694': True, 'pe': True, 'pandemia': True, 'gasosa': True, 'escandalos': True, 'desculpa': True, 'delebolsonaro': True, 'debatesse': True, 'algum': True, 'apoiador': True, 'rompeu': True, '1513379986576748549': True, '1264129471818403840': True, '181246974': True, '1527265763932921856': True, 'acontece': True, 'chefes': True, '702325259': True, '1414034693461319686': True, 'morrendo': True, 'leite': True, 'aplaude': True, '1363936716504113162': True, 'vetos': True, 'aldir': True, 'blanc': True, 'derrubados': True, 'valetudo': True, 'reeleicao': True, 'cultura': True, 'industria': True, 'infelizmente': True, 'elegeram': True, 'fazendeiro': True, 'preocupa': True, 'agropecuaria': True, '1230114554748821508': True, '40634909': True, '1491114705137643521': True, 'provado': True, 'desde': True, '20142016': True, 'cacete': True, 'passam': True, 'continuar': True, '52400661': True, '395436307': True, 'esposa': True, 'pedro': True, 'guimaraes': True, 'leo': True, 'pinheiro': True, 'premiada': True, 'lj': True, 'incriminando': True, 'comprov': True, '3239594506': True, 'esquerdopata': True, 'bajular': True, '73907564': True, 'debochado': True, '1198666624200585216': True, '3234643566': True, '1402633803626131459': True, '1148078949324513281': True, 'b22': True, '2836377093': True, 'pirado': True, 'juntinhos': True, '1456474479983529985': True, '1475862022046760963': True, 'souto': True, '1543411724400861184': True, 'presidenta': True, 'indicou': True, 'atestou': True, 'imbecilidade': True, 'idio': True, '237019028': True, '2862721732': True, 'ligacoes': True, 'relacoes': True, 'faccoes': True, 'bicheiros': True, 'contrabandistas': True, 'narcotrafican': True, '1959481921': True, '905554925173825537': True, 'arquimegaimbecil': True, '1357828983459610631': True, 'criar': True, 'reino': True, 'terra': True, 'ha': True, 'montando': True, 'palacios': True, 'culto': True, 'ouro': True, 'compaixao': True, 'viuvas': True, 'orfaos': True, 'refugiados': True, 'violencia': True, 'opressao': True, 'fracos': True, 'enganacao': True, 'fujam': True, 'piore': True, '1358914214639923203': True, 'imprestavel': True, 'inutil': True, '2875134016': True, 'ego': True, 'presidenciavel': True, 'ficha': True, 'limpa': True, 'aval': True, 'onu': True, 'papa': True, 'principais': True, 'presidentes': True, 'ganhando': True, 'processando': True, 'ladroes': True, '443344185': True, '1535315352795504640': True, '761677564674973696': True, '1530938480167198723': True, 'razoes': True, 'evitar': True, 'virasse': True, 'venezuela': True, '1000': True, 'composto': True, 'lacteo': True, '116819271': True, '2796703910': True, '2881820951': True, 'importa': True, 'eduardo': True, 'bolsonaros': True, 'n': True, 'uniram': True, 'preocupados': True, 'acabouabsurdo': True, 'qualquer': True, '1185560054092750848': True, 'cbf': True, 'nove': True, 'habitos': True, 'bar': True, 'gabine': True, '1250415659760017408': True, 'comparando': True, '88448104': True, '1293647146420404229': True, '883175293770444800': True, '93483701': True, 'dele': True, '236631956': True, 'cometeu': True, 'arrebentou': True, 'trilhoes': True, 'coitado': True, 'soltaram': True, 'puxa': True, '1519439193214226438': True, '1473619225793245188': True, 'inveja': True, 'calar': True, 'esqueca': True, 'data': True, 'relaxa': True, '1242256467559759874': True, 'prontas': True, 'escolhida': True, 'branca': True, 'enterrado': True, 'honra': True, 'merito': True, 'descer': True, 'tribunal': True, 'elegivel': True, 'conheco': True, '2286266475': True, 'esquema': True, '219702833': True, 'intervir': True, 'vagas': True, 'latfundiarios': True, '1425935880238284803': True, 'janainatem': True, 'erra': True, 'portugal': True, 'vistar': True, '1518652082336714754': True, '204842728': True, '257111326': True, 'urgente': True, 'marcos': True, 'valerio': True, '1519349936411791360': True, '622485750': True, '1505266693169467393': True, 'lutou': True, 'colocou': True, 'pato': True, 'participou': True, 'manifestacoesrecebeu': True, 'almoco': True, 'hojeentendam': True, 'desviar': True, 'privado': True, 'compensa': True, 'compensaser': True, '91842514': True, '1224172159364485120': True, 'reuniram': True, 'gostam': True, '1530277698127417344': True, 'numero': True, 'protagonizou': True, 'assalto': True, '1516189530390470661': True, 'brincadeira': True, 'w': True, '1079064437024350208': True, 'principal': True, 'marca': True, '1057017854485258242': True, '2920096630': True, 'aumentou': True, 'verba': True, 'publicidade': True, '1104478975827607553': True, 'doidona': True, 'assaltos': True, 'execucoes': True, 'trafico': True, 'drogas': True, 'culpas': True, '1430679627635335175': True, 'declarasse': True, 'maucaratismo': True, 'representar': True, 'nota': True, 'repudio': True, 'desvio': True, 'conduta': True, '1206476341': True, 'cochiladinha': True, 'cedo': True, 'sonhei': True, 'fazenda': True, 'varias': True, 'vacas': True, 'acordei': True, 'leonardo': True, 'anotem': True, '995756475028000768': True, 'humilhada': True, 'reporter': True, 'jn': True, 'metralhar': True, 'convocando': True, '1342625163184132098': True, '1253363463503728641': True, 'fascismo': True, 'vence': True, 'ninguemse': True, 'ameacariaou': True, 'votem': True, 'requerer': True, 'aposentadorias80': True, 'cheque': True, '1529443369579122690': True, 'rixa': True, 'rio': True, 'meninos': True, 'roubam': True, 'bonner': True, '1394418856312066053': True, '1419433664455323650': True, 'petistas': True, 'korre': True, 'adelio': True, 'facada': True, 'agradecer': True, 'terem': True, 'jogado': True, 'jornalistas': True, 'caminho': True, '1368987147131379712': True, 'acima': True, 'pagador': True, 'cansou': True, 'touque': True, 'acaso': True, 'inocencia': True, 'mudou': True, 'regra': True, '350534876': True, 'espancado': True, 'onibus': True, 'tceseu': True, 'sindicato': True, 'abc': True, 'resultado': True, 'brutalmente': True, 'bastante': True, 'problemasrealmente': True, 'tentativa': True, 'assasiinato': True, 'sente': True, 'inteligencia': True, 'preciso': True, 'perceber': True, 'ficand': True, '1543624292109262848': True, 'opcao': True, 'seria': True, 'suma': True, '2593925696': True, 'jesus': True, 'balaio': True, 'ultimo': True, 'antigo': True, 'delatou': True, '122261164': True, 'generosa': True, 'empatica': True, 'robo': True, 'melhore': True, '1068267557478690816': True, 'okc': True, 'thunder': True, 'trade': True, 'clippers': True, '1512418040637538305': True, 'cn': True, 'impichou': True, '2020depois': True, 'descondenou': True, 'tornou': True, 'atraves': True, 'general': True, 'aceitar': True, '359018515': True, 'poderei': True, 'twitar': True, 'inocentado': True, 'portando': True, 'ladr': True, '2259206357': True, 'discursa': True, 'estimulando': True, 'agradecendo': True, 'capangas': True, 'mataram': True, '2484666996': True, 'arrombado': True, 'comunicar': True, 'afundou': True, 'brigando': True, '1383202657309970433': True, 'bolsocaro': True, '273564149': True, 'aniversario': True, 'tema': True, '1480596582114512901': True, '302189948': True, 'vemos': True, 'estupidez': True, 'vermes': True, 'estrupador': True, 'castracao': True, 'quimica': True, 'perpetua': True, 'estupradores': True, '167478888': True, 'cocando': True, 'postar': True, 'stories': True, '1280182678277496833': True, 'obviamente': True, 'compara': True, 'comparei': True, 'diminui': True, 'gravidade': True, 'frase': True, 'usa': True, 'erros': True, 'diminuir': True, '892714237935706112': True, '52749416': True, 'diante': True, 'acontecendo': True, 'surge': True, 'conversinha': True, 'tocante': True, 'questao': True, 'talkey': True, 'tai': True, 'segregacao': True, 'avo': True, '1155249985950298112': True, 'estuprador': True, 'esquerdista': True, 'negacionista': True, 'genocidas': True, 'outras': True, 'intolerantes': True, 'cade': True, 'mexeu': True, 'artistas': True, 'manipuladora': True, '2379342744': True, 'intelectuais': True, 'apoiam': True, 'recuso': True, 'caras': True, 'travestidos': True, 'universitarios': True, '1129845843987767298': True, 'rodrigo': True, 'pacheco': True, 'marcou': True, 'reuniao': True, 'residencia': True, 'oficial': True, 'senado': True, '1519508281168957440': True, 'bombar': True, 'apoiando': True, 'reclama': True, 'caro': True, 'chance': True, '8': True, '1086251342748893185': True, 'imbecil': True, 'nele': True, '1248099191869620224': True, 'google': True, 'saphado': True, '1214863695102300161': True, '982016445105221632': True, '1244990360272736256': True, '1500620010221449218': True, 'protetor': True, 'hi': True, '1512645228213288960': True, 'devia': True, '52898387': True, 'comandante': True, 'maximo': True, '1496683574409502727': True, 'devemos': True, 'empresas': True, 'boicotar': True, '737351214518665218': True, 'entenda1': True, 'p': True, 'individuos': True, 'determinados2': True, 'demonizar': True, 'difuso': True, 'odio': True, 'episodios': True, 'potencial': True, 'corrosivo': True, 'tecido': True, 'mto': True, '1353674226557968386': True, '1122513446061465607': True, '789821504510885888': True, 'tantos': True, 'odiavam': True, 'defendem': True, 'entusiasmo': True, '1372876458348187650': True, 'rebolar': True, 'kalakak': True, '2423413797': True, 'assista': True, 'incentivou': True, 'assassi': True, 'youtube': True, '1408522455904407556': True, '285594142': True, '1519357775469588480': True, 'procurando': True, 'filiado': True, 'pl': True, 'enfiando': True, 'faca': True, 'ameacando': True, 'trincheiras': True, 'lutar': True, 'armas': True, 'desejando': True, '1523112429198131200': True, 'enrolando': True, 'logoo': True, '15': True, 'tebet': True, 'gastar': True, 'milhao': True, '1142928751875055616': True, 'relativizando': True, 'lixossatisfeito': True, '1378804745171779589': True, '36853648': True, 'paris': True, 'voltei': True, 'fiz': True, 'palanq': True, '304740686': True, 'lula+': True, 'ladrao=': True, 'cadeiabolsonaro': True, 'kkkkkkkk': True, '1527078401424621568': True, '4632735383': True, '1179563244899450881': True, 'achando': True, 'indice': True, '71882715': True, '1513707649451368453': True, 'mereca': True, 'pouca': True, 'sintonia': True, 'suplicy': True, 'completamente': True, 'lascar': True, 'servico': True, 'curral': True, '1546152819832537088': True, 'muito': True, 'lulinha': True, '967173696245903360': True, 'grandes': True, 'mulher': True, '1508263851485241345': True, '1357048768764461059': True, '36700155': True, '3349677982': True, 'patetico': True, 'lamentavel': True, 'impeachment': True, 'merenda': True, 'decente': True, '1273622497506852865': True, 'sentado': True, 'cadeira': True, 'netos': True, '1519072931200090112': True, '1165437635046887425': True, 'votaram': True, 'verme': True, 'merecem': True, '1217251279828914176': True, 'anita': True, 'tbem': True, 'acreditei': True, '14': True, 'votando': True, 'quadrilhaate': True, 'maedai': True, 'entendovoce': True, 'fudendo': True, 'papuda': True, '1194973452819714048': True, 'exvereador': True, 'acusado': True, 'homicidio': True, '1518916670701686784': True, 'reducao': True, 'combustiveis': True, 'ruim': True, 'estaria': True, 'extase': True, '1532803511175548934': True, 'milicianos': True, 'kkkk2': True, '1217922077870690304': True, 'estimula': True, '220997773': True, 'minha': True, 'limitado': True, 'aposto': True, 'duvida': True, '1501219184990167047': True, 'meretrizes': True, 'musica': True, 'espiritos': True, 'linha': True, 'desce': True, 'terreiro': True, 'meia': True, 'troca': True, 'pinga': True, 'nmr': True, 'kra': True, 'sinais': True, 'arminha': True, '1090068780280172544': True, 'roubavam': True, 'bancando': True, '252777576': True, 'lucro': True, 'bancos': True, '1274729918019112963': True, '1545620260384030723': True, '1479815088001490946': True, '316864634': True, 'bagre': True, '888443436285743104': True, 'sigo': True, '2631538762': True, 'ladraogostaria': True, 'tatuagem': True, 'cubanos': True, 'saem': True, 'aguentarem': True, 'propoe': True, 'tom': True, 'contar': True, '1540648470448672770': True, 'maldito': True, '1231291347577057280': True, '1496831460271173643': True}\n"
     ]
    }
   ],
   "source": [
    "word_feature = list(freq_words.keys())[:3000]\n",
    "word_feature_test = list(freq_words_test.keys())\n",
    "\n",
    "def find_features(document):\n",
    "    words = set(document)\n",
    "    features = {}\n",
    "    for w in word_feature:\n",
    "        #the key is the word in the 3000 most popular words\n",
    "        #is gonna be the boolean value for w in words\n",
    "        features[w] = (w in words)\n",
    "        \n",
    "    return features\n",
    "\n",
    "def find_features_test(document):\n",
    "    words = set(document)\n",
    "    features = {}\n",
    "    for w in word_feature_test:\n",
    "        features[w] = (w in words)\n",
    "        \n",
    "    return features\n",
    "\n",
    "print(find_features_test(all_words_test))"
   ]
  },
  {
   "cell_type": "code",
   "execution_count": 24,
   "id": "bad058b1",
   "metadata": {},
   "outputs": [
    {
     "name": "stdout",
     "output_type": "stream",
     "text": [
      "(['votaram', 'no', 'pezao', 'agora', 'tomem', 'no', 'czao'], 'yes')\n"
     ]
    }
   ],
   "source": [
    "print(documents[0])"
   ]
  },
  {
   "cell_type": "code",
   "execution_count": 25,
   "id": "28a8ecc5",
   "metadata": {},
   "outputs": [],
   "source": [
    "feature_sets = [(find_features(rev), category) for (rev, category) in documents]"
   ]
  },
  {
   "cell_type": "code",
   "execution_count": 26,
   "id": "fc68d705",
   "metadata": {},
   "outputs": [],
   "source": [
    "feature_sets_test = [(find_features(rev), category) for (rev, category) in randomFeatures(new_tweets)]"
   ]
  },
  {
   "cell_type": "code",
   "execution_count": 27,
   "id": "24f299f3",
   "metadata": {},
   "outputs": [],
   "source": [
    "training_set = feature_sets\n",
    "test_set = feature_sets_test"
   ]
  },
  {
   "cell_type": "code",
   "execution_count": 45,
   "id": "9726378a",
   "metadata": {},
   "outputs": [
    {
     "name": "stdout",
     "output_type": "stream",
     "text": [
      "({'votaram': True, 'pezao': True, 'agora': True, 'tomem': True, 'czao': True, 'cuidado': False, 'poupanca': False, 'pessoal': False, 'lembram': False, 'aconteceu': False, 'epoca': False, 'collor': False, 'ne': False, 'sabe': False, 'acho': False, 'engracado': False, 'governantes': False, 'nao': False, 'pensam': False, 'cortar': False, 'regalias': False, 'beneficios': False, 'desnecessarios': False, 'favorecem': False, 'porque': False, 'sera': False, 'claro': False, 'ate': False, 'quer': False, 'enxergar': False, 'sao': False, 'estao': False, 'la': False, 'defender': False, 'proprios': False, 'interesses': False, 'empresario': False, 'casso': False, 'tambem': False, 'comecamos': False, 'tomar': False, 'atitude': False, 'mudar': False, 'vez': False, 'todas': False, 'roubalheira': False, 'nesse': False, 'pais': False, 'tendencia': False, 'so': False, 'piorar': False, 'povo': False, 'dinheiro': False, 'investimentos': False, 'aumentos': False, 'salario': False, 'falta': False, 'podiam': False, 'retirar': False, 'lucros': False, 'bancos': False, 'cade': False, 'o': False, 'galvao': False, 'pra': False, 'narrar': False, 'faliiiiuuuuuuu': False, 'faliiiuuuuuuu': False, 'faliiuuuuuuu': False, 'possivel': False, 'deputados': False, 'tantos': False, 'cargos': False, 'comissionados': False, 'dispor': False, 'e': False, 'tipo': False, 'coisa': False, 'precisa': False, 'ser': False, 'cortado': False, 'sejam': False, 'honestos': False, 'aprovem': False, 'projeto': False, 'original': False, 'vamos': False, 'acabar': False, 'farra': False, 'brasil': False, 'pizza': False, 'anunciada': False, 'anistia': False, 'caixa': False, 'sim': False, 'divulgacao': False, 'lista': False, 'odebrecht': False, 'ja': False, 'viu': False, 'bandidos': False, 'fazendo': False, 'leis': False, 'contra': False, 'anticorrupcao': False, 'olha': False, 'caras': False, 'algo': False, 'util': False, 'interesse': False, 'publico': False, 'mas': False, 'ai': False, 'mbl': False, 'mobiliza': False, 'vai': False, 'pras': False, 'ruas': False, 'ironia': False, 'enquanto': False, 'teori': False, 'segura': False, 'bronca': False, 'stf': False, 'avante': False, 'medidas': False, 'clama': False, 'cima': False, 'corruptos': False, 'cadeia': False, 'neles': False, 'havia': False, 'previsao': False, 'entrar': False, 'plenario': False, 'comeco': False, 'novembro': False, 'preciso': False, 'aprovar': False, 'lei': False, 'anti': False, 'corrupcao': False, 'dois': False, 'milhoes': False, 'assinaturas': False, 'necessario': False, 'preservar': False, 'conteudo': False, 'baguncado': False, 'jeito': False, 'daqui': False, 'ha': False, 'pouco': False, 'ter': False, 'juiz': False, 'primeira': False, 'instancia': False, 'mandando': False, 'grampear': False, 'ministro': False, 'acontecendo': False, 'dizer': False, 'prova': False, 'colhida': False, 'boa': False, 'fe': False, 'magistratura': False, 'resquicio': False, 'monarquia': False, 'revogada': False, 'politicos': False, 'jamais': False, 'aprovam': False, 'prejudicam': False, 'direta': False, 'indiretamente': False, 'pec': False, 'desdobro': False, 'crise': False, 'devido': False, 'dezenas': False, 'centenas': False, 'bilhoes': False, 'reais': False, 'desviados': False, 'todos': False, 'anos': False, 'amigo': False, 'faz': False, 'diferenca': False, 'limitar': False, 'politico': False, 'mesma': False, 'nada': False, 'isso': False, 'cocegas': False, 'pois': False, 'ganhassem': False, 'triplo': False, 'ganham': False, 'cento': False, 'patrimonio': False, 'luxo': False, 'ostentam': False, 'problema': False, 'salarios': False, 'verbas': False, 'eventuais': False, 'desembargador': False, 'recebendo': False, 'mil': False, 'justica': False, 'cega': False, 'cara': False, 'pedindo': False, 'vista': False, 'ta': False, 'enxergando': False, 'nadaou': False, 'cego': False, 'judiciario': False, 'acreditam': False, 'neste': False, 'indice': False, 'quem': False, 'gera': False, 'riqueza': False, 'nacao': False, 'trabalhador': False, 'funcionarios': False, 'publicos': False, 'geram': False, 'utilizam': False, 'caso': False, 'roubam': False, 'podem': False, 'inventar': False, 'parar': False, 'mudara': False, 'novinha': False, 'receber': False, 'alguem': False, 'aivamos': False, 'mandar': False, 'renato': False, 'voce': False, 'toda': False, 'razao': False, 'desgoverno': False, 'passado': False, 'populista': False, 'inves': False, 'ensinar': False, 'pescar': False, 'dar': False, 'peixe': False, 'perpetuar': False, 'poder': False, 'qualquer': False, 'custo': False, 'nossa': False, 'relevante': False, 'mulher': False, 'voluntaria': False, 'diminua': False, 'tbm': False, 'presidente': False, 'coloque': False, 'teto': False, 'estabeleca': False, 'aumento': False, 'acompanhem': False, 'minimo': False, 'esqueca': False, 'tb': False, 'juizes': False, 'desembargadores': False, 'etc': False, 'voces': False, 'idiotas': False, 'fazem': False, 'sabem': False, 'executivo': False, 'interfira': False, 'outros': False, 'poderes': False, 'esses': False, 'vinculados': False, 'texto': False, 'constitucional': False, 'informem': False, 'santo': False, 'passarem': False, 'vergonha': False, 'falar': False, 'falei': False, 'alguma': False, 'mentira': False, 'falou': False, 'tudo': False, 'resumiu': False, 'bem': False, 'opera': False, 'nunca': False, 'vi': False, 'tanta': False, 'hipocrisia': False, 'pessoa': False, 'tentando': False, 'gastos': False, 'necessidades': False, 'basicas': False, 'populacao': False, 'concedendo': False, 'absurdos': False, 'classes': False, 'apoiaram': False, 'golpe': False, 'sabemos': False, 'carne': False, 'cortando': False, 'os': False, 'ricos': False, 'continuam': False, 'pobres': False, 'retiraram': False, 'dignidade': False, 'delesisso': False, 'alexandre': False, 'acioni': False, 'estudar': False, 'saber': False, 'comunista': False, 'essas': False, 'temer': False, 'pior': False, 'comunismo': False, 'pobre': False, 'metido': False, 'besta': False, 'fica': False, 'repetindo': False, 'mazelas': False, 'igual': False, 'papagaio': False, 'repeticao': False, 'corta': False, 'saude': False, 'educacao': False, 'emprego': False, 'seguranca': False, 'existe': False, 'lamentavel': False, 'sem': False, 'tera': False, 'sair': False, 'algum': False, 'lugar': False, 'novos': False, 'imposto': False, 'existentes': False, 'resolver': False, 'sobrar': False, 'areas': False, 'fim': False, 'isencao': False, 'impostos': False, 'igrejaschega': False, 'desta': False, 'bagunca': False, 'taxar': False, 'doacoes': False, 'coitados': False, 'mendigos': False, 'unico': False, 'corte': False, 'verdadeiramente': False, 'acabando': False, 'excesso': False, 'diminuindo': False, 'ahh': False, 'diminuir': False, 'quantidade': False, 'vindo': False, 'deveriam': False, 'responder': False, 'pergunta': False, 'pf': False, 'coragem': False, 'propor': False, 'senadores': False, 'mim': False, 'continuara': False, 'candidato': False, 'reeleicao': False, 'voto': False, 'paulo': False, 'bertazzi': False, 'ditadura': False, 'novo': False, 'sr': False, 'lado': False, 'venham': False, 'reformas': False, 'chega': False, 'mimimi': False, 'trabalhar': False, 'mais': False, 'sentir': False, 'bons': False, 'tempos': False, 'teve': False, 'entao': False, 'lembra': False, 'lembro': False, 'hahaha': False, 'pagar': False, 'pato': False, 'recheado': False, 'gordo': False, 'iria': False, 'fazer': False, 'kkk': False, 'receberem': False, 'martin': False, 'sales': False, 'deixa': False, 'idiot': False, 'ninguem': False, 'pode': False, 'discordar': False, 'mortadela': False, 'defende': False, 'direita': False, 'viva': False, 'lava': False, 'jato': False, 'venha': False, 'delacoes': False, 'cana': False, 'bernardo': False, 'cabas': False, 'federais': False, 'movimentando': False, 'anistiarem': False, 'dias': False, 'hoje': False, 'querem': False, 'condenacoes': False, 'diante': False, 'quebrando': False, 'espinha': False, 'dorsal': False, 'delacao': False, 'premiada': False, 'repatriacao': False, 'parentes': False, 'laranjas': False, 'propria': False, 'estou': False, 'vendo': False, 'ze': False, 'povinho': False, 'ferrar': False, 'inchaco': False, 'maquina': False, 'publica': False, 'ganho': False, 'que': False, 'ele': False, 'recebe': False, 'aposentado': False, 'sus': False, 'menos': False, 'unica': False, 'serao': False, 'atingindos': False, 'reforma': False, 'tributaria': False, 'mercado': False, 'divida': False, 'cortarao': False, 'juros': False, 'levam': False, 'cerca': False, 'quarenta': False, 'tres': False, 'orcamento': False, 'primarios': False, 'chegam': False, 'a': False, 'perfeito': False, 'marcio': False, 'lembrando': False, 'muitos': False, 'donossocios': False, 'empresas': False, 'plano': False, 'escolasfaculdadesuniversidades': False, 'particulares': False, 'desenhar': False, 'precisamos': False, 'adotar': False, 'cortes': False, 'edeputados': False, 'tao': False, 'simples': False, 'entender': False, 'verdade': False, 'compreensivos': False, 'rodrigo': False, 'realmente': False, 'facil': False, 'compreender': False, 'eu': False, 'compreendi': False, 'mestre': False, 'ah': False, 'rico': False, 'atraves': False, 'seculos': False, 'acaba': False, 'arrochar': False, 'ainda': False, 'enganem': False, 'partido': False, 'rouba': False, 'reduzir': False, 'gabinetes': False, 'aa': False, 'consequente': False, 'reducao': False, 'mordomias': False, 'fala': False, 'comeca': False, 'q': False, 'sancionou': False, 'ministros': False, 'assim': False, 'ver': False, 'melhor': False, 'desempenho': False, 'prefere': False, 'tirar': False, 'gente': False, 'mesmos': False, 'velho': False, 'asqueroso': False, 'manipulada': False, 'entendem': False, 'lados': False, 'devemos': False, 'nenhum': False, 'lutar': False, 'locupletam': False, 'governo': False, 'sobrando': False, 'todo': False, 'mundo': False, 'disso': False, 'vermes': False, 'caro': False, 'favor': False, 'comece': False, 'srs': False, 'inclusive': False, 'aposentadoria': False, 'previdencia': False, 'diferenciada': False, 'primeiro': False, 'item': False, 'observado': False, 'empacotador': False, 'esquina': False, 'zombe': False, 'inteligencia': False, 'gentileza': False, 'confianca': False, 'indicados': False, 'alto': False, 'escalao': False, 'concurso': False, 'capacitacao': False, 'tecnica': False, 'adequada': False, 'fmi': False, 'afirmou': False, 'paises': False, 'incluindo': False, 'potencias': False, 'economicas': False, 'adotadas': False, 'duras': False, 'inflexiveis': False, 'leu': False, 'um': False, 'assunto': False, 'muito': False, 'serio': False, 'mexer': False, 'com': False, 'vida': False, 'de': False, 'manda': False, 'economia': False, 'mundiais': False, 'vao': False, 'mer': False, 'rda': False, 'especialistas': False, 'afirmam': False, 'principal': False, 'ataca': False, 'real': False, 'rombo': False, 'pagamento': False, 'uma': False, 'auditada': False, 'foge': False, 'logica': False, 'arrecadacao': False, 'maior': False, 'cresce': False, 'especialista': False, 'tem': False, 'mentir': False, 'se': False, 'quase': False, 'para': False, 'da': False, 'principalmente': False, 'do': False, 'sistema': False, 'mexe': False, 'contraria': False, 'poderosos': False, 'emprestam': False, 'alguns': False, 'ligados': False, 'culpa': False, 'programas': False, 'sociais': False, 'representam': False, 'fatia': False, 'por': False, 'implantar': False, 'sobre': False, 'grandes': False, 'fortunas': False, 'audita': False, 'forma': False, 'ilogica': False, 'aumenta': False, 'apesar': False, 'apenas': False, 'funciona': False, 'aumentar': False, 'exigir': False, 'sociedade': False, 'cobrir': False, 'incompetente': False, 'simplesmente': False, 'querer': False, 'gastar': False, 'estimular': False, 'consegue': False, 'oliveira': False, 'devia': False, 'privilegios': False, 'congresso': False, 'camara': False, 'cnj': False, 'geral': False, 'autos': False, 'medida': False, 'tira': False, 'costas': False, 'imoralidade': False, 'henrique': False, 'esquerda': False, 'trata': False, 'ideologia': False, 'partidaria': False, 'as': False, 'pessoas': False, 'precisam': False, 'procurar': False, 'fontes': False, 'seguras': False, 'antagonicas': False, 'antes': False, 'usar': False, 'olhar': False, 'macro': False, 'alem': False, 'traira': False, 'hilariona': False, 'kkkkkkkkkkkk': False, 'oferecida': False, 'jantaresfile': False, 'mignon': False, 'fora': False, 'abaixo': False, 'redeglobodecorrupcao': False, 'congelar': False, 'dos': False, 'nefastos': False, 'quero': False, 'batedores': False, 'panela': False, 'piscadores': False, 'luz': False, 'varanda': False, 'irao': False, 'inferno': False, 'pagando': False, 'gastasse': False, 'tanto': False, 'comecar': False, 'proprias': False, 'contas': False, 'deviam': False, 'perguntar': False, 'cartoes': False, 'corporativos': False, 'meses': False, 'gastaram': False, 'outro': False, 'zeras': False, 'intactas': False, 'aumentam': False, 'desvios': False, 'detectar': False, 'farinha': False, 'saco': False, 'onde': False, 'eleicoes': False, 'procuram': False, 'vender': False, 'ficar': False, 'optativo': False, 'prejudicaria': False, 'tange': False, 'elegerem': False, 'comprando': False, 'votos': False, 'manipulando': False, 'sempre': False, 'burro': False, 'direito': False, 'bate': False, 'panelasseus': False, 'burrosbem': False, 'feito': False, 'gasto': False, 'investimento': False, 'foro': False, 'privilegiado': False, 'punicao': False, 'grave': False, 'crime': False, 'corrupcaopior': False, 'bom': False, 'petralhas': False, 'estariam': False, 'criando': False, 'bolsas': False, 'virarmos': False, 'venezuela': False, 'financiamento': False, 'partidos': False, 'cortarsea': False, 'seus': False, 'pegar': False, 'volta': False, 'sanguessugas': False, 'brasilia': False, 'sacrificio': False, 'cortou': False, 'acem': False, 'file': False, 'continua': False, 'nadando': False, 'bracada': False, 'conversa': False, 'mole': False, 'desde': False, 'golpeou': False, 'povao': False, 'enganado': False, 'es': False, 'goto': False, 'televisao': False, 'impopular': False, 'mordomo': False, 'to': False, 'ligado': False, 'utilizacao': False, 'avioes': False, 'fab': False, 'subiram': False, 'picanha': False, 'churrasco': False, 'domingo': False, 'deve': False, 'faltado': False, 'churrasqueiro': False, 'reduz': False, 'milionarios': False, 'classe': False, 'politica': False, 'cria': False, 'arquem': False, 'despesas': False, 'parlamentares': False, 'mecanismos': False, 'colocar': False, 'devolvam': False, 'roubaram': False, 'concordando': False, 'reportagem': False, 'g': False, 'aviao': False, 'fiquei': False, 'revoltadoesse': False, 'conserto': False, 'paga': False, 'conta': False, 'viajassem': False, 'carreira': False, 'acreditava': False, 'ahhh': False, 'vou': False, 'medo': False, 'assumiu': False, 'falafalamas': False, 'resolucao': False, 'nenhuma': False, 'amiguinhos': False, 'ferro': False, 'privilegiosreducao': False, 'numero': False, 'senadoresreduzir': False, 'instancias': False, 'recursais': False, 'deixar': False, 'crie': False, 'exonere': False, 'partariados': False, 'comissao': False, 'secretarios': False, 'republica': False, 'magistrados': False, 'acreditar': False, 'em': False, 'filmes': False, 'novelas': False, 'explique': False, 'cortados': False, 'ahahahahaha': False, 'devera': False, 'dobro': False, 'senado': False, 'pagara': False, 'r': False, 'gabinete': False, 'romero': False, 'juca': False, 'pmdbrr': False, 'lembrado': False, 'marcos': False, 'alves': False, 'essa': False, 'importante': False, 'sonhada': False, 'participei': False, 'mao': False, 'precisar': False, 'suprir': False, 'casa': False, 'empresa': False, 'estado': False, 'municipio': False, 'aonde': False, 'economizar': False, 'negocio': False, 'afunda': False, 'restante': False, 'julgadores': False, 'discordo': False, 'partes': False, 'sendo': False, 'cobrado': False, 'aplicam': False, 'quanto': False, 'resolveria': False, 'agravaria': False, 'cada': False, 'desnecessario': False, 'valido': False, 'via': False, 'deservicos': False, 'burlado': False, 'regra': False, 'voos': False, 'amanha': False, 'disse': False, 'porem': False, 'falando': False, 'aqui': False, 'recuperacao': False, 'longo': False, 'prazo': False, 'afundado': False, 'vezvai': False, 'gaste': False, 'tantocomece': False, 'pq': False, 'entram': False, 'limite': False, 'maldadefora': False, 'meter': False, 'tempo': False, 'ajudar': False, 'privada': False, 'oi': False, 'esperar': False, 'meteoro': False, 'reset': False, 'novamente': False, 'planalto': False, 'chamaram': False, 'esta': False, 'cortam': False, 'na': False, 'mamata': False, 'certeza': False, 'hahahahahahahahaa': False, 'hahahahahaha': False, 'piada': False, 'urgente': False, 'proxima': False, 'fichinha': False, 'perto': False, 'aumentando': False, 'propaganda': False, 'huahuahuahuahuahua': False, 'mesmo': False, 'esse': False, 'gastando': False, 'hipocrita': False, 'gerar': False, 'impopularidade': False, 'eleitores': False, 'quera': False, 'erros': False, 'mandam': False, 'embora': False, 'monte': False, 'auxiliares': False, 'servira': False, 'sugar': False, 'acabem': False, 'avanca': False, 'sairam': False, 'dessa': False, 'economica': False, 'tecnologia': False, 'receita': False, 'contrario': False, 'resultado': False, 'banana': False, 'media': False, 'voltando': False, 'pobreza': False, 'semiescravidao': False, 'estes': False, 'praticamente': False, 'ficha': False, 'limpa': False, 'maiores': False, 'ladroes': False, 'acabou': False, 'mordomia': False, 'comunistas': False, 'caminho': False, 'crescimento': False, 'votacao': False, 'verdinho': False, 'vermelho': False, 'cinquenta': False, 'itens': False, 'tivessemos': False, 'diferente': False, 'temos': False, 'enriquecimento': False, 'proprio': False, 'nos': False, 'peocupemos': False, 'nosso': False, 'este': False, 'sujoos': False, 'outrosproblema': False, 'delesignorantes': False, 'carapalida': False, 'varias': False, 'aposentadorias': False, 'finalmente': False, 'chegou': False, 'hora': False, 'coisas': False, 'sentindo': False, 'trouxa': False, 'comprar': False, 'preparemse': False, 'concursos': False, 'poderao': False, 'apadrinhados': False, 'altos': False, 'aguardem': False, 'assaltos': False, 'bastaria': False, 'gestores': False, 'categorias': False, 'servidores': False, 'servis': False, 'dao': False, 'suporte': False, 'impactos': False, 'incrivel': False, 'pareca': False, 'alienado': False, 'grande': False, 'parcela': False, 'apoia': False, 'loucura': False, 'tonto': False, 'acredita': False, 'nessa': False, 'palhacada': False, 'necessitada': False, 'aprovado': False, 'terceirizacao': False, 'mes': False, 'poderem': False, 'realizadas': False, 'punirem': False, 'imundos': False, 'dilmae': False, 'bonito': False, 'nocaosem': False, 'argumento': False, 'adestradojoga': False, 'nem': False, 'antonio': False, 'gasolina': False, 'vale': False, 'centavos': False, 'dolar': False, 'potencia': False, 'reconheco': False, 'ilegitimo': False, 'golpista': False, 'companhia': False, 'importa': False, 'vc': False, 'mae': False, 'palestras': False, 'analfabeto': False, 'quantas': False, 'proferidas': False, 'apos': False, 'direitos': False, 'previdenciarios': False, 'manter': False, 'podemos': False, 'aceitar': False, 'protestar': False, 'lulo': False, 'lulala': False, 'vejo': False, 'resto': False, 'enfim': False, 'iniciativa': False, 'vistas': False, 'futuro': False, 'eleicao': False, 'heranca': False, 'anterior': False, 'brincalhao': False, 'parabens': False, 'pres': False, 'mediadas': False, 'pte': False, 'lascar': False, 'miquinho': False, 'amestrado': False, 'idiota': False, 'pro': False, 'tanque': False, 'sras': False, 'sonia': False, 'cartao': False, 'corporativo': False, 'bateu': False, 'ouviu': False, 'dia': False, 'antenas': False, 'alcance': False, 'rsrs': False, 'perfeita': False, 'explicacao': False, 'fisica': False, 'souza': False, 'oc': False, 'ot': False, 'transmite': False, 'famoso': False, 'transglobe': False, 'philcoso': False, 'servir': False, 'ouvir': False, 'radio': False, 'paraguai': False, 'fm': False, 'local': False, 'loge': False, 'interior': False, 'despovoado': False, 'meta': False, 'leio': False, 'noticia': False, 'tristeza': False, 'transmissao': False, 'am': False, 'possibilidade': False, 'lugares': False, 'longinquos': False, 'deste': False, 'brasilsao': False, 'demais': False, 'limitada': False, 'baixo': False, 'frequencias': False, 'duas': False, 'modalidades': False, 'autorizadas': False, 'legais': False, 'trabalho': False, 'deveria': False, 'locais': False, 'populacoes': False, 'necessitam': False, 'acesso': False, 'transmissoes': False, 'inclusao': False, 'social': False, 'nacional': False, 'pena': False, 'radios': False, 'controladas': False, 'precisavam': False, 'certo': False, 'ganhar': False, 'presente': False, 'muita': False, 'xiar': False, 'entende': False, 'aindaem': False, 'cidades': False, 'pequenas': False, 'afastados': False, 'capitais': False, 'chiadosa': False, 'ruim': False, 'cheganos': False, 'cantoes': False, 'brasilzao': False, 'palha': False, 'aco': False, 'anteninhasagora': False, 'entretenimentopois': False, 'tv': False, 'analogica': False, 'digital': False, 'utopiaagora': False, 'amserao': False, 'isolados': False, 'informacoestudo': False, 'queriam': False, 'mora': False, 'acorda': False, 'km': False, 'propagacao': False, 'passa': False, 'esquece': False, 'dificil': False, 'tentar': False, 'basico': False, 'bjs': False, 'tata': False, 'infelizmentehoje': False, 'arruaceiro': False, 'agitador': False, 'honesto': False, 'contem': False, 'trabalhadores': False, 'sustentar': False, 'parasitas': False, 'boi': False, 'logo': False, 'anistiasabe': False, 'me': False, 'rir': False, 'familias': False, 'soldados': False, 'civis': False, 'mortos': False, 'bombas': False, 'terroristas': False, 'recebem': False, 'xingamentos': False, 'premios': False, 'bota': False, 'preco': False, 'ideal': False, 'idealistae': False, 'mercenario': False, 'foi': False, 'militar': False, 'deixou': False, 'interessa': False, 'globo': False, 'torra': False, 'absurdo': False, 'militares': False, 'velhinho': False, 'pega': False, 'tirarem': False, 'servidor': False, 'civilmilitar': False, 'instituicoes': False, 'inuteis': False, 'votando': False, 'naobando': False, 'ladravazes': False, 'erario': False, 'ir': False, 'mostrar': False, 'aceitaremos': False, 'mal': False, 'semana': False, 'usando': False, 'calculo': False, 'diferencial': False, 'integral': False, 'contribuicao': False, 'comecou': False, 'cair': False, 'pedagio': False, 'faltam': False, 'talvez': False, 'trabalhe': False, 'uns': False, 'anosse': False, 'cairia': False, 'completa': False, 'preparem': False, 'nova': False, 'etiopia': False, 'grana': False, 'salvar': False, 'setor': False, 'eletrico': False, 'investigar': False, 'demente': False, 'total': False, 'rotulos': False, 'vemos': False, 'clareza': False, 'defendem': False, 'elite': False, 'outra': False, 'pmdb': False, 'psdb': False, 'quadrilhas': False, 'organizadas': False, 'condicoes': False, 'linderberg': False, 'gleisi': False, 'fatima': False, 'bezzeratotalmente': False, 'insanos': False, 'joao': False, 'pereira': False, 'anencefalo': False, 'comentarios': False, 'enojam': False, 'nisso': False, 'concordar': False, 'sm': False, 'estudante': False, 'presidiario': False, 'podreque': False, 'nojo': False, 'entendi': False, 'colocacao': False, 'podre': False, 'edsonda': False, 'explicar': False, 'duvida': False, 'bertin': False, 'lexotankkkvixemas': False, 'filho': False, 'patria': False, 'educadora': False, 'educando': False, 'disputar': False, 'perdera': False, 'votaremos': False, 'quisermos': False, 'livre': False, 'gosta': False, 'frase': False, 'nascendo': False, 'colonizando': False, 'sergio': False, 'moro': False, 'corajosos': False, 'p': False, 'apurar': False, 'crimes': False, 'desisto': False, 'modelo': False, 'enem': False, 'enganar': False, 'pensa': False, 'entra': False, 'faculdadeentra': False, 'poucos': False, 'fraude': False, 'reclamam': False, 'luiz': False, 'bastante': False, 'nota': False, 'mimi': False, 'entrei': False, 'estudando': False, 'conspiracao': False, 'kk': False, 'ocupacao': False, 'escola': False, 'sai': False, 'sou': False, 'esperto': False, 'certamente': False, 'fraudam': False, 'sabera': False, 'alias': False, 'historicamente': False, 'acontece': False, 'vontade': False, 'aipim': False, 'rbbbbbbb': False, 'podia': False, 'sobremesa': False, 'fraudes': False, 'nonpoder': False, 'diga': False, 'acao': False, 'desconfianca': False, 'fico': False, 'querendo': False, 'forro': False, 'traz': False, 'esquema': False, 'quando': False, 'eleger': False, 'edmond': False, 'julgar': False, 'tal': False, 'tratava': False, 'barrado': False, 'oposicao': False, 'acaso': False, 'destino': False, 'esperarnao': False, 'adianta': False, 'perguntareles': False, 'srra': False, 'cite': False, 'esquerdopata': False, 'linha': False, 'defendo': False, 'seja': False, 'imperio': False, 'note': False, 'grifo': False, 'paguem': False, 'feitos': False, 'tolero': False, 'mentiras': False, 'descabidas': False, 'incluo': False, 'entendo': False, 'intolerante': False, 'lha': False, 'defendendo': False, 'estimacao': False, 'atacando': False, 'causas': False, 'sei': False, 'maligna': False, 'draconiana': False, 'entendam': False, 'causa': False, 'reflexos': False, 'negativos': False, 'obra': False, 'populismo': False, 'desgovernanca': False, 'somente': False, 'derrotada': False, 'urnas': False, 'gostaria': False, 'ahahahh': False, 'ganharam': False, 'perderam': False, 'votonulo': False, 'derrotados': False, 'foram': False, 'varridos': False, 'hehehehe': False, 'exercicio': False, 'elementar': False, 'ganhou': False, 'maioria': False, 'vencedor': False, 'supostamenteb': False, 'perdeu': False, 'nulos': False, 'imagina': False, 'vermelhos': False, 'kkkkkk': False, 'sp': False, 'entaoprimeiro': False, 'turno': False, 'passeio': False, 'rindo': False, 'desconto': False, 'troco': False, 'apoiar': False, 'ahahahah': False, 'ladrao': False, 'dizendo': False, 'fez': False, 'boca': False, 'urnaeles': False, 'apagando': False, 'mensagens': False, 'nilsa': False, 'amaral': False, 'morte': False, 'prolongada': False, 'mauro': False, 'dementekkkkkkquem': False, 'lutando': False, 'apoiando': False, 'felizmente': False, 'extirpamos': False, 'defoder': False, 'cleptorrupto': False, 'ameacadores': False, 'verdadeiras': False, 'corsas': False, 'veadinhos': False, 'mansinhos': False, 'bastou': False, 'afundarem': False, 'qualificou': False, 'investiu': False, 'pesado': False, 'acham': False, 'culpadosp': False, 'policial': False, 'civil': False, 'pm': False, 'paulista': False, 'kkkkkkkkkkkkk': False, 'facilmente': False, 'desemprego': False, 'queda': False, 'john': False, 'maynad': False, 'keynes': False, 'responsabilidade': False, 'eles': False, 'torcem': False, 'fizeram': False, 'distribuir': False, 'disfarcado': False, 'bolsa': False, 'familia': False, 'outras': False, 'sentido': False, 'otima': False, 'brancos': False, 'recado': False, 'dado': False, 'viram': False, 'coxinhada': False, 'aceita': False, 'boquinha': False, 'doi': False, 'ketchup': False, 'peco': False, 'informe': False, 'kkkkk': False, 'alvaro': False, 'arma': False, 'instrucao': False, 'estudou': False, 'historia': False, 'bandidagem': False, 'sistemica': False, 'ficarmos': False, 'discutindo': False, 'pardidarismo': False, 'comporativismo': False, 'combate': False, 'velado': False, 'nivel': False, 'afronta': False, 'etica': False, 'moral': False, 'assinou': False, 'depois': False, 'russia': False, 'montar': False, 'base': False, 'passar': False, 'conseguiu': False, 'resposta': False, 'achou': False, 'eficiente': False, 'mane': False, 'guerra': False, 'fria': False, 'ensina': False, 'precaver': False, 'vitimas': False, 'impor': False, 'genocida': False, 'quatro': False, 'horas': False, 'conseguiram': False, 'encontrar': False, 'exemplo': False, 'sequer': False, 'desenvolvidos': False, 'muda': False, 'situacao': False, 'saira': False, 'desse': False, 'mar': False, 'lama': False, 'reerguer': False, 'posso': False, 'citar': False, 'criacao': False, 'fgtsembrafilme': False, 'embraer': False, 'bnh': False, 'hidreletricas': False, 'diretas': False, 'governador': False, 'china': False, 'possui': False, 'economias': False, 'desenvolvido': False, 'enfia': False, 'kit': False, 'cut': False, 'urna': False, 'nessas': False, 'votara': False, 'jogar': False, 'grupo': False, 'nigeria': False, 'dl': False, 'venezeruela': False, 'teucuquente': False, 'dando': False, 'adoidado': False, 'conseguindo': False, 'atrair': False, 'si': False, 'proximos': False, 'odio': False, 'murilo': False, 'terminar': False, 'faxina': False, 'limpar': False, 'agitadores': False, 'roubar': False, 'concordo': False, 'plenamente': False, 'tentaram': False, 'governar': False, 'deu': False, 'governa': False, 'aelite': False, 'achava': False, 'ferramenta': False, 'transformacao': False, 'quato': False, 'engano': False, 'chamado': False, 't': False, 'sol': False, 'doenca': False, 'enfermo': False, 'gentinha': False, 'fedendo': False, 'tomam': False, 'banho': False, 'acabara': False, 'dai': False, 'livrar': False, 'segue': False, 'passos': False, 'largos': False, 'rumo': False, 'extincao': False, 'continuem': False, 'pesquise': False, 'participe': False, 'consulta': False, 'estamos': False, 'pertinhos': False, 'milhao': False, 'participantes': False, 'espalhando': False, 'mesmas': False, 'voltaram': False, 'senpre': False, 'fizerem': False, 'defensores': False, 'quebraram': False, 'tentam': False, 'boicotar': False, 'boicotaram': False, 'eleito': False, 'golpistas': False, 'fazme': False, 'esperem': False, 'proximas': False, 'chegar': False, 'bagunce': False, 'ideias': False, 'conquistados': False, 'tantas': False, 'lutas': False, 'animadinho': False, 'rapaz': False, 'descontada': False, 'seu': False, 'vovo': False, 'corrupta': False, 'terrorista': False, 'apresenta': False, 'ameaca': False, 'uruguaio': False, 'destruiu': False, 'petrobras': False, 'enriqueceu': False, 'custas': False, 'pelo': False, 'uruguaia': False, 'roubou': False, 'mojica': False, 'fusca': False, 'asilo': False, 'breve': False, 'recebera': False, 'ordem': False, 'prisao': False, 'pensado': False, 'hipotese': False, 'plausivel': False, 'estar': False, 'verificando': False, 'lu': False, 'excompanheiro': False, 'palanque': False, 'tupamaro': False, 'tirado': False, 'aki': False, 'anta': False, 'incompetenta': False, 'solta': False, 'invadimos': False, 'fortaleza': False, 'novelina': False, 'ar': False, 'bebeu': False, 'cachaca': False, 'caramba': False, 'trouxinha': False, 'fafa': False, 'daqueles': False, 'alunos': False, 'zuados': False, 'revoltadinho': False, 'internet': False, 'pentateuto': False, 'nome': False, 'estranho': False, 'acredite': False, 'sua': False, 'capacidade': False, 'discernir': False, 'resgatada': False, 'devo': False, 'pulado': False, 'obrigado': False, 'esqueco': False, 'vezes': False, 'rs': False, 'foto': False, 'baseado': False, 'ela': False, 'desrespeitar': False, 'fidel': False, 'fumando': False, 'charuto': False, 'uruguai': False, 'uruguaios': False, 'falir': False, 'oreo': False, 'tabare': False, 'milenar': False, 'ritual': False, 'esquerdista': False, 'oferecendo': False, 'vento': False, 'existam': False, 'espalhados': False, 'dedo': False, 'socado': False, 'ceu': False, 'zona': False, 'recessao': False, 'tendo': False, 'peso': False, 'pesar': False, 'senao': False, 'recrutariam': False, 'tua': False, 'verme': False, 'bandido': False, 'fui': False, 'cro': False, 'desses': False, 'qsf': False, 'defenestrada': False, 'insulto': False, 'garanto': False, 'inacio': False, 'messias': False, 'silva': False, 'volte': False, 'damos': False, 'pros': False, 'quebrado': False, 'emprestando': False, 'doar': False, 'u': False, 'vizinhanca': False, 'colher': False, 'dividendos': False, 'perdidinhos': False, 'anotaram': False, 'placa': False, 'caminhao': False, 'atropelou': False, 'petebada': False, 'outubro': False, 'recebida': False, 'capim': False, 'agua': False, 'fresca': False, 'aproveita': False, 'capivara': False, 'fique': False, 'ira': False, 'escoria': False, 'aqu': False, 'pescoco': False, 'parrilla': False, 'ato': False, 'democracia': False, 'vermelha': False, 'veia': False, 'segurando': False, 'cigarrinho': False, 'maconha': False, 'canabis': False, 'elegante': False, 'caite': False, 'batata': False, 'assando': False, 'fuga': False, 'exportando': False, 'graca': False, 'forca': False, 'senso': False, 'ridiculo': False, 'terceira': False, 'comento': False, 'censurados': False, 'robozinho': False, 'buscando': False, 'censurar': False, 'elimina': False, 'visita': False, 'vasquez': False, 'ganha': False, 'sindico': False, 'predio': False, 'janete': False, 'traste': False, 'inutil': False, 'vaca': False, 'vazquez': False, 'escolher': False, 'amizades': False, 'levantar': False, 'suspeita': False, 'pedir': False, 'exilio': False, 'dono': False, 'triplex': False, 'lindo': False, 'jaca': False, 'madura': False, 'reuniao': False, 'ex': False, 'guerrilheiros': False, 'sexta': False, 'cuidar': False, 'bandida': False, 'venda': False, 'infirmacoes': False, 'sensiveis': False, 'motivos': False, 'fugir': False, 'aparecem': False, 'constantemente': False, 'listas': False, 'baitola': False, 'vem': False, 'murro': False, 'certeiro': False, 'feia': False, 'porrrra': False, 'louca': False, 'davi': False, 'afim': False, 'dali': False, 'panama': False, 'esconder': False, 'butim': False, 'atos': False, 'presenca': False, 'monaco': False, 'arrumando': False, 'esconderijo': False, 'ajudou': False, 'afundar': False, 'acha': False, 'normal': False, 'tabareus': False, 'erro': False, 'entregue': False, 'ponta': False, 'terra': False, 'extremo': False, 'sul': False, 'cruz': False, 'credo': False, 'bosta': False, 'tabarez': False, 'digame': False, 'andas': False, 'direi': False, 'engana': False, 'gosto': False, 'morre': False, 'desgraca': False, 'formacao': False, 'quadrilha': False, 'defesa': False, 'risos': False, 'cama': False, 'moluscovai': False, 'muie': False, 'drome': False, 'cuie': False, 'brinca': False, 'fiuvicocuidado': False, 'passear': False, 'ficou': False, 'padrao': False, 'presa': False, 'roubado': False, 'atrasado': False, 'morra': False, 'demonio': False, 'falamos': False, 'publicam': False, 'falam': False, 'liberdade': False, 'expressao': False, 'vacilo': False, 'pow': False, 'putskkkkkde': False, 'relevancia': False, 'importanciakkkkkkk': False, 'provavelmente': False, 'planejando': False, 'rota': False, 'vizinho': False, 'desgracada': False, 'discursou': False, 'dizem': False, 'espanhol': False, 'sotaque': False, 'tipico': False, 'bolivariano': False, 'light': False, 'saida': False, 'tangente': False, 'sabia': False, 'gostava': False, 'porcaria': False, 'junto': False, 'gracas': False, 'levandowhisky': False, 'queria': False, 'indo': False, 'calote': False, 'vagabunda': False, 'dentadura': False, 'pao': False, 'bruno': False, 'kou': False, 'assimva': False, 'gu': False, 'programa': False, 'vira': False, 'apontar': False, 'pensem': False, 'maconheira': False, 'chata': False, 'assistida': False, 'esmola': False, 'retardo': False, 'burrice': False, 'maria': False, 'benta': False, 'provou': False, 'peba': False, 'pimenta': False, 'malaquias': False, 'lavar': False, 'toma': False, 'boiola': False, 'maconheiro': False, 'infectado': False, 'chupar': False, 'piroca': False, 'quanta': False, 'raivosa': False, 'horror': False, 'va': False, 'aproveite': False, 'case': False, 'homem': False, 'nordestino': False, 'votar': False, 'observo': False, 'comparecendo': False, 'descontentes': False, 'entrou': False, 'saiu': False, 'afirmacao': False, 'vinicius': False, 'moraes': False, 'chamar': False, 'naldo': False, 'eh': False, 'adequado': False, 'irmao': False, 'dislike': False, 'coment': False, 'assimpalhaco': False, 'quena': False, 'tirso': False, 'mertadela': False, 'tadinho': False, 'atrasta': False, 'apaixonado': False, 'come': False, 'tras': False, 'carambaachei': False, 'morrido': False, 'petebas': False, 'arrumar': False, 'oriundo': False, 'leveza': False, 'paralelepipedo': False, 'honestidade': False, 'nove': False, 'dedos': False, 'mav': False, 'ler': False, 'tenho': False, 'condicao': False, 'opiniao': False, 'valer': False, 'rosanabandida': False, 'fedorenta': False, 'osvaldo': False, 'miranda': False, 'respeito': False, 'comentario': False, 'rosana': False, 'revolta': False, 'ofensa': False, 'curiosidade': False, 'estudo': False, 'animais': False, 'reileita': False, 'chama': False, 'escarnio': False, 'acreditando': False, 'nele': False, 'beleza': False, 'elegancia': False, 'usa': False, 'pseudonimo': False, 'surreal': False, 'bidu': False, 'aha': False, 'mentirinha': False, 'acredito': False, 'digno': False, 'sapatos': False, 'diva': False, 'coitadinha': False, 'pobrezinha': False, 'vitima': False, 'leva': False, 'alvo': False, 'municipalaonde': False, 'dobrarao': False, 'desfilara': False, 'belezapelas': False, 'avenidas': False, 'brasilnao': False, 'preocupem': False, 'meio': False, 'pernas': False, 'votou': False, 'votei': False, 'aecio': False, 'colocou': False, 'presidento': False, 'claudio': False, 'lamento': False, 'minha': False, 'publicada': False, 'posto': False, 'vcs': False, 'nela': False, 'estrategia': False, 'vermelga': False, 'acefala': False, 'terceirizar': False, 'xingar': False, 'denegrirkkkk': False, 'tchau': False, 'queridos': False, 'hospitais': False, 'super': False, 'lotados': False, 'equipamentos': False, 'coitada': False, 'definila': False, 'chamaria': False, 'tiro': False, 'destinar': False, 'presidio': False, 'hospital': False, 'area': False, 'juridica': False, 'alcada': False, 'ministerio': False, 'presidios': False, 'otimos': False, 'escolas': False, 'hospedar': False, 'rubens': False, 'anderson': False, 'mortadelas': False, 'nadakkk': False, 'roberto': False, 'inteligente': False, 'mafioso': False, 'skaf': False, 'negativa': False, 'presidiarios': False, 'lucasestao': False, 'equipados': False, 'dentro': False, 'peidar': False, 'muzenga': False, 'resolvam': False, 'superlotacao': False, 'carandiru': False, 'galera': False, 'psol': False, 'apertem': False, 'policia': False, 'rj': False, 'kaggar': False, 'preocupada': False, 'carmen': False, 'lucia': False, 'leve': False, 'meia': False, 'duzia': False, 'dessas': False, 'faca': False, 'coquete': False, 'libere': False, 'anel': False, 'couro': False, 'refresco': False, 'groselha': False, 'mostre': False, 'coracao': False, 'preste': False, 'censor': False, 'grobo': False, 'cochilou': False, 'papo': False, 'conforto': False, 'sofrimento': False, 'destruiram': False, 'ficam': False, 'impune': False, 'seria': False, 'interessante': False, 'visitar': False, 'concluiu': False, 'concordouai': False, 'estupro': False, 'kkkkkkkkkkkkkkkk': False, 'sujeito': False, 'pecados': False, 'resort': False, 'ferias': False, 'mataram': False, 'poderia': False, 'algumas': False, 'criancas': False, 'estudam': False, 'pes': False, 'goteiras': False, 'muitas': False, 'merenda': False, 'estragada': False, 'andar': False, 'quilometros': False, 'pe': False, 'caminhoes': False, 'ligada': False, 'humanos': False, 'decencia': False, 'gostam': False, 'descalcos': False, 'porca': False, 'df': False, 'haver': False, 'obrigando': False, 'publicose': False, 'proibidos': False, 'atendelos': False, 'olhava': False, 'vacalhacao': False, 'acelerar': False, 'julgamentos': False, 'beneficiam': False, 'preocupar': False, 'criminosos': False, 'santa': False, 'batman': False, 'superlotados': False, 'dra': False, 'sra': False, 'marginais': False, 'igualar': False, 'cela': False, 'superlotada': False, 'roube': False, 'honestamente': False, 'conhecimento': False, 'leiatodos': False, 'iguais': False, 'julgados': False, 'condenados': False, 'exceto': False, 'ministra': False, 'motivo': False, 'instalar': False, 'visitando': False, 'novas': False, 'instalacoes': False, 'conde': False, 'dracula': False, 'vampiros': False, 'supremo': False, 'tribunal': False, 'federal': False, 'procurando': False, 'vagas': False, 'bandidooooooooooooooos': False, 'kkkkkkkkkkkkkkkkkkkkkkkkkkkkkkkkkkkkkkkkkkkkkkkk': False, 'trabalha': False, 'hran': False, 'pretende': False, 'admirei': False, 'bela': False, 'precisavamos': False, 'presidentes': False, 'ajuda': False, 'universitarios': False, 'ajudem': False, 'interpretar': False, 'zozoi': False, 'quis': False, 'levar': False, 'renan': False, 'calheiros': False, 'ficaria': False, 'excelentissima': False, 'ignorante': False, 'mudanca': False, 'preso': False, 'reuniu': False, 'estaria': False, 'vazio': False, 'delano': False, 'diz': False, 'escuta': False, 'no': True, 'ceminterio': False, 'lotado': False, 'cheio': False, 'inocentes': False, 'pelas': False, 'maos': False, 'virou': False, 'idosos': False, 'linhas': False, 'finas': False, 'maes': False, 'filhos': False, 'assassinados': False, 'assaltantes': False, 'ave': False, 'prestes': False, 'morrer': False, 'saudam': False, 'preocupados': False, 'cidadao': False, 'onesto': False, 'renegado': False, 'frente': False, 'havendo': False, 'furtos': False, 'roubos': False, 'implanta': False, 'lixos': False, 'bndido': False, 'mrto': False, 'familiares': False, 'vitimados': False, 'louvavel': False, 'comporta': False, 'tumulos': False, 'superfaturamento': False, 'senador': False, 'deputado': False, 'coloca': False, 'bolso': False, 'duvido': False, 'peca': False, 'severas': False, 'vazios': False, 'tinha': False, 'auxilios': False, 'mande': False, 'trabalharem': False, 'sustentarem': False, 'superlotado': False, 'f': False, 'd': False, 'fila': False, 'creche': False, 'busca': False, 'safados': False, 'protegem': False, 'indulto': False, 'acoes': False, 'envolvendo': False, 'jose': False, 'serra': False, 'veja': False, 'aparecer': False, 'ciumeira': False, 'eta': False, 'carmem': False, 'senhora': False, 'saindo': False, 'marqueteira': False, 'depender': False, 'soltar': False, 'mundoe': False, 'aplicada': False, 'aristoteles': False, 'prisional': False, 'justa': False, 'paradoxo': False, 'recebeu': False, 'premio': False, 'agrado': False, 'achando': False, 'matar': False, 'esvazie': False, 'celas': False, 'vire': False, 'heroina': False, 'gilmar': False, 'mendespsdb': False, 'ciumesela': False, 'compre': False, 'ena': False, 'bando': False, 'hipocritas': False, 'corja': False, 'merda': False, 'excelente': False, 'velha': False, 'agir': False, 'saulo': False, 'presos': False, 'perigosos': False, 'neimar': False, 'gabriel': False, 'jesus': False, 'marinho': False, 'ataque': False, 'kkkkkkk': False, 'jogou': False, 'ontem': False, 'merece': False, 'selecao': False, 'paulinhafernandinha': False, 'campo': False, 'messi': False, 'deitar': False, 'hotel': False, 'ana': False, 'hickimann': False, 'vencer': False, 'jogo': False, 'x': False, 'minino': False, 'mano': False, 'bauza': False, 'vim': False, 'retranca': False, 'gasta': False, 'decoracao': False, 'tite': False, 'tocar': False, 'paulinhobrasil': False, 'sacanagem': False, 'neymar': False, 'gol': False, 'agradar': False, 'messy': False, 'rlx': False, 'treinado': False, 'barca': False, 'vesti': False, 'uniiforme': False, 'palmeiras': False, 'campeao': False, 'mundial': False, 'carlinhos': False, 'brown': False, 'aivai': False, 'cantar': False, 'babaquices': False, 'faria': False, 'ausencia': False, 'parece': False, 'perguntas': False, 'ridiculas': False, 'felipe': False, 'massa': False, 'aposentar': False, 'retranqueiro': False, 'botar': False, 'cacar': False, 'print': False, 'jogador': False, 'desequilibra': False, 'tomara': False, 'argentina': False, 'goleie': False, 'frescos': False, 'rebaixado': False, 'atleticana': False, 'lotar': False, 'mineirao': False, 'lucas': False, 'pratto': False, 'rolar': False, 'falida': False, 'pipoca': False, 'aperta': False, 'zagueiro': False, 'voltar': False, 'atras': False, 'corinthians': False, 'aluno': False, 'enemlibertadores': False, 'enempaulista': False, 'enembrasileirao': False, 'enemcopa': False, 'goleiro': False, 'nasceu': False, 'junior': False, 'baiano': False, 'jogando': False, 'chance': False, 'thiago': False, 'marquinhos': False, 'melhores': False, 'psg': False, 'decrescimo': False, 'coma': False, 'camisa': False, 'chelsea': False, 'compensacao': False, 'iniciando': False, 'lobby': False, 'retorno': False, 'david': False, 'recorde': False, 'vazado': False, 'gols': False, 'cahill': False, 'pesadelos': False, 'emerson': False, 'sheik': False, 'paolo': False, 'guerrero': False, 'record': False, 'sete': False, 'jogos': False, 'joga': False, 'fans': False, 'torcedores': False, 'cr': False, 'madrid': False, 'raca': False, 'nojenta': False, 'apelando': False, 'compara': False, 'aceitem': False, 'fato': False, 'ronaldetes': False, 'modinha': False, 'rivalidade': False, 'excelentes': False, 'jogadores': False, 'pronto': False, 'daniel': False, 'lima': False, 'verdademessi': False, 'acima': False, 'futebol': False, 'atual': False, 'kkkkkkkkkkkkkkkkkkkkkkkkkk': False, 'pepe': False, 'man': False, 'louco': False, 'time': False, 'seguindo': False, 'criterio': False, 'pele': False, 'george': False, 'best': False, 'maldini': False, 'iniesta': False, 'garrincha': False, 'bostas': False, 'citados': False, 'times': False, 'algunsmaldini': False, 'chegaram': False, 'clubes': False, 'santos': False, 'boaangelim': False, 'video': False, 'game': False, 'considerado': False, 'cosmos': False, 'final': False, 'provar': False, 'clube': False, 'segundo': False, 'isaque': False, 'chore': False, 'lionete': False, 'ronaldete': False, 'argumentos': False, 'mesmomanona': False, 'boana': False, 'manomanooooooooo': False, 'copa': False, 'america': False, 'julio': False, 'baptista': False, 'zuar': False, 'kkkk': False, 'madri': False, 'barcelona': False, 'estrangeiros': False, 'seriam': False, 'afinal': False, 'nacionais': False, 'corrigindo': False, 'europa': False, 'rio': False, 'minas': False, 'gerais': False, 'tulio': False, 'golzinho': False, 'asfalto': False, 'artilheiro': False, 'genio': False, 'romario': False, 'videogame': False, 'fas': False, 'alienados': False, 'kkkkkkkkkkkkkk': False, 'foda': False, 'discurso': False, 'cristiano': False, 'declarou': False, 'secar': False, 'neto': False, 'oculos': False, 'apartamento': False, 'contrata': False, 'marcelo': False, 'cirino': False, 'damiao': False, 'ano': False, 'oficiais': False, 'fifa': False, 'temporada': False, 'mocinhas': False, 'brigando': False, 'virem': False, 'homens': False, 'dicas': False, 'pder': False, 'romariogtronaldogtzidanegtmessigtronaldinhogtcr': False, 'renovar': False, 'contrato': False, 'ramos': False, 'dormir': False, 'tontos': False, 'hj': False, 'diaimagina': False, 'alecgol': False, 'lindinho': False, 'moco': False, 'cinco': False, 'clear': False, 'men': False, 'armario': False, 'velocidade': False, 'baixa': False, 'qualidade': False, 'loucos': False, 'maximo': False, 'doido': False, 'empurrar': False, 'bola': False, 'trave': False, 'temporadas': False, 'rala': False, 'titulos': False, 'kkkkkkkkkk': False, 'trofeus': False, 'joan': False, 'gamper': False, 'amistoso': False, 'galeria': False, 'ivo': False, 'holanda': False, 'valdeny': False, 'funcionam': False, 'mundinho': False, 'penaltizinho': False, 'penaldo': False, 'bater': False, 'poxa': False, 'juizao': False, 'hattrick': False, 'solange': False, 'faltou': False, 'penaltis': False, 'robinho': False, 'fred': False, 'campeoes': False, 'daria': False, 'reserva': False, 'fernandinho': False, 'fla': False, 'somar': False, 'assistencias': False, 'ganhaos': False, 'titulo': False, 'momento': False, 'engracada': False, 'pensou': False, 'teste': False, 'zorra': False, 'jogara': False, 'oq': False, 'marcelinho': False, 'carioca': False, 'poderoso': False, 'timao': False, 'chorem': False, 'antis': False, 'pia': False, 'fogao': False, 'choremmmmmmmmmmmmmmmmmmmmmmmmmmmm': False, 'chutar': False, 'crforever': False, 'geraldo': False, 'gallo': False, 'invadir': False, 'ct': False, 'quebrar': False, 'marias': False, 'tremem': False, 'galo': False, 'borram': False, 'argentinos': False, 'pare': False, 'vexame': False, 'saudade': False, 'otamendi': False, 'dupla': False, 'zaga': False, 'sensacional': False, 'dor': False, 'cotovelo': False, 'azuis': False, 'borradeirasadoram': False, 'pagina': False, 'pontos': False, 'corridos': False, 'apagao': False, 'refletor': False, 'esfriar': False, 'adversario': False, 'rajkazblanks': False, 'escorregando': False, 'escancarado': False, 'gritinhos': False, 'colam': False, 'disputa': False, 'penalty': False, 'riascos': False, 'errar': False, 'anelkocando': False, 'argentino': False, 'argentinota': False, 'marcado': False, 'momentos': False, 'marcanteskkkkk': False, 'cio': False, 'minhas': False, 'presas': False, 'prediletas': False, 'esbanjar': False, 'devoralas': False, 'peruca': False, 'cazares': False, 'amor': False, 'sombra': False, 'vizeu': False, 'acomoda': False, 'jorge': False, 'cueva': False, 'junta': False, 'pontas': False, 'flamengo': False, 'motivacao': False, 'mete': False, 'queremos': False, 'tabela': False, 'ue': False, 'cheirinho': False, 'convocado': False, 'frenquentemente': False, 'sub': False, 'ia': False, 'centroavante': False, 'chorao': False, 'corre': False, 'solto': False, 'envolvida': False, 'acomodou': False, 'revesar': False, 'rodney': False, 'garotos': False, 'rogerio': False, 'tecnico': False, 'complicado': False, 'atacante': False, 'cariacicaes': False, 'coxa': False, 'correto': False, 'adriano': False, 'adryan': False, 'lanca': False, 'menguinho': False, 'mexendo': False, 'chiquinho': False, 'peidods': False, 'elenco': False, 'porrda': False, 'pouquissima': False, 'abel': False, 'braga': False, 'libertadores': False, 'cia': False, 'juntos': False, 'garoro': False, 'n': False, 'moleques': False, 'experiencia': False, 'ricardo': False, 'entregar': False, 'demorou': False, 'digo': False, 'empata': False, 'perde': False, 'medalhao': False, 'continuar': False, 'comando': False, 'nadaem': False, 'decisivas': False, 'erra': False, 'avaliar': False, 'profissionais': False, 'dira': False, 'escala': False, 'substitui': False, 'culpado': False, 'perda': False, 'briga': False, 'volante': False, 'deus': False, 'araujopela': False, 'nw': False, 'ronaldo': False, 'ou': False, 'lateral': False, 'brincadeira': False, 'fanfarrao': False, 'gigante': False, 'anosta': False, 'falarem': False, 'olfato': False, 'assumir': False, 'demora': False, 'maracana': False, 'cai': False, 'vascainos': False, 'segunda': False, 'kkkkkkkkk': False, 'bandeirinhas': False, 'garantiram': False, 'roubo': False, 'acertados': False, 'imperador': False, 'wagner': False, 'love': False, 'ronaldinho': False, 'fabio': False, 'luciano': False, 'condicionamento': False, 'fisico': False, 'brasileirao': False, 'contratava': False, 'cuellar': False, 'erradamente': False, 'dava': False, 'comprado': False, 'kkkkkkkkkkkkkkkkkkkkkkkkkkkkkkkkk': False, 'torcidinha': False, 'cabe': False, 'kombi': False, 'gaba': False, 'cheirao': False, 'z': False, 's': False, 'padaria': False, 'vendendo': False, 'sonho': False, 'resta': False, 'stjdacorda': False, 'rubro': False, 'negraseu': False, 'viceado': False, 'digam': False, 'quiser': False, 'copinha': False, 'opg': False, 'arbitragem': False, 'promessas': False, 'sv': False, 'garotada': False, 'negra': False, 'mandou': False, 'lembranca': False, 'kkkkkkkkkkk': False, 'vitor': False, 'nastari': False, 'cabeca': False, 'cheia': False, 'imagine': False, 'kkkkkkkkkkkkkkkkkkkkkkkkkkkkk': False, 'cheiro': False, 'bucelta': False, 'iniciar': False, 'levando': False, 'porrada': False, 'molecada': False, 'corpo': False, 'pipocar': False, 'timinho': False, 'torcida': False, 'terceirizada': False, 'nordestinos': False, 'fedidos': False, 'gema': False, 'identificacao': False, 'nordeste': False, 'paraibas': False, 'framengo': False, 'camelo': False, 'vasco': False, 'botafogo': False, 'janeiro': False, 'saudacoes': False, 'corinthianas': False, 'ofender': False, 'envolver': False, 'apoio': False, 'zagueiros': False, 'resolve': False, 'parte': False, 'problemas': False, 'cruzeiro': False, 'espero': False, 'recupere': False, 'soberba': False, 'relaxa': False, 'veremos': False, 'rodadas': False, 'bishona': False, 'leicester': False, 'champions': False, 'ucu': False, 'negro': False, 'pai': False, 'jovem': False, 'galinha': False, 'classificacao': False, 'glorioso': False, 'frustracoes': False, 'eliminados': False, 'participaram': False, 'fu': False, 'fanatismo': False, 'espiritual': False, 'ignoranca': False, 'pesquisar': False, 'campeonato': False, 'rebaixamento': False, 'existiam': False, 'ligas': False, 'suja': False, 'inelegivel': False, 'kkkkkkkkkkkkkkkkkkkkkkk': False, 'inveja': False, 'matahhhhhhh': False, 'muiuta': False, 'sorte': False, 'mulambos': False, 'setem': False, 'hepicanuncukkkkkkkkkk': False, 'inter': False, 'obrigacao': False, 'timetemos': False, 'bocatodos': False, 'qualificacaobarcaja': False, 'atencao': False, 'diretoria': False, 'competitivo': False, 'aguarde': False, 'mundias': False, 'pancadaria': False, 'confusao': False, 'escondendo': False, 'feliz': False, 'bahia': False, 'dalhe': False, 'porco': False, 'chup': False, 'molambos': False, 'ficaram': False, 'roubouao': False, 'nesta': False, 'gestao': False, 'ragnar': False, 'travesti': False, 'escandinavia': False, 'peritos': False, 'emocionada': False, 'posse': False, 'pericia': False, 'pecas': False, 'carro': False, 'sabotagem': False, 'queimar': False, 'dele': False, 'porta': False, 'investigador': False, 'investiga': False, 'vcefdpta': False, 'senta': False, 'boneca': False, 'aposto': False, 'banco': False, 'metade': False, 'otimista': False, 'c': False, 'uu': False, 'alex': False, 'exponha': False, 'abc': False, 'tome': False, 'industria': False, 'seca': False, 'sergipe': False, 'alagoas': False, 'bndaum': False, 'amapa': False, 'brotar': False, 'solo': False, 'desviado': False, 'recursos': False, 'capaz': False}, 'yes')\n"
     ]
    }
   ],
   "source": [
    "print(training_set[0])"
   ]
  },
  {
   "cell_type": "code",
   "execution_count": 28,
   "id": "2afe4b8e",
   "metadata": {},
   "outputs": [
    {
     "name": "stdout",
     "output_type": "stream",
     "text": [
      "Linear_classifier accuracy percent: 48.9556135770235\n"
     ]
    }
   ],
   "source": [
    "Linear_classifier = SklearnClassifier(LinearSVC())\n",
    "Linear_classifier.train(training_set)\n",
    "print(\"Linear_classifier accuracy percent:\", (nltk.classify.accuracy(Linear_classifier, test_set))*100)"
   ]
  },
  {
   "cell_type": "code",
   "execution_count": 29,
   "id": "573bff55",
   "metadata": {},
   "outputs": [
    {
     "name": "stdout",
     "output_type": "stream",
     "text": [
      "SVC_classifier accuracy percent: 50.13054830287206\n"
     ]
    }
   ],
   "source": [
    "SVC_classifier = SklearnClassifier(SVC())\n",
    "SVC_classifier.train(training_set)\n",
    "print(\"SVC_classifier accuracy percent:\", (nltk.classify.accuracy(SVC_classifier, test_set))*100)"
   ]
  },
  {
   "cell_type": "code",
   "execution_count": 58,
   "id": "9de127d2",
   "metadata": {},
   "outputs": [
    {
     "name": "stdout",
     "output_type": "stream",
     "text": [
      "['no']\n"
     ]
    }
   ],
   "source": [
    "dic, label = test_set[0]\n",
    "print(SVC_classifier.classify_many(dic))"
   ]
  },
  {
   "cell_type": "code",
   "execution_count": 31,
   "id": "f969512c",
   "metadata": {},
   "outputs": [],
   "source": [
    "retweet_count = []\n",
    "reply_count = []\n",
    "like_count = []\n",
    "quote_count = []\n",
    "\n",
    "numbers = ['0', '1', '2', '3', '4', '5', '6', '7', '8', '9']\n",
    "count = 0\n",
    "\n",
    "for i in public_metrics:\n",
    "    number = ''\n",
    "    for j in i:\n",
    "        if j in numbers:\n",
    "            number += j\n",
    "        if j == ',':\n",
    "            if count == 0:\n",
    "                retweet_count.append(int(number))\n",
    "                number = ''\n",
    "                count += 1\n",
    "            elif count == 1:\n",
    "                reply_count.append(int(number))\n",
    "                number = ''\n",
    "                count += 1\n",
    "            elif count == 2:\n",
    "                like_count.append(int(number))\n",
    "                number = ''\n",
    "                count += 1\n",
    "    if i.endswith(number):\n",
    "        quote_count.append(int(number))\n",
    "        number = ''\n",
    "        count = 0 "
   ]
  },
  {
   "cell_type": "code",
   "execution_count": 32,
   "id": "f0cdd4df",
   "metadata": {},
   "outputs": [],
   "source": [
    "total_retweets = sum(retweet_count)\n",
    "total_reply = sum(reply_count)\n",
    "total_like = sum(like_count)\n",
    "total_quote = sum(quote_count)"
   ]
  },
  {
   "cell_type": "code",
   "execution_count": 33,
   "id": "658852af",
   "metadata": {},
   "outputs": [
    {
     "data": {
      "text/plain": [
       "Text(0.5, 0.98, 'Engagement')"
      ]
     },
     "execution_count": 33,
     "metadata": {},
     "output_type": "execute_result"
    },
    {
     "data": {
      "image/png": "[encoded data removed]",
      "text/plain": [
       "<Figure size 648x216 with 1 Axes>"
      ]
     },
     "metadata": {
      "needs_background": "light"
     },
     "output_type": "display_data"
    }
   ],
   "source": [
    "x_plot = [\"retweet\", \"reply\", \"like\", \"quote\"]\n",
    "y_plot = [total_retweets, total_reply, total_like, total_quote]\n",
    "\n",
    "fig, axs = plt.subplots(figsize=(9, 3), sharey=True)\n",
    "axs.bar(x_plot, y_plot)\n",
    "fig.suptitle('Engagement')"
   ]
  },
  {
   "cell_type": "code",
   "execution_count": 34,
   "id": "f6eb3fa8",
   "metadata": {},
   "outputs": [
    {
     "name": "stdout",
     "output_type": "stream",
     "text": [
      "119058 81 378 6\n"
     ]
    }
   ],
   "source": [
    "print(total_retweets, total_reply, total_like, total_quote)"
   ]
  },
  {
   "cell_type": "code",
   "execution_count": 35,
   "id": "46100821",
   "metadata": {},
   "outputs": [],
   "source": [
    "def getFollwersOfMostRetweetUser(user_tweets, retweet_count):\n",
    "    index_max = retweet_count.index(max(retweet_count))\n",
    "    user_with_most_retweets = user_tweets[index_max].split(\" \")\n",
    "    id_user_with_most_retweets = user_with_most_retweets[0]    \n",
    "    \n",
    "    followers = client.get_users_followers(int(id_user_with_most_retweets), max_results=1000)[0]\n",
    "    \n",
    "    return (max(retweet_count), len(followers), user_with_most_retweets)\n",
    "\n",
    "max_retweets, followers_count, user_most_retweets = getFollwersOfMostRetweetUser(user_tweets, retweet_count)"
   ]
  },
  {
   "cell_type": "code",
   "execution_count": 36,
   "id": "ac668620",
   "metadata": {},
   "outputs": [
    {
     "name": "stdout",
     "output_type": "stream",
     "text": [
      "2302 1000\n"
     ]
    }
   ],
   "source": [
    "print(max_retweets, followers_count)"
   ]
  },
  {
   "cell_type": "code",
   "execution_count": 37,
   "id": "44f7c8fc",
   "metadata": {},
   "outputs": [
    {
     "data": {
      "text/plain": [
       "<BarContainer object of 2 artists>"
      ]
     },
     "execution_count": 37,
     "metadata": {},
     "output_type": "execute_result"
    },
    {
     "data": {
      "image/png": "[encoded data removed]",
      "text/plain": [
       "<Figure size 648x216 with 1 Axes>"
      ]
     },
     "metadata": {
      "needs_background": "light"
     },
     "output_type": "display_data"
    }
   ],
   "source": [
    "x_user_most_retweets = ['Retweets', 'Followers']\n",
    "y_user_most_retweets = [max_retweets, followers_count]\n",
    "\n",
    "fig, axs = plt.subplots(figsize=(9, 3), sharey=True)\n",
    "axs.bar(x_user_most_retweets, y_user_most_retweets)"
   ]
  },
  {
   "cell_type": "code",
   "execution_count": 38,
   "id": "c94b022c",
   "metadata": {},
   "outputs": [
    {
     "name": "stdout",
     "output_type": "stream",
     "text": [
      "['RT', '@FlavioBolsonaro:', 'O', 'ladrão', 'do', 'Lula', 'não', 'faz', 'isso', 'nem', 'na', 'cidade', 'em', 'que', 'ele', 'nasceu…SERÁ', 'VAIADO!Esse', 'é', 'o', 'reconhecimento', 'que', 'o', 'povo', 'brasile…']\n"
     ]
    }
   ],
   "source": [
    "print(user_most_retweets[1:])"
   ]
  },
  {
   "cell_type": "code",
   "execution_count": 39,
   "id": "3ec14128",
   "metadata": {},
   "outputs": [
    {
     "name": "stdout",
     "output_type": "stream",
     "text": [
      "https://twitter.com/i/oauth2/authorize?response_type=code&client_id=UXJWX3BWbUpqRUdQSjNxeFVzb1c6MTpjaQ&redirect_uri=https%3A%2F%2Fdata-api.twitter.com%2Finsights%2Fengagement&scope=tweet.read+users.read+offline.access&state=LqYI37EaVbwDRlhzzWMXEDjFlKtk3X&code_challenge=XljLYsFKm5JQW6dpRCk1xOz3I5qpwyxm8rTt48pt6ns&code_challenge_method=S256\n"
     ]
    }
   ],
   "source": [
    "oauth2_user_handler = tweepy.OAuth2UserHandler(client_id=CLIENT_ID, redirect_uri=REDIRECT_URI, scope=['tweet.read', 'users.read', 'offline.access'])\n",
    "\n",
    "print(oauth2_user_handler.get_authorization_url())"
   ]
  },
  {
   "cell_type": "code",
   "execution_count": 40,
   "id": "fa4db9ed",
   "metadata": {},
   "outputs": [],
   "source": [
    "# full_url = input(\"Paste in the full URL after you authorized your App: \")\n",
    "# access_token_auth = oauth2_user_handler.fetch_token(full_url)\n",
    "# access_auth = access_token_auth['access_token']"
   ]
  },
  {
   "cell_type": "code",
   "execution_count": 41,
   "id": "a9630fcf",
   "metadata": {},
   "outputs": [],
   "source": [
    "oauth1_user_handler = tweepy.OAuth1UserHandler(\n",
    "    API_KEY, API_SECRET,\n",
    "    callback=REDIRECT_URI\n",
    ")"
   ]
  },
  {
   "cell_type": "code",
   "execution_count": 42,
   "id": "6bd36fef",
   "metadata": {},
   "outputs": [
    {
     "name": "stdout",
     "output_type": "stream",
     "text": [
      "https://api.twitter.com/oauth/authenticate?oauth_token=5TotpgAAAAABcrNaAAABge_FvYg\n"
     ]
    }
   ],
   "source": [
    "print(oauth1_user_handler.get_authorization_url(signin_with_twitter=True))"
   ]
  },
  {
   "cell_type": "code",
   "execution_count": null,
   "id": "67324416",
   "metadata": {},
   "outputs": [],
   "source": []
  }
 ],
 "metadata": {
  "kernelspec": {
   "display_name": "Python 3",
   "language": "python",
   "name": "python3"
  },
  "language_info": {
   "codemirror_mode": {
    "name": "ipython",
    "version": 3
   },
   "file_extension": ".py",
   "mimetype": "text/x-python",
   "name": "python",
   "nbconvert_exporter": "python",
   "pygments_lexer": "ipython3",
   "version": "3.8.8"
  }
 },
 "nbformat": 4,
 "nbformat_minor": 5
}
