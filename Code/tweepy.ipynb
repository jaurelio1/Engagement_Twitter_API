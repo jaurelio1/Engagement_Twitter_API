{
 "cells": [
  {
   "cell_type": "code",
   "execution_count": 1,
   "id": "936ac842",
   "metadata": {},
   "outputs": [],
   "source": [
    "import tweepy"
   ]
  },
  {
   "cell_type": "code",
   "execution_count": 2,
   "id": "799378eb",
   "metadata": {},
   "outputs": [],
   "source": [
    "API_KEY = 'hGwC17TsW1W99swjFCXPwi5i9'\n",
    "API_SECRET = 'KmgC8oGcs7uvl9B7HDMi8KUUSAzsTPOPr3vHVt9XJOiks7C5Lw'\n",
    "BEARER_TOKEN = 'AAAAAAAAAAAAAAAAAAAAAFqzcgEAAAAAh%2BilS8IkEYr68z%2BPlwkAGa0CAys%3Du3jZnN5YlQE3OS1hZUEq942I1fQ0kbriuNfuUyla7IqJKqL6CF'\n",
    "ACCESS_TOKEN = '1519454932876808194-D8CTAAIZuvBdrqWuPecRSNX1p0S3cf'\n",
    "ACCESS_TOKEN_SECRET = 'pUZatEZVOuTqBdFaBFAvts9A3hj3y7PvLaLKTpSIxUac9'"
   ]
  },
  {
   "cell_type": "code",
   "execution_count": 3,
   "id": "4df0bc6b",
   "metadata": {},
   "outputs": [],
   "source": [
    "client = tweepy.Client(bearer_token=BEARER_TOKEN)\n",
    "\n",
    "query = 'Lula ladrao OR Bolsonaro gado -is:retweet'\n",
    "\n",
    "response = client.search_recent_tweets(query=query, max_results=20, tweet_fields=['created_at', 'public_metrics'], expansions=['author_id'])"
   ]
  },
  {
   "cell_type": "code",
   "execution_count": 11,
   "id": "aa625c5c",
   "metadata": {},
   "outputs": [
    {
     "name": "stdout",
     "output_type": "stream",
     "text": [
      "0\n"
     ]
    }
   ],
   "source": [
    "tweets = [tweet for tweet in response.data]"
   ]
  },
  {
   "cell_type": "code",
   "execution_count": 16,
   "id": "9c8cc5e8",
   "metadata": {},
   "outputs": [],
   "source": [
    "save_tweets = open('Tweets.txt', 'a')\n",
    "\n",
    "for tweet in tweets:\n",
    "    first_line = str(tweet['id']) + \" \" + tweet['text'] + \"\\n\"     \n",
    "    save_tweets.write(first_line)\n",
    "    second_line = \"retweet_count: \" +  str(tweet.public_metrics['retweet_count']) + \", \" + \"reply_count: \" + str(tweet.public_metrics['reply_count']) + \", \" + \"like_count: \" + str(tweet.public_metrics['like_count']) + \", \" + \"quote_count: \" + str(tweet.public_metrics['quote_count']) + \"\\n\"\n",
    "    save_tweets.write(second_line)\n",
    "save_tweets.close()"
   ]
  },
  {
   "cell_type": "code",
   "execution_count": 35,
   "id": "44d29b25",
   "metadata": {},
   "outputs": [
    {
     "name": "stdout",
     "output_type": "stream",
     "text": [
      "['retweet_count: 0, reply_count: 0, like_count: 0, quote_count: 0', 'retweet_count: 0, reply_count: 0, like_count: 0, quote_count: 0', 'retweet_count: 17, reply_count: 0, like_count: 0, quote_count: 0', 'retweet_count: 19, reply_count: 0, like_count: 0, quote_count: 0', 'retweet_count: 0, reply_count: 0, like_count: 0, quote_count: 0', 'retweet_count: 1, reply_count: 0, like_count: 0, quote_count: 0', 'retweet_count: 0, reply_count: 0, like_count: 0, quote_count: 0', 'retweet_count: 0, reply_count: 0, like_count: 0, quote_count: 0', 'retweet_count: 17, reply_count: 0, like_count: 0, quote_count: 0', 'retweet_count: 0, reply_count: 0, like_count: 0, quote_count: 0', 'retweet_count: 1, reply_count: 0, like_count: 0, quote_count: 0', 'retweet_count: 0, reply_count: 0, like_count: 0, quote_count: 0', 'retweet_count: 0, reply_count: 1, like_count: 0, quote_count: 0', 'retweet_count: 19, reply_count: 0, like_count: 0, quote_count: 0', 'retweet_count: 0, reply_count: 0, like_count: 0, quote_count: 0', 'retweet_count: 0, reply_count: 0, like_count: 0, quote_count: 0', 'retweet_count: 0, reply_count: 0, like_count: 0, quote_count: 0', 'retweet_count: 2, reply_count: 0, like_count: 0, quote_count: 0', 'retweet_count: 4, reply_count: 0, like_count: 0, quote_count: 0', 'retweet_count: 2, reply_count: 0, like_count: 0, quote_count: 0']\n"
     ]
    }
   ],
   "source": [
    "read_tweets = open('Tweets.txt', 'r')\n",
    "user_tweets = []\n",
    "public_metrics = []\n",
    "read = read_tweets.read().split('\\n')\n",
    "\n",
    "word = ''\n",
    "for i in read:\n",
    "    if i.find('retweet_count: ') != -1:\n",
    "        public_metrics.append(i)\n",
    "        user_tweets.append(word)\n",
    "        word = ''\n",
    "        continue        \n",
    "    word += i \n",
    "\n",
    "read_tweets.close()"
   ]
  },
  {
   "cell_type": "code",
   "execution_count": 38,
   "id": "f969512c",
   "metadata": {},
   "outputs": [],
   "source": [
    "retweet_count = []\n",
    "reply_count = []\n",
    "like_count = []\n",
    "quote_count = []\n",
    "\n",
    "numbers = ['0', '1', '2', '3', '4', '5', '6', '7', '8', '9']\n",
    "count = 0\n",
    "\n",
    "for i in public_metrics:\n",
    "    number = ''\n",
    "    for j in i:\n",
    "        if j in numbers:\n",
    "            number += j\n",
    "        if j == ',':\n",
    "            if count == 0:\n",
    "                retweet_count.append(int(number))\n",
    "                number = ''\n",
    "                count += 1\n",
    "            elif count == 1:\n",
    "                reply_count.append(int(number))\n",
    "                number = ''\n",
    "                count += 1\n",
    "            elif count == 2:\n",
    "                like_count.append(int(number))\n",
    "                number = ''\n",
    "                count += 1\n",
    "    if i.endswith(number):\n",
    "        quote_count.append(int(number))\n",
    "        number = ''\n",
    "        count = 0 "
   ]
  },
  {
   "cell_type": "code",
   "execution_count": 41,
   "id": "10bd9832",
   "metadata": {},
   "outputs": [
    {
     "name": "stdout",
     "output_type": "stream",
     "text": [
      "['1529989895502155789 @DeputadoFederal @LulaOficial O Lula é Ladrão e sociopata. #LulaNaoEinocenteBabaca https://t.co/X9tt6DSiGA', '1529989851491323926 @folha Lula lider desde 2018 até o juiz ladrão entrar em cena.', '1529989739675373585 RT @Eduardo_o_velho: Meu mantra diário é: EU NÃO QUERO E NÃO ACEITO UM LADRÃO COMO PRESIDENTE DO MEU BRASIL! LULOPETISMO NUNCA MAIS! LULA L…', '1529989524927008769 RT @realDiegoV10: Poxa, 11 milhões? Esses institutos são bem carinhos heim. Nenhum desconto? #Haddad #Lula #Ladrão #Bolsoanro2022 #Bolsoanr…', '1529989484967866368 Observando 99% dos comentários chego a conclusão que 9 dedos Lula Ladrão vai ter um seleta audiência. https://t.co/KomGtVVpww', '1529989465699241997 RT @pfsousa7: Como a data folha diz que o Lula ladrão lidera com folga sem colocar o pés na rua e bolsonaro que tem só 27% consegue arastar…', '1529989425224208396 @randolfeap Sai para rua LULA bandido e ladrão.', '1529989400809164802 @BelaMegale Você está fazendo propaganda pro Lula, um ladrão do SEU imposto?Não acha isso um ato imbecil de sua parte como jornalista?', '1529989356152401921 RT @Eduardo_o_velho: Meu mantra diário é: EU NÃO QUERO E NÃO ACEITO UM LADRÃO COMO PRESIDENTE DO MEU BRASIL! LULOPETISMO NUNCA MAIS! LULA L…', '1529989083325517826 @senadorhumberto O doente a pesquisa está no povo,  mada o seu ladrão do Lula ir para ruas tão simplis kkkkk', '1529989063369019394 RT @Moacirx42: Bolsonaro Presidente 2022!Lula ladrão corrupto genocida!Dragao manda ele vir pra rua, queremos abraçar ele! https://t.co/4…', '1529988888906944546 @ReginaMoura134 @casado_chico @jairbolsonaro @mdregional_br E o Lula é ladrão, o supremo é vendido, o Senado uma lesma, a Câmara Federal é acovardada, e vc você, é a famosa quem na fila do pão?', '1529988880950349825 @fgust @BlogdoNoblat Isso acontece Todos os dias, Acorda garoto, até o ladrão do Lula sabe que não tem essa vantagem.', '1529988819646402561 RT @realDiegoV10: Poxa, 11 milhões? Esses institutos são bem carinhos heim. Nenhum desconto? #Haddad #Lula #Ladrão #Bolsoanro2022 #Bolsoanr…', '1529988788742770697 Lula ladrão genocida ditador corrupto https://t.co/9uMPjTQmkE', '1529988770203852802 @AlineJuliete13 QUEM VOTA EM LULA TEM O MESMO CARÁTER DO LADRÃO. #LulaNuncaMais #LulaVergonhaDoBrasil', '1529988747063971863 @folha Mostra imagens do ladrão Lula, nas ruas.', '1529988667401445377 RT @welbert__pedro: Lula já tentou convencer os brasileiros de que não sabia nada do mensalão, de que o Foro de SP não existia e até de que…', '1529988661110099974 RT @Grgula1: #Bolsonaronoprimeiroturno caralho! Lula filho ladrão filho da puta!', '1529988613014016012 RT @paulofarias_: @erikakokay URGENTE: LULA LADRÃO NÃO SAI NAS RUAS SEM SER CHAMANDO DE LADRÃO']\n"
     ]
    }
   ],
   "source": [
    "print(user_tweets)"
   ]
  }
 ],
 "metadata": {
  "kernelspec": {
   "display_name": "Python 3",
   "language": "python",
   "name": "python3"
  },
  "language_info": {
   "codemirror_mode": {
    "name": "ipython",
    "version": 3
   },
   "file_extension": ".py",
   "mimetype": "text/x-python",
   "name": "python",
   "nbconvert_exporter": "python",
   "pygments_lexer": "ipython3",
   "version": "3.8.8"
  }
 },
 "nbformat": 4,
 "nbformat_minor": 5
}
