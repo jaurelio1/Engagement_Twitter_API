{
 "cells": [
  {
   "cell_type": "code",
   "execution_count": 1,
   "id": "936ac842",
   "metadata": {},
   "outputs": [],
   "source": [
    "import tweepy"
   ]
  },
  {
   "cell_type": "code",
   "execution_count": 2,
   "id": "799378eb",
   "metadata": {},
   "outputs": [],
   "source": [
    "API_KEY = 'hGwC17TsW1W99swjFCXPwi5i9'\n",
    "API_SECRET = 'KmgC8oGcs7uvl9B7HDMi8KUUSAzsTPOPr3vHVt9XJOiks7C5Lw'\n",
    "BEARER_TOKEN = 'AAAAAAAAAAAAAAAAAAAAAFqzcgEAAAAAh%2BilS8IkEYr68z%2BPlwkAGa0CAys%3Du3jZnN5YlQE3OS1hZUEq942I1fQ0kbriuNfuUyla7IqJKqL6CF'\n",
    "ACCESS_TOKEN = '1519454932876808194-D8CTAAIZuvBdrqWuPecRSNX1p0S3cf'\n",
    "ACCESS_TOKEN_SECRET = 'pUZatEZVOuTqBdFaBFAvts9A3hj3y7PvLaLKTpSIxUac9'"
   ]
  },
  {
   "cell_type": "code",
   "execution_count": 3,
   "id": "4df0bc6b",
   "metadata": {},
   "outputs": [],
   "source": [
    "client = tweepy.Client(bearer_token=BEARER_TOKEN)\n",
    "\n",
    "query = 'Lula ladrao OR Bolsonaro gado -is:retweet'\n",
    "\n",
    "response = client.search_recent_tweets(query=query, max_results=20, tweet_fields=['created_at', 'public_metrics'], expansions=['author_id'])"
   ]
  },
  {
   "cell_type": "code",
   "execution_count": 11,
   "id": "aa625c5c",
   "metadata": {},
   "outputs": [
    {
     "name": "stdout",
     "output_type": "stream",
     "text": [
      "0\n"
     ]
    }
   ],
   "source": [
    "tweets = [tweet for tweet in response.data]\n",
    "print(tweets[0].public_metrics['like_count'])"
   ]
  },
  {
   "cell_type": "code",
   "execution_count": 16,
   "id": "9c8cc5e8",
   "metadata": {},
   "outputs": [],
   "source": [
    "save_tweets = open('Tweets.txt', 'a')\n",
    "\n",
    "for tweet in tweets:\n",
    "    first_line = str(tweet['id']) + \" \" + tweet['text'] + \"\\n\"     \n",
    "    save_tweets.write(first_line)\n",
    "    second_line = \"retweet_count: \" +  str(tweet.public_metrics['retweet_count']) + \", \" + \"reply_count: \" + str(tweet.public_metrics['reply_count']) + \", \" + \"like_count: \" + str(tweet.public_metrics['like_count']) + \", \" + \"quote_count: \" + str(tweet.public_metrics['quote_count']) + \"\\n\"\n",
    "    save_tweets.write(second_line)\n",
    "save_tweets.close()"
   ]
  },
  {
   "cell_type": "code",
   "execution_count": 17,
   "id": "44d29b25",
   "metadata": {},
   "outputs": [
    {
     "name": "stdout",
     "output_type": "stream",
     "text": [
      "{1252586188931772417: <User id=1252586188931772417 name=Regina Cély - RJ 🦋 - 2️⃣2️⃣ username=reginacls57yah1>, 1529431204797329410: <User id=1529431204797329410 name=Tyler Vinicius username=TylerVinicius2>, 1449516078481219584: <User id=1449516078481219584 name=Wendell Alonso🇧🇷🇧🇷🇧🇷 username=wendelljunior35>, 1465109982077198338: <User id=1465109982077198338 name=Sonia Guerra username=soniaguerra867>, 1109599591: <User id=1109599591 name=marco a coutinho username=MarcoACoutinho>, 378768345: <User id=378768345 name=Claudio Santos username=claudio_gaspar>, 1287800851109744648: <User id=1287800851109744648 name=James.bond237 username=JBond237>, 626092771: <User id=626092771 name=M_quintino username=M_quintino2012>, 1104984122726985728: <User id=1104984122726985728 name=Ana username=Ana27281122>, 368478225: <User id=368478225 name=prof: marcos aurelio username=marcos198489>, 861129035400830981: <User id=861129035400830981 name=carol 🎸 username=carolinxss>, 1519758860592062466: <User id=1519758860592062466 name=Lindaise rodrigues dos santos username=DosLindaise>, 1488304505183744002: <User id=1488304505183744002 name=Audrey username=Audrey10430815>, 965133648696692736: <User id=965133648696692736 name=fernando username=lwkzera>, 1275521417715605507: <User id=1275521417715605507 name=Cruiz username=Cruz36935179>, 1456952446580842496: <User id=1456952446580842496 name=A_Costa1132🇧🇷🇮🇱🇺🇸 username=A_costa1132>, 623129514: <User id=623129514 name=Lorpa username=frame235>, 1518812241621098496: <User id=1518812241621098496 name=Genilson Ferreira de Brito username=gfbrito2>, 1254941197484937219: <User id=1254941197484937219 name=PatriotaⓇ🔸 username=PauloLourenco_p>, 1524920868375232520: <User id=1524920868375232520 name=Antonio Martins username=tonimartins2022>}\n"
     ]
    }
   ],
   "source": [
    "users = {u['id']: u for u in response.includes['users']}\n",
    "print(users)"
   ]
  },
  {
   "cell_type": "code",
   "execution_count": 10,
   "id": "f969512c",
   "metadata": {},
   "outputs": [
    {
     "name": "stdout",
     "output_type": "stream",
     "text": [
      "20\n"
     ]
    }
   ],
   "source": [
    "entity = tweets[0]\n",
    "print(len(tweets))"
   ]
  },
  {
   "cell_type": "code",
   "execution_count": 18,
   "id": "15279259",
   "metadata": {},
   "outputs": [
    {
     "name": "stdout",
     "output_type": "stream",
     "text": [
      "Response(data=[<Tweet id=1529645520943460352 text='@Amoresvidafeliz Lula é  Ladrão \\nE esse um crápula https://t.co/kJu7rmIwrR'>, <Tweet id=1529645370187333633 text='@juniinbarreira @cleidsontex @nave1964 @PompeodeMattos já ouviu falar no petrolão? em que o Brasil melhorou de lá para cá? mudanças insignificantes para dar ates de mudanças. Lula é ladrão cara, tanto quando bolsonaro tambem.'>, <Tweet id=1529645265870798850 text='@LulaOficial Lula vai tomar no cu seu ladrao safado filho da puta'>, <Tweet id=1529645129589526528 text='RT @ericlinsg: “99,9% das pessoas que chamam Lula de ladrão não sabem o que foi, exatamente, que ele roubou”.\\n\\nQuem fala isso é o tipo de c…'>, <Tweet id=1529645024694222852 text='@MarcoLobo52 @Bronterock @martinsymiguel Sim!\\nO problema não se trata disso. \\n\\nTambém respeito sua opinião no entanto aposto na dobradinha Lula &amp; Kalil, inclusive vc que se refere ao ex-presidente Lula como ladrão reúna as provas e leve à PF, STF ou MPF e talvez eles o tirem da eleição.\\nSe não tirarem vai levar fácil'>, <Tweet id=1529644360979062784 text='Para vocês pobretão, apoiador do ladrão Lula que diz que vcs tem duas tv em casa que não precisa ter esse luxo todo, apreciem a onde foi parar seus impostos desviados pelo larápio de nove dedos.\\nA mansão de Lula e Rosângela: o novo endereço. https://t.co/qkiYX6tndF via @NI 24h'>, <Tweet id=1529644115469774848 text='Lula enviou Jaques Wagner como emissário para reuniões com autoridades dos EUA, dizem fontes https://t.co/K6LLbICZNU via @InfoMoney,,,Todo ladrão,corrupto, chefe de quadrilha,lava dinheiro tem medo da justiça americana..Esse um deles entrar la não sai mais..🙏🙏'>, <Tweet id=1529643997484007424 text='RT @DaianeMels: Boa tarde queridos, p quem chegou agora ou p quem ainda tem alguma dúvida! \\n\\n1- Sou de Direita, Lula é ladrão;\\n\\n2- Bandido…'>, <Tweet id=1529643950788775936 text='@wolffmoro A história não apagará que Lula é um ladrao ... que triste viver num país perdido em corrupção e pessoas de bem ter que viver esse pesadelo de um ladrao concorrer a presidência e ainda ganhar ...'>, <Tweet id=1529643869377290243 text='@VEJA Deixa ver se eu entendi,  o ladrão(lula) vai ser candidato mesmo condenado em três instâncias, e o deputado inocente não pode ser candidato ao senado pq o cabeça de ovo não respeita a constituição!!!???'>, <Tweet id=1529643716742455298 text='@jarofgarden lula ladrao roubou meu coração ❤️❤️❤️❤️❤️❤️'>, <Tweet id=1529643715681308672 text='@LulaOficial Lula tu já  misturou tu chamou  Deus  de ladrão   que  faz  parte da  quadrilha  tu disse que ele é  petista'>, <Tweet id=1529643580872171527 text='@hazzychalamet @marcelo_saless @UOL Todos eram inocentes? Ou só a alma mais honesta do planeta? Para vai, Lula é ladrão não tem como negar https://t.co/B4NA2A1CgA'>, <Tweet id=1529643162427326464 text='@drvgvla @habrevv Legalmente falando ele nunca deixou de ser inocente pq nenhum processo criminal contra ele transitou em julgado. A prisão dele foi fruto de ativismo judicial que \"violou\" a presunção de inocência permitindo a prisão após condenação em segunda instância\\n\\nDisclaimer: lula é ladrao'>, <Tweet id=1529643050632368129 text='@VEJA @radaronline São criminosos igual o Lula ladrão  !\\n\\nOlha a polícia que esses bandidos que apoia bandidos querem para o rio de janeiro ! Artistas lacradores/drogados não tem moral nenhuma com a população de bem brasileira. https://t.co/wLGSgr5Icq'>, <Tweet id=1529642957900550151 text='@ErusRicardo @brasil247 Pra esquerda caloteiro,ladrão e  quem dar volta nos sócios são decentes!!o Lula é  um Ladrão decente que arrombou os cofres públicos!!!ainda tem gente que enxergam ele como inocente!!aqui está a cena do crime de Lula e sua quadrilha!!👇👇👇👇👇 https://t.co/Yg7o6Rl5Wj'>, <Tweet id=1529642886760898560 text='@RafaelVieiraAl7 @SamPancher Eu sempre tenho a imagem do Bolsonaro matando uma criança em praça pública. E quando vc pensa que finalmente o gado irá ficar chocado, algum deles diz: \"obrigado mito. Nos salvou do anticristo\".'>, <Tweet id=1529642805454323717 text='@DiegoGemini2 @revistaforum Quem vota no Bolsonaro é  GADO\\nQuem vota no Lula JUMENTO?'>, <Tweet id=1529642720846921732 text='@monicabergamo Bandido bom é bandido morto. Parabéns aos  Policiais e ao BOP. 💀 ENTENDEMOS SUA PREOCUPAÇÃO, FORAM MENOS 20 VOTOS PRO SEU LULA LADRÃO. O choro é livre conforme disse sua parça MAJU 🤣🤣🤣'>, <Tweet id=1529642601644802048 text='@Brasil8128 @folha Menos 22 eleitores de Lula ladrão. 😁😁❤'>], includes={'users': [<User id=1252586188931772417 name=Regina Cély - RJ 🦋 - 2️⃣2️⃣ username=reginacls57yah1>, <User id=1529431204797329410 name=Tyler Vinicius username=TylerVinicius2>, <User id=1449516078481219584 name=Wendell Alonso🇧🇷🇧🇷🇧🇷 username=wendelljunior35>, <User id=1465109982077198338 name=Sonia Guerra username=soniaguerra867>, <User id=1109599591 name=marco a coutinho username=MarcoACoutinho>, <User id=378768345 name=Claudio Santos username=claudio_gaspar>, <User id=1287800851109744648 name=James.bond237 username=JBond237>, <User id=626092771 name=M_quintino username=M_quintino2012>, <User id=1104984122726985728 name=Ana username=Ana27281122>, <User id=368478225 name=prof: marcos aurelio username=marcos198489>, <User id=861129035400830981 name=carol 🎸 username=carolinxss>, <User id=1519758860592062466 name=Lindaise rodrigues dos santos username=DosLindaise>, <User id=1488304505183744002 name=Audrey username=Audrey10430815>, <User id=965133648696692736 name=fernando username=lwkzera>, <User id=1275521417715605507 name=Cruiz username=Cruz36935179>, <User id=1456952446580842496 name=A_Costa1132🇧🇷🇮🇱🇺🇸 username=A_costa1132>, <User id=623129514 name=Lorpa username=frame235>, <User id=1518812241621098496 name=Genilson Ferreira de Brito username=gfbrito2>, <User id=1254941197484937219 name=PatriotaⓇ🔸 username=PauloLourenco_p>, <User id=1524920868375232520 name=Antonio Martins username=tonimartins2022>]}, errors=[], meta={'newest_id': '1529645520943460352', 'oldest_id': '1529642601644802048', 'result_count': 20, 'next_token': 'b26v89c19zqg8o3fpywol5m0lloiffo33zf2fg16lmmil'})\n"
     ]
    }
   ],
   "source": [
    "print(response)"
   ]
  }
 ],
 "metadata": {
  "kernelspec": {
   "display_name": "Python 3",
   "language": "python",
   "name": "python3"
  },
  "language_info": {
   "codemirror_mode": {
    "name": "ipython",
    "version": 3
   },
   "file_extension": ".py",
   "mimetype": "text/x-python",
   "name": "python",
   "nbconvert_exporter": "python",
   "pygments_lexer": "ipython3",
   "version": "3.8.8"
  }
 },
 "nbformat": 4,
 "nbformat_minor": 5
}
