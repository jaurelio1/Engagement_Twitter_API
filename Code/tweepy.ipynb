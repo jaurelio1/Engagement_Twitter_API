{
 "cells": [
  {
   "cell_type": "code",
   "execution_count": 1,
   "id": "a1c44597",
   "metadata": {},
   "outputs": [
    {
     "name": "stdout",
     "output_type": "stream",
     "text": [
      "Requirement already satisfied: clean-text in /home/aurelio/anaconda3/lib/python3.8/site-packages (0.6.0)\n",
      "Requirement already satisfied: emoji<2.0.0,>=1.0.0 in /home/aurelio/anaconda3/lib/python3.8/site-packages (from clean-text) (1.7.0)\n",
      "Requirement already satisfied: ftfy<7.0,>=6.0 in /home/aurelio/anaconda3/lib/python3.8/site-packages (from clean-text) (6.1.1)\n",
      "Requirement already satisfied: wcwidth>=0.2.5 in /home/aurelio/anaconda3/lib/python3.8/site-packages (from ftfy<7.0,>=6.0->clean-text) (0.2.5)\n"
     ]
    }
   ],
   "source": [
    "!pip install clean-text"
   ]
  },
  {
   "cell_type": "code",
   "execution_count": 2,
   "id": "936ac842",
   "metadata": {},
   "outputs": [],
   "source": [
    "import tweepy"
   ]
  },
  {
   "cell_type": "code",
   "execution_count": 3,
   "id": "5e89bbe7",
   "metadata": {},
   "outputs": [],
   "source": [
    "import re\n",
    "import unicodedata\n",
    "import string"
   ]
  },
  {
   "cell_type": "code",
   "execution_count": 4,
   "id": "11175331",
   "metadata": {},
   "outputs": [
    {
     "name": "stderr",
     "output_type": "stream",
     "text": [
      "Since the GPL-licensed package `unidecode` is not installed, using Python's `unicodedata` package which yields worse results.\n"
     ]
    }
   ],
   "source": [
    "from cleantext import clean"
   ]
  },
  {
   "cell_type": "code",
   "execution_count": 5,
   "id": "21b8e266",
   "metadata": {},
   "outputs": [],
   "source": [
    "import nltk\n",
    "from nltk.tokenize import word_tokenize\n",
    "from nltk.corpus import stopwords"
   ]
  },
  {
   "cell_type": "code",
   "execution_count": 6,
   "id": "80a06a93",
   "metadata": {},
   "outputs": [],
   "source": [
    "from nltk.classify.scikitlearn import SklearnClassifier\n",
    "from sklearn.svm import SVC, LinearSVC, NuSVC"
   ]
  },
  {
   "cell_type": "code",
   "execution_count": 7,
   "id": "10bd9832",
   "metadata": {},
   "outputs": [],
   "source": [
    "import numpy as np\n",
    "import matplotlib.pyplot as plt"
   ]
  },
  {
   "cell_type": "code",
   "execution_count": 8,
   "id": "799378eb",
   "metadata": {},
   "outputs": [],
   "source": [
    "#Create your own keys on Twitter Developer\n",
    "API_KEY = 'hGwC17TsW1W99swjFCXPwi5i9'\n",
    "API_SECRET = 'KmgC8oGcs7uvl9B7HDMi8KUUSAzsTPOPr3vHVt9XJOiks7C5Lw'\n",
    "BEARER_TOKEN = 'AAAAAAAAAAAAAAAAAAAAAFqzcgEAAAAAh%2BilS8IkEYr68z%2BPlwkAGa0CAys%3Du3jZnN5YlQE3OS1hZUEq942I1fQ0kbriuNfuUyla7IqJKqL6CF'\n",
    "ACCESS_TOKEN = '1519454932876808194-D8CTAAIZuvBdrqWuPecRSNX1p0S3cf'\n",
    "ACCESS_TOKEN_SECRET = 'pUZatEZVOuTqBdFaBFAvts9A3hj3y7PvLaLKTpSIxUac9'\n",
    "\n",
    "CLIENT_ID = 'UXJWX3BWbUpqRUdQSjNxeFVzb1c6MTpjaQ'\n",
    "CLIENT_SECRET = 'V6enZ5OHrb8rjZ-75TfsUCOGy6Xse_kuISE7-jbdmEPnjS8vx4'\n",
    "REDIRECT_URI = 'https://data-api.twitter.com/insights/engagement' "
   ]
  },
  {
   "cell_type": "code",
   "execution_count": 9,
   "id": "e779ddd0",
   "metadata": {},
   "outputs": [],
   "source": [
    "client = tweepy.Client(bearer_token=BEARER_TOKEN)"
   ]
  },
  {
   "cell_type": "code",
   "execution_count": 10,
   "id": "364c33b2",
   "metadata": {},
   "outputs": [],
   "source": [
    "query = 'Lula ladrao OR Bolsonaro gado -is:retweet'"
   ]
  },
  {
   "cell_type": "code",
   "execution_count": 11,
   "id": "4df0bc6b",
   "metadata": {},
   "outputs": [],
   "source": [
    "response = client.search_recent_tweets(query=query, max_results=100, tweet_fields=['created_at', 'public_metrics'], expansions=['author_id'])"
   ]
  },
  {
   "cell_type": "code",
   "execution_count": 12,
   "id": "aa625c5c",
   "metadata": {},
   "outputs": [],
   "source": [
    "tweets = [tweet for tweet in response.data] "
   ]
  },
  {
   "cell_type": "code",
   "execution_count": 13,
   "id": "9c8cc5e8",
   "metadata": {},
   "outputs": [],
   "source": [
    "#Here I prepare an .txt that will append the 100 responses\n",
    "save_tweets = open('Tweets.txt', 'a')\n",
    "\n",
    "for tweet in tweets:\n",
    "    first_line = str(tweet['author_id']) + \" \" + tweet['text'] + \"\\n\"     \n",
    "    save_tweets.write(first_line)\n",
    "    second_line = \"retweet_count: \" +  str(tweet.public_metrics['retweet_count']) + \", \" + \"reply_count: \" + str(tweet.public_metrics['reply_count']) + \", \" + \"like_count: \" + str(tweet.public_metrics['like_count']) + \", \" + \"quote_count: \" + str(tweet.public_metrics['quote_count']) + \"\\n\"\n",
    "    save_tweets.write(second_line)\n",
    "save_tweets.close()"
   ]
  },
  {
   "cell_type": "code",
   "execution_count": 14,
   "id": "44d29b25",
   "metadata": {},
   "outputs": [
    {
     "name": "stdout",
     "output_type": "stream",
     "text": [
      "['1530301549041295360 @AtilaGPRGPR @diefoduarte7483 @jairbolsonaro Não fundamentada? Kkkk Coisas que nem o bolsonaro nega mas o gado simVcs são deploráveis', '966422258687315971 RT @LuizCor24841840: 93 mortos, 26 desaparecidos e 6 mil desabrigados e o prefeito de Recife em São Paulo em reuniões da campanha de Lula l…', '1236086201838419968 @DaniloGentili Eu duvido q tenha ladrão maior que Lula e vcs aí nessa ladainha sem fim !!', '1278549436545851392 RT @RCNradiochatnet: O Lula falou! \"A profissão mais honesta é a do POLÍTICO, sabe porque? ...por mais ladrão que ele seja, ele tem que ir…', '4821431243 RT @LuizCor24841840: 93 mortos, 26 desaparecidos e 6 mil desabrigados e o prefeito de Recife em São Paulo em reuniões da campanha de Lula l…', '35562670 RT @LuizCor24841840: 93 mortos, 26 desaparecidos e 6 mil desabrigados e o prefeito de Recife em São Paulo em reuniões da campanha de Lula l…', '1196172031718576130 RT @LuizCor24841840: 93 mortos, 26 desaparecidos e 6 mil desabrigados e o prefeito de Recife em São Paulo em reuniões da campanha de Lula l…', '1477715560632881153 @ungarobolonheis @nyllasuares @GloboNews Mais uma menininha criado pelo papai vota no Lula ladrao 🤣🤣🤣🤣🤣🤣🤣', '1216106663733792768 RT @seu_mrcs: Este mês Saturno, Marte, Vênus e Júpiter estão alinhados no céu, sabe oque isso significa? QUE LULA É LADRÃO.  #LulaNuncaMais', '1519089562970116097 UOL - Urubu de Olho no Lula!!Azar pra cem anos!!É muita carniça pra um ladrão só!! https://t.co/k4zm6aEsL6']\n",
      "1300\n"
     ]
    }
   ],
   "source": [
    "#Here I read the .txt file and separate them in the text of the tweet and the public metrics\n",
    "read_tweets = open('Tweets.txt', 'r')\n",
    "user_tweets = []\n",
    "public_metrics = []\n",
    "read = read_tweets.read().split('\\n')\n",
    "\n",
    "word = ''\n",
    "for i in read:\n",
    "    if i.find('retweet_count: ') != -1:\n",
    "        public_metrics.append(i)\n",
    "        user_tweets.append(word)\n",
    "        word = ''\n",
    "        continue        \n",
    "    word += i \n",
    "\n",
    "read_tweets.close()\n",
    "print(user_tweets[:10])\n",
    "print(len(public_metrics))"
   ]
  },
  {
   "cell_type": "code",
   "execution_count": 15,
   "id": "14429f5a",
   "metadata": {},
   "outputs": [
    {
     "name": "stdout",
     "output_type": "stream",
     "text": [
      "1000 1000\n"
     ]
    }
   ],
   "source": [
    "#Here I remove the duplicated tweets\n",
    "lenght = len(user_tweets)-1\n",
    "i = 0\n",
    "        \n",
    "while i < lenght:    \n",
    "    if user_tweets.count(user_tweets[i]) > 1:\n",
    "        user_tweets.pop(i)\n",
    "        public_metrics.pop(i)\n",
    "        lenght -= 1\n",
    "    i += 1 \n",
    "    \n",
    "print(len(user_tweets), len(public_metrics))"
   ]
  },
  {
   "cell_type": "code",
   "execution_count": 16,
   "id": "2d80e175",
   "metadata": {},
   "outputs": [],
   "source": [
    "def remove_urls(lista_tweets):\n",
    "    novos_tweets = []\n",
    "\n",
    "    for tweet in lista_tweets:\n",
    "        texto = re.sub(r\"http\\S+\", \"\", tweet)\n",
    "        novos_tweets.append(texto)\n",
    "\n",
    "    return novos_tweets\n",
    "\n",
    "def remove_usuario(lista_tweets):\n",
    "    novos_tweets = []\n",
    "\n",
    "    for tweet in lista_tweets:\n",
    "        texto = re.sub(r\"@\\S+\", \"\", tweet)\n",
    "        novos_tweets.append(texto)\n",
    "\n",
    "    return novos_tweets\n",
    "\n",
    "def remove_hashtag(lista_tweets):\n",
    "    novos_tweets = []\n",
    "\n",
    "    for tweet in lista_tweets:\n",
    "        texto = re.sub(r\"#\\S+\", \"\", tweet)\n",
    "        novos_tweets.append(texto)\n",
    "\n",
    "    return novos_tweets\n",
    "\n",
    "# nova_lista = [w for word in words for w in word if w not in stop_words] brincando com python\n",
    "def remove_stopwords(lista_tweets):\n",
    "    words = [word_tokenize(w) for w in lista_tweets]\n",
    "    stop_words = set(stopwords.words(\"portuguese\"))\n",
    "    nova_lista = []\n",
    "    \n",
    "    for word in words:\n",
    "        tweets = []\n",
    "        for w in word:\n",
    "            if w not in stop_words:\n",
    "                tweets.append(w)\n",
    "        nova_lista.append(tweets)                \n",
    "        \n",
    "    return nova_lista\n",
    "\n",
    "#Remove os emojis e acentuações\n",
    "def remove_emojis(lista_tweets):\n",
    "    nova_lista = []\n",
    "    for i in lista_tweets:\n",
    "        tweets = []\n",
    "        tweets.append(clean(str(i), lower=False, no_punct=True, no_emoji=True))\n",
    "        nova_lista.append(tweets)\n",
    "    return nova_lista\n",
    "\n",
    "def remove_empty_spaces(lista_tweets):\n",
    "    nova_lista = [lista_tweets[i][0].split(\" \") for i in range(len(lista_tweets)-1)]\n",
    "            \n",
    "    return nova_lista\n",
    "\n",
    "def remove_ids(lista_tweets):\n",
    "    nova_lista = [t[1:] for t in lista_tweets]\n",
    "    return nova_lista"
   ]
  },
  {
   "cell_type": "code",
   "execution_count": 17,
   "id": "62f59f0f",
   "metadata": {},
   "outputs": [
    {
     "name": "stdout",
     "output_type": "stream",
     "text": [
      "999 [['Nao', 'fundamentada', 'Kkkk', 'Coisas', 'bolsonaro', 'nega', 'gado', 'simVcs', 'deploraveis'], ['RT', '93', 'mortos', '26', 'desaparecidos', '6', 'mil', 'desabrigados', 'prefeito', 'Recife', 'Sao', 'Paulo', 'reunioes', 'campanha', 'Lula', 'l'], ['Eu', 'duvido', 'q', 'ladrao', 'maior', 'Lula', 'vcs', 'ai', 'nessa', 'ladainha', 'fim'], ['RT', 'O', 'Lula', 'falou', 'A', 'profissao', 'honesta', 'POLITICO', 'sabe', 'porque', 'ladrao', 'ir'], ['RT', '93', 'mortos', '26', 'desaparecidos', '6', 'mil', 'desabrigados', 'prefeito', 'Recife', 'Sao', 'Paulo', 'reunioes', 'campanha', 'Lula', 'l'], ['RT', '93', 'mortos', '26', 'desaparecidos', '6', 'mil', 'desabrigados', 'prefeito', 'Recife', 'Sao', 'Paulo', 'reunioes', 'campanha', 'Lula', 'l'], ['RT', '93', 'mortos', '26', 'desaparecidos', '6', 'mil', 'desabrigados', 'prefeito', 'Recife', 'Sao', 'Paulo', 'reunioes', 'campanha', 'Lula', 'l'], ['Mais', 'menininha', 'criado', 'papai', 'vota', 'Lula', 'ladrao'], ['RT', 'Este', 'mes', 'Saturno', 'Marte', 'Venus', 'Jupiter', 'alinhados', 'ceu', 'sabe', 'oque', 'significa', 'QUE', 'LULA', 'E', 'LADRAO'], ['UOL', 'Urubu', 'Olho', 'Lula', 'Azar', 'pra', 'cem', 'anos', 'E', 'muita', 'carnica', 'pra', 'ladrao']]\n"
     ]
    }
   ],
   "source": [
    "new_tweets = remove_urls(user_tweets)\n",
    "new_tweets = remove_usuario(new_tweets)\n",
    "new_tweets = remove_hashtag(new_tweets)\n",
    "new_tweets = remove_stopwords(new_tweets)\n",
    "new_tweets = remove_emojis(new_tweets)\n",
    "new_tweets = remove_empty_spaces(new_tweets)\n",
    "new_tweets = remove_ids(new_tweets)\n",
    "\n",
    "print(len(new_tweets), new_tweets[:10])"
   ]
  },
  {
   "cell_type": "code",
   "execution_count": 18,
   "id": "4a1fa745",
   "metadata": {},
   "outputs": [
    {
     "name": "stdout",
     "output_type": "stream",
     "text": [
      "[(['Nao', 'fundamentada', 'Kkkk', 'Coisas', 'bolsonaro', 'nega', 'gado', 'simVcs', 'deploraveis'], 'no'), (['RT', '93', 'mortos', '26', 'desaparecidos', '6', 'mil', 'desabrigados', 'prefeito', 'Recife', 'Sao', 'Paulo', 'reunioes', 'campanha', 'Lula', 'l'], 'no'), (['Eu', 'duvido', 'q', 'ladrao', 'maior', 'Lula', 'vcs', 'ai', 'nessa', 'ladainha', 'fim'], 'yes'), (['RT', 'O', 'Lula', 'falou', 'A', 'profissao', 'honesta', 'POLITICO', 'sabe', 'porque', 'ladrao', 'ir'], 'no'), (['RT', '93', 'mortos', '26', 'desaparecidos', '6', 'mil', 'desabrigados', 'prefeito', 'Recife', 'Sao', 'Paulo', 'reunioes', 'campanha', 'Lula', 'l'], 'no'), (['RT', '93', 'mortos', '26', 'desaparecidos', '6', 'mil', 'desabrigados', 'prefeito', 'Recife', 'Sao', 'Paulo', 'reunioes', 'campanha', 'Lula', 'l'], 'yes'), (['RT', '93', 'mortos', '26', 'desaparecidos', '6', 'mil', 'desabrigados', 'prefeito', 'Recife', 'Sao', 'Paulo', 'reunioes', 'campanha', 'Lula', 'l'], 'yes'), (['Mais', 'menininha', 'criado', 'papai', 'vota', 'Lula', 'ladrao'], 'yes'), (['RT', 'Este', 'mes', 'Saturno', 'Marte', 'Venus', 'Jupiter', 'alinhados', 'ceu', 'sabe', 'oque', 'significa', 'QUE', 'LULA', 'E', 'LADRAO'], 'no'), (['UOL', 'Urubu', 'Olho', 'Lula', 'Azar', 'pra', 'cem', 'anos', 'E', 'muita', 'carnica', 'pra', 'ladrao'], 'no')]\n"
     ]
    }
   ],
   "source": [
    "def randomFeatures(tweets):\n",
    "    data = []\n",
    "    for t in tweets:\n",
    "        feature = np.random.randint(2)\n",
    "        if(feature == 1):\n",
    "            data.append((t, 'yes'))\n",
    "        else:\n",
    "            data.append((t, 'no'))        \n",
    "    return data\n",
    "document_test = randomFeatures(new_tweets)\n",
    "print(document_test[:10])"
   ]
  },
  {
   "cell_type": "code",
   "execution_count": 19,
   "id": "7cab2359",
   "metadata": {},
   "outputs": [
    {
     "name": "stdout",
     "output_type": "stream",
     "text": [
      "1032 [(['votaram', 'no', 'pezao', 'agora', 'tomem', 'no', 'czao'], 'yes'), (['cuidado', 'com', 'a', 'poupanca', 'pessoal', 'lembram', 'o', 'que', 'aconteceu', 'na', 'epoca', 'do', 'collor', 'ne'], 'no')] Votaram no PEZAO Agora tomem no CZAO\n"
     ]
    }
   ],
   "source": [
    "#Here I'm formating the training data from .txt file\n",
    "training_data = open('treinamento.txt', 'r').read().split(\"\\n\")\n",
    "documents = []\n",
    "words = []\n",
    "\n",
    "#The last element is a empty string\n",
    "for i in training_data[:len(training_data)-2]:\n",
    "    feature = ''\n",
    "    tweet = ''\n",
    "    count_point = 0\n",
    "    index = 0\n",
    "    for j in i:\n",
    "        if j == ';':\n",
    "            count_point += 1\n",
    "            \n",
    "        if count_point < 1:\n",
    "            feature += j\n",
    "        if count_point > 1 and j == \";\":\n",
    "            tweet = i[index+2:len(i)-1].split(\" \")\n",
    "            words.append(i[index+2:len(i)-1])\n",
    "            continue\n",
    "        index += 1\n",
    "    documents.append(([t.lower() for t in tweet], feature))\n",
    "    \n",
    "\n",
    "print(len(documents), documents[:2], words[0])"
   ]
  },
  {
   "cell_type": "code",
   "execution_count": 20,
   "id": "4ac29f78",
   "metadata": {},
   "outputs": [
    {
     "name": "stdout",
     "output_type": "stream",
     "text": [
      "['Votaram', 'PEZAO', 'Agora', 'tomem', 'CZAO']\n"
     ]
    }
   ],
   "source": [
    "#Here I build words with no stopwords\n",
    "words_without_stopwords = remove_stopwords(words)  \n",
    "\n",
    "print(words_without_stopwords[0])"
   ]
  },
  {
   "cell_type": "code",
   "execution_count": 21,
   "id": "940541bb",
   "metadata": {},
   "outputs": [
    {
     "name": "stdout",
     "output_type": "stream",
     "text": [
      "[('nao', 295), ('vai', 99), ('so', 91), ('e', 89), ('o', 83), ('pra', 81), ('ja', 68), ('sao', 58), ('a', 56), ('brasil', 55), ('ser', 47), ('ta', 47), ('carne', 39), ('melhor', 39), ('cara', 35)]\n"
     ]
    }
   ],
   "source": [
    "#Here I'm creating the list of Freq for each word - training set\n",
    "all_words = []\n",
    "for i in words_without_stopwords:\n",
    "    for j in i:\n",
    "        all_words.append(j.lower())\n",
    "\n",
    "freq_words = nltk.FreqDist(all_words)\n",
    "print(freq_words.most_common(15))"
   ]
  },
  {
   "cell_type": "code",
   "execution_count": 22,
   "id": "4484c720",
   "metadata": {},
   "outputs": [
    {
     "name": "stdout",
     "output_type": "stream",
     "text": [
      "[('ladrao', 873), ('lula', 847), ('rt', 419), ('o', 275), ('bolsonaro', 194), ('e', 183), ('nao', 115), ('povo', 103), ('pra', 100), ('gado', 92), ('a', 82), ('vai', 77), ('as', 77), ('q', 72), ('ainda', 70)]\n"
     ]
    }
   ],
   "source": [
    "#Here I'm creating the list of Freq for each word - testing set\n",
    "all_words_test = []\n",
    "for i in new_tweets:\n",
    "    for j in i:\n",
    "        all_words_test.append(j.lower())\n",
    "\n",
    "freq_words_test = nltk.FreqDist(all_words_test)\n",
    "print(freq_words_test.most_common(15))"
   ]
  },
  {
   "cell_type": "code",
   "execution_count": 23,
   "id": "cf69b2b2",
   "metadata": {},
   "outputs": [
    {
     "name": "stdout",
     "output_type": "stream",
     "text": [
      "{'nao': True, 'fundamentada': True, 'kkkk': True, 'coisas': True, 'bolsonaro': True, 'nega': True, 'gado': True, 'simvcs': True, 'deploraveis': True, 'rt': True, '93': True, 'mortos': True, '26': True, 'desaparecidos': True, '6': True, 'mil': True, 'desabrigados': True, 'prefeito': True, 'recife': True, 'sao': True, 'paulo': True, 'reunioes': True, 'campanha': True, 'lula': True, 'l': True, 'eu': True, 'duvido': True, 'q': True, 'ladrao': True, 'maior': True, 'vcs': True, 'ai': True, 'nessa': True, 'ladainha': True, 'fim': True, 'o': True, 'falou': True, 'a': True, 'profissao': True, 'honesta': True, 'politico': True, 'sabe': True, 'porque': True, 'ir': True, 'mais': True, 'menininha': True, 'criado': True, 'papai': True, 'vota': True, 'este': True, 'mes': True, 'saturno': True, 'marte': True, 'venus': True, 'jupiter': True, 'alinhados': True, 'ceu': True, 'oque': True, 'significa': True, 'que': True, 'e': True, 'uol': True, 'urubu': True, 'olho': True, 'azar': True, 'pra': True, 'cem': True, 'anos': True, 'muita': True, 'carnica': True, 'cagao': True, 'kkk': True, 'certo': True, 'fez': True, 'pq': True, 'avisado': True, 'bem': True, 'vindo': True, 'sul': True, 'mas': True, 'tenta': True, 'vir': True, 'ver': True, 'popularidade': True, 'esse': True, 'alexandre': True, 'kalil': True, 'cara': True, 'mal': True, 'agora': True, 'roubalheira': True, 'igual': True, 'comparsa': True, 'livre': True, 'nome': True, 'vergonha': True, 'lambedor': True, 'hahaha': True, 'solta': True, 'faco': True, 'faria': True, 'amizade': True, 'gosto': True, 'confesso': True, 'shippo': True, 'vc': True, 'fedido': True, 'feio': True, 'golpe': True, 'brasileiro': True, 'auto': True, 'boicota': True, 'prova': True, 'disso': True, 'lixo': True, 'asqueroso': True, '17': True, 'faz': True, 'trabalhou': True, 'conseguir': True, 'mora': True, 'mansao': True, 'toma': True, 'vinho': True, '5': True, 'reais': True, 'pobre': True, 'qu': True, 'provou': True, 'arte': True, 'roubar': True, 'defender': True, 'companheiros': True, 'bandidos': True, 'seu': True, 'lugar': True, 'na': True, 'prisao': True, 'tt': True, 'nunca': True, 'coloque': True, 'gente': True, 'apoia': True, 'timeline': True, 'dnv': True, 'aguento': True, 'discussao': True, 'desses': True, 'gados': True, 'fdps': True, 'nada': True, 'oq': True, 'fazer': True, 'vida': True, 'ficam': True, 'mamando': True, 'pau': True, 'deixou': True, 'claro': True, 'vai': True, 'debates': True, 'por': True, 'pr': True, 'chamado': True, 'chamamos': True, 'onde': True, 'recebido': True, 'presidencia': True, 'vaiadoa': True, 'ser': True, 'dentro': True, 'alguns': True, 'templos': True, 'evanjeguesagora': True, 'poste': True, 'provas': True, 'aqui': True, 'dizem': True, 'comecar': True, 'andar': True, 'brasil': True, 'escolheu': True, 'santa': True, 'catarina': True, 'primeiros': True, 'estados': True, 'visitar': True, 'se': True, 'ganhasse': True, 'eleicao': True, 'globo': True, 'ia': True, 'ficar': True, 'dinheiro': True, 'regulada': True, 'peloladrao': True, '=': True, 'mentiroso': True, 'em': True, 'esqueceu': True, 'pares': True, 'contraesqueceu': True, 'deu': True, 'ordem': True, 'aprovarem': True, 'atrasar': True, 'ainda': True, 'brasillula': True, 'merece': True, 'viver': True, 'entrei': True, 'camiseta': True, 'lanchonete': True, 'comprar': True, 'pastel': True, 'dono': True, 'perguntou': True, 'votar': True, 'respondi': True, 'falar': True, 'verdade': True, 'sabem': True, 'pt': True, 'blindando': True, 'semianalfabetonao': True, 'mi': True, 'sim': True, 'grobo': True, 'midia': True, 'lulista': True, 'ta': True, 'fazendo': True, 'assassinato': True, 'reputacao': True, 'gustavo': True, 'lima': True, 'causa': True, 'hipocresia': True, 'anitta': True, 'defende': True, 'preocupada': True, 'pobrezinho': True, 'ne': True, 'ninguem': True, 'casamento': True, 'tinha': True, 'negro': True, 'nem': True, 'elite': True, 'num': True, 'rico': True, 'sai': True, 'fora': True, 'chefe': True, 'quadrilha': True, 'safado': True, 'mano': True, 'tenho': True, 'declarar': True, 'para': True, 'acha': True, 'achar': True, 'gusttavo': True, 'pode': True, 'pura': True, 'hipocrisia': True, 'os': True, 'sonsos': True, 'perguntando': True, 'fakenews': True, 'grande': True, 'carrasco': True, 'direita': True, 'amamos': True, 'referindo': True, 'segue': True, 'lista': True, 'ladraoas': True, 'urnas': True, 'fraudaveiso': True, 'ste': True, 'sala': True, 'secreta': True, 'apuracaoos': True, 'ministros': True, 'stf': True, 'deuseso': True, 'virar': True, 'comunismo': True, 'roubaram': True, 'conta': True, 'jamais': True, 'favor': True, 'iniciar': True, 'terminar': True, 'obra': True, 'infraestrutura': True, 'foram': True, '16': True, 'governo': True, 'muitos': True, 'roubos': True, 'gracas': True, 'deus': True, 'povo': True, 'ocrim': True, 'era': True, 'roubava': True, 'dava': True, 'bolsa': True, 'miseria': True, 'enganar': True, 'levar': True, 'outros': True, 'paises': True, 'h': True, 'pais': True, 'roubado': True, 'comanda': True, 'quando': True, 'alguem': True, 'disser': True, 'inocente': True, 'paro': True, 'te': True, 'piores': True, 'prefiro': True, 'lado': True, 'orgulho': True, 'turma': True, 'do': True, 'decidir': True, 'fake': True, 'cabeca': True, 'ovo': True, 'sera': True, 'dizer': True, 'soltou': True, 'condenado': True, '3': True, 'instancias': True, 'vdd': True, 'contaram': True, 'quem': True, 'pacto': True, 'diabo': True, 'quer': True, 'saber': True, 'velho': True, 'precisa': True, 'unica': True, 'coisa': True, 'precisamos': True, 'cela': True, 'kkkkkkkkkkkkkkk': True, 'mimimi': True, 'derrotado': True, 'voto': True, 'padrao': True, 'conservador': True, 'capitalista': True, 'senhora': True, 'sei': True, 'prenderam': True, 'grandioso': True, 'roubo': True, 'restante': True, 'organizaram': True, 'executaramse': True, 'atualiza': True, 'ao': True, 'finge': True, 'inteligente': True, 'fale': True, 'fraude': True, '2018': True, 'kkkkkkkkkkka': True, 'falta': True, 'estudo': True, 'gerar': True, 'corrupto': True, 'bandido': True, 'fato': True, 'salvo': True, 'engano': True, 'tu': True, 'ajudava': True, 'crimes': True, 'pronto': True, 'pai': True, 'de': True, 'familia': True, 'grita': True, 'no': True, 'portao': True, 'sua': True, 'casa': True, 'da': True, 'manchete': True, 'jornal': True, 'pela': True, 'logica': True, 'filho': True, 'cachaceiro': True, 'achou': True, 'realmente': True, 'preferencia': True, 'ariscar': True, 'acabou': True, 'sendo': True, 'expulso': True, 'vivemos': True, 'ze': True, 'neto': True, 'viloes': True, 'roubou': True, 'milhoes': True, 'bonzinho': True, 'quadrilheiro': True, 'gangster': True, 'com': True, 'certeza': True, 'vagabundo': True, 'etc': True, 'pilantra': True, 'corno': True, 'luis': True, 'inacio': True, 'silva': True, 'querem': True, 'volta': True, 'burros': True, 'sindrome': True, 'manso': True, 'perdoa': True, 'voce': True, 'virando': True, 'piada': True, 'perde': True, 'ter': True, 'admirado': True, 'ja': True, 'mixou': True, 'video': True, 'falando': True, 'parte': True, 'mensalao': True, 'petrolao': True, 'oderbrecht': True, 'bnds': True, 'amigo': True, 'd': True, 'olha': True, 'mandato': True, 'foi': True, 'educacao': True, 'jovens': True, 'socio': True, 'frigorifico': True, 'goias': True, 'vendia': True, 'tal': True, 'picanha': True, 'wagyu': True, 'preco': True, 'estratosferico': True, 'criminoso': True, 'corrpto': True, 'lavador': True, 'falastrao': True, 'um': True, 'recado': True, 'direto': True, 'vice': True, 'epoca': True, 'tudo': True, 'verdadeiro': True, 'kkkkk': True, 'tomar': True, 'cu': True, 'chora': True, 'michel': True, 'temer': True, '132022': True, 'jair': True, 'odeio': True, 'es': True, 'pessimo': True, 'peesidente': True, 'imunda': True, 'centrao': True, 'imundo': True, 'comunicacao': True, 'social': True, '1313131313131313': True, 'presidente': True, 'parece': True, 'covld': True, 'rolou': True, 'lulaah': True, 'jaques': True, 'wagner': True, 'humberto': True, 'costa': True, 'ladra': True, 'fedeu': True, 'livros': True, 'continua': True, 'hoje': True, 'permanece': True, 'enganado': True, 'jumentos': True, 'bom': True, 'internet': True, 'podemos': True, 'mostrar': True, 'verdades': True, 'passados': True, 'segundo': True, 'pobreza': True, 'mentir': True, 'melhor': True, 'to': True, 'saco': True, 'cheio': True, 'juiz': True, 'militante': True, 'como': True, 'candidato': True, 'democracia': True, 'isso': True, 'uma': True, 'afronta': True, 'caralho': True, 'puta': True, 'nennhum': True, 'viu': True, 'episodio': True, 'inteiro': True, 'viram': True, 'cortes': True, 'patotinha': True, 'existe': True, 'decider': True, 'suficiente': True, 'pros': True, 'militantespor': True, 'ganhar': True, 'porra': True, 'merda': True, 'adversario': True, 'interpretacao': True, 'galera': True, 'quase': True, '0': True, 'sitio': True, 'atibaia': True, 'bolsonarista': True, 'pois': True, 'digo': True, 'ti': True, 'atrazado': True, 'mentais': True, 'bolsonaristas': True, 'acefalicos': True, 'nocao': True, 'realidade': True, 'antivacinas': True, 'negacionistadesresoeitador': True, 'sus': True, 'dimheiro': True, 'mac': True, 'so': True, 'aumentar': True, 'genocida': True, 'toda': True, 'nacao': True, '12004': True, 'palavra': True, 'magica': True, 'ppi': True, 'pedir': True, 'pro': True, 'congresso': True, 'reverter': True, 'bando': True, 'vendido': True, 'entreguista': True, 'subordinados': True, 'mor': True, 'republica': True, 'quiser': True, 'assume': True, '2023': True, 'bolsonarismo': True, 'voltarao': True, 'esgoto': True, 'deveriam': True, 'saido': True, 'vencer': True, 'desesperado': True, 'cuidado': True, 'me': True, 'seguia': True, 'passava': True, 'esquerda': True, 'descobrir': True, 'perfil': True, 'hora': True, 'agulhada': True, 'momento': True, 'alto': True, 'vacinei': True, 'shopping': True, 'boulevard': True, 'pensei': True, 'chiandomas': True, 'aplaudiu': True, 'disse': True, 'viva': True, 'egua': True, 'lavajato': True, 'trapaceou': True, 'sistema': True, 'juridico': True, 'nacional': True, 'dar': True, 'dominar': True, 'saquear': True, 'correto': True, 'galaxias': True, 'apareco': True, 'foto': True, 'posso': True, 'tirar': True, 'bozo': True, 'chega': True, '2': True, 'contradicoes': True, 'datafolha': True, 'ipespe': True, 'xp': True, 'pesquisa': True, 'confiavel': True, 'numeros': True, 'facilmente': True, 'comprovaveis': True, 'aponta': True, 'cenario': True, 'devastador': True, 'chamada': True, 'vi': True, 'vez': True, 'filha': True, 'li': True, 'outra': True, 'subconsciente': True, 'isolamento': True, 'tempo': True, 'poder': True, 'sair': True, 'ruas': True, 'kkkkkkkkkkkkkkkkkkkkkkkkkkkkkkkkkkkkkkkkkkkkkkkkdescondenado': True, 'pelo': True, 'cancer': True, 'stflula': True, 'pessoal': True, 'fazem': True, 'comenta': True, 'autocritica': True, 'assistem': True, 'programa': True, 'produziram': True, 'idiota': True, 'cerveja': True, 'enjoo': True, 'meu': True, 'inacreditavele': True, 'abutre': True, 'vale': True, 'ciro': True, 'responsabilidade': True, 'escandalo': True, 'corrupcao': True, 'historia': True, 'mundo': True, 'sensacao': True, 'justica': True, 'galinha': True, 'mandou': True, 'gritar': True, 'grito': True, 'desgracado': True, 'bah': True, 'podem': True, 'parecem': True, 'descobriram': True, 'eo': True, 'dilma': True, 'bolsonaro2022': True, 'fica': True, 'cima': True, 'muro': True, 'covarde': True, 'contra': True, 'brasileiros': True, 'recordar': True, 'kkkkkk': True, 'problema': True, 'longe': True, 'unico': True, 'vigarista': True, 'codinome': True, 'odebrecht': True, 'coxa': True, 'amante': True, 'sou': True, 'tambem': True, 'entao': True, 'diferenca': True, 'economica': True, 'carater': True, 'apaga': True, 'menos': True, 'apoiar': True, 'vergonhoso': True, 'todos': True, 'hahahhaha': True, 'colocar': True, 'planalto': True, 'legalmente': True, 'brasileira': True, 'avisa': True, 'coracao': True, 'corone': True, 'papudinho': True, 'capacho': True, 'queres': True, 'olofote': True, 'colunista': True, 'folha': True, 'portanto': True, 'medo': True, 'antes': True, 'flavio': True, 'senador': True, 'deputado': True, 'empresario': True, 'advogado': True, 'filhos': True, 'comunist': True, 'eleicoes': True, 'tipo': True, 'cuba': True, 'assim': True, 'gosta': True, 'uhm': True, 'chamando': True, 'nazista': True, 'sujo': True, 'morte': True, 'virus': True, 'responsavel': True, 'publico': True, 'assaltou': True, 'falido': True, 'cadeia': True, 'pouco': True, 'deveria': True, 'existir': True, 'pena': True, 'pediu': True, 'facista': True, 'ex': True, 'presidiario': True, 'falei': True, 'obrigado': True, 'apoio': True, 'isolado': True, 'kkkkkkk': True, 'lulaladrao': True, 'justificar': True, 'rua': True, 'canalha': True, 'come': True, 'lava': True, 'boca': True, 'soda': True, 'caustica': True, 'nojento': True, 'narrativa': True, 'sabemos': True, 'cidadao': True, 'le': True, 'materia': True, 'liga': True, 'pontos': True, 'facil': True, 'esforcare': True, 'comeca': True, 'baixo': True, 'aceita': True, 'fome': True, 'olhem': True, 'resgatei': True, 'ele': True, 'tirou': True, 'podre': True, 'sempre': True, 'mentindo': True, 'humano': True, 'chegar': True, 'nivel': True, 'retardo': True, 'amor': True, 'tem': True, 'avancado': True, 'dissonancia': True, 'cognitiva': True, 'vulgo': True, 'burrice': True, 'declaracao': True, 'imprensa': True, 'nojo': True, 'deles': True, 'respeito': True, 'opiniao': True, 'discordo': True, 'nos': True, 'professores': True, 'audiencia': True, 'educar': True, 'temos': True, 'ensino': True, 'medio': True, 'acham': True, 'entendem': True, 'falcatruas': True, 'desse': True, 'alem': True, 'falas': True, 'racistas': True, 'monark': True, '+': True, 'gritei': True, 'la': True, 'arrombada': True, 'escreve': True, 'apesar': True, 'dos': True, 'umas': True, 'piadas': True, 'tens': True, 'razao': True, 'economia': True, 'teu': True, '12': True, 'cresceu': True, 'alias': True, 'roubando': True, 'mesmo': True, 'kkkkkkkkkk': True, 'prendam': True, 'fraudes': True, 'comecou': True, 'acabar': True, 'presta': True, 'ponto': True, 'final': True, 'consumindo': True, 'droga': True, 'estragada': True, 'duas': True, 'descondenado': True, 'setefe': True, 'caloteiro': True, 'iguais': True, 'juntam': True, 'tramar': True, 'calotes': True, 'pessoas': True, 'cidade': True, 'perdeu': True, 's': True, 'manipuladas': True, 'confirmava': True, 'hadad': True, 'imaginem': True, '2022': True, 'vejam': True, 'va': True, 'defendendo': True, 'quero': True, 'exame': True, 'mostra': True, 'resgatar': True, 'passado': True, 'nenhum': True, 'torco': True, 'selecao': True, 'derrubar': True, 'acorda': True, 'pira': True, 'manobra': True, 'politica': True, 'ano': True, 'eleitoral': True, 'capacidade': True, 'perguntar': True, 'motivo': True, 'feito': True, 'quatro': True, 'pensam': True, 'imposto': True, 'transferido': True, 'outro': True, 'produto': True, 'setor': True, 'minima': True, 'condicao': True, 'escolhe': True, 'insistir': True, 'miliciano': True, 'assassino': True, 'sociopata': True, 'doenca': True, 'mental': True, 'traidor': True, 'golpista': True, 'satanas': True, 'hipocrita': True, '2016': True, 'inicio': True, 'destruicao': True, 'sra': True, '132018': True, 'fabricado': True, 'falsas': True, 'sr': True, '13': True, 'injusta': True, 'peeseguicao': True, 'portou': True, 'acredito': True, 'pressa': True, 'dia': True, 'percebido': True, 'primeiro': True, 'tweet': True, 'critiquei': True, 'ambos': True, 'jogados': True, 'lata': True, 'historiao': True, 'kakakaka': True, 'brochando': True, 'dando': True, 'viagra': True, 'boquinha': True, 'kakakakaak': True, 'confira': True, 'luciano': True, 'responder': True, 'pago': True, 'hot': True, 'dog': True, 'havan': True, 'moro': True, 'estudei': True, 'avanco': True, 'imagino': True, 'debate': True, 'reproduzindo': True, 'videos': True, 'obras': True, 'realizadas': True, '04': True, 'contrario': True, '20': True, 'voces': True, 'decidem': True, 'ou': True, 'patria': True, 'votara': True, 'soou': True, 'ameaca': True, 'ah': True, 'veio': True, 'engana': True, '12003': True, 'queria': True, 've': True, 'mesma': True, 'situacao': True, 'senhor': True, 'viveu': True, 'volte': True, 'governar': True, 'reeleito': True, 'ficou': True, 'meio': True, 'gasolina': True, 'faltando': True, '4': True, 'meses': True, 'abaixar': True, 'dezembro': True, 'aumenta': True, 'novoacha': True, 'eleitor': True, 'otarioque': True, 'todo': True, 'inconsequente': True, 'cada': True, 'abre': True, 'chama': True, 'messias': True, 'kkkkkkkkkkkk': True, 'kkkkkkkkkkkktriplicando': True, 'bolsonaro1': True, 'fingir': True, 'estora': True, 'teto': True, 'gastos': True, 'estourar': True, 'vontade': True, 'aplausos': True, 'gado2': True, 'beneficiar': True, 'empresarios': True, 'detrimento': True, 'povo3': True, 'publico4': True, 'impostos': True, 'pobres5': True, 'dolar': True, 'quanto': True, 'junto': True, 'uque': True, 'fase': True, 'ok': True, 'planeta': True, 'diga': True, 'besteiras': True, 'caso': True, 'julgado': True, '10': True, 'juizes': True, 'todas': True, 'instanciaso': True, 'entrou': True, '400': True, 'recursos': True, 'pagando': True, 'advogados': True, 'explicou': True, 'reformas': True, 'recibos': True, 'apnao': True, 'venha': True, 'augusto': True, 'nunes': True, 'detona': True, 'fachin': True, 'farsante': True, 'fingiu': True, 'jato': True, 'soltar': True, 'ainnn': True, 'capitao': True, 'mito': True, 'conluio': True, 'orcrim': True, 'vermelha': True, 'bebado': True, 'dilapi': True, 'estado': True, 'mandar': True, 'anulando': True, 'as': True, 'condenacoes': True, 'isentolandia': True, 'onda': True, 'coloca': True, 'pingos': True, 'is': True, 'sobre': True, 'posta': True, '5000o': True, 'relogio': True, 'luladrao': True, '80000': True, 'jaula': True, 'poderia': True, 'noite': True, 'babaca': True, 'caducou': True, 'velhoagora': True, 'fala': True, 'verdadeira': True, 'dezenas': True, 'consideraram': True, 'maaaaas': True, 'chip': True, 'implantar': True, 'cerebro': True, 'fa': True, 'assiduo': True, 'mae': True, 'irmao': True, 'faculdade': True, 'humanas': True, 'professor': True, 'defendo': True, 'amo': True, 'chamam': True, 'bolsominion': True, 'legado': True, 'falir': True, 'petrobras': True, 'assaltar': True, 'fundos': True, 'pensao': True, 'e~': True, 'meteu': True, 'votao': True, 'chicago': True, 'presidio': True, 'segura': True, 'simplesmente': True, 'colega': True, 'enxergar': True, 'desservico': True, 'sociedade': True, 'ctz': True, 'deve': True, 'combatido': True, 'flerta': True, 'tanto': True, 'possivel': True, 'esqueceram': True, 'avisar': True, 'solto': True, 'pinguco': True, 'mudar': True, 'juridica': True, 'tentar': True, 'pesquisas': True, 'fraudulentas': True, 'novamente': True, 'divulgadas': True, 'dizendo': True, 'perderia': True, 'estrutura': True, 'condic': True, 'ce': True, 'duplamente': True, 'investigado': True, 'suspeita': True, 'reu': True, 'cometendo': True, 'apresentou': True, 'crime': True, 'expresidente': True, 'calunia': True, 'difamacao': True, 'prefere': True, 'empresta': True, 'comunistas': True, 'charutos': True, 'garantia': True, 'investe': True, 'proprio': True, 'curioso': True, 'defendia': True, 'dizia': True, 'perseguicao': True, 'refugiar': True, 'embaixada': True, 'francesa': True, 'depois': True, 'corruptor': True, 'cumplice': True, 'reflita': True, 'sigamos': True, 'reza': True, 'brava': True, 'pnd': True, 'vao': True, 'correr': True, 'agradar': True, 'clientes': True, 'valor': True, 'pobres': True, 'maioria': True, 'comentar': True, 'chorar': True, 'poetica': True, 'sido': True, 'curitiba': True, 'candidat': True, 'eleger': True, 'senadora': True, 'criminosos': True, 'honesto': True, 'enve': True, 'serio': True, 'primeira': True, 'dama': True, 'cumpriu': True, 'merdas': True, 'confundidos': True, 'considerou': True, 'incompetente': True, 'anulou': True, 'processo': True, 'enviando': True, 'df': True, 'porem': True, 'passou': True, '+75': True, 'caducoucaso': True, 'novo': True, 'ansiosos': True, 'preso': True, 'afinal': True, 'iria': True, 'frente': True, 'quartel': True, 'exercito': True, 'gritaria': True, 'governado': True, 'boa': True, 'vou': True, 'vaquinha': True, 'deposita': True, '100': True, 'compro': True, 'convite': True, 'filmar': True, 'pagar': True, 'pix': True, '11955716433': True, 'manda': True, 'comprovante': True, 'dep': True, 'agente': True, 'muie': True, 'esquisita': True, 'juntos': True, 'caos': True, 'bilhoes': True, 'roubaste': True, 'prato': True, 'leis': True, 'funcionam': True, 'enforcado': True, 'praca': True, 'publica': True, 'parabens': True, 'ostentacao': True, 'militantes': True, 'mst': True, 'invadido': True, 'festa': True, 'palhacos': True, 'baderneiros': True, 'sinceramente': True, 'xingo': True, 'kkkkkkkkk': True, 'dilapidou': True, 'baixem': True, 'aplicativo': True, 'invistam': True, 'empresa': True, 'comunista': True, 'consegue': True, 'antagonista': True, 'mentirosos': True, 'masmorra': True, 'sequer': True, 'sindico': True, 'bordele': True, 'politicos': True, 'aonde': True, 'fonte': True, 'secou': True, 'libera': True, 'fumar': True, 'alucinacoes': True, 'nesse': True, 'comparar': True, 'unicas': True, 'emissoras': True, 'competitivas': True, 'atualmente': True, 'tv': True, 'aberta': True, 'burro': True, 'caramba': True, 'gdecider': True, 'perfis': True, 'supostamente': True, 'comecaram': True, 'subir': True, 'tags': True, 'logo': True, 'proximidade': True, 'infiltrado': True, 'lu': True, 'uai': True, 'anti': True, 'democratico': True, 'gorpi': True, 'ama': True, 'regulacao': True, 'diz': True, 'ira': True, 'afeta': True, 'petista': True, 'paga': True, 'dissessem': True, 'alvo': True, 'redes': True, 'sociais': True, 'fdp': True, 'partido': True, 'deixaram': True, 'quebrado': True, 'fizeram': True, 'queremos': True, '280': True, 'desejo': True, 'concordam': True, 'comigo': True, 'patriotas': True, 'organizado': True, 'fugitivo': True, 'julgada': True, 'supostos': True, 'integrantes': True, 'organizacao': True, 'criminosa': True, 'pcc': True, 'morais': True, 'tres': True, 'poderes': True, 'ameacar': True, 'familiares': True, 'voltara': True, 'vamos': True, 'admitir': True, 'ocorra': True, 'tse': True, 'estarem': True, 'convencidos': True, 'vitoria': True, 'teatro': True, 'montado': True, 'elenco': True, 'alberto': True, 'ditador': True, 'anulacao': True, 'formal': True, 'traduzindo': True, 'demos': True, 'jeito': True, 'deixal': True, 'caratismo': True, 'padre': True, 'demonio': True, 'combina': True, 'queimar': True, 'inferno': True, 'patrao': True, 'comemorar': True, 'idolatrar': True, 'algo': True, 'totalmente': True, 'diferente': True, 'fatos': True, 'democrata': True, 'repito': True, 'exalta': True, 'patrocina': True, 'ditaduras': True, 'sanguinarias': True, 'socialistas': True, 'farc': True, 'aliados': True, 'fundou': True, 'foro': True, 'supremo': True, 'trabalhando': True, 'parecia': True, 'bot': True, 'antibolsonaro': True, 'gostei': True, 'abordagem': True, 'derrubou': True, 'stalin': True, 'qual': True, 'marcar': True, 'gostaria': True, 'associar': True, 'formando': True, 'libertar': True, 'eleitores': True, 'desabafo': True, 'apresentador': True, 'representa': True, 'apenas': True, 'psicopata': True, 'celular': True, 'responde': True, 'usam': True, 'conseguiu': True, 'almocar': True, 'mercado': True, 'florianopolis': True, 'parou': True, 'repetidamente': True, 'confirmado': True, 'mentiras': True, 'coragem': True, 'falsa': True, 'intencao': True, 'refrescar': True, 'memoria': True, 'otarios': True, 'cena': True, 'sabia': True, 'aconselha': True, 'vacina': True, 'sigilo': True, 'propria': True, 'carteira': True, 'vacinacao': True, 'futuro': True, 'milionario': True, 'trabalhado': True, 'daqui': True, 'ouvir': True, 'coro': True, 'tempos': True, 'logico': True, 'mentira': True, 'tentarem': True, 'interior': True, 'alagoas': True, 'uns': True, '40': True, 'olhe': True, 'antigamente': True, 'doente': True, 'caiu': True, 'assusta': True, 'culpa': True, 'objetos': True, 'levou': True, 'indevidamente': True, 'palacio': True, 'blog': True, 'chico': True, 'pereira': True, 'miseravel': True, 'escuta': True, 'povolula': True, 'kkkkkkkkkkkkkkkl': True, '70': True, 'discurso': True, 'vive': True, 'seja': True, 'coerente': True, 'praticasua': True, 'candidatura': True, 'serve': True, 'sobrevida': True, 'inquilino': True, 'sugere': True, 'puxadinho': True, 'canja': True, 'almocarlula': True, 'assustadora': True, 'quantidade': True, 'mega': True, 'solucao': True, 'problemas': True, 'gerados': True, 'pesadelo': True, 'mim': True, 'fodam': True, 'fico': True, 'ministro': True, 'barroso': True, 'demonstra': True, 'parcial': True, 'judiciario': True, 'sentenca': True, 'facadas': True, 'matar': True, 'vivia': True, 'space': True, 'vazou': True, 'golpes': True, 'protegendo': True, 'entendeu': True, 'msm': True, 'amar': True, 'demais': True, 'proximo': True, 'exatamente': True, 'bozone': True, 'certa': True, 'gadolina': True, 'esquerdistas': True, 'nojentos': True, 'vivem': True, 'sairia': True, 'acredita': True, 'trouxas': True, 'passa': True, 'miseraveis': True, 'das': True, 'parafitas': True, 'pina': True, 'brasilia': True, 'recifepe': True, 'continuam': True, 'vivendo': True, 'alagadicios': True, 'sobrehumanas': True, 'dracula': True, 'compram': True, 'vinhos': True, 'garrafa': True, 'ameo': True, 'deixeo': True, 'marinhas': True, 'brasileiras': True, 'tendo': True, 'benesses': True, 'amigos': True, 'forjam': True, 'votos': True, 'curso': True, 'proclamerem': True, 'eleito': True, 'minimo': True, 'vantagem': True, 'retorica': True, 'analfa': True, 'pontuado': True, 'sonho': True, 'objetivo': True, 'eliminar': True, 'dois': True, 'amiga': True, 'desmascarando': True, 'mau': True, 'ignorante': True, 'trambiqueiro': True, 'expresidiario': True, 'via': True, 'pera': True, 'viajar': True, 'fontes': True, 'respeitar': True, 'jogo': True, 'provavelmente': True, 'tb': True, 'relacao': True, 'sacanagem': True, 'faquim': True, 'feia': True, 'espernear': True, 'confianca': True, 'larapio': True, 'provar': True, 'acusar': True, 'esses': True, 'vagabundos': True, 'formados': True, 'comemora': True, 'segurando': True, 'imagem': True, 'idolo': True, 'dedos': True, 'pre': True, 'americano': True, 'ajudar': True, 'acefalo': True, '22': True, 'acho': True, 'leu': True, 'artigo': True, 'lei': True, 'vermelho': True, 'ampla': True, 'defesa': True, 'varios': True, 'condenacao': True, 'devido': True, 'legal': True, 'impossivel': True, 'foda': True, 'igualzinho': True, 'hahahahaha': True, 'questionar': True, 'inflacao': True, 'ignorar': True, 'estrago': True, 'caracter': True, 'envolvido': True, 'suja': True, 'participacao': True, 'direta': True, 'certos': True, 'novidade': True, 'saida': True, 'jogar': True, 'super': True, 'trunfo': True, 'celso': True, 'daniel': True, 'ganha': True, 'dai': True, 'figura': True, 'aih': True, 'aparecer': True, 'pernas': True, 'oferece': True, 'rabo': True, 'afff': True, 'patriota': True, 'hj': True, 'mamata': True, 'federal': True, 'jetski': True, 'moto': True, 'pagam': True, 'sozinhasbora': True, 'trabalhar': True, 'estimacaogado': True, 'aproveite': True, 'tente': True, 'missionaria': True, 'dorothy': True, 'lembrando': True, 'molusco': True, '9': True, 'urubus': True, 'petralhada': True, 'sangue': True, 'suga': True, 'cofres': True, 'publicos': True, 'voltar': True, 'arrumo': True, 'tranca': True, 'dupla': True, 'porta': True, 'quarto': True, 'mineiros': True, 'merecemos': True, 'desmascarado': True, 'vaza': True, 'ajato': True, 'lideranca': True, 'popular': True, 'neste': True, 'enquanto': True, 'coco': True, 'cavalo': True, 'bizarro': True, 'doentio': True, 'pessoa': True, 'preocupou': True, 'beneficios': True, 'desespero': True, 'pior': True, 'cego': True, 'governou': True, 'ricos': True, 'canalhas': True, 'fator': True, 'determinante': True, 'calado': True, 'amigao': True, 'togados': True, 'mandachuva': True, 'rapinadores': True, 'travestida': True, 'leticia': True, 'mostrando': True, 'sbt': True, 'eles': True, 'falaram': True, 'exgestores': True, 'fundo': True, 'caixa': True, 'capa': True, 'intuitiva': True, 'deixar': True, 'leitores': True, 'duvidas': True, 'esclarecer': True, 'fizer': True, 'vitima': True, 'resto': True, 'aceitavel': True, 'gostar': True, 'administracao': True, 'inumeros': True, 'inacreditavel': True, 'hino': True, 'bolsonarogado': True, 'maluco': True, 'cabe': True, 'ditado': True, 'rouba': True, 'perdao': True, 'rs': True, 'mesmos': True, 'mandam': True, 'esta': True, 'armado': True, 'desonesta': True, 'querendo': True, 'aproximacao': True, 'entender': True, 'regen': True, 'parcelado': True, '362': True, 'vezes': True, 'informe': True, 'parcelava': True, 'ganhava': True, 'mao': True, 'beijada': True, 'oas': True, 'odebrechet': True, 'aprendi': True, 'apoiadores': True, 'expondo': True, 'dependentes': True, 'pronunciar': True, 'encontro': True, 'materias': True, 'fotos': True, 'amigaveis': True, 'partidarios': True, 'blindar': True, 'cumpanheiros': True, 'imparciais': True, 'parciais': True, 'iludam': True, 'voz': True, 'multidao': True, 'rever': True, 'ciclo': True, 'diferentes': True, 'conhecem': True, 'dificil': True, 'grupo': True, 'votae': True, 'governa': True, 'receber': True, 'separa': True, 'r': True, '$': True, '130': True, 'utilizar': True, 'gastando': True, 'vejo': True, 'querer': True, 'envolvidos': True, 'obvia': True, 'nasceusera': True, 'vaiado': True, 'reconhecimento': True, 'brasile': True, 'esperem': True, '94': True, 'dias': True, 'apertar': True, '190': True, 'rei': True, 'processos': True, 'tenha': True, 'peca': True, 'vais': True, 'noia': True, 'trabalha': True, 'analfabeto': True, 'funcional': True, 'comer': True, 'capim': True, 'c': True, '9s': True, 'cai': True, 'golpeacabei': True, 'modalmaisfutura': True, 'empate': True, 'tecnico': True, 'clique': True, 'contrariar': True, 'proibir': True, 'feriados': True, 'proibe': True, 'lindo': True, 'tesudo': True, 'delirio': True, 'supremocontinua': True, 'leve': True, 'impressao': True, 'nova': True, 'presida': True, 'tocar': True, 'terror': True, 'filhotes': True, 'ganhou': True, 'passar': True, 'litro': True, 'peroba': True, 'chamar': True, 'maconheira': True, 'audio': True, 'manipulado': True, 'ultimos': True, 'olhos': True, 'fechados': True, 'acusacoes': True, 'verdadeiras': True, 'anuladas': True, 'rlx': True, 'processado': True, 'decidiu': True, 'tramitacao': True, 'maos': True, 'unidos': True, 'releva': True, 'remove': True, 'critica': True, 'insinua': True, 'raciocinio': True, 'al': True, 'capone': True, 'traficante': True, 'eminha': True, 'adolescencia': True, 'ouvindo': True, 'explicamos': True, 'manipulacao': True, 'importancia': True, 'ler': True, 'serias': True, 'ela': True, 'tik': True, 'tok': True, 'infestado': True, 'bolsominions': True, 'grave': True, 'perder': True, 'fracassou': True, 'perdendo': True, 'decepcao': True, 'bora': True, 'compra': True, 'arma': True, 'registrada': True, 'sem': True, 'registro': True, 'kk': True, 'ate': True, 'silvio': True, 'santos': True, 'acostumar': True, 'tristeza': True, 'lembrar': True, 'centro': True, 'estar': True, 'amanha': True, 'pleno': True, 'concorrer': True, 'juntamente': True, 'decisao': True, 'qdo': True, 'bob': True, 'esponja': True, 'delacao': True, 'provalula': True, 'injustamente': True, 'anulada': True, 'estimacao': True, 'engracado': True, 'essa': True, 'feliz': True, 'encomendada': True, 'ih': True, 'argumento': True, 'tio': True, 'kkkkkfilho': True, 'passando': True, 'pano': True, 'normal': True, 'xingar': True, 'independente': True, 'ridiculo': True, 'analogia': True, 'gritou': True, 'apuracao': True, 'governador': True, 'manaus': True, 'aliado': True, 'crise': True, 'oxigenio': True, 'pacientes': True, 'covid': True, 'explica': True, 'aumento': True, 'insumo': True, 'essencial': True, 'voto9': True, 'contribuinte': True, 'usado': True, 'bancar': True, 'corrptolula': True, 'acusou': True, 'geraldo': True, 'alckmin': True, 'vereador': True, 'feitos': True, 'bilionario': True, 'assunto': True, 'cansei': True, 'vco': True, 'chamou': True, 'especifico': True, 'tao': True, 'regulamentacao': True, 'pensando': True, 'gordo': True, 'entrar': True, 'local': True, 'moral': True, 'corruptos': True, 'crimes2003': True, 'ong': True, 'rede': True, 'extinta': True, 'apos': True, '75': True, 'milhoes200': True, 'estadista': True, 'entregou': True, 'pegar': True, 'entendesse': True, 'prejuizos': True, 'estatais': True, 'desastre': True, 'alta': True, 'recessao': True, 'anao': True, 'diplomatico': True, 'pastor': True, 'comprando': True, 'explicar': True, 'vem': True, 'acordo': True, 'madeireira': True, 'honestos': True, 'idolatra': True, 'acontecer': True, 'nosso': True, 'transforme': True, 'argentina': True, 'chile': True, 'bolivia': True, 'estao': True, 'arrasados': True, 'eh': True, 'observar': True, 'reacao': True, 'qnto': True, 'tirado': True, 'pancadasbolsonaro': True, 'desprezo': True, 'direciona': True, 'diariamente': True, 'rebanho': True, 'cercadinho': True, 'jose': True, 'serra': True, 'votou': True, 'psdb': True, 'bolsonaristapt': True, 'alimentam': True, 'acordos': True, 'bastidores': True, 'cameras': True, 'encenacao': True, 'palhaco': True, 'querida': True, 'playboy': True, 'cria': True, 'cortina': True, 'fumaca': True, 'encobrindo': True, 'quadrilhamas': True, 'condenadoainda': True, 'companhiade': True, 'cabecas': True, 'metade': True, 'ara': True, 'putz': True, 'pensou': True, 'usar': True, 'motos': True, 'participar': True, 'motosseatas': True, 'usalas': True, 'junho': True, '1': True, 'turno': True, 'cpi': True, 'mec': True, 'favorecer': True, 'politicagem': True, 'investigar': True, 'jornalismo': True, 'cagar': True, 'autoritario': True, 'aguardar': True, 'sofreu': True, 'nulidade': True, 'pesos': True, 'medidas': True, 'preguica': True, 'news': True, 'horas': True, 'extras': True, 'ptpcc': True, 'centavo': True, 'carla': True, 'zambelli': True, 'pelos': True, 'padrinhos': True, 'corru': True, 'safadeza': True, 'dei': True, 'enfase': True, 'facebook': True, 'selo': True, 'afim': True, 'obrigar': True, 'interacao': True, 'meliante': True, 'claramente': True, 'autoridade': True, 'convidada': True, 'formalmente': True, 'legitimo': True, 'prevalecer': True, 'senso': True, 'entrando': True, 'janela': True, 'descaradamente': True, 'vargabundo': True, 'deste': True, 'doleiro': True, 'petralhas': True, 'camara': True, 'envolvimento': True, 'inventar': True, 'narrativas': True, 'idiotas': True, 'bozonaro': True, 'apertando': True, '51000000': True, 'malas': True, 'ap': True, 'dito': True, 'caixas': True, 'naoserve': True, 'corte': True, 'homem': True, 'digno': True, 'temente': True, 'deusentao': True, 'fiquem': True, 'dobra': True, 'bolsopetista': True, 'bolsonarocentrao': True, 'detectado': True, 'sucesso': True, 'renato': True, 'jones': True, 'manoel': True, 'comunismoem': True, 'arcoverde': True, 'jovem': True, 'pan': True, 'anjomds': True, 'm4ta': True, 'mande': True, 'carina': True, 'pergunta': True, 'quiserem': True, 'colocamos': True, 'aeronave': True, '500': True, 'kg': True, 'cocaina': True, 'fab': True, 'interceptou': True, 'domingo': True, 'pilotava': True, 'intimo': True, 'reunido': True, 'banqueiros': True, 'reunem': True, 'constantemente': True, 'in': True, 'jaile': True, 'cinico': True, 'criticar': True, 'admiro': True, 'conversa': True, 'bebum': True, 'exatamentequeremos': True, 'ligacao': True, 'irma': True, 'pe': True, 'pandemia': True, 'gasosa': True, 'escandalos': True, 'desculpa': True, 'delebolsonaro': True, 'debatesse': True, 'algum': True, 'apoiador': True, 'rompeu': True, 'acontece': True, 'chefes': True, 'morrendo': True, 'leite': True, 'aplaude': True, 'vetos': True, 'aldir': True, 'blanc': True, 'derrubados': True, 'valetudo': True, 'reeleicao': True, 'cultura': True, 'industria': True, 'infelizmente': True, 'elegeram': True, 'fazendeiro': True, 'preocupa': True, 'agropecuaria': True, 'provado': True, 'desde': True, '20142016': True, 'cacete': True, 'passam': True, 'continuar': True, 'esposa': True, 'pedro': True, 'guimaraes': True, 'leo': True, 'pinheiro': True, 'premiada': True, 'lj': True, 'incriminando': True, 'comprov': True, 'esquerdopata': True, 'bajular': True, 'debochado': True, 'b22': True, 'pirado': True, 'juntinhos': True, 'souto': True, 'presidenta': True, 'indicou': True, 'atestou': True, 'imbecilidade': True, 'idio': True, 'ligacoes': True, 'relacoes': True, 'faccoes': True, 'bicheiros': True, 'contrabandistas': True, 'narcotrafican': True, 'arquimegaimbecil': True, 'criar': True, 'reino': True, 'terra': True, 'ha': True, 'montando': True, 'palacios': True, 'culto': True, 'ouro': True, 'compaixao': True, 'viuvas': True, 'orfaos': True, 'refugiados': True, 'violencia': True, 'opressao': True, 'fracos': True, 'enganacao': True, 'fujam': True, 'piore': True, 'imprestavel': True, 'inutil': True, 'ego': True, 'presidenciavel': True, 'ficha': True, 'limpa': True, 'aval': True, 'onu': True, 'papa': True, 'principais': True, 'presidentes': True, 'ganhando': True, 'processando': True, 'ladroes': True, 'razoes': True, 'evitar': True, 'virasse': True, 'venezuela': True, '1000': True, 'composto': True, 'lacteo': True, 'importa': True, 'eduardo': True, 'bolsonaros': True, 'n': True, 'uniram': True, 'preocupados': True, 'acabouabsurdo': True, 'qualquer': True, 'cbf': True, 'nove': True, 'habitos': True, 'bar': True, 'gabine': True, 'comparando': True, 'dele': True, 'cometeu': True, 'arrebentou': True, 'trilhoes': True, 'coitado': True, 'soltaram': True, 'puxa': True, 'inveja': True, 'calar': True, 'esqueca': True, 'data': True, 'relaxa': True, 'prontas': True, 'escolhida': True, 'branca': True, 'enterrado': True, 'honra': True, 'merito': True, 'descer': True, 'tribunal': True, 'elegivel': True, 'conheco': True, 'esquema': True, 'intervir': True, 'vagas': True, 'latfundiarios': True, 'janainatem': True, 'erra': True, 'portugal': True, 'vistar': True, 'urgente': True, 'marcos': True, 'valerio': True, 'lutou': True, 'colocou': True, 'pato': True, 'participou': True, 'manifestacoesrecebeu': True, 'almoco': True, 'hojeentendam': True, 'desviar': True, 'privado': True, 'compensa': True, 'compensaser': True, 'reuniram': True, 'gostam': True, 'numero': True, 'protagonizou': True, 'assalto': True, 'brincadeira': True, 'w': True, 'principal': True, 'marca': True, 'aumentou': True, 'verba': True, 'publicidade': True, 'doidona': True, 'assaltos': True, 'execucoes': True, 'trafico': True, 'drogas': True, 'culpas': True, 'declarasse': True, 'maucaratismo': True, 'representar': True, 'nota': True, 'repudio': True, 'desvio': True, 'conduta': True, 'cochiladinha': True, 'cedo': True, 'sonhei': True, 'fazenda': True, 'varias': True, 'vacas': True, 'acordei': True, 'leonardo': True, 'anotem': True, 'humilhada': True, 'reporter': True, 'jn': True, 'metralhar': True, 'convocando': True, 'fascismo': True, 'vence': True, 'ninguemse': True, 'ameacariaou': True, 'votem': True, 'requerer': True, 'aposentadorias80': True, 'cheque': True, 'rixa': True, 'rio': True, 'meninos': True, 'roubam': True, 'bonner': True, 'petistas': True, 'korre': True, 'adelio': True, 'facada': True, 'agradecer': True, 'terem': True, 'jogado': True, 'jornalistas': True, 'caminho': True, 'acima': True, 'pagador': True, 'cansou': True, 'touque': True, 'acaso': True, 'inocencia': True, 'mudou': True, 'regra': True, 'espancado': True, 'onibus': True, 'tceseu': True, 'sindicato': True, 'abc': True, 'resultado': True, 'brutalmente': True, 'bastante': True, 'problemasrealmente': True, 'tentativa': True, 'assasiinato': True, 'sente': True, 'inteligencia': True, 'preciso': True, 'perceber': True, 'ficand': True, 'opcao': True, 'seria': True, 'suma': True, 'jesus': True, 'balaio': True, 'ultimo': True, 'antigo': True, 'delatou': True, 'generosa': True, 'empatica': True, 'robo': True, 'melhore': True, 'okc': True, 'thunder': True, 'trade': True, 'clippers': True, 'cn': True, 'impichou': True, '2020depois': True, 'descondenou': True, 'tornou': True, 'atraves': True, 'general': True, 'aceitar': True, 'poderei': True, 'twitar': True, 'inocentado': True, 'portando': True, 'ladr': True, 'discursa': True, 'estimulando': True, 'agradecendo': True, 'capangas': True, 'mataram': True, 'arrombado': True, 'comunicar': True, 'afundou': True, 'brigando': True, 'bolsocaro': True, 'aniversario': True, 'tema': True, 'vemos': True, 'estupidez': True, 'vermes': True, 'estrupador': True, 'castracao': True, 'quimica': True, 'perpetua': True, 'estupradores': True, 'cocando': True, 'postar': True, 'stories': True, 'obviamente': True, 'compara': True, 'comparei': True, 'diminui': True, 'gravidade': True, 'frase': True, 'usa': True, 'erros': True, 'diminuir': True, 'diante': True, 'acontecendo': True, 'surge': True, 'conversinha': True, 'tocante': True, 'questao': True, 'talkey': True, 'tai': True, 'segregacao': True, 'avo': True, 'estuprador': True, 'esquerdista': True, 'negacionista': True, 'genocidas': True, 'outras': True, 'intolerantes': True, 'cade': True, 'mexeu': True, 'artistas': True, 'manipuladora': True, 'intelectuais': True, 'apoiam': True, 'recuso': True, 'caras': True, 'travestidos': True, 'universitarios': True, 'rodrigo': True, 'pacheco': True, 'marcou': True, 'reuniao': True, 'residencia': True, 'oficial': True, 'senado': True, 'bombar': True, 'apoiando': True, 'reclama': True, 'caro': True, 'chance': True, '8': True, 'imbecil': True, 'nele': True, 'google': True, 'saphado': True, 'protetor': True, 'hi': True, 'devia': True, 'comandante': True, 'maximo': True, 'devemos': True, 'empresas': True, 'boicotar': True, 'entenda1': True, 'p': True, 'individuos': True, 'determinados2': True, 'demonizar': True, 'difuso': True, 'odio': True, 'episodios': True, 'potencial': True, 'corrosivo': True, 'tecido': True, 'mto': True, 'tantos': True, 'odiavam': True, 'defendem': True, 'entusiasmo': True, 'rebolar': True, 'kalakak': True, 'assista': True, 'incentivou': True, 'assassi': True, 'youtube': True, 'procurando': True, 'filiado': True, 'pl': True, 'enfiando': True, 'faca': True, 'ameacando': True, 'trincheiras': True, 'lutar': True, 'armas': True, 'desejando': True, 'enrolando': True, 'logoo': True, '15': True, 'tebet': True, 'gastar': True, 'milhao': True, 'relativizando': True, 'lixossatisfeito': True, 'paris': True, 'voltei': True, 'fiz': True, 'palanq': True, 'lula+': True, 'ladrao=': True, 'cadeiabolsonaro': True, 'kkkkkkkk': True, 'achando': True, 'indice': True, 'mereca': True, 'pouca': True, 'sintonia': True, 'suplicy': True, 'completamente': True, 'lascar': True, 'servico': True, 'curral': True, 'muito': True, 'lulinha': True, 'grandes': True, 'mulher': True, 'patetico': True, 'lamentavel': True, 'impeachment': True, 'merenda': True, 'decente': True, 'sentado': True, 'cadeira': True, 'netos': True, 'votaram': True, 'verme': True, 'merecem': True, 'anita': True, 'tbem': True, 'acreditei': True, '14': True, 'votando': True, 'quadrilhaate': True, 'maedai': True, 'entendovoce': True, 'fudendo': True, 'papuda': True, 'exvereador': True, 'acusado': True, 'homicidio': True, 'reducao': True, 'combustiveis': True, 'ruim': True, 'estaria': True, 'extase': True, 'milicianos': True, 'kkkk2': True, 'estimula': True, 'minha': True, 'limitado': True, 'aposto': True, 'duvida': True, 'meretrizes': True, 'musica': True, 'espiritos': True, 'linha': True, 'desce': True, 'terreiro': True, 'meia': True, 'troca': True, 'pinga': True, 'nmr': True, 'kra': True, 'sinais': True, 'arminha': True, 'roubavam': True, 'bancando': True, 'lucro': True, 'bancos': True, 'bagre': True, 'sigo': True, 'ladraogostaria': True, 'tatuagem': True, 'cubanos': True, 'saem': True, 'aguentarem': True, 'propoe': True, 'tom': True, 'contar': True, 'maldito': True, 'presidario': True, 'repitam': True, 'seguras': True, 'ptcc': True, 'aceito': True, 'governante': True, 'envolvi': True, 'escolher': True, 'formador': True, 'perigo': True, 'soberania': True, 'seguranca': True, 'maxima': True, 'cemiterio': True, 'trouxa': True, 'balela': True, 'papinho': True, 'fodase': True, 'stj': True, 'mantinha': True, 'dialogo': True, 'cabuloso': True, 'presa': True, 'cr': True, 'comando': True, 'impediu': True, 'policia': True, 'carioca': True, 'morros': True, 'fechou': True, 'frigorificos': True, 'abriu': True, 'jbs': True, 'grosso': True, 'seguimento': True, 'fritando': True, 'pecuaristas': True, 'dividiu': True, 'comparsasfora': True, 'ladraochega': True, 'corag': True, 'qndo': True, 'conhecido': True, 'pega': True, 'fogo': True, 'cabare': True, 'credibilidade': True, 'decepcaovindo': True, 'uchoa': True, 'decadencia': True, 'costumes': True, 'profissional': True, 'fique': True, 'confiar': True, 'bostonarista': True, 'confia': True, 'minto': True, 'simpt': True, 'simpcc': True, 'simmas': True, 'ligar': True, 'espurio': True, 'lavagem': True, 'assassinatos': True, 'verbas': True, 'veja': True, 'faznao': True, 'facam': True, 'xandao': True, 'proibiu': True, 'devolver': True, 'salarios': True, 'recebeu': True, 'lul': True, 'tbm': True, 'conforme': True, 'homologado': True, 'ptista': True, 'lambe': True, 'botas': True, 'estelionato': True, 'latrocinio': True, 'matou': True, 'intendo': True, 'perfeitamente': True, 'extremamente': True, 'irritante': True, 'formacao': True, 'devo': True, 'acreditar': True, 'simone': True, 'fodeu': True, 'oi': True, 'pcce': True, 'leitura': True, 'justamente': True, 'facilidade': True, 'autorizo': True, 'preventiva': True, 'conspirador': True, 'vacinas': True, 'eletronicas': True, 'imenso': True, 'kkkkkkkkkkkkk': True, 'bandidinho': True, 'kkkkkkkkkkkkkk': True, 'comprou': True, 'centraovcs': True, 'cegos': True, 'enxerga': True, 'parem': True, 'colocado': True, 'deixado': True, 'mapa': True, 'rousseff': True, 'burra': True, 'expressar': True, 'comete': True, 'atrocidades': True, 'faccao': True, 'presos': True, 'certamente': True, 'instruido': True, 'antietico': True, 'bolsonarusta': True, 'ficaram': True, 'eua': True, 'fraudads': True, 'cedulas': True, 'eletronico': True, 'elegeu': True, 'contraditorios': True, 'jkkk': True, 'misericordialula': True, 'lixolula': True, 'lt': True, 'intencoes': True, 'liberou': True, 'disputar': True, 'escrever': True, 'ligado': True, 'vestiremos': True, 'verde': True, 'amarelo': True, 'guando': True, 'derrotar': True, 'tiradentes': True, 'crucificado': True, 'entendo': True, 'criticos': True, 'precisam': True, 'curo': True, 'denegrir': True, 'ofensas': True, 'recebendo': True, 'sobrenome': True, 'ngm': True, 'fazertentar': True, 'reeleger': True, 'estupido': True, 'auge': True, 'quebra': True, 'x': True, 'satanico': True, 'bebe': True, 'absolvido': True, 'resolver': True, 'bagunca': True, 'devolvam': True, 'cancelem': True, 'cep': True, 'gera': True, 'desconfianca': True, 'voltaram': True, 'forcase': True, 'impopular': True, 'desenterra': True, 'chamalo': True, 'dinamica': True, 'republiquetas': True, 'latinas': True, 'cachaca': True, 'bolsanaro': True, 'duraria': True, 'falacia': True, 'ditatorial': True, 'esquecendo': True, 'reforma': True, 'constituicao': True, 'tornar': True, 'autocrata': True, 'legalizado': True, 'ui': True, 'proteger': True, 'tanta': True, 'dificuldade': True, 'afundar': True, 'compreensao': True, 'abaixo': True, 'zero': True, 'picareta': True, 'antipatia': True, 'theo': True, 'cantar': True, 'ahaha': True, 'kkkklula': True, 'deixa': True, 'ato': True, 'previsao': True, 'kkkkkkkkkkkkkkkkkkkkkkotimo': True, '5tf': True, 'acordado': True, 'coma': True, 'issoboa': True, 'sorte': True, 'pos': True, 'retirado': True, 'ativo': True, 'planejado': True, 'atentado': True, 'mandaram': True, 'reserva': True, 'salario': True, 'servidor': True, 'lambendo': True, 'militar': True, 'indisciplinado': True, 'odeiam': True, 'cair': True, 'area': True, 'penalti': True, 'luiz': True, 'transparencia': True, 'exclusiva': True, 'tirando': True, 'vencedor': True, 'diplomado': True, 'nenhuma': True, 'confessou': True, 'tras': True, 'darao': True, 'completo': True, 'jumento': True, 'chupa': True, 'conhece': True, 'gomes': True, 'talkscortes': True, 'sabendo': True, 'podiam': True, 'votado': True, 'protestado': True, 'gato': True, 'estrume': True, 'cao': True, 'cachorro': True, 'pronunciamento': True, 'cargos': True, 'magazine': True, 'luiza': True, 'axo': True, 'ladraokkk': True, 'forma': True, 'algumateria': True, 'haver': True, 'direito': True, 'inclusive': True, 'pensar': True, 'carlixo': True, 'robos': True, 'cancelou': True, 'xilindro': True, 'revolta': True, 'sardinha': True, 'aprovo': True, 'loola': True, 'br': True, 'funcionario': True, 'concursado': True, '19092016': True, 'fascista': True, 'oportunista': True, 'cheia': True, 'militonto': True, 'aplaudindo': True, 'elogiar': True, 'ataque': True, 'valido': True, 'bangu': True, 'reinar': True, 'suprema': True, 'banhada': True, 'legalizadas': True, 'ocupar': True, 'sela': True, 'utilizando': True, 'baixa': True, 'combustivel': True, 'caindo': True, 'conto': True, 'torcida': True, 'corinthians': True, 'estadio': True, 'presidirario': True, 'absurdo': True, 'candidatar': True, 'abraca': True, 'arruda': True, 'sinto': True, 'informar': True, 'capitaoacabou': True, 'monte': True, 'condenou': True, 'esqueci': True, 'intenda': True, 'esquece': True, 'bradou': True, 'anta': True, 'cm': True, 'mentirosa': True, 'ruina': True, 'nd': True, 'dna': True, 'luisa': True, 'falencia': True, 'bete': True, 'velha': True, 'media': True, 'comprada': True, '2a': True, 'instancia': True, 'revisora': True, 'colegiada': True, 'obrigada': True, 'seguir': True, '1o': True, 'grau': True, 'eivada': True, 'vicio': True, 'validaram': True, 'geradas': True, '1a': True, 'enganados': True, 'nuca': True, 'queda': True, 'pergunto': True, 'xuxa': True, 'pablo': True, 'vittar': True, 'porchat': True, 'doria': True, 'pqp': True, 'combinar': True, 'po': True, 'bilhao': True, 'prejuizo': True, 'proibido': True, 'mencionar': True, 'alegando': True, 'parceria': True, 'ordens': True, 'moraes': True, 'embaixadores': True, 'cagando': True, 'gangue': True, 'entra': True, 'vamo': True, 'sola': True, 'irineu': True, 'progressao': True, 'chegando': True, 'sepultura': True, 'voldemorte': True, 'repercussao': True, 'negativa': True, 'palhacadas': True, 'preparar': True, 'recusa': True, 'tratar': True, 'impar': True}\n"
     ]
    }
   ],
   "source": [
    "word_feature = list(freq_words.keys())[:3000]\n",
    "word_feature_test = list(freq_words_test.keys())\n",
    "\n",
    "def find_features(document):\n",
    "    words = set(document)\n",
    "    features = {}\n",
    "    for w in word_feature:\n",
    "        #the key is the word in the 3000 most popular words\n",
    "        #is gonna be the boolean value for w in words\n",
    "        features[w] = (w in words)\n",
    "        \n",
    "    return features\n",
    "\n",
    "def find_features_test(document):\n",
    "    words = set(document)\n",
    "    features = {}\n",
    "    for w in word_feature_test:\n",
    "        features[w] = (w in words)\n",
    "        \n",
    "    return features\n",
    "\n",
    "print(find_features_test(all_words_test))"
   ]
  },
  {
   "cell_type": "code",
   "execution_count": 24,
   "id": "bad058b1",
   "metadata": {},
   "outputs": [
    {
     "name": "stdout",
     "output_type": "stream",
     "text": [
      "(['votaram', 'no', 'pezao', 'agora', 'tomem', 'no', 'czao'], 'yes')\n"
     ]
    }
   ],
   "source": [
    "print(documents[0])"
   ]
  },
  {
   "cell_type": "code",
   "execution_count": 25,
   "id": "28a8ecc5",
   "metadata": {},
   "outputs": [],
   "source": [
    "feature_sets = [(find_features(rev), category) for (rev, category) in documents]"
   ]
  },
  {
   "cell_type": "code",
   "execution_count": 26,
   "id": "fc68d705",
   "metadata": {},
   "outputs": [],
   "source": [
    "feature_sets_test = [(find_features_test(rev), category) for (rev, category) in document_test]"
   ]
  },
  {
   "cell_type": "code",
   "execution_count": 27,
   "id": "24f299f3",
   "metadata": {},
   "outputs": [],
   "source": [
    "training_set = feature_sets\n",
    "test_set = feature_sets_test"
   ]
  },
  {
   "cell_type": "code",
   "execution_count": 28,
   "id": "9726378a",
   "metadata": {},
   "outputs": [
    {
     "name": "stdout",
     "output_type": "stream",
     "text": [
      "({'nao': False, 'fundamentada': True, 'kkkk': False, 'coisas': False, 'bolsonaro': True, 'nega': True, 'gado': True, 'simvcs': False, 'deploraveis': True, 'rt': False, '93': False, 'mortos': False, '26': False, 'desaparecidos': False, '6': False, 'mil': False, 'desabrigados': False, 'prefeito': False, 'recife': False, 'sao': False, 'paulo': False, 'reunioes': False, 'campanha': False, 'lula': False, 'l': False, 'eu': False, 'duvido': False, 'q': False, 'ladrao': False, 'maior': False, 'vcs': False, 'ai': False, 'nessa': False, 'ladainha': False, 'fim': False, 'o': False, 'falou': False, 'a': False, 'profissao': False, 'honesta': False, 'politico': False, 'sabe': False, 'porque': False, 'ir': False, 'mais': False, 'menininha': False, 'criado': False, 'papai': False, 'vota': False, 'este': False, 'mes': False, 'saturno': False, 'marte': False, 'venus': False, 'jupiter': False, 'alinhados': False, 'ceu': False, 'oque': False, 'significa': False, 'que': False, 'e': False, 'uol': False, 'urubu': False, 'olho': False, 'azar': False, 'pra': False, 'cem': False, 'anos': False, 'muita': False, 'carnica': False, 'cagao': False, 'kkk': False, 'certo': False, 'fez': False, 'pq': False, 'avisado': False, 'bem': False, 'vindo': False, 'sul': False, 'mas': False, 'tenta': False, 'vir': False, 'ver': False, 'popularidade': False, 'esse': False, 'alexandre': False, 'kalil': False, 'cara': False, 'mal': False, 'agora': False, 'roubalheira': False, 'igual': False, 'comparsa': False, 'livre': False, 'nome': False, 'vergonha': False, 'lambedor': False, 'hahaha': False, 'solta': False, 'faco': False, 'faria': False, 'amizade': False, 'gosto': False, 'confesso': False, 'shippo': False, 'vc': False, 'fedido': False, 'feio': False, 'golpe': False, 'brasileiro': False, 'auto': False, 'boicota': False, 'prova': False, 'disso': False, 'lixo': False, 'asqueroso': False, '17': False, 'faz': False, 'trabalhou': False, 'conseguir': False, 'mora': False, 'mansao': False, 'toma': False, 'vinho': False, '5': False, 'reais': False, 'pobre': False, 'qu': False, 'provou': False, 'arte': False, 'roubar': False, 'defender': False, 'companheiros': False, 'bandidos': False, 'seu': False, 'lugar': False, 'na': False, 'prisao': False, 'tt': False, 'nunca': False, 'coloque': False, 'gente': False, 'apoia': False, 'timeline': False, 'dnv': False, 'aguento': False, 'discussao': False, 'desses': False, 'gados': False, 'fdps': False, 'nada': False, 'oq': False, 'fazer': False, 'vida': False, 'ficam': False, 'mamando': False, 'pau': False, 'deixou': False, 'claro': False, 'vai': False, 'debates': False, 'por': False, 'pr': False, 'chamado': False, 'chamamos': False, 'onde': False, 'recebido': False, 'presidencia': False, 'vaiadoa': False, 'ser': False, 'dentro': False, 'alguns': False, 'templos': False, 'evanjeguesagora': False, 'poste': False, 'provas': False, 'aqui': False, 'dizem': False, 'comecar': False, 'andar': False, 'brasil': False, 'escolheu': False, 'santa': False, 'catarina': False, 'primeiros': False, 'estados': False, 'visitar': False, 'se': False, 'ganhasse': False, 'eleicao': False, 'globo': False, 'ia': False, 'ficar': False, 'dinheiro': False, 'regulada': False, 'peloladrao': False, '=': False, 'mentiroso': False, 'em': False, 'esqueceu': False, 'pares': False, 'contraesqueceu': False, 'deu': False, 'ordem': False, 'aprovarem': False, 'atrasar': False, 'ainda': False, 'brasillula': False, 'merece': False, 'viver': False, 'entrei': False, 'camiseta': False, 'lanchonete': False, 'comprar': False, 'pastel': False, 'dono': False, 'perguntou': False, 'votar': False, 'respondi': False, 'falar': False, 'verdade': False, 'sabem': False, 'pt': False, 'blindando': False, 'semianalfabetonao': False, 'mi': False, 'sim': False, 'grobo': False, 'midia': False, 'lulista': False, 'ta': False, 'fazendo': False, 'assassinato': False, 'reputacao': False, 'gustavo': False, 'lima': False, 'causa': False, 'hipocresia': False, 'anitta': False, 'defende': False, 'preocupada': False, 'pobrezinho': False, 'ne': False, 'ninguem': False, 'casamento': False, 'tinha': False, 'negro': False, 'nem': False, 'elite': False, 'num': False, 'rico': False, 'sai': False, 'fora': False, 'chefe': False, 'quadrilha': False, 'safado': False, 'mano': False, 'tenho': False, 'declarar': False, 'para': False, 'acha': False, 'achar': False, 'gusttavo': False, 'pode': False, 'pura': False, 'hipocrisia': False, 'os': False, 'sonsos': False, 'perguntando': False, 'fakenews': False, 'grande': False, 'carrasco': False, 'direita': False, 'amamos': False, 'referindo': False, 'segue': False, 'lista': False, 'ladraoas': False, 'urnas': False, 'fraudaveiso': False, 'ste': False, 'sala': False, 'secreta': False, 'apuracaoos': False, 'ministros': False, 'stf': False, 'deuseso': False, 'virar': False, 'comunismo': False, 'roubaram': False, 'conta': False, 'jamais': False, 'favor': False, 'iniciar': False, 'terminar': False, 'obra': False, 'infraestrutura': False, 'foram': False, '16': False, 'governo': False, 'muitos': False, 'roubos': False, 'gracas': False, 'deus': False, 'povo': False, 'ocrim': False, 'era': False, 'roubava': False, 'dava': False, 'bolsa': False, 'miseria': False, 'enganar': False, 'levar': False, 'outros': False, 'paises': False, 'h': False, 'pais': False, 'roubado': False, 'comanda': False, 'quando': False, 'alguem': False, 'disser': False, 'inocente': False, 'paro': False, 'te': False, 'piores': False, 'prefiro': False, 'lado': False, 'orgulho': False, 'turma': False, 'do': False, 'decidir': False, 'fake': False, 'cabeca': False, 'ovo': False, 'sera': False, 'dizer': False, 'soltou': False, 'condenado': False, '3': False, 'instancias': False, 'vdd': False, 'contaram': False, 'quem': False, 'pacto': False, 'diabo': False, 'quer': False, 'saber': False, 'velho': False, 'precisa': False, 'unica': False, 'coisa': False, 'precisamos': False, 'cela': False, 'kkkkkkkkkkkkkkk': False, 'mimimi': False, 'derrotado': False, 'voto': False, 'padrao': False, 'conservador': False, 'capitalista': False, 'senhora': False, 'sei': False, 'prenderam': False, 'grandioso': False, 'roubo': False, 'restante': False, 'organizaram': False, 'executaramse': False, 'atualiza': False, 'ao': False, 'finge': False, 'inteligente': False, 'fale': False, 'fraude': False, '2018': False, 'kkkkkkkkkkka': False, 'falta': False, 'estudo': False, 'gerar': False, 'corrupto': False, 'bandido': False, 'fato': False, 'salvo': False, 'engano': False, 'tu': False, 'ajudava': False, 'crimes': False, 'pronto': False, 'pai': False, 'de': False, 'familia': False, 'grita': False, 'no': False, 'portao': False, 'sua': False, 'casa': False, 'da': False, 'manchete': False, 'jornal': False, 'pela': False, 'logica': False, 'filho': False, 'cachaceiro': False, 'achou': False, 'realmente': False, 'preferencia': False, 'ariscar': False, 'acabou': False, 'sendo': False, 'expulso': False, 'vivemos': False, 'ze': False, 'neto': False, 'viloes': False, 'roubou': False, 'milhoes': False, 'bonzinho': False, 'quadrilheiro': False, 'gangster': False, 'com': False, 'certeza': False, 'vagabundo': False, 'etc': False, 'pilantra': False, 'corno': False, 'luis': False, 'inacio': False, 'silva': False, 'querem': False, 'volta': False, 'burros': False, 'sindrome': False, 'manso': False, 'perdoa': False, 'voce': False, 'virando': False, 'piada': False, 'perde': False, 'ter': False, 'admirado': False, 'ja': False, 'mixou': False, 'video': False, 'falando': False, 'parte': False, 'mensalao': False, 'petrolao': False, 'oderbrecht': False, 'bnds': False, 'amigo': False, 'd': False, 'olha': False, 'mandato': False, 'foi': False, 'educacao': False, 'jovens': False, 'socio': False, 'frigorifico': False, 'goias': False, 'vendia': False, 'tal': False, 'picanha': False, 'wagyu': False, 'preco': False, 'estratosferico': False, 'criminoso': False, 'corrpto': False, 'lavador': False, 'falastrao': False, 'um': False, 'recado': False, 'direto': False, 'vice': False, 'epoca': False, 'tudo': False, 'verdadeiro': False, 'kkkkk': False, 'tomar': False, 'cu': False, 'chora': False, 'michel': False, 'temer': False, '132022': False, 'jair': False, 'odeio': False, 'es': False, 'pessimo': False, 'peesidente': False, 'imunda': False, 'centrao': False, 'imundo': False, 'comunicacao': False, 'social': False, '1313131313131313': False, 'presidente': False, 'parece': False, 'covld': False, 'rolou': False, 'lulaah': False, 'jaques': False, 'wagner': False, 'humberto': False, 'costa': False, 'ladra': False, 'fedeu': False, 'livros': False, 'continua': False, 'hoje': False, 'permanece': False, 'enganado': False, 'jumentos': False, 'bom': False, 'internet': False, 'podemos': False, 'mostrar': False, 'verdades': False, 'passados': False, 'segundo': False, 'pobreza': False, 'mentir': False, 'melhor': False, 'to': False, 'saco': False, 'cheio': False, 'juiz': False, 'militante': False, 'como': False, 'candidato': False, 'democracia': False, 'isso': False, 'uma': False, 'afronta': False, 'caralho': False, 'puta': False, 'nennhum': False, 'viu': False, 'episodio': False, 'inteiro': False, 'viram': False, 'cortes': False, 'patotinha': False, 'existe': False, 'decider': False, 'suficiente': False, 'pros': False, 'militantespor': False, 'ganhar': False, 'porra': False, 'merda': False, 'adversario': False, 'interpretacao': False, 'galera': False, 'quase': False, '0': False, 'sitio': False, 'atibaia': False, 'bolsonarista': False, 'pois': False, 'digo': False, 'ti': False, 'atrazado': False, 'mentais': False, 'bolsonaristas': False, 'acefalicos': False, 'nocao': False, 'realidade': False, 'antivacinas': False, 'negacionistadesresoeitador': False, 'sus': False, 'dimheiro': False, 'mac': False, 'so': False, 'aumentar': False, 'genocida': False, 'toda': False, 'nacao': False, '12004': False, 'palavra': False, 'magica': False, 'ppi': False, 'pedir': False, 'pro': False, 'congresso': False, 'reverter': False, 'bando': False, 'vendido': False, 'entreguista': False, 'subordinados': False, 'mor': False, 'republica': False, 'quiser': False, 'assume': False, '2023': False, 'bolsonarismo': False, 'voltarao': False, 'esgoto': False, 'deveriam': False, 'saido': False, 'vencer': False, 'desesperado': False, 'cuidado': False, 'me': False, 'seguia': False, 'passava': False, 'esquerda': False, 'descobrir': False, 'perfil': False, 'hora': False, 'agulhada': False, 'momento': False, 'alto': False, 'vacinei': False, 'shopping': False, 'boulevard': False, 'pensei': False, 'chiandomas': False, 'aplaudiu': False, 'disse': False, 'viva': False, 'egua': False, 'lavajato': False, 'trapaceou': False, 'sistema': False, 'juridico': False, 'nacional': False, 'dar': False, 'dominar': False, 'saquear': False, 'correto': False, 'galaxias': False, 'apareco': False, 'foto': False, 'posso': False, 'tirar': False, 'bozo': False, 'chega': False, '2': False, 'contradicoes': False, 'datafolha': False, 'ipespe': False, 'xp': False, 'pesquisa': False, 'confiavel': False, 'numeros': False, 'facilmente': False, 'comprovaveis': False, 'aponta': False, 'cenario': False, 'devastador': False, 'chamada': False, 'vi': False, 'vez': False, 'filha': False, 'li': False, 'outra': False, 'subconsciente': False, 'isolamento': False, 'tempo': False, 'poder': False, 'sair': False, 'ruas': False, 'kkkkkkkkkkkkkkkkkkkkkkkkkkkkkkkkkkkkkkkkkkkkkkkkdescondenado': False, 'pelo': False, 'cancer': False, 'stflula': False, 'pessoal': False, 'fazem': False, 'comenta': False, 'autocritica': False, 'assistem': False, 'programa': False, 'produziram': False, 'idiota': False, 'cerveja': False, 'enjoo': False, 'meu': False, 'inacreditavele': False, 'abutre': False, 'vale': False, 'ciro': False, 'responsabilidade': False, 'escandalo': False, 'corrupcao': False, 'historia': False, 'mundo': False, 'sensacao': False, 'justica': False, 'galinha': False, 'mandou': False, 'gritar': False, 'grito': False, 'desgracado': False, 'bah': False, 'podem': False, 'parecem': False, 'descobriram': False, 'eo': False, 'dilma': False, 'bolsonaro2022': False, 'fica': False, 'cima': False, 'muro': False, 'covarde': False, 'contra': False, 'brasileiros': False, 'recordar': False, 'kkkkkk': False, 'problema': False, 'longe': False, 'unico': False, 'vigarista': False, 'codinome': False, 'odebrecht': False, 'coxa': False, 'amante': False, 'sou': False, 'tambem': False, 'entao': False, 'diferenca': False, 'economica': False, 'carater': False, 'apaga': False, 'menos': False, 'apoiar': False, 'vergonhoso': False, 'todos': False, 'hahahhaha': False, 'colocar': False, 'planalto': False, 'legalmente': False, 'brasileira': False, 'avisa': False, 'coracao': False, 'corone': False, 'papudinho': False, 'capacho': False, 'queres': False, 'olofote': False, 'colunista': False, 'folha': False, 'portanto': False, 'medo': False, 'antes': False, 'flavio': False, 'senador': False, 'deputado': False, 'empresario': False, 'advogado': False, 'filhos': False, 'comunist': False, 'eleicoes': False, 'tipo': False, 'cuba': False, 'assim': False, 'gosta': False, 'uhm': False, 'chamando': False, 'nazista': False, 'sujo': False, 'morte': False, 'virus': False, 'responsavel': False, 'publico': False, 'assaltou': False, 'falido': False, 'cadeia': False, 'pouco': False, 'deveria': False, 'existir': False, 'pena': False, 'pediu': False, 'facista': False, 'ex': False, 'presidiario': False, 'falei': False, 'obrigado': False, 'apoio': False, 'isolado': False, 'kkkkkkk': False, 'lulaladrao': False, 'justificar': False, 'rua': False, 'canalha': False, 'come': False, 'lava': False, 'boca': False, 'soda': False, 'caustica': False, 'nojento': False, 'narrativa': False, 'sabemos': False, 'cidadao': False, 'le': False, 'materia': False, 'liga': False, 'pontos': False, 'facil': False, 'esforcare': False, 'comeca': False, 'baixo': False, 'aceita': False, 'fome': False, 'olhem': False, 'resgatei': False, 'ele': False, 'tirou': False, 'podre': False, 'sempre': False, 'mentindo': False, 'humano': False, 'chegar': False, 'nivel': False, 'retardo': False, 'amor': False, 'tem': False, 'avancado': False, 'dissonancia': False, 'cognitiva': False, 'vulgo': False, 'burrice': False, 'declaracao': False, 'imprensa': False, 'nojo': False, 'deles': False, 'respeito': False, 'opiniao': False, 'discordo': False, 'nos': False, 'professores': False, 'audiencia': False, 'educar': False, 'temos': False, 'ensino': False, 'medio': False, 'acham': False, 'entendem': False, 'falcatruas': False, 'desse': False, 'alem': False, 'falas': False, 'racistas': False, 'monark': False, '+': False, 'gritei': False, 'la': False, 'arrombada': False, 'escreve': False, 'apesar': False, 'dos': False, 'umas': False, 'piadas': False, 'tens': False, 'razao': False, 'economia': False, 'teu': False, '12': False, 'cresceu': False, 'alias': False, 'roubando': False, 'mesmo': False, 'kkkkkkkkkk': False, 'prendam': False, 'fraudes': False, 'comecou': False, 'acabar': False, 'presta': False, 'ponto': False, 'final': False, 'consumindo': False, 'droga': False, 'estragada': False, 'duas': False, 'descondenado': False, 'setefe': False, 'caloteiro': False, 'iguais': False, 'juntam': False, 'tramar': False, 'calotes': False, 'pessoas': False, 'cidade': False, 'perdeu': False, 's': False, 'manipuladas': False, 'confirmava': False, 'hadad': False, 'imaginem': False, '2022': False, 'vejam': False, 'va': False, 'defendendo': False, 'quero': False, 'exame': False, 'mostra': False, 'resgatar': False, 'passado': False, 'nenhum': False, 'torco': False, 'selecao': False, 'derrubar': False, 'acorda': False, 'pira': False, 'manobra': False, 'politica': False, 'ano': False, 'eleitoral': False, 'capacidade': False, 'perguntar': False, 'motivo': False, 'feito': False, 'quatro': False, 'pensam': False, 'imposto': False, 'transferido': False, 'outro': False, 'produto': False, 'setor': False, 'minima': False, 'condicao': False, 'escolhe': False, 'insistir': False, 'miliciano': False, 'assassino': False, 'sociopata': False, 'doenca': False, 'mental': False, 'traidor': False, 'golpista': False, 'satanas': False, 'hipocrita': False, '2016': False, 'inicio': False, 'destruicao': False, 'sra': False, '132018': False, 'fabricado': False, 'falsas': False, 'sr': False, '13': False, 'injusta': False, 'peeseguicao': False, 'portou': False, 'acredito': False, 'pressa': False, 'dia': False, 'percebido': False, 'primeiro': False, 'tweet': False, 'critiquei': False, 'ambos': False, 'jogados': False, 'lata': False, 'historiao': False, 'kakakaka': False, 'brochando': False, 'dando': False, 'viagra': False, 'boquinha': False, 'kakakakaak': False, 'confira': False, 'luciano': False, 'responder': False, 'pago': False, 'hot': False, 'dog': False, 'havan': False, 'moro': False, 'estudei': False, 'avanco': False, 'imagino': False, 'debate': False, 'reproduzindo': False, 'videos': False, 'obras': False, 'realizadas': False, '04': False, 'contrario': False, '20': False, 'voces': False, 'decidem': False, 'ou': False, 'patria': False, 'votara': False, 'soou': False, 'ameaca': False, 'ah': False, 'veio': False, 'engana': False, '12003': False, 'queria': False, 've': False, 'mesma': False, 'situacao': False, 'senhor': False, 'viveu': False, 'volte': False, 'governar': False, 'reeleito': False, 'ficou': False, 'meio': False, 'gasolina': False, 'faltando': False, '4': False, 'meses': False, 'abaixar': False, 'dezembro': False, 'aumenta': False, 'novoacha': False, 'eleitor': False, 'otarioque': False, 'todo': False, 'inconsequente': False, 'cada': False, 'abre': False, 'chama': False, 'messias': False, 'kkkkkkkkkkkk': False, 'kkkkkkkkkkkktriplicando': False, 'bolsonaro1': False, 'fingir': False, 'estora': False, 'teto': False, 'gastos': False, 'estourar': False, 'vontade': False, 'aplausos': False, 'gado2': False, 'beneficiar': False, 'empresarios': False, 'detrimento': False, 'povo3': False, 'publico4': False, 'impostos': False, 'pobres5': False, 'dolar': False, 'quanto': False, 'junto': False, 'uque': False, 'fase': False, 'ok': False, 'planeta': False, 'diga': False, 'besteiras': False, 'caso': False, 'julgado': False, '10': False, 'juizes': False, 'todas': False, 'instanciaso': False, 'entrou': False, '400': False, 'recursos': False, 'pagando': False, 'advogados': False, 'explicou': False, 'reformas': False, 'recibos': False, 'apnao': False, 'venha': False, 'augusto': False, 'nunes': False, 'detona': False, 'fachin': False, 'farsante': False, 'fingiu': False, 'jato': False, 'soltar': False, 'ainnn': False, 'capitao': False, 'mito': False, 'conluio': False, 'orcrim': False, 'vermelha': False, 'bebado': False, 'dilapi': False, 'estado': False, 'mandar': False, 'anulando': False, 'as': False, 'condenacoes': False, 'isentolandia': False, 'onda': False, 'coloca': False, 'pingos': False, 'is': False, 'sobre': False, 'posta': False, '5000o': False, 'relogio': False, 'luladrao': False, '80000': False, 'jaula': False, 'poderia': False, 'noite': False, 'babaca': False, 'caducou': False, 'velhoagora': False, 'fala': False, 'verdadeira': False, 'dezenas': False, 'consideraram': False, 'maaaaas': False, 'chip': False, 'implantar': False, 'cerebro': False, 'fa': False, 'assiduo': False, 'mae': False, 'irmao': False, 'faculdade': False, 'humanas': False, 'professor': False, 'defendo': False, 'amo': False, 'chamam': False, 'bolsominion': False, 'legado': False, 'falir': False, 'petrobras': False, 'assaltar': False, 'fundos': False, 'pensao': False, 'e~': False, 'meteu': False, 'votao': False, 'chicago': False, 'presidio': False, 'segura': False, 'simplesmente': False, 'colega': False, 'enxergar': False, 'desservico': False, 'sociedade': False, 'ctz': False, 'deve': False, 'combatido': False, 'flerta': False, 'tanto': False, 'possivel': False, 'esqueceram': False, 'avisar': False, 'solto': False, 'pinguco': False, 'mudar': False, 'juridica': False, 'tentar': False, 'pesquisas': False, 'fraudulentas': False, 'novamente': False, 'divulgadas': False, 'dizendo': False, 'perderia': False, 'estrutura': False, 'condic': False, 'ce': False, 'duplamente': False, 'investigado': False, 'suspeita': False, 'reu': False, 'cometendo': False, 'apresentou': False, 'crime': False, 'expresidente': False, 'calunia': False, 'difamacao': False, 'prefere': False, 'empresta': False, 'comunistas': False, 'charutos': False, 'garantia': False, 'investe': False, 'proprio': False, 'curioso': False, 'defendia': False, 'dizia': False, 'perseguicao': False, 'refugiar': False, 'embaixada': False, 'francesa': False, 'depois': False, 'corruptor': False, 'cumplice': False, 'reflita': False, 'sigamos': False, 'reza': False, 'brava': False, 'pnd': False, 'vao': False, 'correr': False, 'agradar': False, 'clientes': False, 'valor': False, 'pobres': False, 'maioria': False, 'comentar': False, 'chorar': False, 'poetica': False, 'sido': False, 'curitiba': False, 'candidat': False, 'eleger': False, 'senadora': False, 'criminosos': False, 'honesto': False, 'enve': False, 'serio': False, 'primeira': False, 'dama': False, 'cumpriu': False, 'merdas': False, 'confundidos': False, 'considerou': False, 'incompetente': False, 'anulou': False, 'processo': False, 'enviando': False, 'df': False, 'porem': False, 'passou': False, '+75': False, 'caducoucaso': False, 'novo': False, 'ansiosos': False, 'preso': False, 'afinal': False, 'iria': False, 'frente': False, 'quartel': False, 'exercito': False, 'gritaria': False, 'governado': False, 'boa': False, 'vou': False, 'vaquinha': False, 'deposita': False, '100': False, 'compro': False, 'convite': False, 'filmar': False, 'pagar': False, 'pix': False, '11955716433': False, 'manda': False, 'comprovante': False, 'dep': False, 'agente': False, 'muie': False, 'esquisita': False, 'juntos': False, 'caos': False, 'bilhoes': False, 'roubaste': False, 'prato': False, 'leis': False, 'funcionam': False, 'enforcado': False, 'praca': False, 'publica': False, 'parabens': False, 'ostentacao': False, 'militantes': False, 'mst': False, 'invadido': False, 'festa': False, 'palhacos': False, 'baderneiros': False, 'sinceramente': False, 'xingo': False, 'kkkkkkkkk': False, 'dilapidou': False, 'baixem': False, 'aplicativo': False, 'invistam': False, 'empresa': False, 'comunista': False, 'consegue': False, 'antagonista': False, 'mentirosos': False, 'masmorra': False, 'sequer': False, 'sindico': False, 'bordele': False, 'politicos': False, 'aonde': False, 'fonte': False, 'secou': False, 'libera': False, 'fumar': False, 'alucinacoes': False, 'nesse': False, 'comparar': False, 'unicas': False, 'emissoras': False, 'competitivas': False, 'atualmente': False, 'tv': False, 'aberta': False, 'burro': False, 'caramba': False, 'gdecider': False, 'perfis': False, 'supostamente': False, 'comecaram': False, 'subir': False, 'tags': False, 'logo': False, 'proximidade': False, 'infiltrado': False, 'lu': False, 'uai': False, 'anti': False, 'democratico': False, 'gorpi': False, 'ama': False, 'regulacao': False, 'diz': False, 'ira': False, 'afeta': False, 'petista': False, 'paga': False, 'dissessem': False, 'alvo': False, 'redes': False, 'sociais': False, 'fdp': False, 'partido': False, 'deixaram': False, 'quebrado': False, 'fizeram': False, 'queremos': False, '280': False, 'desejo': False, 'concordam': False, 'comigo': False, 'patriotas': False, 'organizado': False, 'fugitivo': False, 'julgada': False, 'supostos': False, 'integrantes': False, 'organizacao': False, 'criminosa': False, 'pcc': False, 'morais': False, 'tres': False, 'poderes': False, 'ameacar': False, 'familiares': False, 'voltara': False, 'vamos': False, 'admitir': False, 'ocorra': False, 'tse': False, 'estarem': False, 'convencidos': False, 'vitoria': False, 'teatro': False, 'montado': False, 'elenco': False, 'alberto': False, 'ditador': False, 'anulacao': False, 'formal': False, 'traduzindo': False, 'demos': False, 'jeito': False, 'deixal': False, 'caratismo': False, 'padre': False, 'demonio': False, 'combina': False, 'queimar': False, 'inferno': False, 'patrao': False, 'comemorar': False, 'idolatrar': False, 'algo': False, 'totalmente': False, 'diferente': False, 'fatos': False, 'democrata': False, 'repito': False, 'exalta': False, 'patrocina': False, 'ditaduras': False, 'sanguinarias': False, 'socialistas': False, 'farc': False, 'aliados': False, 'fundou': False, 'foro': False, 'supremo': False, 'trabalhando': False, 'parecia': False, 'bot': False, 'antibolsonaro': False, 'gostei': False, 'abordagem': False, 'derrubou': False, 'stalin': False, 'qual': False, 'marcar': False, 'gostaria': False, 'associar': False, 'formando': False, 'libertar': False, 'eleitores': False, 'desabafo': False, 'apresentador': False, 'representa': False, 'apenas': False, 'psicopata': False, 'celular': False, 'responde': False, 'usam': False, 'conseguiu': False, 'almocar': False, 'mercado': False, 'florianopolis': False, 'parou': False, 'repetidamente': False, 'confirmado': False, 'mentiras': False, 'coragem': False, 'falsa': False, 'intencao': False, 'refrescar': False, 'memoria': False, 'otarios': False, 'cena': False, 'sabia': False, 'aconselha': False, 'vacina': False, 'sigilo': False, 'propria': False, 'carteira': False, 'vacinacao': False, 'futuro': False, 'milionario': False, 'trabalhado': False, 'daqui': False, 'ouvir': False, 'coro': False, 'tempos': False, 'logico': False, 'mentira': False, 'tentarem': False, 'interior': False, 'alagoas': False, 'uns': False, '40': False, 'olhe': False, 'antigamente': False, 'doente': False, 'caiu': False, 'assusta': False, 'culpa': False, 'objetos': False, 'levou': False, 'indevidamente': False, 'palacio': False, 'blog': False, 'chico': False, 'pereira': False, 'miseravel': False, 'escuta': False, 'povolula': False, 'kkkkkkkkkkkkkkkl': False, '70': False, 'discurso': False, 'vive': False, 'seja': False, 'coerente': False, 'praticasua': False, 'candidatura': False, 'serve': False, 'sobrevida': False, 'inquilino': False, 'sugere': False, 'puxadinho': False, 'canja': False, 'almocarlula': False, 'assustadora': False, 'quantidade': False, 'mega': False, 'solucao': False, 'problemas': False, 'gerados': False, 'pesadelo': False, 'mim': False, 'fodam': False, 'fico': False, 'ministro': False, 'barroso': False, 'demonstra': False, 'parcial': False, 'judiciario': False, 'sentenca': False, 'facadas': False, 'matar': False, 'vivia': False, 'space': False, 'vazou': False, 'golpes': False, 'protegendo': False, 'entendeu': False, 'msm': False, 'amar': False, 'demais': False, 'proximo': False, 'exatamente': False, 'bozone': False, 'certa': False, 'gadolina': False, 'esquerdistas': False, 'nojentos': False, 'vivem': False, 'sairia': False, 'acredita': False, 'trouxas': False, 'passa': False, 'miseraveis': False, 'das': False, 'parafitas': False, 'pina': False, 'brasilia': False, 'recifepe': False, 'continuam': False, 'vivendo': False, 'alagadicios': False, 'sobrehumanas': False, 'dracula': False, 'compram': False, 'vinhos': False, 'garrafa': False, 'ameo': False, 'deixeo': False, 'marinhas': False, 'brasileiras': False, 'tendo': False, 'benesses': False, 'amigos': False, 'forjam': False, 'votos': False, 'curso': False, 'proclamerem': False, 'eleito': False, 'minimo': False, 'vantagem': False, 'retorica': False, 'analfa': False, 'pontuado': False, 'sonho': False, 'objetivo': False, 'eliminar': False, 'dois': False, 'amiga': False, 'desmascarando': False, 'mau': False, 'ignorante': False, 'trambiqueiro': False, 'expresidiario': False, 'via': False, 'pera': False, 'viajar': False, 'fontes': False, 'respeitar': False, 'jogo': False, 'provavelmente': False, 'tb': False, 'relacao': False, 'sacanagem': False, 'faquim': False, 'feia': False, 'espernear': False, 'confianca': False, 'larapio': False, 'provar': False, 'acusar': False, 'esses': False, 'vagabundos': False, 'formados': False, 'comemora': False, 'segurando': False, 'imagem': False, 'idolo': False, 'dedos': False, 'pre': False, 'americano': False, 'ajudar': False, 'acefalo': False, '22': False, 'acho': False, 'leu': False, 'artigo': False, 'lei': False, 'vermelho': False, 'ampla': False, 'defesa': False, 'varios': False, 'condenacao': False, 'devido': False, 'legal': False, 'impossivel': False, 'foda': False, 'igualzinho': False, 'hahahahaha': False, 'questionar': False, 'inflacao': False, 'ignorar': False, 'estrago': False, 'caracter': False, 'envolvido': False, 'suja': False, 'participacao': False, 'direta': False, 'certos': False, 'novidade': False, 'saida': False, 'jogar': False, 'super': False, 'trunfo': False, 'celso': False, 'daniel': False, 'ganha': False, 'dai': False, 'figura': False, 'aih': False, 'aparecer': False, 'pernas': False, 'oferece': False, 'rabo': False, 'afff': False, 'patriota': False, 'hj': False, 'mamata': False, 'federal': False, 'jetski': False, 'moto': False, 'pagam': False, 'sozinhasbora': False, 'trabalhar': False, 'estimacaogado': False, 'aproveite': False, 'tente': False, 'missionaria': False, 'dorothy': False, 'lembrando': False, 'molusco': False, '9': False, 'urubus': False, 'petralhada': False, 'sangue': False, 'suga': False, 'cofres': False, 'publicos': False, 'voltar': False, 'arrumo': False, 'tranca': False, 'dupla': False, 'porta': False, 'quarto': False, 'mineiros': False, 'merecemos': False, 'desmascarado': False, 'vaza': False, 'ajato': False, 'lideranca': False, 'popular': False, 'neste': False, 'enquanto': False, 'coco': False, 'cavalo': False, 'bizarro': False, 'doentio': False, 'pessoa': False, 'preocupou': False, 'beneficios': False, 'desespero': False, 'pior': False, 'cego': False, 'governou': False, 'ricos': False, 'canalhas': False, 'fator': False, 'determinante': False, 'calado': False, 'amigao': False, 'togados': False, 'mandachuva': False, 'rapinadores': False, 'travestida': False, 'leticia': False, 'mostrando': False, 'sbt': False, 'eles': False, 'falaram': False, 'exgestores': False, 'fundo': False, 'caixa': False, 'capa': False, 'intuitiva': False, 'deixar': False, 'leitores': False, 'duvidas': False, 'esclarecer': False, 'fizer': False, 'vitima': False, 'resto': False, 'aceitavel': False, 'gostar': False, 'administracao': False, 'inumeros': False, 'inacreditavel': False, 'hino': False, 'bolsonarogado': False, 'maluco': False, 'cabe': False, 'ditado': False, 'rouba': False, 'perdao': False, 'rs': False, 'mesmos': False, 'mandam': False, 'esta': False, 'armado': False, 'desonesta': False, 'querendo': False, 'aproximacao': False, 'entender': False, 'regen': False, 'parcelado': False, '362': False, 'vezes': False, 'informe': False, 'parcelava': False, 'ganhava': False, 'mao': False, 'beijada': False, 'oas': False, 'odebrechet': False, 'aprendi': False, 'apoiadores': False, 'expondo': False, 'dependentes': False, 'pronunciar': False, 'encontro': False, 'materias': False, 'fotos': False, 'amigaveis': False, 'partidarios': False, 'blindar': False, 'cumpanheiros': False, 'imparciais': False, 'parciais': False, 'iludam': False, 'voz': False, 'multidao': False, 'rever': False, 'ciclo': False, 'diferentes': False, 'conhecem': False, 'dificil': False, 'grupo': False, 'votae': False, 'governa': False, 'receber': False, 'separa': False, 'r': False, '$': False, '130': False, 'utilizar': False, 'gastando': False, 'vejo': False, 'querer': False, 'envolvidos': False, 'obvia': False, 'nasceusera': False, 'vaiado': False, 'reconhecimento': False, 'brasile': False, 'esperem': False, '94': False, 'dias': False, 'apertar': False, '190': False, 'rei': False, 'processos': False, 'tenha': False, 'peca': False, 'vais': False, 'noia': False, 'trabalha': False, 'analfabeto': False, 'funcional': False, 'comer': False, 'capim': False, 'c': False, '9s': False, 'cai': False, 'golpeacabei': False, 'modalmaisfutura': False, 'empate': False, 'tecnico': False, 'clique': False, 'contrariar': False, 'proibir': False, 'feriados': False, 'proibe': False, 'lindo': False, 'tesudo': False, 'delirio': False, 'supremocontinua': False, 'leve': False, 'impressao': False, 'nova': False, 'presida': False, 'tocar': False, 'terror': False, 'filhotes': False, 'ganhou': False, 'passar': False, 'litro': False, 'peroba': False, 'chamar': False, 'maconheira': False, 'audio': False, 'manipulado': False, 'ultimos': False, 'olhos': False, 'fechados': False, 'acusacoes': False, 'verdadeiras': False, 'anuladas': False, 'rlx': False, 'processado': False, 'decidiu': False, 'tramitacao': False, 'maos': False, 'unidos': False, 'releva': False, 'remove': False, 'critica': False, 'insinua': False, 'raciocinio': False, 'al': False, 'capone': False, 'traficante': False, 'eminha': False, 'adolescencia': False, 'ouvindo': False, 'explicamos': False, 'manipulacao': False, 'importancia': False, 'ler': False, 'serias': False, 'ela': False, 'tik': False, 'tok': False, 'infestado': False, 'bolsominions': False, 'grave': False, 'perder': False, 'fracassou': False, 'perdendo': False, 'decepcao': False, 'bora': False, 'compra': False, 'arma': False, 'registrada': False, 'sem': False, 'registro': False, 'kk': False, 'ate': False, 'silvio': False, 'santos': False, 'acostumar': False, 'tristeza': False, 'lembrar': False, 'centro': False, 'estar': False, 'amanha': False, 'pleno': False, 'concorrer': False, 'juntamente': False, 'decisao': False, 'qdo': False, 'bob': False, 'esponja': False, 'delacao': False, 'provalula': False, 'injustamente': False, 'anulada': False, 'estimacao': False, 'engracado': False, 'essa': False, 'feliz': False, 'encomendada': False, 'ih': False, 'argumento': False, 'tio': False, 'kkkkkfilho': False, 'passando': False, 'pano': False, 'normal': False, 'xingar': False, 'independente': False, 'ridiculo': False, 'analogia': False, 'gritou': False, 'apuracao': False, 'governador': False, 'manaus': False, 'aliado': False, 'crise': False, 'oxigenio': False, 'pacientes': False, 'covid': False, 'explica': False, 'aumento': False, 'insumo': False, 'essencial': False, 'voto9': False, 'contribuinte': False, 'usado': False, 'bancar': False, 'corrptolula': False, 'acusou': False, 'geraldo': False, 'alckmin': False, 'vereador': False, 'feitos': False, 'bilionario': False, 'assunto': False, 'cansei': False, 'vco': False, 'chamou': False, 'especifico': False, 'tao': False, 'regulamentacao': False, 'pensando': False, 'gordo': False, 'entrar': False, 'local': False, 'moral': False, 'corruptos': False, 'crimes2003': False, 'ong': False, 'rede': False, 'extinta': False, 'apos': False, '75': False, 'milhoes200': False, 'estadista': False, 'entregou': False, 'pegar': False, 'entendesse': False, 'prejuizos': False, 'estatais': False, 'desastre': False, 'alta': False, 'recessao': False, 'anao': False, 'diplomatico': False, 'pastor': False, 'comprando': False, 'explicar': False, 'vem': False, 'acordo': False, 'madeireira': False, 'honestos': False, 'idolatra': False, 'acontecer': False, 'nosso': False, 'transforme': False, 'argentina': False, 'chile': False, 'bolivia': False, 'estao': False, 'arrasados': False, 'eh': False, 'observar': False, 'reacao': False, 'qnto': False, 'tirado': False, 'pancadasbolsonaro': False, 'desprezo': False, 'direciona': False, 'diariamente': False, 'rebanho': False, 'cercadinho': False, 'jose': False, 'serra': False, 'votou': False, 'psdb': False, 'bolsonaristapt': False, 'alimentam': False, 'acordos': False, 'bastidores': False, 'cameras': False, 'encenacao': False, 'palhaco': False, 'querida': False, 'playboy': False, 'cria': False, 'cortina': False, 'fumaca': False, 'encobrindo': False, 'quadrilhamas': False, 'condenadoainda': False, 'companhiade': False, 'cabecas': False, 'metade': False, 'ara': False, 'putz': False, 'pensou': False, 'usar': False, 'motos': False, 'participar': False, 'motosseatas': False, 'usalas': False, 'junho': False, '1': False, 'turno': False, 'cpi': False, 'mec': False, 'favorecer': False, 'politicagem': False, 'investigar': False, 'jornalismo': False, 'cagar': False, 'autoritario': False, 'aguardar': False, 'sofreu': False, 'nulidade': False, 'pesos': False, 'medidas': False, 'preguica': False, 'news': False, 'horas': False, 'extras': False, 'ptpcc': False, 'centavo': False, 'carla': False, 'zambelli': False, 'pelos': False, 'padrinhos': False, 'corru': False, 'safadeza': False, 'dei': False, 'enfase': False, 'facebook': False, 'selo': False, 'afim': False, 'obrigar': False, 'interacao': False, 'meliante': False, 'claramente': False, 'autoridade': False, 'convidada': False, 'formalmente': False, 'legitimo': False, 'prevalecer': False, 'senso': False, 'entrando': False, 'janela': False, 'descaradamente': False, 'vargabundo': False, 'deste': False, 'doleiro': False, 'petralhas': False, 'camara': False, 'envolvimento': False, 'inventar': False, 'narrativas': False, 'idiotas': False, 'bozonaro': False, 'apertando': False, '51000000': False, 'malas': False, 'ap': False, 'dito': False, 'caixas': False, 'naoserve': False, 'corte': False, 'homem': False, 'digno': False, 'temente': False, 'deusentao': False, 'fiquem': False, 'dobra': False, 'bolsopetista': False, 'bolsonarocentrao': False, 'detectado': False, 'sucesso': False, 'renato': False, 'jones': False, 'manoel': False, 'comunismoem': False, 'arcoverde': False, 'jovem': False, 'pan': False, 'anjomds': False, 'm4ta': False, 'mande': False, 'carina': False, 'pergunta': False, 'quiserem': False, 'colocamos': False, 'aeronave': False, '500': False, 'kg': False, 'cocaina': False, 'fab': False, 'interceptou': False, 'domingo': False, 'pilotava': False, 'intimo': False, 'reunido': False, 'banqueiros': False, 'reunem': False, 'constantemente': False, 'in': False, 'jaile': False, 'cinico': False, 'criticar': False, 'admiro': False, 'conversa': False, 'bebum': False, 'exatamentequeremos': False, 'ligacao': False, 'irma': False, 'pe': False, 'pandemia': False, 'gasosa': False, 'escandalos': False, 'desculpa': False, 'delebolsonaro': False, 'debatesse': False, 'algum': False, 'apoiador': False, 'rompeu': False, 'acontece': False, 'chefes': False, 'morrendo': False, 'leite': False, 'aplaude': False, 'vetos': False, 'aldir': False, 'blanc': False, 'derrubados': False, 'valetudo': False, 'reeleicao': False, 'cultura': False, 'industria': False, 'infelizmente': False, 'elegeram': False, 'fazendeiro': False, 'preocupa': False, 'agropecuaria': False, 'provado': False, 'desde': False, '20142016': False, 'cacete': False, 'passam': False, 'continuar': False, 'esposa': False, 'pedro': False, 'guimaraes': False, 'leo': False, 'pinheiro': False, 'premiada': False, 'lj': False, 'incriminando': False, 'comprov': False, 'esquerdopata': False, 'bajular': False, 'debochado': False, 'b22': False, 'pirado': False, 'juntinhos': False, 'souto': False, 'presidenta': False, 'indicou': False, 'atestou': False, 'imbecilidade': False, 'idio': False, 'ligacoes': False, 'relacoes': False, 'faccoes': False, 'bicheiros': False, 'contrabandistas': False, 'narcotrafican': False, 'arquimegaimbecil': False, 'criar': False, 'reino': False, 'terra': False, 'ha': False, 'montando': False, 'palacios': False, 'culto': False, 'ouro': False, 'compaixao': False, 'viuvas': False, 'orfaos': False, 'refugiados': False, 'violencia': False, 'opressao': False, 'fracos': False, 'enganacao': False, 'fujam': False, 'piore': False, 'imprestavel': False, 'inutil': False, 'ego': False, 'presidenciavel': False, 'ficha': False, 'limpa': False, 'aval': False, 'onu': False, 'papa': False, 'principais': False, 'presidentes': False, 'ganhando': False, 'processando': False, 'ladroes': False, 'razoes': False, 'evitar': False, 'virasse': False, 'venezuela': False, '1000': False, 'composto': False, 'lacteo': False, 'importa': False, 'eduardo': False, 'bolsonaros': False, 'n': False, 'uniram': False, 'preocupados': False, 'acabouabsurdo': False, 'qualquer': False, 'cbf': False, 'nove': False, 'habitos': False, 'bar': False, 'gabine': False, 'comparando': False, 'dele': False, 'cometeu': False, 'arrebentou': False, 'trilhoes': False, 'coitado': False, 'soltaram': False, 'puxa': False, 'inveja': False, 'calar': False, 'esqueca': False, 'data': False, 'relaxa': False, 'prontas': False, 'escolhida': False, 'branca': False, 'enterrado': False, 'honra': False, 'merito': False, 'descer': False, 'tribunal': False, 'elegivel': False, 'conheco': False, 'esquema': False, 'intervir': False, 'vagas': False, 'latfundiarios': False, 'janainatem': False, 'erra': False, 'portugal': False, 'vistar': False, 'urgente': False, 'marcos': False, 'valerio': False, 'lutou': False, 'colocou': False, 'pato': False, 'participou': False, 'manifestacoesrecebeu': False, 'almoco': False, 'hojeentendam': False, 'desviar': False, 'privado': False, 'compensa': False, 'compensaser': False, 'reuniram': False, 'gostam': False, 'numero': False, 'protagonizou': False, 'assalto': False, 'brincadeira': False, 'w': False, 'principal': False, 'marca': False, 'aumentou': False, 'verba': False, 'publicidade': False, 'doidona': False, 'assaltos': False, 'execucoes': False, 'trafico': False, 'drogas': False, 'culpas': False, 'declarasse': False, 'maucaratismo': False, 'representar': False, 'nota': False, 'repudio': False, 'desvio': False, 'conduta': False, 'cochiladinha': False, 'cedo': False, 'sonhei': False, 'fazenda': False, 'varias': False, 'vacas': False, 'acordei': False, 'leonardo': False, 'anotem': False, 'humilhada': False, 'reporter': False, 'jn': False, 'metralhar': False, 'convocando': False, 'fascismo': False, 'vence': False, 'ninguemse': False, 'ameacariaou': False, 'votem': False, 'requerer': False, 'aposentadorias80': False, 'cheque': False, 'rixa': False, 'rio': False, 'meninos': False, 'roubam': False, 'bonner': False, 'petistas': False, 'korre': False, 'adelio': False, 'facada': False, 'agradecer': False, 'terem': False, 'jogado': False, 'jornalistas': False, 'caminho': False, 'acima': False, 'pagador': False, 'cansou': False, 'touque': False, 'acaso': False, 'inocencia': False, 'mudou': False, 'regra': False, 'espancado': False, 'onibus': False, 'tceseu': False, 'sindicato': False, 'abc': False, 'resultado': False, 'brutalmente': False, 'bastante': False, 'problemasrealmente': False, 'tentativa': False, 'assasiinato': False, 'sente': False, 'inteligencia': False, 'preciso': False, 'perceber': False, 'ficand': False, 'opcao': False, 'seria': False, 'suma': False, 'jesus': False, 'balaio': False, 'ultimo': False, 'antigo': False, 'delatou': False, 'generosa': False, 'empatica': False, 'robo': False, 'melhore': False, 'okc': False, 'thunder': False, 'trade': False, 'clippers': False, 'cn': False, 'impichou': False, '2020depois': False, 'descondenou': False, 'tornou': False, 'atraves': False, 'general': False, 'aceitar': False, 'poderei': False, 'twitar': False, 'inocentado': False, 'portando': False, 'ladr': False, 'discursa': False, 'estimulando': False, 'agradecendo': False, 'capangas': False, 'mataram': False, 'arrombado': False, 'comunicar': False, 'afundou': False, 'brigando': False, 'bolsocaro': False, 'aniversario': False, 'tema': False, 'vemos': False, 'estupidez': False, 'vermes': False, 'estrupador': False, 'castracao': False, 'quimica': False, 'perpetua': False, 'estupradores': False, 'cocando': False, 'postar': False, 'stories': False, 'obviamente': False, 'compara': False, 'comparei': False, 'diminui': False, 'gravidade': False, 'frase': False, 'usa': False, 'erros': False, 'diminuir': False, 'diante': False, 'acontecendo': False, 'surge': False, 'conversinha': False, 'tocante': False, 'questao': False, 'talkey': False, 'tai': False, 'segregacao': False, 'avo': False, 'estuprador': False, 'esquerdista': False, 'negacionista': False, 'genocidas': False, 'outras': False, 'intolerantes': False, 'cade': False, 'mexeu': False, 'artistas': False, 'manipuladora': False, 'intelectuais': False, 'apoiam': False, 'recuso': False, 'caras': False, 'travestidos': False, 'universitarios': False, 'rodrigo': False, 'pacheco': False, 'marcou': False, 'reuniao': False, 'residencia': False, 'oficial': False, 'senado': False, 'bombar': False, 'apoiando': False, 'reclama': False, 'caro': False, 'chance': False, '8': False, 'imbecil': False, 'nele': False, 'google': False, 'saphado': False, 'protetor': False, 'hi': False, 'devia': False, 'comandante': False, 'maximo': False, 'devemos': False, 'empresas': False, 'boicotar': False, 'entenda1': False, 'p': False, 'individuos': False, 'determinados2': False, 'demonizar': False, 'difuso': False, 'odio': False, 'episodios': False, 'potencial': False, 'corrosivo': False, 'tecido': False, 'mto': False, 'tantos': False, 'odiavam': False, 'defendem': False, 'entusiasmo': False, 'rebolar': False, 'kalakak': False, 'assista': False, 'incentivou': False, 'assassi': False, 'youtube': False, 'procurando': False, 'filiado': False, 'pl': False, 'enfiando': False, 'faca': False, 'ameacando': False, 'trincheiras': False, 'lutar': False, 'armas': False, 'desejando': False, 'enrolando': False, 'logoo': False, '15': False, 'tebet': False, 'gastar': False, 'milhao': False, 'relativizando': False, 'lixossatisfeito': False, 'paris': False, 'voltei': False, 'fiz': False, 'palanq': False, 'lula+': False, 'ladrao=': False, 'cadeiabolsonaro': False, 'kkkkkkkk': False, 'achando': False, 'indice': False, 'mereca': False, 'pouca': False, 'sintonia': False, 'suplicy': False, 'completamente': False, 'lascar': False, 'servico': False, 'curral': False, 'muito': False, 'lulinha': False, 'grandes': False, 'mulher': False, 'patetico': False, 'lamentavel': False, 'impeachment': False, 'merenda': False, 'decente': False, 'sentado': False, 'cadeira': False, 'netos': False, 'votaram': False, 'verme': False, 'merecem': False, 'anita': False, 'tbem': False, 'acreditei': False, '14': False, 'votando': False, 'quadrilhaate': False, 'maedai': False, 'entendovoce': False, 'fudendo': False, 'papuda': False, 'exvereador': False, 'acusado': False, 'homicidio': False, 'reducao': False, 'combustiveis': False, 'ruim': False, 'estaria': False, 'extase': False, 'milicianos': False, 'kkkk2': False, 'estimula': False, 'minha': False, 'limitado': False, 'aposto': False, 'duvida': False, 'meretrizes': False, 'musica': False, 'espiritos': False, 'linha': False, 'desce': False, 'terreiro': False, 'meia': False, 'troca': False, 'pinga': False, 'nmr': False, 'kra': False, 'sinais': False, 'arminha': False, 'roubavam': False, 'bancando': False, 'lucro': False, 'bancos': False, 'bagre': False, 'sigo': False, 'ladraogostaria': False, 'tatuagem': False, 'cubanos': False, 'saem': False, 'aguentarem': False, 'propoe': False, 'tom': False, 'contar': False, 'maldito': False, 'presidario': False, 'repitam': False, 'seguras': False, 'ptcc': False, 'aceito': False, 'governante': False, 'envolvi': False, 'escolher': False, 'formador': False, 'perigo': False, 'soberania': False, 'seguranca': False, 'maxima': False, 'cemiterio': False, 'trouxa': False, 'balela': False, 'papinho': False, 'fodase': False, 'stj': False, 'mantinha': False, 'dialogo': False, 'cabuloso': False, 'presa': False, 'cr': False, 'comando': False, 'impediu': False, 'policia': False, 'carioca': False, 'morros': False, 'fechou': False, 'frigorificos': False, 'abriu': False, 'jbs': False, 'grosso': False, 'seguimento': False, 'fritando': False, 'pecuaristas': False, 'dividiu': False, 'comparsasfora': False, 'ladraochega': False, 'corag': False, 'qndo': False, 'conhecido': False, 'pega': False, 'fogo': False, 'cabare': False, 'credibilidade': False, 'decepcaovindo': False, 'uchoa': False, 'decadencia': False, 'costumes': False, 'profissional': False, 'fique': False, 'confiar': False, 'bostonarista': False, 'confia': False, 'minto': False, 'simpt': False, 'simpcc': False, 'simmas': False, 'ligar': False, 'espurio': False, 'lavagem': False, 'assassinatos': False, 'verbas': False, 'veja': False, 'faznao': False, 'facam': False, 'xandao': False, 'proibiu': False, 'devolver': False, 'salarios': False, 'recebeu': False, 'lul': False, 'tbm': False, 'conforme': False, 'homologado': False, 'ptista': False, 'lambe': False, 'botas': False, 'estelionato': False, 'latrocinio': False, 'matou': False, 'intendo': False, 'perfeitamente': False, 'extremamente': False, 'irritante': False, 'formacao': False, 'devo': False, 'acreditar': False, 'simone': False, 'fodeu': False, 'oi': False, 'pcce': False, 'leitura': False, 'justamente': False, 'facilidade': False, 'autorizo': False, 'preventiva': False, 'conspirador': False, 'vacinas': False, 'eletronicas': False, 'imenso': False, 'kkkkkkkkkkkkk': False, 'bandidinho': False, 'kkkkkkkkkkkkkk': False, 'comprou': False, 'centraovcs': False, 'cegos': False, 'enxerga': False, 'parem': False, 'colocado': False, 'deixado': False, 'mapa': False, 'rousseff': False, 'burra': False, 'expressar': False, 'comete': False, 'atrocidades': False, 'faccao': False, 'presos': False, 'certamente': False, 'instruido': False, 'antietico': False, 'bolsonarusta': False, 'ficaram': False, 'eua': False, 'fraudads': False, 'cedulas': False, 'eletronico': False, 'elegeu': False, 'contraditorios': False, 'jkkk': False, 'misericordialula': False, 'lixolula': False, 'lt': False, 'intencoes': False, 'liberou': False, 'disputar': False, 'escrever': False, 'ligado': False, 'vestiremos': False, 'verde': False, 'amarelo': False, 'guando': False, 'derrotar': False, 'tiradentes': False, 'crucificado': False, 'entendo': False, 'criticos': False, 'precisam': False, 'curo': False, 'denegrir': False, 'ofensas': False, 'recebendo': False, 'sobrenome': False, 'ngm': False, 'fazertentar': False, 'reeleger': False, 'estupido': False, 'auge': False, 'quebra': False, 'x': False, 'satanico': False, 'bebe': False, 'absolvido': False, 'resolver': False, 'bagunca': False, 'devolvam': False, 'cancelem': False, 'cep': False, 'gera': False, 'desconfianca': False, 'voltaram': False, 'forcase': False, 'impopular': False, 'desenterra': False, 'chamalo': False, 'dinamica': False, 'republiquetas': False, 'latinas': False, 'cachaca': False, 'bolsanaro': False, 'duraria': False, 'falacia': False, 'ditatorial': False, 'esquecendo': False, 'reforma': False, 'constituicao': False, 'tornar': False, 'autocrata': False, 'legalizado': False, 'ui': False, 'proteger': False, 'tanta': False, 'dificuldade': False, 'afundar': False, 'compreensao': False, 'abaixo': False, 'zero': False, 'picareta': False, 'antipatia': False, 'theo': False, 'cantar': False, 'ahaha': False, 'kkkklula': False, 'deixa': False, 'ato': False, 'previsao': False, 'kkkkkkkkkkkkkkkkkkkkkkotimo': False, '5tf': False, 'acordado': False, 'coma': False, 'issoboa': False, 'sorte': False, 'pos': False, 'retirado': False, 'ativo': False, 'planejado': False, 'atentado': False, 'mandaram': False, 'reserva': False, 'salario': False, 'servidor': False, 'lambendo': False, 'militar': False, 'indisciplinado': False, 'odeiam': False, 'cair': False, 'area': False, 'penalti': False, 'luiz': False, 'transparencia': False, 'exclusiva': False, 'tirando': False, 'vencedor': False, 'diplomado': False, 'nenhuma': False, 'confessou': False, 'tras': False, 'darao': False, 'completo': False, 'jumento': False, 'chupa': False, 'conhece': False, 'gomes': False, 'talkscortes': False, 'sabendo': False, 'podiam': False, 'votado': False, 'protestado': False, 'gato': False, 'estrume': False, 'cao': False, 'cachorro': False, 'pronunciamento': False, 'cargos': False, 'magazine': False, 'luiza': False, 'axo': False, 'ladraokkk': False, 'forma': False, 'algumateria': False, 'haver': False, 'direito': False, 'inclusive': False, 'pensar': False, 'carlixo': False, 'robos': False, 'cancelou': False, 'xilindro': False, 'revolta': False, 'sardinha': False, 'aprovo': False, 'loola': False, 'br': False, 'funcionario': False, 'concursado': False, '19092016': False, 'fascista': False, 'oportunista': False, 'cheia': False, 'militonto': False, 'aplaudindo': False, 'elogiar': False, 'ataque': False, 'valido': False, 'bangu': False, 'reinar': False, 'suprema': False, 'banhada': False, 'legalizadas': False, 'ocupar': False, 'sela': False, 'utilizando': False, 'baixa': False, 'combustivel': False, 'caindo': False, 'conto': False, 'torcida': False, 'corinthians': False, 'estadio': False, 'presidirario': False, 'absurdo': False, 'candidatar': False, 'abraca': False, 'arruda': False, 'sinto': False, 'informar': False, 'capitaoacabou': False, 'monte': False, 'condenou': False, 'esqueci': False, 'intenda': False, 'esquece': False, 'bradou': False, 'anta': False, 'cm': False, 'mentirosa': False, 'ruina': False, 'nd': False, 'dna': False, 'luisa': False, 'falencia': False, 'bete': False, 'velha': False, 'media': False, 'comprada': False, '2a': False, 'instancia': False, 'revisora': False, 'colegiada': False, 'obrigada': False, 'seguir': False, '1o': False, 'grau': False, 'eivada': False, 'vicio': False, 'validaram': False, 'geradas': False, '1a': False, 'enganados': False, 'nuca': False, 'queda': False, 'pergunto': False, 'xuxa': False, 'pablo': False, 'vittar': False, 'porchat': False, 'doria': False, 'pqp': False, 'combinar': False, 'po': False, 'bilhao': False, 'prejuizo': False, 'proibido': False, 'mencionar': False, 'alegando': False, 'parceria': False, 'ordens': False, 'moraes': False, 'embaixadores': False, 'cagando': False, 'gangue': False, 'entra': False, 'vamo': False, 'sola': False, 'irineu': False, 'progressao': False, 'chegando': False, 'sepultura': False, 'voldemorte': False, 'repercussao': False, 'negativa': False, 'palhacadas': False, 'preparar': False, 'recusa': False, 'tratar': False, 'impar': False}, 'no')\n"
     ]
    }
   ],
   "source": [
    "print(test_set[0])"
   ]
  },
  {
   "cell_type": "code",
   "execution_count": 29,
   "id": "2afe4b8e",
   "metadata": {},
   "outputs": [
    {
     "data": {
      "text/plain": [
       "<SklearnClassifier(LinearSVC())>"
      ]
     },
     "execution_count": 29,
     "metadata": {},
     "output_type": "execute_result"
    }
   ],
   "source": [
    "Linear_classifier = SklearnClassifier(LinearSVC())\n",
    "Linear_classifier.train(training_set)"
   ]
  },
  {
   "cell_type": "code",
   "execution_count": 30,
   "id": "aa6d0af3",
   "metadata": {},
   "outputs": [],
   "source": [
    "classify_result_linearSVC = []\n",
    "for i in range(len(test_set)):\n",
    "    dic, label = test_set[i]\n",
    "    classify_result_linearSVC.append(Linear_classifier.classify(dic))"
   ]
  },
  {
   "cell_type": "code",
   "execution_count": 31,
   "id": "b8fba801",
   "metadata": {},
   "outputs": [
    {
     "name": "stdout",
     "output_type": "stream",
     "text": [
      "Linear classifier accuracy: 49.549549549549546\n"
     ]
    }
   ],
   "source": [
    "accuracy_linearSVC = (nltk.classify.accuracy(Linear_classifier, test_set))*100\n",
    "print(\"Linear classifier accuracy:\", accuracy_linearSVC)"
   ]
  },
  {
   "cell_type": "code",
   "execution_count": 32,
   "id": "573bff55",
   "metadata": {},
   "outputs": [
    {
     "data": {
      "text/plain": [
       "<SklearnClassifier(SVC())>"
      ]
     },
     "execution_count": 32,
     "metadata": {},
     "output_type": "execute_result"
    }
   ],
   "source": [
    "SVC_classifier = SklearnClassifier(SVC())\n",
    "SVC_classifier.train(training_set)"
   ]
  },
  {
   "cell_type": "code",
   "execution_count": 33,
   "id": "9de127d2",
   "metadata": {},
   "outputs": [],
   "source": [
    "classify_result_SVC = []\n",
    "for i in range(len(test_set)):\n",
    "    dic, label = test_set[i]\n",
    "    classify_result_SVC.append(SVC_classifier.classify(dic))"
   ]
  },
  {
   "cell_type": "code",
   "execution_count": 34,
   "id": "5007c24e",
   "metadata": {},
   "outputs": [
    {
     "name": "stdout",
     "output_type": "stream",
     "text": [
      "SVC_classifier accuracy percent: 50.95095095095095\n"
     ]
    }
   ],
   "source": [
    "accuracy_SVC = (nltk.classify.accuracy(SVC_classifier, test_set))*100\n",
    "print(\"SVC_classifier accuracy percent:\", accuracy_SVC)"
   ]
  },
  {
   "cell_type": "code",
   "execution_count": 35,
   "id": "dd1ddba8",
   "metadata": {},
   "outputs": [
    {
     "name": "stdout",
     "output_type": "stream",
     "text": [
      "['no', 'no', 'no', 'no', 'no', 'no', 'no', 'no', 'no', 'no', 'no', 'no', 'no', 'no', 'no', 'no', 'no', 'no', 'no', 'no', 'no', 'no', 'no', 'no', 'no', 'no', 'no', 'no', 'no', 'no', 'no', 'no', 'no', 'no', 'no', 'no', 'no', 'no', 'no', 'no', 'no', 'no', 'no', 'no', 'no', 'no', 'no', 'no', 'no', 'no', 'no', 'no', 'no', 'no', 'no', 'no', 'no', 'no', 'no', 'no', 'no', 'no', 'no', 'no', 'no', 'no', 'no', 'no', 'no', 'no', 'no', 'no', 'no', 'no', 'no', 'no', 'no', 'no', 'no', 'no', 'no', 'no', 'no', 'no', 'no', 'no', 'no', 'no', 'no', 'no', 'no', 'no', 'no', 'no', 'no', 'no', 'no', 'no', 'no', 'no', 'no', 'no', 'no', 'no', 'no', 'no', 'no', 'no', 'no', 'no', 'no', 'no', 'no', 'no', 'no', 'no', 'no', 'no', 'no', 'no', 'no', 'no', 'no', 'no', 'no', 'no', 'no', 'no', 'no', 'no', 'no', 'no', 'no', 'no', 'no', 'no', 'no', 'no', 'no', 'no', 'no', 'no', 'no', 'no', 'no', 'no', 'no', 'no', 'no', 'no', 'no', 'no', 'no', 'no', 'no', 'no', 'no', 'no', 'no', 'no', 'no', 'no', 'no', 'no', 'no', 'no', 'no', 'no', 'no', 'no', 'no', 'no', 'no', 'no', 'no', 'no', 'no', 'no', 'no', 'no', 'no', 'no', 'no', 'no', 'no', 'no', 'no', 'no', 'no', 'no', 'no', 'no', 'no', 'no', 'no', 'no', 'no', 'no', 'no', 'no', 'no', 'no', 'no', 'no', 'no', 'no', 'no', 'no', 'no', 'no', 'no', 'no', 'no', 'no', 'no', 'no', 'no', 'no', 'no', 'no', 'no', 'no', 'no', 'no', 'no', 'no', 'no', 'no', 'no', 'no', 'no', 'no', 'no', 'no', 'no', 'no', 'no', 'no', 'no', 'no', 'no', 'no', 'no', 'no', 'no', 'no', 'no', 'no', 'no', 'no', 'no', 'no', 'no', 'no', 'no', 'no', 'no', 'no', 'no', 'no', 'no', 'no', 'no', 'no', 'no', 'no', 'no', 'no', 'no', 'no', 'no', 'no', 'no', 'no', 'no', 'no', 'no', 'no', 'no', 'no', 'no', 'no', 'no', 'no', 'no', 'no', 'no', 'no', 'no', 'no', 'no', 'no', 'no', 'no', 'no', 'no', 'no', 'no', 'no', 'no', 'no', 'no', 'no', 'no', 'no', 'no', 'no', 'no', 'no', 'no', 'no', 'no', 'no', 'no', 'no', 'no', 'no', 'no', 'no', 'no', 'no', 'no', 'no', 'no', 'no', 'no', 'no', 'no', 'no', 'no', 'no', 'no', 'no', 'no', 'no', 'no', 'no', 'no', 'no', 'no', 'no', 'no', 'no', 'no', 'no', 'no', 'no', 'no', 'no', 'no', 'no', 'no', 'no', 'no', 'no', 'no', 'no', 'no', 'no', 'no', 'no', 'no', 'no', 'no', 'no', 'no', 'no', 'no', 'no', 'no', 'no', 'no', 'no', 'no', 'no', 'no', 'no', 'no', 'no', 'no', 'no', 'no', 'no', 'no', 'no', 'no', 'no', 'no', 'no', 'no', 'no', 'no', 'no', 'no', 'no', 'no', 'no', 'no', 'no', 'no', 'no', 'no', 'no', 'no', 'no', 'no', 'no', 'no', 'no', 'no', 'no', 'no', 'no', 'no', 'no', 'no', 'no', 'no', 'no', 'no', 'no', 'no', 'no', 'no', 'no', 'no', 'no', 'no', 'no', 'no', 'no', 'no', 'no', 'no', 'no', 'no', 'no', 'no', 'no', 'no', 'no', 'no', 'no', 'no', 'no', 'no', 'no', 'no', 'no', 'no', 'no', 'no', 'no', 'no', 'no', 'no', 'no', 'no', 'no', 'no', 'no', 'no', 'no', 'no', 'no', 'no', 'no', 'no', 'no', 'no', 'no', 'no', 'no', 'no', 'no', 'no', 'no', 'no', 'no', 'no', 'no', 'no', 'no', 'no', 'no', 'no', 'no', 'no', 'no', 'no', 'no', 'no', 'no', 'no', 'no', 'no', 'no', 'no', 'no', 'no', 'no', 'no', 'no', 'no', 'no', 'no', 'no', 'no', 'no', 'no', 'no', 'no', 'no', 'no', 'no', 'no', 'no', 'no', 'no', 'no', 'no', 'no', 'no', 'no', 'no', 'no', 'no', 'no', 'no', 'no', 'no', 'no', 'no', 'no', 'no', 'no', 'no', 'no', 'no', 'no', 'no', 'no', 'no', 'no', 'no', 'no', 'no', 'no', 'no', 'no', 'no', 'no', 'no', 'no', 'no', 'no', 'no', 'no', 'no', 'no', 'no', 'no', 'no', 'no', 'no', 'no', 'no', 'no', 'no', 'no', 'no', 'no', 'no', 'no', 'no', 'no', 'no', 'no', 'no', 'no', 'no', 'no', 'no', 'no', 'no', 'no', 'no', 'no', 'no', 'no', 'no', 'no', 'no', 'no', 'no', 'no', 'no', 'no', 'no', 'no', 'no', 'no', 'no', 'no', 'no', 'no', 'no', 'no', 'no', 'no', 'no', 'no', 'no', 'no', 'no', 'no', 'no', 'no', 'no', 'no', 'no', 'no', 'no', 'no', 'no', 'no', 'no', 'no', 'no', 'no', 'no', 'no', 'no', 'no', 'no', 'no', 'no', 'no', 'no', 'no', 'no', 'no', 'no', 'no', 'no', 'no', 'no', 'no', 'no', 'no', 'no', 'no', 'no', 'no', 'no', 'no', 'no', 'no', 'no', 'no', 'no', 'no', 'no', 'no', 'no', 'no', 'no', 'no', 'no', 'no', 'no', 'no', 'no', 'no', 'no', 'no', 'no', 'no', 'no', 'no', 'no', 'no', 'no', 'no', 'no', 'no', 'no', 'no', 'no', 'no', 'no', 'no', 'no', 'no', 'no', 'no', 'no', 'no', 'no', 'no', 'no', 'no', 'no', 'no', 'no', 'no', 'no', 'no', 'no', 'no', 'no', 'no', 'no', 'no', 'no', 'no', 'no', 'no', 'no', 'no', 'no', 'no', 'no', 'no', 'no', 'no', 'no', 'no', 'no', 'no', 'no', 'no', 'no', 'no', 'no', 'no', 'no', 'no', 'no', 'no', 'no', 'no', 'no', 'no', 'no', 'no', 'no', 'no', 'no', 'no', 'no', 'no', 'no', 'no', 'no', 'yes', 'no', 'no', 'no', 'no', 'no', 'no', 'no', 'no', 'no', 'no', 'no', 'no', 'no', 'no', 'no', 'no', 'no', 'no', 'no', 'no', 'no', 'no', 'no', 'no', 'no', 'no', 'no', 'no', 'no', 'no', 'no', 'no', 'no', 'no', 'no', 'no', 'no', 'no', 'no', 'no', 'no', 'no', 'no', 'no', 'no', 'no', 'no', 'no', 'no', 'no', 'no', 'no', 'no', 'no', 'no', 'no', 'no', 'no', 'no', 'no', 'no', 'no', 'no', 'no', 'no', 'no', 'no', 'no', 'no', 'no', 'no', 'no', 'no', 'no', 'no', 'no', 'no', 'no', 'no', 'no', 'no', 'no', 'no', 'no', 'no', 'no', 'no', 'no', 'no', 'no', 'no', 'no', 'no', 'no', 'no', 'no', 'no', 'no', 'no', 'no', 'no', 'no', 'no', 'no', 'no', 'no', 'no', 'no', 'no', 'no', 'no', 'no', 'no', 'no', 'no', 'no', 'no', 'no', 'no', 'no', 'no', 'no', 'no', 'no', 'no', 'no', 'no', 'no', 'no', 'no', 'no', 'no', 'no', 'no', 'no', 'no', 'no', 'no', 'no', 'no', 'no', 'no', 'no', 'no', 'no', 'no', 'no', 'no', 'no', 'no', 'no', 'no', 'no', 'no', 'no', 'no', 'no', 'no', 'no', 'no', 'no', 'no', 'no', 'no', 'no', 'no', 'no', 'no', 'no', 'no', 'no', 'no', 'no', 'no', 'no', 'no', 'no', 'no', 'no', 'no', 'no', 'no', 'no', 'no', 'no', 'no', 'no', 'no', 'no', 'no', 'no', 'no', 'no', 'no', 'no', 'no', 'no', 'no', 'no', 'no', 'no', 'no', 'no', 'no', 'no', 'no', 'no', 'no', 'no', 'no', 'no', 'no', 'no', 'no', 'no', 'no', 'no', 'no', 'no', 'no', 'no', 'no', 'no', 'no', 'no', 'no', 'no', 'no', 'no', 'no', 'no', 'no', 'no', 'no', 'no', 'no', 'no', 'no', 'no', 'no', 'no', 'no', 'no']\n"
     ]
    }
   ],
   "source": [
    "print(classify_result_SVC)"
   ]
  },
  {
   "cell_type": "code",
   "execution_count": 36,
   "id": "a4cd72b3",
   "metadata": {},
   "outputs": [
    {
     "name": "stdout",
     "output_type": "stream",
     "text": [
      "['no', 'no', 'no', 'yes', 'no', 'no', 'no', 'no', 'yes', 'no', 'no', 'no', 'yes', 'no', 'no', 'no', 'no', 'yes', 'no', 'no', 'no', 'yes', 'yes', 'no', 'no', 'yes', 'no', 'no', 'no', 'yes', 'no', 'no', 'no', 'no', 'no', 'no', 'yes', 'yes', 'yes', 'yes', 'yes', 'no', 'yes', 'no', 'no', 'yes', 'yes', 'no', 'yes', 'yes', 'no', 'yes', 'yes', 'no', 'no', 'no', 'no', 'no', 'no', 'yes', 'no', 'yes', 'yes', 'yes', 'yes', 'no', 'no', 'yes', 'yes', 'no', 'no', 'no', 'no', 'no', 'no', 'yes', 'no', 'no', 'no', 'no', 'yes', 'no', 'no', 'no', 'yes', 'yes', 'no', 'yes', 'yes', 'no', 'yes', 'yes', 'no', 'yes', 'no', 'yes', 'no', 'no', 'no', 'no', 'no', 'no', 'yes', 'no', 'no', 'no', 'no', 'no', 'no', 'no', 'no', 'no', 'no', 'no', 'no', 'no', 'no', 'no', 'no', 'no', 'no', 'no', 'no', 'no', 'no', 'no', 'no', 'no', 'no', 'no', 'yes', 'no', 'no', 'no', 'no', 'yes', 'no', 'no', 'yes', 'no', 'no', 'no', 'no', 'yes', 'no', 'no', 'no', 'yes', 'no', 'no', 'no', 'no', 'no', 'no', 'yes', 'no', 'no', 'no', 'no', 'yes', 'no', 'no', 'yes', 'no', 'yes', 'no', 'no', 'no', 'no', 'no', 'no', 'no', 'no', 'no', 'no', 'no', 'yes', 'no', 'no', 'no', 'no', 'no', 'no', 'no', 'no', 'no', 'no', 'no', 'no', 'no', 'no', 'no', 'no', 'no', 'no', 'no', 'no', 'no', 'no', 'no', 'no', 'no', 'no', 'no', 'yes', 'no', 'no', 'no', 'no', 'no', 'yes', 'no', 'yes', 'no', 'no', 'no', 'no', 'no', 'no', 'yes', 'no', 'no', 'no', 'no', 'no', 'yes', 'no', 'no', 'no', 'no', 'no', 'no', 'yes', 'yes', 'no', 'no', 'no', 'no', 'yes', 'no', 'no', 'no', 'no', 'yes', 'yes', 'no', 'yes', 'no', 'no', 'no', 'no', 'no', 'yes', 'no', 'no', 'no', 'no', 'no', 'no', 'no', 'no', 'no', 'yes', 'yes', 'yes', 'no', 'no', 'yes', 'yes', 'no', 'no', 'no', 'no', 'yes', 'yes', 'no', 'no', 'no', 'no', 'no', 'no', 'yes', 'no', 'no', 'no', 'no', 'yes', 'no', 'no', 'no', 'no', 'no', 'no', 'no', 'no', 'no', 'no', 'no', 'no', 'no', 'no', 'no', 'no', 'no', 'no', 'no', 'no', 'yes', 'no', 'no', 'no', 'no', 'no', 'no', 'no', 'no', 'no', 'no', 'no', 'no', 'no', 'yes', 'no', 'no', 'yes', 'no', 'no', 'no', 'no', 'no', 'no', 'no', 'no', 'no', 'no', 'no', 'no', 'no', 'yes', 'no', 'no', 'no', 'yes', 'no', 'yes', 'no', 'yes', 'no', 'no', 'no', 'yes', 'yes', 'no', 'no', 'no', 'no', 'no', 'no', 'no', 'no', 'no', 'no', 'no', 'no', 'no', 'no', 'no', 'no', 'no', 'no', 'no', 'no', 'no', 'no', 'yes', 'no', 'no', 'no', 'no', 'yes', 'no', 'no', 'no', 'yes', 'no', 'yes', 'no', 'no', 'no', 'no', 'no', 'no', 'no', 'no', 'no', 'no', 'no', 'no', 'no', 'yes', 'no', 'yes', 'no', 'no', 'no', 'no', 'no', 'no', 'no', 'no', 'no', 'no', 'yes', 'yes', 'no', 'no', 'no', 'no', 'no', 'no', 'yes', 'no', 'no', 'no', 'yes', 'no', 'no', 'no', 'yes', 'no', 'no', 'no', 'no', 'no', 'no', 'no', 'no', 'no', 'no', 'no', 'no', 'no', 'no', 'yes', 'no', 'no', 'no', 'yes', 'no', 'no', 'yes', 'no', 'no', 'no', 'no', 'no', 'no', 'no', 'yes', 'yes', 'no', 'no', 'no', 'yes', 'no', 'no', 'yes', 'no', 'no', 'yes', 'yes', 'no', 'no', 'no', 'yes', 'yes', 'no', 'no', 'no', 'yes', 'yes', 'no', 'no', 'no', 'no', 'no', 'no', 'no', 'yes', 'no', 'no', 'no', 'yes', 'no', 'no', 'no', 'no', 'no', 'no', 'yes', 'yes', 'no', 'no', 'yes', 'yes', 'no', 'no', 'yes', 'no', 'no', 'no', 'no', 'no', 'no', 'no', 'no', 'yes', 'no', 'no', 'yes', 'no', 'no', 'no', 'no', 'yes', 'yes', 'no', 'no', 'no', 'no', 'yes', 'no', 'no', 'no', 'no', 'no', 'no', 'no', 'no', 'no', 'no', 'no', 'no', 'no', 'no', 'no', 'yes', 'yes', 'no', 'no', 'yes', 'no', 'no', 'no', 'yes', 'no', 'no', 'no', 'no', 'yes', 'no', 'no', 'no', 'no', 'no', 'no', 'yes', 'no', 'no', 'no', 'yes', 'no', 'no', 'no', 'no', 'no', 'no', 'no', 'no', 'no', 'yes', 'no', 'no', 'no', 'no', 'no', 'no', 'no', 'yes', 'no', 'no', 'no', 'no', 'no', 'yes', 'yes', 'no', 'no', 'yes', 'no', 'yes', 'no', 'no', 'no', 'no', 'yes', 'no', 'no', 'no', 'no', 'yes', 'no', 'no', 'yes', 'no', 'yes', 'no', 'yes', 'no', 'yes', 'yes', 'no', 'no', 'yes', 'no', 'no', 'yes', 'no', 'no', 'yes', 'yes', 'no', 'yes', 'no', 'no', 'no', 'no', 'no', 'no', 'yes', 'yes', 'yes', 'no', 'yes', 'no', 'no', 'yes', 'yes', 'no', 'no', 'no', 'no', 'no', 'no', 'yes', 'no', 'no', 'yes', 'yes', 'no', 'no', 'yes', 'no', 'yes', 'yes', 'yes', 'no', 'no', 'no', 'no', 'yes', 'no', 'yes', 'no', 'no', 'no', 'yes', 'no', 'no', 'no', 'no', 'no', 'no', 'no', 'yes', 'yes', 'yes', 'yes', 'no', 'no', 'no', 'yes', 'no', 'yes', 'no', 'yes', 'no', 'no', 'no', 'no', 'yes', 'no', 'no', 'no', 'no', 'no', 'yes', 'no', 'no', 'no', 'yes', 'no', 'no', 'yes', 'no', 'no', 'no', 'no', 'no', 'no', 'no', 'no', 'no', 'no', 'yes', 'yes', 'no', 'no', 'no', 'no', 'no', 'no', 'no', 'no', 'no', 'yes', 'no', 'no', 'no', 'no', 'yes', 'no', 'no', 'no', 'yes', 'yes', 'no', 'yes', 'no', 'no', 'no', 'yes', 'no', 'yes', 'no', 'yes', 'no', 'yes', 'no', 'no', 'no', 'yes', 'no', 'no', 'no', 'no', 'no', 'no', 'no', 'no', 'no', 'no', 'no', 'no', 'no', 'no', 'no', 'no', 'yes', 'no', 'no', 'no', 'no', 'no', 'no', 'no', 'no', 'no', 'no', 'no', 'no', 'yes', 'no', 'no', 'no', 'yes', 'no', 'no', 'no', 'no', 'yes', 'no', 'no', 'no', 'no', 'no', 'no', 'no', 'no', 'no', 'no', 'yes', 'no', 'no', 'no', 'no', 'no', 'no', 'no', 'no', 'no', 'no', 'no', 'no', 'no', 'no', 'no', 'no', 'no', 'no', 'no', 'yes', 'no', 'no', 'no', 'yes', 'no', 'no', 'no', 'no', 'no', 'no', 'no', 'no', 'no', 'no', 'no', 'no', 'no', 'no', 'no', 'no', 'no', 'no', 'no', 'no', 'no', 'no', 'no', 'no', 'no', 'no', 'no', 'yes', 'no', 'yes', 'no', 'no', 'no', 'no', 'no', 'no', 'no', 'no', 'no', 'no', 'yes', 'yes', 'no', 'no', 'no', 'no', 'no', 'no', 'no', 'no', 'no', 'no', 'yes', 'no', 'no', 'yes', 'no', 'no', 'no', 'no', 'no', 'no', 'no', 'yes', 'no', 'yes', 'no', 'no', 'no', 'no', 'no', 'no', 'no', 'no', 'yes', 'no', 'no', 'no', 'yes', 'no', 'no', 'no', 'no', 'yes', 'no', 'yes', 'no', 'yes', 'no', 'yes', 'no', 'no', 'no', 'no', 'no', 'no', 'no', 'yes', 'no', 'no', 'no', 'no', 'no', 'no', 'no', 'no', 'yes', 'no', 'no', 'yes', 'no', 'yes', 'no', 'no', 'yes', 'no', 'no', 'yes', 'no', 'no', 'yes', 'no', 'no', 'no', 'yes', 'no', 'no', 'no', 'yes', 'no', 'no', 'no', 'no', 'no', 'no', 'no', 'yes', 'no', 'no', 'no', 'no', 'no', 'yes', 'no', 'no', 'yes', 'no', 'no', 'no', 'no', 'no', 'yes', 'yes', 'yes', 'no', 'no', 'no', 'yes', 'no', 'no', 'no', 'no', 'no']\n"
     ]
    }
   ],
   "source": [
    "print(classify_result_linearSVC)"
   ]
  },
  {
   "cell_type": "code",
   "execution_count": 37,
   "id": "bed2ccf5",
   "metadata": {},
   "outputs": [],
   "source": [
    "labels = []\n",
    "for i in document_test:\n",
    "    tweets, label = i\n",
    "    labels.append(label)"
   ]
  },
  {
   "cell_type": "code",
   "execution_count": 38,
   "id": "ae59b11b",
   "metadata": {},
   "outputs": [
    {
     "name": "stdout",
     "output_type": "stream",
     "text": [
      "100 [12, 17, 29, 36, 37, 38, 39, 40, 42, 48, 51, 52, 59, 61, 63, 64, 67, 75, 87, 91, 102, 135, 164, 176, 204, 210, 238, 244, 246, 262, 263, 268, 274, 286, 307, 374, 379, 383, 385, 399, 401, 420, 424, 450, 458, 463, 469, 475, 499, 507, 516, 524, 530, 547, 550, 554, 566, 580, 588, 594, 598, 605, 613, 615, 620, 629, 630, 632, 643, 657, 661, 664, 665, 670, 676, 693, 706, 710, 713, 724, 757, 778, 791, 795, 800, 811, 835, 876, 877, 910, 914, 919, 933, 942, 947, 956, 972, 978, 989, 993]\n"
     ]
    }
   ],
   "source": [
    "equals_index = []\n",
    "for i in range(len(labels)-1):\n",
    "    if labels[i] == classify_result_linearSVC[i] and labels[i] == 'yes':\n",
    "        equals_index.append(i)\n",
    "print(len(equals_index), equals_index)"
   ]
  },
  {
   "cell_type": "code",
   "execution_count": 39,
   "id": "96a744e4",
   "metadata": {},
   "outputs": [
    {
     "name": "stdout",
     "output_type": "stream",
     "text": [
      "100 ['retweet_count: 2, reply_count: 0, like_count: 0, quote_count: 0', 'retweet_count: 0, reply_count: 1, like_count: 0, quote_count: 0', 'retweet_count: 0, reply_count: 0, like_count: 0, quote_count: 0', 'retweet_count: 245, reply_count: 0, like_count: 0, quote_count: 0', 'retweet_count: 245, reply_count: 0, like_count: 0, quote_count: 0', 'retweet_count: 245, reply_count: 0, like_count: 0, quote_count: 0', 'retweet_count: 245, reply_count: 0, like_count: 0, quote_count: 0', 'retweet_count: 245, reply_count: 0, like_count: 0, quote_count: 0', 'retweet_count: 0, reply_count: 0, like_count: 0, quote_count: 0', 'retweet_count: 245, reply_count: 0, like_count: 0, quote_count: 0']\n"
     ]
    }
   ],
   "source": [
    "new_public_metrics = []\n",
    "for i in equals_index:\n",
    "    new_public_metrics.append(public_metrics[i])\n",
    "print(len(new_public_metrics), new_public_metrics[:10])"
   ]
  },
  {
   "cell_type": "code",
   "execution_count": 40,
   "id": "f969512c",
   "metadata": {},
   "outputs": [],
   "source": [
    "retweet_count = []\n",
    "reply_count = []\n",
    "like_count = []\n",
    "quote_count = []\n",
    "\n",
    "numbers = ['0', '1', '2', '3', '4', '5', '6', '7', '8', '9']\n",
    "count = 0\n",
    "\n",
    "for i in new_public_metrics:\n",
    "    number = ''\n",
    "    for j in i:\n",
    "        if j in numbers:\n",
    "            number += j\n",
    "        if j == ',':\n",
    "            if count == 0:\n",
    "                retweet_count.append(int(number))\n",
    "                number = ''\n",
    "                count += 1\n",
    "            elif count == 1:\n",
    "                reply_count.append(int(number))\n",
    "                number = ''\n",
    "                count += 1\n",
    "            elif count == 2:\n",
    "                like_count.append(int(number))\n",
    "                number = ''\n",
    "                count += 1\n",
    "    if i.endswith(number):\n",
    "        quote_count.append(int(number))\n",
    "        number = ''\n",
    "        count = 0 "
   ]
  },
  {
   "cell_type": "code",
   "execution_count": 41,
   "id": "f0cdd4df",
   "metadata": {},
   "outputs": [],
   "source": [
    "total_retweets = sum(retweet_count)\n",
    "total_reply = sum(reply_count)\n",
    "total_like = sum(like_count)\n",
    "total_quote = sum(quote_count)"
   ]
  },
  {
   "cell_type": "code",
   "execution_count": 42,
   "id": "658852af",
   "metadata": {},
   "outputs": [
    {
     "data": {
      "text/plain": [
       "Text(0.5, 0.98, 'Engagement')"
      ]
     },
     "execution_count": 42,
     "metadata": {},
     "output_type": "execute_result"
    },
    {
     "data": {
      "image/png": "[encoded data removed]",
      "text/plain": [
       "<Figure size 648x216 with 1 Axes>"
      ]
     },
     "metadata": {
      "needs_background": "light"
     },
     "output_type": "display_data"
    }
   ],
   "source": [
    "x_plot = [\"retweet\", \"reply\", \"like\", \"quote\"]\n",
    "y_plot = [total_retweets, total_reply, total_like, total_quote]\n",
    "\n",
    "fig, axs = plt.subplots(figsize=(9, 3), sharey=True)\n",
    "axs.bar(x_plot, y_plot)\n",
    "fig.suptitle('Engagement')"
   ]
  },
  {
   "cell_type": "code",
   "execution_count": 43,
   "id": "f6eb3fa8",
   "metadata": {},
   "outputs": [
    {
     "name": "stdout",
     "output_type": "stream",
     "text": [
      "2775 11 13 0\n"
     ]
    }
   ],
   "source": [
    "print(total_retweets, total_reply, total_like, total_quote)"
   ]
  },
  {
   "cell_type": "code",
   "execution_count": 45,
   "id": "46100821",
   "metadata": {},
   "outputs": [],
   "source": [
    "def getFollwersOfMostRetweetUser(user_tweets, retweet_count):\n",
    "    index_max = retweet_count.index(max(retweet_count))\n",
    "    user_with_most_retweets = user_tweets[index_max].split(\" \")\n",
    "    id_user_with_most_retweets = user_with_most_retweets[0]    \n",
    "    \n",
    "    followers = client.get_users_followers(int(id_user_with_most_retweets), max_results=1000)[0]\n",
    "    if(followers == None):\n",
    "        user_tweets.pop(index_max)\n",
    "        retweet_count.pop(index_max)\n",
    "        getFollwersOfMostRetweetUser(user_tweets, retweet_count)\n",
    "    \n",
    "    \n",
    "    return (max(retweet_count), len(followers), user_with_most_retweets)\n",
    "\n",
    "max_retweets, followers_count, user_most_retweets = getFollwersOfMostRetweetUser(user_tweets, retweet_count)"
   ]
  },
  {
   "cell_type": "code",
   "execution_count": 46,
   "id": "44f7c8fc",
   "metadata": {},
   "outputs": [
    {
     "data": {
      "text/plain": [
       "<BarContainer object of 2 artists>"
      ]
     },
     "execution_count": 46,
     "metadata": {},
     "output_type": "execute_result"
    },
    {
     "data": {
      "image/png": "[encoded data removed]",
      "text/plain": [
       "<Figure size 648x216 with 1 Axes>"
      ]
     },
     "metadata": {
      "needs_background": "light"
     },
     "output_type": "display_data"
    }
   ],
   "source": [
    "x_user_most_retweets = ['Retweets', 'Followers']\n",
    "y_user_most_retweets = [max_retweets, followers_count]\n",
    "\n",
    "fig, axs = plt.subplots(figsize=(9, 3), sharey=True)\n",
    "axs.bar(x_user_most_retweets, y_user_most_retweets)"
   ]
  },
  {
   "cell_type": "code",
   "execution_count": 47,
   "id": "ac668620",
   "metadata": {},
   "outputs": [
    {
     "name": "stdout",
     "output_type": "stream",
     "text": [
      "245 707\n"
     ]
    }
   ],
   "source": [
    "print(max_retweets, followers_count)"
   ]
  },
  {
   "cell_type": "code",
   "execution_count": 48,
   "id": "c94b022c",
   "metadata": {},
   "outputs": [
    {
     "name": "stdout",
     "output_type": "stream",
     "text": [
      "['RT', '@LuizCor24841840:', '93', 'mortos,', '26', 'desaparecidos', 'e', '6', 'mil', 'desabrigados', 'e', 'o', 'prefeito', 'de', 'Recife', 'em', 'São', 'Paulo', 'em', 'reuniões', 'da', 'campanha', 'de', 'Lula', 'l…']\n"
     ]
    }
   ],
   "source": [
    "print(user_most_retweets[1:])"
   ]
  },
  {
   "cell_type": "code",
   "execution_count": null,
   "id": "3ec14128",
   "metadata": {},
   "outputs": [],
   "source": [
    "oauth2_user_handler = tweepy.OAuth2UserHandler(client_id=CLIENT_ID, redirect_uri=REDIRECT_URI, scope=['tweet.read', 'users.read', 'offline.access'])\n",
    "\n",
    "print(oauth2_user_handler.get_authorization_url())"
   ]
  },
  {
   "cell_type": "code",
   "execution_count": null,
   "id": "fa4db9ed",
   "metadata": {},
   "outputs": [],
   "source": [
    "# full_url = input(\"Paste in the full URL after you authorized your App: \")\n",
    "# access_token_auth = oauth2_user_handler.fetch_token(full_url)\n",
    "# access_auth = access_token_auth['access_token']"
   ]
  },
  {
   "cell_type": "code",
   "execution_count": null,
   "id": "a9630fcf",
   "metadata": {},
   "outputs": [],
   "source": [
    "oauth1_user_handler = tweepy.OAuth1UserHandler(\n",
    "    API_KEY, API_SECRET,\n",
    "    callback=REDIRECT_URI\n",
    ")"
   ]
  },
  {
   "cell_type": "code",
   "execution_count": null,
   "id": "6bd36fef",
   "metadata": {},
   "outputs": [],
   "source": [
    "print(oauth1_user_handler.get_authorization_url(signin_with_twitter=True))"
   ]
  },
  {
   "cell_type": "code",
   "execution_count": null,
   "id": "67324416",
   "metadata": {},
   "outputs": [],
   "source": []
  }
 ],
 "metadata": {
  "kernelspec": {
   "display_name": "Python 3",
   "language": "python",
   "name": "python3"
  },
  "language_info": {
   "codemirror_mode": {
    "name": "ipython",
    "version": 3
   },
   "file_extension": ".py",
   "mimetype": "text/x-python",
   "name": "python",
   "nbconvert_exporter": "python",
   "pygments_lexer": "ipython3",
   "version": "3.8.8"
  }
 },
 "nbformat": 4,
 "nbformat_minor": 5
}
